{
 "cells": [
  {
   "cell_type": "markdown",
   "id": "912ec988",
   "metadata": {},
   "source": [
    "\n",
    "##  DSI-US-11 Project 2 Regression Challenge (Kaggle)\n",
    "\n",
    "Part 3 - after the 02_Preprocessing_and_Feature_Engineering\n",
    "\n",
    "This notebook is intended for creating regresssion models and testing."
   ]
  },
  {
   "cell_type": "code",
   "execution_count": 1,
   "id": "f4cf72bc",
   "metadata": {},
   "outputs": [],
   "source": [
    "#import packages\n",
    "import pandas as pd\n",
    "import matplotlib.pyplot as plt\n",
    "import seaborn as sns\n",
    "import numpy as np\n",
    "\n",
    "from sklearn.linear_model import LinearRegression\n",
    "from sklearn.linear_model import Ridge, Lasso, ElasticNet\n",
    "from sklearn.linear_model import RidgeCV, LassoCV, ElasticNetCV\n",
    "from sklearn.preprocessing import StandardScaler\n",
    "\n",
    "from sklearn.model_selection import train_test_split, cross_val_score\n",
    "\n",
    "from sklearn.preprocessing import PolynomialFeatures\n",
    "\n",
    "%matplotlib inline"
   ]
  },
  {
   "cell_type": "markdown",
   "id": "e2ea95c2",
   "metadata": {},
   "source": [
    "## Loading of train dataset with feature"
   ]
  },
  {
   "cell_type": "code",
   "execution_count": 2,
   "id": "33d2f003",
   "metadata": {},
   "outputs": [
    {
     "data": {
      "text/html": [
       "<div>\n",
       "<style scoped>\n",
       "    .dataframe tbody tr th:only-of-type {\n",
       "        vertical-align: middle;\n",
       "    }\n",
       "\n",
       "    .dataframe tbody tr th {\n",
       "        vertical-align: top;\n",
       "    }\n",
       "\n",
       "    .dataframe thead th {\n",
       "        text-align: right;\n",
       "    }\n",
       "</style>\n",
       "<table border=\"1\" class=\"dataframe\">\n",
       "  <thead>\n",
       "    <tr style=\"text-align: right;\">\n",
       "      <th></th>\n",
       "      <th>Unnamed: 0</th>\n",
       "      <th>Unnamed: 0.1</th>\n",
       "      <th>Lot Frontage</th>\n",
       "      <th>Lot Area</th>\n",
       "      <th>Street</th>\n",
       "      <th>Land Contour</th>\n",
       "      <th>Utilities</th>\n",
       "      <th>Lot Config</th>\n",
       "      <th>Land Slope</th>\n",
       "      <th>Neighborhood</th>\n",
       "      <th>...</th>\n",
       "      <th>heatqc_dummy</th>\n",
       "      <th>kitchenqual_dummy</th>\n",
       "      <th>fireplacequal_dummy</th>\n",
       "      <th>garagequal_dummy</th>\n",
       "      <th>garagecond_dummy</th>\n",
       "      <th>bsmtqual_dummy</th>\n",
       "      <th>bsmtcond_dummy</th>\n",
       "      <th>paveddrive_dummy</th>\n",
       "      <th>centralair_dummy</th>\n",
       "      <th>HouseAge</th>\n",
       "    </tr>\n",
       "  </thead>\n",
       "  <tbody>\n",
       "    <tr>\n",
       "      <th>0</th>\n",
       "      <td>0</td>\n",
       "      <td>0</td>\n",
       "      <td>79.466028</td>\n",
       "      <td>13517</td>\n",
       "      <td>1</td>\n",
       "      <td>3</td>\n",
       "      <td>0</td>\n",
       "      <td>1</td>\n",
       "      <td>0</td>\n",
       "      <td>22</td>\n",
       "      <td>...</td>\n",
       "      <td>5</td>\n",
       "      <td>4</td>\n",
       "      <td>0</td>\n",
       "      <td>3</td>\n",
       "      <td>3</td>\n",
       "      <td>3</td>\n",
       "      <td>3</td>\n",
       "      <td>2</td>\n",
       "      <td>1</td>\n",
       "      <td>34</td>\n",
       "    </tr>\n",
       "    <tr>\n",
       "      <th>1</th>\n",
       "      <td>1</td>\n",
       "      <td>1</td>\n",
       "      <td>43.000000</td>\n",
       "      <td>11492</td>\n",
       "      <td>1</td>\n",
       "      <td>3</td>\n",
       "      <td>0</td>\n",
       "      <td>1</td>\n",
       "      <td>0</td>\n",
       "      <td>23</td>\n",
       "      <td>...</td>\n",
       "      <td>5</td>\n",
       "      <td>4</td>\n",
       "      <td>3</td>\n",
       "      <td>3</td>\n",
       "      <td>3</td>\n",
       "      <td>4</td>\n",
       "      <td>3</td>\n",
       "      <td>2</td>\n",
       "      <td>1</td>\n",
       "      <td>13</td>\n",
       "    </tr>\n",
       "    <tr>\n",
       "      <th>2</th>\n",
       "      <td>2</td>\n",
       "      <td>2</td>\n",
       "      <td>68.000000</td>\n",
       "      <td>7922</td>\n",
       "      <td>1</td>\n",
       "      <td>3</td>\n",
       "      <td>0</td>\n",
       "      <td>4</td>\n",
       "      <td>0</td>\n",
       "      <td>15</td>\n",
       "      <td>...</td>\n",
       "      <td>3</td>\n",
       "      <td>4</td>\n",
       "      <td>0</td>\n",
       "      <td>3</td>\n",
       "      <td>3</td>\n",
       "      <td>3</td>\n",
       "      <td>3</td>\n",
       "      <td>2</td>\n",
       "      <td>1</td>\n",
       "      <td>57</td>\n",
       "    </tr>\n",
       "    <tr>\n",
       "      <th>3</th>\n",
       "      <td>3</td>\n",
       "      <td>3</td>\n",
       "      <td>73.000000</td>\n",
       "      <td>9802</td>\n",
       "      <td>1</td>\n",
       "      <td>3</td>\n",
       "      <td>0</td>\n",
       "      <td>4</td>\n",
       "      <td>0</td>\n",
       "      <td>26</td>\n",
       "      <td>...</td>\n",
       "      <td>4</td>\n",
       "      <td>3</td>\n",
       "      <td>0</td>\n",
       "      <td>3</td>\n",
       "      <td>3</td>\n",
       "      <td>4</td>\n",
       "      <td>3</td>\n",
       "      <td>2</td>\n",
       "      <td>1</td>\n",
       "      <td>4</td>\n",
       "    </tr>\n",
       "    <tr>\n",
       "      <th>4</th>\n",
       "      <td>4</td>\n",
       "      <td>4</td>\n",
       "      <td>82.000000</td>\n",
       "      <td>14235</td>\n",
       "      <td>1</td>\n",
       "      <td>3</td>\n",
       "      <td>0</td>\n",
       "      <td>4</td>\n",
       "      <td>0</td>\n",
       "      <td>23</td>\n",
       "      <td>...</td>\n",
       "      <td>3</td>\n",
       "      <td>3</td>\n",
       "      <td>0</td>\n",
       "      <td>3</td>\n",
       "      <td>3</td>\n",
       "      <td>2</td>\n",
       "      <td>4</td>\n",
       "      <td>0</td>\n",
       "      <td>1</td>\n",
       "      <td>110</td>\n",
       "    </tr>\n",
       "  </tbody>\n",
       "</table>\n",
       "<p>5 rows × 64 columns</p>\n",
       "</div>"
      ],
      "text/plain": [
       "   Unnamed: 0  Unnamed: 0.1  Lot Frontage  Lot Area  Street  Land Contour  \\\n",
       "0           0             0     79.466028     13517       1             3   \n",
       "1           1             1     43.000000     11492       1             3   \n",
       "2           2             2     68.000000      7922       1             3   \n",
       "3           3             3     73.000000      9802       1             3   \n",
       "4           4             4     82.000000     14235       1             3   \n",
       "\n",
       "   Utilities  Lot Config  Land Slope  Neighborhood  ...  heatqc_dummy  \\\n",
       "0          0           1           0            22  ...             5   \n",
       "1          0           1           0            23  ...             5   \n",
       "2          0           4           0            15  ...             3   \n",
       "3          0           4           0            26  ...             4   \n",
       "4          0           4           0            23  ...             3   \n",
       "\n",
       "   kitchenqual_dummy  fireplacequal_dummy  garagequal_dummy  garagecond_dummy  \\\n",
       "0                  4                    0                 3                 3   \n",
       "1                  4                    3                 3                 3   \n",
       "2                  4                    0                 3                 3   \n",
       "3                  3                    0                 3                 3   \n",
       "4                  3                    0                 3                 3   \n",
       "\n",
       "   bsmtqual_dummy  bsmtcond_dummy  paveddrive_dummy  centralair_dummy  \\\n",
       "0               3               3                 2                 1   \n",
       "1               4               3                 2                 1   \n",
       "2               3               3                 2                 1   \n",
       "3               4               3                 2                 1   \n",
       "4               2               4                 0                 1   \n",
       "\n",
       "   HouseAge  \n",
       "0        34  \n",
       "1        13  \n",
       "2        57  \n",
       "3         4  \n",
       "4       110  \n",
       "\n",
       "[5 rows x 64 columns]"
      ]
     },
     "execution_count": 2,
     "metadata": {},
     "output_type": "execute_result"
    }
   ],
   "source": [
    "df_train = pd.read_csv(\"../datasets/train_wfeature.csv\")\n",
    "df_train.head()"
   ]
  },
  {
   "cell_type": "code",
   "execution_count": 3,
   "id": "6c6ea6d2",
   "metadata": {},
   "outputs": [],
   "source": [
    "#drop unnecessary columns\n",
    "df_train.drop(columns=['Unnamed: 0', 'Unnamed: 0.1'], inplace=True)"
   ]
  },
  {
   "cell_type": "code",
   "execution_count": 4,
   "id": "14a94798",
   "metadata": {},
   "outputs": [
    {
     "data": {
      "text/plain": [
       "(1933, 62)"
      ]
     },
     "execution_count": 4,
     "metadata": {},
     "output_type": "execute_result"
    }
   ],
   "source": [
    "#check the number of data points and columns\n",
    "df_train.shape"
   ]
  },
  {
   "cell_type": "code",
   "execution_count": 5,
   "id": "0be16a20",
   "metadata": {},
   "outputs": [
    {
     "data": {
      "text/plain": [
       "Series([], dtype: int64)"
      ]
     },
     "execution_count": 5,
     "metadata": {},
     "output_type": "execute_result"
    }
   ],
   "source": [
    "#check that there is no null values\n",
    "df_train.isnull().sum()[df_train.isnull().sum()>0].sort_values()"
   ]
  },
  {
   "cell_type": "code",
   "execution_count": 6,
   "id": "6bae7d88",
   "metadata": {},
   "outputs": [
    {
     "data": {
      "text/html": [
       "<div>\n",
       "<style scoped>\n",
       "    .dataframe tbody tr th:only-of-type {\n",
       "        vertical-align: middle;\n",
       "    }\n",
       "\n",
       "    .dataframe tbody tr th {\n",
       "        vertical-align: top;\n",
       "    }\n",
       "\n",
       "    .dataframe thead th {\n",
       "        text-align: right;\n",
       "    }\n",
       "</style>\n",
       "<table border=\"1\" class=\"dataframe\">\n",
       "  <thead>\n",
       "    <tr style=\"text-align: right;\">\n",
       "      <th></th>\n",
       "      <th>count</th>\n",
       "      <th>mean</th>\n",
       "      <th>std</th>\n",
       "      <th>min</th>\n",
       "      <th>25%</th>\n",
       "      <th>50%</th>\n",
       "      <th>75%</th>\n",
       "      <th>max</th>\n",
       "    </tr>\n",
       "  </thead>\n",
       "  <tbody>\n",
       "    <tr>\n",
       "      <th>Lot Frontage</th>\n",
       "      <td>1933.0</td>\n",
       "      <td>69.161974</td>\n",
       "      <td>24.249410</td>\n",
       "      <td>21.0</td>\n",
       "      <td>60.0</td>\n",
       "      <td>68.38805</td>\n",
       "      <td>80.0</td>\n",
       "      <td>468.379543</td>\n",
       "    </tr>\n",
       "    <tr>\n",
       "      <th>Lot Area</th>\n",
       "      <td>1933.0</td>\n",
       "      <td>9784.326436</td>\n",
       "      <td>6445.639572</td>\n",
       "      <td>1300.0</td>\n",
       "      <td>7406.0</td>\n",
       "      <td>9260.00000</td>\n",
       "      <td>11120.0</td>\n",
       "      <td>159000.000000</td>\n",
       "    </tr>\n",
       "    <tr>\n",
       "      <th>Street</th>\n",
       "      <td>1933.0</td>\n",
       "      <td>0.998448</td>\n",
       "      <td>0.039375</td>\n",
       "      <td>0.0</td>\n",
       "      <td>1.0</td>\n",
       "      <td>1.00000</td>\n",
       "      <td>1.0</td>\n",
       "      <td>1.000000</td>\n",
       "    </tr>\n",
       "    <tr>\n",
       "      <th>Land Contour</th>\n",
       "      <td>1933.0</td>\n",
       "      <td>2.797206</td>\n",
       "      <td>0.679676</td>\n",
       "      <td>0.0</td>\n",
       "      <td>3.0</td>\n",
       "      <td>3.00000</td>\n",
       "      <td>3.0</td>\n",
       "      <td>3.000000</td>\n",
       "    </tr>\n",
       "    <tr>\n",
       "      <th>Utilities</th>\n",
       "      <td>1933.0</td>\n",
       "      <td>0.000517</td>\n",
       "      <td>0.022745</td>\n",
       "      <td>0.0</td>\n",
       "      <td>0.0</td>\n",
       "      <td>0.00000</td>\n",
       "      <td>0.0</td>\n",
       "      <td>1.000000</td>\n",
       "    </tr>\n",
       "    <tr>\n",
       "      <th>...</th>\n",
       "      <td>...</td>\n",
       "      <td>...</td>\n",
       "      <td>...</td>\n",
       "      <td>...</td>\n",
       "      <td>...</td>\n",
       "      <td>...</td>\n",
       "      <td>...</td>\n",
       "      <td>...</td>\n",
       "    </tr>\n",
       "    <tr>\n",
       "      <th>bsmtqual_dummy</th>\n",
       "      <td>1933.0</td>\n",
       "      <td>3.441283</td>\n",
       "      <td>0.858699</td>\n",
       "      <td>0.0</td>\n",
       "      <td>3.0</td>\n",
       "      <td>3.00000</td>\n",
       "      <td>4.0</td>\n",
       "      <td>5.000000</td>\n",
       "    </tr>\n",
       "    <tr>\n",
       "      <th>bsmtcond_dummy</th>\n",
       "      <td>1933.0</td>\n",
       "      <td>2.929643</td>\n",
       "      <td>0.568511</td>\n",
       "      <td>0.0</td>\n",
       "      <td>3.0</td>\n",
       "      <td>3.00000</td>\n",
       "      <td>3.0</td>\n",
       "      <td>5.000000</td>\n",
       "    </tr>\n",
       "    <tr>\n",
       "      <th>paveddrive_dummy</th>\n",
       "      <td>1933.0</td>\n",
       "      <td>1.840145</td>\n",
       "      <td>0.523567</td>\n",
       "      <td>0.0</td>\n",
       "      <td>2.0</td>\n",
       "      <td>2.00000</td>\n",
       "      <td>2.0</td>\n",
       "      <td>2.000000</td>\n",
       "    </tr>\n",
       "    <tr>\n",
       "      <th>centralair_dummy</th>\n",
       "      <td>1933.0</td>\n",
       "      <td>0.934816</td>\n",
       "      <td>0.246914</td>\n",
       "      <td>0.0</td>\n",
       "      <td>1.0</td>\n",
       "      <td>1.00000</td>\n",
       "      <td>1.0</td>\n",
       "      <td>1.000000</td>\n",
       "    </tr>\n",
       "    <tr>\n",
       "      <th>HouseAge</th>\n",
       "      <td>1933.0</td>\n",
       "      <td>37.035178</td>\n",
       "      <td>29.678240</td>\n",
       "      <td>0.0</td>\n",
       "      <td>8.0</td>\n",
       "      <td>35.00000</td>\n",
       "      <td>55.0</td>\n",
       "      <td>136.000000</td>\n",
       "    </tr>\n",
       "  </tbody>\n",
       "</table>\n",
       "<p>62 rows × 8 columns</p>\n",
       "</div>"
      ],
      "text/plain": [
       "                   count         mean          std     min     25%  \\\n",
       "Lot Frontage      1933.0    69.161974    24.249410    21.0    60.0   \n",
       "Lot Area          1933.0  9784.326436  6445.639572  1300.0  7406.0   \n",
       "Street            1933.0     0.998448     0.039375     0.0     1.0   \n",
       "Land Contour      1933.0     2.797206     0.679676     0.0     3.0   \n",
       "Utilities         1933.0     0.000517     0.022745     0.0     0.0   \n",
       "...                  ...          ...          ...     ...     ...   \n",
       "bsmtqual_dummy    1933.0     3.441283     0.858699     0.0     3.0   \n",
       "bsmtcond_dummy    1933.0     2.929643     0.568511     0.0     3.0   \n",
       "paveddrive_dummy  1933.0     1.840145     0.523567     0.0     2.0   \n",
       "centralair_dummy  1933.0     0.934816     0.246914     0.0     1.0   \n",
       "HouseAge          1933.0    37.035178    29.678240     0.0     8.0   \n",
       "\n",
       "                         50%      75%            max  \n",
       "Lot Frontage        68.38805     80.0     468.379543  \n",
       "Lot Area          9260.00000  11120.0  159000.000000  \n",
       "Street               1.00000      1.0       1.000000  \n",
       "Land Contour         3.00000      3.0       3.000000  \n",
       "Utilities            0.00000      0.0       1.000000  \n",
       "...                      ...      ...            ...  \n",
       "bsmtqual_dummy       3.00000      4.0       5.000000  \n",
       "bsmtcond_dummy       3.00000      3.0       5.000000  \n",
       "paveddrive_dummy     2.00000      2.0       2.000000  \n",
       "centralair_dummy     1.00000      1.0       1.000000  \n",
       "HouseAge            35.00000     55.0     136.000000  \n",
       "\n",
       "[62 rows x 8 columns]"
      ]
     },
     "execution_count": 6,
     "metadata": {},
     "output_type": "execute_result"
    }
   ],
   "source": [
    "df_train.describe().T"
   ]
  },
  {
   "cell_type": "code",
   "execution_count": 7,
   "id": "38309c30",
   "metadata": {},
   "outputs": [],
   "source": [
    "## add OLS here"
   ]
  },
  {
   "cell_type": "markdown",
   "id": "d1007c9d",
   "metadata": {},
   "source": [
    "## define X  (...) and y (target)"
   ]
  },
  {
   "cell_type": "code",
   "execution_count": 32,
   "id": "f654f402",
   "metadata": {},
   "outputs": [],
   "source": [
    "#X=df_train[['Lot Area', 'Neighborhood', 'Overall Qual','Gr Liv Area','zone_dummy','exterqual_dummy']]\n",
    "X=df_train.drop(columns='SalePrice')\n",
    "y=df_train['SalePrice']"
   ]
  },
  {
   "cell_type": "code",
   "execution_count": 33,
   "id": "2049fa38",
   "metadata": {},
   "outputs": [],
   "source": [
    "# Instantiate our PolynomialFeatures object to create all two-way terms.\n",
    "poly = PolynomialFeatures(degree=2, interaction_only=False, include_bias=False)\n",
    "\n",
    "# Fit and transform our X data.\n",
    "X_overfit = poly.fit_transform(X)"
   ]
  },
  {
   "cell_type": "code",
   "execution_count": 34,
   "id": "c6ad9fb3",
   "metadata": {},
   "outputs": [
    {
     "data": {
      "text/plain": [
       "(1933, 1952)"
      ]
     },
     "execution_count": 34,
     "metadata": {},
     "output_type": "execute_result"
    }
   ],
   "source": [
    "X_overfit.shape"
   ]
  },
  {
   "cell_type": "code",
   "execution_count": 35,
   "id": "a95f0a18",
   "metadata": {},
   "outputs": [],
   "source": [
    "#split the data\n",
    "X_train, X_test, y_train, y_test = train_test_split(X_overfit,y, random_state=52)"
   ]
  },
  {
   "cell_type": "code",
   "execution_count": 36,
   "id": "5418081f",
   "metadata": {},
   "outputs": [],
   "source": [
    "#scale the X\n",
    "ss = StandardScaler()\n",
    "X_train_scaled = ss.fit_transform(X_train)\n",
    "X_test_scaled = ss.transform(X_test)"
   ]
  },
  {
   "cell_type": "code",
   "execution_count": 37,
   "id": "8c59a25f",
   "metadata": {},
   "outputs": [],
   "source": [
    "#store the result of all models\n",
    "df_result = pd.DataFrame(columns=['Model', 'Train Score', 'Test Score'])"
   ]
  },
  {
   "cell_type": "code",
   "execution_count": 38,
   "id": "7ee6b15d",
   "metadata": {},
   "outputs": [],
   "source": [
    "def add_reggression_result(df, model, train_score, test_score):\n",
    "    df_temp = pd.DataFrame([[model, train_score, test_score]], columns=['Model', 'Train Score', 'Test Score'])\n",
    "    df = df.append(df_temp)\n",
    "    return df"
   ]
  },
  {
   "cell_type": "markdown",
   "id": "921f0205",
   "metadata": {},
   "source": [
    "## Linear Regression"
   ]
  },
  {
   "cell_type": "code",
   "execution_count": 39,
   "id": "9e7d5d56",
   "metadata": {},
   "outputs": [
    {
     "data": {
      "text/plain": [
       "LinearRegression()"
      ]
     },
     "execution_count": 39,
     "metadata": {},
     "output_type": "execute_result"
    }
   ],
   "source": [
    "# Instantiate model.\n",
    "lr = LinearRegression()\n",
    "\n",
    "# Fit model\n",
    "lr.fit(X_train, y_train)"
   ]
  },
  {
   "cell_type": "code",
   "execution_count": 40,
   "id": "491c4b94",
   "metadata": {},
   "outputs": [
    {
     "name": "stdout",
     "output_type": "stream",
     "text": [
      "0.9999944748100655 -67.11117670196312\n"
     ]
    },
    {
     "data": {
      "text/html": [
       "<div>\n",
       "<style scoped>\n",
       "    .dataframe tbody tr th:only-of-type {\n",
       "        vertical-align: middle;\n",
       "    }\n",
       "\n",
       "    .dataframe tbody tr th {\n",
       "        vertical-align: top;\n",
       "    }\n",
       "\n",
       "    .dataframe thead th {\n",
       "        text-align: right;\n",
       "    }\n",
       "</style>\n",
       "<table border=\"1\" class=\"dataframe\">\n",
       "  <thead>\n",
       "    <tr style=\"text-align: right;\">\n",
       "      <th></th>\n",
       "      <th>Model</th>\n",
       "      <th>Train Score</th>\n",
       "      <th>Test Score</th>\n",
       "    </tr>\n",
       "  </thead>\n",
       "  <tbody>\n",
       "    <tr>\n",
       "      <th>0</th>\n",
       "      <td>LR</td>\n",
       "      <td>0.999994</td>\n",
       "      <td>-67.111177</td>\n",
       "    </tr>\n",
       "  </tbody>\n",
       "</table>\n",
       "</div>"
      ],
      "text/plain": [
       "  Model  Train Score  Test Score\n",
       "0    LR     0.999994  -67.111177"
      ]
     },
     "execution_count": 40,
     "metadata": {},
     "output_type": "execute_result"
    }
   ],
   "source": [
    "#predicting on the train set\n",
    "lr_train_score = lr.score(X_train, y_train)\n",
    "\n",
    "#predicting on the test set\n",
    "lr_test_score = lr.score(X_test, y_test)\n",
    "\n",
    "print(lr_train_score,lr_test_score)\n",
    "#Summary of Score\n",
    "df_result=add_reggression_result(df_result, 'LR', lr_train_score,lr_test_score )\n",
    "df_result\n"
   ]
  },
  {
   "cell_type": "markdown",
   "id": "65b9b5a3",
   "metadata": {},
   "source": [
    "## Ridge"
   ]
  },
  {
   "cell_type": "code",
   "execution_count": 20,
   "id": "db162fe1",
   "metadata": {},
   "outputs": [
    {
     "data": {
      "text/plain": [
       "RidgeCV(alphas=array([1.        , 1.00230986, 1.00462506, 1.00694561, 1.00927151,\n",
       "       1.01160279, 1.01393946, 1.01628152, 1.01862899, 1.02098188,\n",
       "       1.02334021, 1.02570399, 1.02807322, 1.03044793, 1.03282813,\n",
       "       1.03521382, 1.03760502, 1.04000175, 1.04240401, 1.04481182,\n",
       "       1.04722519, 1.04964414, 1.05206867, 1.05449881, 1.05693455,\n",
       "       1.05937593, 1.06182294, 1.06427561, 1.06673394, 1.06919795,\n",
       "       1.0716...\n",
       "       2.92369364, 2.93044698, 2.93721591, 2.94400048, 2.95080071,\n",
       "       2.95761666, 2.96444835, 2.97129582, 2.97815911, 2.98503825,\n",
       "       2.99193327, 2.99884423, 3.00577115, 3.01271407, 3.01967303,\n",
       "       3.02664806, 3.0336392 , 3.04064649, 3.04766997, 3.05470967,\n",
       "       3.06176563, 3.06883789, 3.07592649, 3.08303146, 3.09015284,\n",
       "       3.09729067, 3.10444498, 3.11161583, 3.11880323, 3.12600724,\n",
       "       3.13322789, 3.14046522, 3.14771926, 3.15499006, 3.16227766]),\n",
       "        cv=5, scoring='r2')"
      ]
     },
     "execution_count": 20,
     "metadata": {},
     "output_type": "execute_result"
    }
   ],
   "source": [
    "# Set up a list of alphas to check.\n",
    "r_alphas = np.logspace(0, 0.5, 500)\n",
    "\n",
    "# Instantiate model.\n",
    "ridge_cv = RidgeCV(alphas=r_alphas, scoring='r2', cv=5)\n",
    "\n",
    "# Fit model using optimal alpha.\n",
    "ridge_cv.fit(X_train_scaled, y_train)"
   ]
  },
  {
   "cell_type": "code",
   "execution_count": 21,
   "id": "26f2e7a9",
   "metadata": {},
   "outputs": [
    {
     "data": {
      "text/plain": [
       "3.1622776601683795"
      ]
     },
     "execution_count": 21,
     "metadata": {},
     "output_type": "execute_result"
    }
   ],
   "source": [
    "#check the optmize alpa\n",
    "ridge_cv.alpha_"
   ]
  },
  {
   "cell_type": "code",
   "execution_count": 41,
   "id": "d1dd34e1",
   "metadata": {},
   "outputs": [
    {
     "data": {
      "text/plain": [
       "Ridge(alpha=3.16)"
      ]
     },
     "execution_count": 41,
     "metadata": {},
     "output_type": "execute_result"
    }
   ],
   "source": [
    "#instantiate using the optimize alpha\n",
    "ridge_model = Ridge(3.16) #ridge_cv.alpha_)\n",
    "\n",
    "# Fit model using optimal alpha.\n",
    "ridge_model.fit(X_train_scaled, y_train)"
   ]
  },
  {
   "cell_type": "code",
   "execution_count": 42,
   "id": "a50e9c2c",
   "metadata": {},
   "outputs": [
    {
     "data": {
      "text/html": [
       "<div>\n",
       "<style scoped>\n",
       "    .dataframe tbody tr th:only-of-type {\n",
       "        vertical-align: middle;\n",
       "    }\n",
       "\n",
       "    .dataframe tbody tr th {\n",
       "        vertical-align: top;\n",
       "    }\n",
       "\n",
       "    .dataframe thead th {\n",
       "        text-align: right;\n",
       "    }\n",
       "</style>\n",
       "<table border=\"1\" class=\"dataframe\">\n",
       "  <thead>\n",
       "    <tr style=\"text-align: right;\">\n",
       "      <th></th>\n",
       "      <th>Model</th>\n",
       "      <th>Train Score</th>\n",
       "      <th>Test Score</th>\n",
       "    </tr>\n",
       "  </thead>\n",
       "  <tbody>\n",
       "    <tr>\n",
       "      <th>0</th>\n",
       "      <td>LR</td>\n",
       "      <td>0.999994</td>\n",
       "      <td>-67.111177</td>\n",
       "    </tr>\n",
       "    <tr>\n",
       "      <th>0</th>\n",
       "      <td>Ridge</td>\n",
       "      <td>0.979667</td>\n",
       "      <td>0.790251</td>\n",
       "    </tr>\n",
       "  </tbody>\n",
       "</table>\n",
       "</div>"
      ],
      "text/plain": [
       "   Model  Train Score  Test Score\n",
       "0     LR     0.999994  -67.111177\n",
       "0  Ridge     0.979667    0.790251"
      ]
     },
     "execution_count": 42,
     "metadata": {},
     "output_type": "execute_result"
    }
   ],
   "source": [
    "# Evaluate model.\n",
    "ridge_train_score = ridge_model.score(X_train_scaled, y_train)\n",
    "ridge_test_score = ridge_model.score(X_test_scaled, y_test)\n",
    "\n",
    "\n",
    "#Summary of Score\n",
    "df_result=add_reggression_result(df_result, 'Ridge', ridge_train_score, ridge_test_score)\n",
    "df_result"
   ]
  },
  {
   "cell_type": "code",
   "execution_count": 24,
   "id": "d86c7c73",
   "metadata": {},
   "outputs": [
    {
     "data": {
      "text/plain": [
       "array([-1.25342892e+11, -1.07452318e+12, -2.23325659e+11, -7.99002260e+11,\n",
       "       -4.28770277e+11, -6.95958145e+11, -6.44539395e+11, -1.24782636e+12,\n",
       "       -4.31836267e+11, -1.16718698e+12, -1.07354917e+12, -1.73908435e+12,\n",
       "       -7.28929150e+11, -2.08231111e+12, -4.92008921e+11, -5.69419686e+11,\n",
       "       -3.15482183e+11, -8.04824402e+11, -2.97766555e+11, -8.64139631e+11,\n",
       "       -6.67651962e+11, -4.14781439e+11, -7.67491292e+11, -1.50197470e+11,\n",
       "       -1.80768958e+12, -5.97781423e+11, -4.38056378e+11, -8.82156908e+11,\n",
       "       -2.04288465e+12, -2.91642720e+12, -1.77598435e+11, -5.29167908e+11,\n",
       "       -3.75761258e+11, -3.89736365e+11, -2.08202481e+12, -9.20920136e+11,\n",
       "       -3.36333278e+11, -1.46645484e+12, -4.74245338e+11, -9.12895589e+11,\n",
       "       -1.58938427e+11, -1.74407921e+12, -7.87305223e+10, -4.61828446e+11,\n",
       "       -5.47839811e+11, -5.68016629e+11, -9.08090250e+10, -8.56068698e+11,\n",
       "       -1.58358437e+11, -4.39005539e+11, -3.18203541e+11, -4.38708917e+11,\n",
       "       -8.08810970e+11, -5.54563056e+11, -1.26104528e+11, -5.21666009e+11,\n",
       "       -7.95324038e+11, -7.99520592e+11, -7.75694358e+10, -3.88837608e+11,\n",
       "       -2.62180576e+12, -1.01851624e+11, -6.86605282e+11, -1.23876877e+12,\n",
       "       -1.06875264e+11, -7.51291275e+10, -4.86325083e+11, -1.11525338e+12,\n",
       "       -3.86448712e+10, -1.42801636e+12, -1.09044161e+12, -8.06749946e+11,\n",
       "       -3.79570541e+10, -4.87376543e+11, -9.27460830e+11, -2.73216658e+12,\n",
       "       -4.29431883e+11, -6.97014887e+11, -6.58886269e+11, -9.08726100e+11,\n",
       "       -3.93556799e+11, -1.65346981e+12, -8.01477731e+11, -4.58174656e+11,\n",
       "       -5.76184339e+11, -6.13016385e+11, -7.28302286e+12, -5.16585983e+11,\n",
       "       -3.47494173e+11, -6.02357055e+11, -8.02689678e+11, -8.86305749e+11,\n",
       "       -3.35824495e+12, -2.22714449e+12, -4.00941137e+11, -3.27856772e+10,\n",
       "       -1.50556191e+12, -8.33090778e+11, -5.83008824e+11, -1.10556532e+12,\n",
       "       -5.67978065e+11, -6.26472053e+11, -9.91803711e+11, -4.77719898e+11,\n",
       "       -4.38760195e+11, -2.48240731e+11, -9.44076378e+10, -5.12392472e+11,\n",
       "       -1.56369783e+12, -2.88618065e+10, -1.29324641e+12, -7.36457338e+11,\n",
       "       -5.28985151e+11, -6.92578569e+11, -6.41945962e+10, -1.94632889e+12,\n",
       "       -1.57793608e+12, -9.06804592e+11, -7.41901946e+11, -5.98882616e+11,\n",
       "       -1.01032136e+12, -1.22659039e+12, -2.86373822e+10, -7.63785367e+11,\n",
       "       -7.15549377e+11, -9.57835483e+11, -1.00297677e+12, -3.85176400e+11,\n",
       "       -7.70523773e+11, -1.16034444e+12, -1.73570082e+12, -6.94034265e+11,\n",
       "       -7.22941983e+11, -2.81858884e+11, -6.31307910e+10, -5.20061695e+10,\n",
       "       -1.77693484e+12, -6.42391535e+11, -3.96722701e+11, -6.91581567e+11,\n",
       "       -7.61475001e+11, -3.17354892e+11, -6.43430632e+11, -1.05562341e+12,\n",
       "       -1.20312912e+12, -2.19521509e+11, -6.04145275e+11, -1.00851871e+12,\n",
       "       -1.46419133e+12, -5.26414504e+11, -4.55699623e+11, -6.30592976e+11,\n",
       "       -1.12664485e+12, -7.99680564e+11, -1.67206097e+14, -3.07102363e+12,\n",
       "       -1.29005610e+11, -1.32832922e+12, -5.68732034e+11, -8.22455762e+11,\n",
       "       -3.07936001e+11, -9.89826222e+11, -6.94504240e+11, -6.28588927e+11,\n",
       "       -4.38297690e+11, -5.28807647e+11, -7.40725054e+11, -7.63473830e+11,\n",
       "       -8.28989383e+10, -9.05628220e+11, -1.19118638e+12, -4.02813290e+11,\n",
       "       -9.61791701e+10, -4.26868302e+11, -7.81585926e+11, -1.60869787e+12,\n",
       "       -6.86924994e+11, -1.76351836e+12, -6.14295354e+11, -4.53203861e+11,\n",
       "       -6.24106541e+11, -5.90454192e+11, -2.04872306e+11, -9.86302171e+11,\n",
       "       -5.96715776e+11, -8.76877335e+11, -6.23802698e+11, -7.08485633e+11,\n",
       "       -7.25356868e+11, -1.14067229e+12, -3.68643921e+11, -5.06667379e+11,\n",
       "       -4.36594613e+11, -2.31135664e+12, -7.16510580e+11, -6.60175503e+10,\n",
       "       -8.24687305e+11, -2.87495195e+11, -5.85638755e+11, -7.27054684e+11,\n",
       "       -7.20805438e+11, -7.83968169e+11, -1.24580935e+12, -1.07448996e+11,\n",
       "       -6.37147598e+11, -7.79280202e+11, -7.49444809e+11, -6.00671831e+11,\n",
       "       -1.77049237e+12, -4.74932663e+11, -3.28896333e+11, -1.00318174e+12,\n",
       "       -8.46570036e+11, -1.33973459e+11, -4.08410761e+11, -1.20872625e+11,\n",
       "       -6.27966142e+11, -9.34883213e+11, -2.06422367e+12, -5.23771452e+11,\n",
       "       -4.44386916e+11, -6.16837776e+11, -1.45973581e+12, -4.11793672e+11,\n",
       "       -7.11630287e+11, -1.97061809e+11, -1.17365634e+13, -5.54053358e+10,\n",
       "       -3.13840154e+11, -4.54029034e+11, -1.05374100e+12, -1.13268219e+12,\n",
       "       -4.78447647e+11, -8.58558210e+11, -1.19063641e+12, -7.71610119e+11,\n",
       "       -1.52719408e+12, -1.47888424e+12, -4.84091361e+11, -2.87571155e+10,\n",
       "       -4.27637513e+11, -8.79886159e+11, -8.51564053e+11, -3.35212357e+11,\n",
       "       -2.93302686e+11, -2.54286325e+11, -4.99784687e+11, -7.61683472e+11,\n",
       "       -5.64823543e+11, -7.71746265e+11, -2.17697829e+11, -4.04611009e+11,\n",
       "       -8.45306616e+11, -7.64972402e+11, -1.20126062e+12, -9.53289910e+11,\n",
       "       -5.86920593e+11, -9.83800490e+10, -2.26260061e+12, -1.31412481e+12,\n",
       "       -6.07937232e+11, -2.35592919e+12, -6.66391459e+10, -6.93200750e+10,\n",
       "       -8.23677546e+10, -4.43393052e+11, -1.42550251e+12, -1.01804188e+12,\n",
       "       -8.64230940e+11, -2.20664884e+13, -2.09386320e+12, -9.44930668e+11,\n",
       "       -6.82894933e+11, -1.73741409e+12, -6.98150735e+11, -1.17913586e+12,\n",
       "       -6.26838185e+11, -1.42805191e+12, -4.00365222e+11, -6.32740455e+11,\n",
       "       -3.75181279e+12, -4.26768576e+11, -3.04633739e+11, -2.98983873e+11,\n",
       "       -5.16986273e+11, -4.51513652e+11, -4.38005043e+11, -6.44659386e+11,\n",
       "       -1.69966364e+11, -1.42611672e+12, -8.12603480e+11, -2.24268619e+12,\n",
       "       -2.98455551e+11, -6.41767372e+11, -3.95668556e+11, -5.90498825e+10,\n",
       "       -3.46862714e+10, -2.95339501e+11, -6.68988208e+11, -4.52022139e+11,\n",
       "       -1.53496652e+11, -4.93193477e+11, -7.61130488e+12, -6.99683453e+11,\n",
       "       -2.83405351e+12, -3.68099880e+11, -6.14524055e+11, -4.50682766e+11,\n",
       "       -9.55587102e+11, -6.31307910e+10, -7.17505944e+11, -7.19384372e+11,\n",
       "       -6.60055435e+11, -3.88968579e+11, -6.88925165e+11, -9.32662995e+11,\n",
       "       -7.16499944e+11, -1.23913961e+12, -7.06212875e+11, -8.26430764e+11,\n",
       "       -7.08649424e+11, -1.17748948e+12, -4.54539496e+11, -5.78661544e+11,\n",
       "       -1.09645884e+12, -5.49540234e+11, -1.24927622e+12, -4.26570706e+11,\n",
       "       -5.31362291e+11, -1.30279552e+13, -6.19261996e+11, -8.80313115e+11,\n",
       "       -6.92176717e+11, -1.33286310e+12, -5.27470504e+11, -6.31729390e+10,\n",
       "       -9.22731998e+11, -3.66752126e+12, -4.18664113e+11, -1.03717284e+12,\n",
       "       -6.34104919e+11, -7.25392768e+11, -7.57661365e+11, -1.91472741e+11,\n",
       "       -3.02545741e+10, -1.18880636e+12, -1.31014387e+12, -7.18542879e+11,\n",
       "       -1.04685594e+12, -1.07712658e+12, -5.97428783e+11, -1.62274207e+11,\n",
       "       -3.00686297e+11, -1.32375221e+12, -1.15218392e+12, -4.84018976e+11,\n",
       "       -3.85840228e+11, -5.10632622e+11, -6.07303545e+11, -5.51379802e+11,\n",
       "       -5.88231858e+11, -9.81658639e+10, -1.58938427e+11, -1.10181070e+12,\n",
       "       -2.75905223e+11, -7.75990973e+11, -5.42709519e+11, -1.32856233e+11,\n",
       "       -3.44736639e+10, -9.11630037e+11, -2.11054972e+11, -1.14956204e+12,\n",
       "       -9.52325712e+11, -1.30258380e+12, -4.69631423e+11, -7.53453869e+11,\n",
       "       -5.72263396e+11, -5.80172255e+11, -1.07309739e+12, -5.94258229e+11,\n",
       "       -7.11046634e+11, -7.24906679e+11, -6.71502887e+11, -2.93490496e+11,\n",
       "       -4.25648007e+11, -3.27856772e+10, -4.07783937e+11, -1.17505079e+12,\n",
       "       -1.77913121e+11, -4.75020348e+11, -9.55825544e+11, -6.65545586e+11,\n",
       "       -8.47914322e+11, -5.23412768e+10, -1.13709933e+12, -7.10950099e+11,\n",
       "       -5.87004171e+11, -1.51824657e+12, -1.10897810e+12, -9.11299045e+11,\n",
       "       -5.07371647e+11, -6.33486681e+11, -1.76706353e+12, -6.49922292e+11,\n",
       "       -3.87974422e+11, -8.74343215e+11, -8.79848038e+11, -1.39027856e+11,\n",
       "       -8.08746398e+11, -8.56259802e+11, -8.53454081e+11, -8.04068226e+11,\n",
       "       -1.20872625e+11, -7.54491434e+11, -1.15008987e+12, -7.69066239e+11,\n",
       "       -4.04854924e+11, -3.24525428e+11, -3.86917106e+11, -4.53341154e+11,\n",
       "       -6.66997250e+11, -1.81326939e+12, -1.27477403e+12, -6.86754994e+11,\n",
       "       -5.76938835e+11, -1.17919294e+12, -7.17875980e+11, -6.72406177e+11,\n",
       "       -6.97950972e+11, -1.09108882e+12, -4.89598452e+11, -8.86306375e+11,\n",
       "       -8.13592213e+11, -5.73450364e+11, -9.63301029e+11, -6.27308502e+11,\n",
       "       -3.15115344e+11, -9.68961266e+11, -5.97368338e+11, -1.04645543e+12,\n",
       "       -1.14778348e+12, -5.47839811e+11, -9.19978978e+11, -7.42758376e+11,\n",
       "       -5.63127903e+11, -6.18823359e+11, -4.98177527e+11, -1.11098576e+12,\n",
       "       -7.85360146e+11, -1.11318981e+12, -6.11925131e+11, -7.52194410e+11,\n",
       "       -3.04841209e+11, -1.11947264e+12, -5.32424662e+11, -5.37352786e+11,\n",
       "       -4.61093478e+11, -4.81391475e+11, -1.14973495e+12, -1.20549277e+11,\n",
       "       -1.48664777e+12, -4.24774403e+12, -5.75550086e+11, -9.87033024e+11,\n",
       "       -6.02803691e+11, -2.63906696e+11, -7.35734199e+11, -4.36508477e+11,\n",
       "       -3.24047631e+11, -8.89089366e+11, -7.29907053e+11, -9.82890022e+10,\n",
       "       -1.32309078e+12, -5.69273223e+11, -7.71116076e+11, -3.85376470e+11,\n",
       "       -1.67216962e+12, -6.07475035e+11, -6.52531412e+11, -1.55999043e+11,\n",
       "       -5.27517800e+11, -8.11028454e+11, -1.00316438e+12, -6.57865477e+11])"
      ]
     },
     "execution_count": 24,
     "metadata": {},
     "output_type": "execute_result"
    }
   ],
   "source": [
    "ridge_model.predict(X_test)"
   ]
  },
  {
   "cell_type": "markdown",
   "id": "c8e664d7",
   "metadata": {},
   "source": [
    "## LASSO"
   ]
  },
  {
   "cell_type": "code",
   "execution_count": 25,
   "id": "ea859940",
   "metadata": {},
   "outputs": [],
   "source": [
    "# Set up a list of alphas to check.\n",
    "l_alphas = np.logspace(0, 0.5, 500)\n",
    "\n",
    "# Instantiate model.\n",
    "lasso_cv = LassoCV(alphas=l_alphas, max_iter=5000, cv=5)"
   ]
  },
  {
   "cell_type": "code",
   "execution_count": 26,
   "id": "1a34edec",
   "metadata": {},
   "outputs": [
    {
     "data": {
      "text/plain": [
       "LassoCV(alphas=array([1.        , 1.00230986, 1.00462506, 1.00694561, 1.00927151,\n",
       "       1.01160279, 1.01393946, 1.01628152, 1.01862899, 1.02098188,\n",
       "       1.02334021, 1.02570399, 1.02807322, 1.03044793, 1.03282813,\n",
       "       1.03521382, 1.03760502, 1.04000175, 1.04240401, 1.04481182,\n",
       "       1.04722519, 1.04964414, 1.05206867, 1.05449881, 1.05693455,\n",
       "       1.05937593, 1.06182294, 1.06427561, 1.06673394, 1.06919795,\n",
       "       1.0716...\n",
       "       2.95761666, 2.96444835, 2.97129582, 2.97815911, 2.98503825,\n",
       "       2.99193327, 2.99884423, 3.00577115, 3.01271407, 3.01967303,\n",
       "       3.02664806, 3.0336392 , 3.04064649, 3.04766997, 3.05470967,\n",
       "       3.06176563, 3.06883789, 3.07592649, 3.08303146, 3.09015284,\n",
       "       3.09729067, 3.10444498, 3.11161583, 3.11880323, 3.12600724,\n",
       "       3.13322789, 3.14046522, 3.14771926, 3.15499006, 3.16227766]),\n",
       "        cv=5, max_iter=5000)"
      ]
     },
     "execution_count": 26,
     "metadata": {},
     "output_type": "execute_result"
    }
   ],
   "source": [
    "# Fit model\n",
    "lasso_cv.fit(X_train_scaled, y_train)"
   ]
  },
  {
   "cell_type": "code",
   "execution_count": 27,
   "id": "80534751",
   "metadata": {},
   "outputs": [
    {
     "data": {
      "text/plain": [
       "3.1622776601683795"
      ]
     },
     "execution_count": 27,
     "metadata": {},
     "output_type": "execute_result"
    }
   ],
   "source": [
    "#check the optimize alpha\n",
    "lasso_cv.alpha_"
   ]
  },
  {
   "cell_type": "code",
   "execution_count": 43,
   "id": "7a4430f4",
   "metadata": {},
   "outputs": [
    {
     "name": "stderr",
     "output_type": "stream",
     "text": [
      "/opt/anaconda3/lib/python3.8/site-packages/sklearn/linear_model/_coordinate_descent.py:530: ConvergenceWarning: Objective did not converge. You might want to increase the number of iterations. Duality gap: 48050205384.48253, tolerance: 509786401.70347583\n",
      "  model = cd_fast.enet_coordinate_descent(\n"
     ]
    },
    {
     "data": {
      "text/plain": [
       "Lasso(alpha=3.16)"
      ]
     },
     "execution_count": 43,
     "metadata": {},
     "output_type": "execute_result"
    }
   ],
   "source": [
    "# Instantiate and Fit model using optimal alpha.\n",
    "lasso_model = Lasso(3.16)\n",
    "lasso_model.fit(X_train_scaled, y_train)"
   ]
  },
  {
   "cell_type": "code",
   "execution_count": 44,
   "id": "48677bce",
   "metadata": {},
   "outputs": [
    {
     "data": {
      "text/html": [
       "<div>\n",
       "<style scoped>\n",
       "    .dataframe tbody tr th:only-of-type {\n",
       "        vertical-align: middle;\n",
       "    }\n",
       "\n",
       "    .dataframe tbody tr th {\n",
       "        vertical-align: top;\n",
       "    }\n",
       "\n",
       "    .dataframe thead th {\n",
       "        text-align: right;\n",
       "    }\n",
       "</style>\n",
       "<table border=\"1\" class=\"dataframe\">\n",
       "  <thead>\n",
       "    <tr style=\"text-align: right;\">\n",
       "      <th></th>\n",
       "      <th>Model</th>\n",
       "      <th>Train Score</th>\n",
       "      <th>Test Score</th>\n",
       "    </tr>\n",
       "  </thead>\n",
       "  <tbody>\n",
       "    <tr>\n",
       "      <th>0</th>\n",
       "      <td>LR</td>\n",
       "      <td>0.999994</td>\n",
       "      <td>-67.111177</td>\n",
       "    </tr>\n",
       "    <tr>\n",
       "      <th>0</th>\n",
       "      <td>Ridge</td>\n",
       "      <td>0.979667</td>\n",
       "      <td>0.790251</td>\n",
       "    </tr>\n",
       "    <tr>\n",
       "      <th>0</th>\n",
       "      <td>Lasso</td>\n",
       "      <td>0.983467</td>\n",
       "      <td>0.726647</td>\n",
       "    </tr>\n",
       "  </tbody>\n",
       "</table>\n",
       "</div>"
      ],
      "text/plain": [
       "   Model  Train Score  Test Score\n",
       "0     LR     0.999994  -67.111177\n",
       "0  Ridge     0.979667    0.790251\n",
       "0  Lasso     0.983467    0.726647"
      ]
     },
     "execution_count": 44,
     "metadata": {},
     "output_type": "execute_result"
    }
   ],
   "source": [
    "# Evaluate model.\n",
    "lasso_train_score = lasso_model.score(X_train_scaled, y_train)\n",
    "lasso_test_score = lasso_model.score(X_test_scaled, y_test)\n",
    "\n",
    "#Summary of Score\n",
    "df_result=add_reggression_result(df_result, 'Lasso', lasso_train_score, lasso_test_score)\n",
    "df_result"
   ]
  },
  {
   "cell_type": "markdown",
   "id": "d394acc9",
   "metadata": {},
   "source": [
    "## ElasticNet"
   ]
  },
  {
   "cell_type": "code",
   "execution_count": 30,
   "id": "cda3fa73",
   "metadata": {},
   "outputs": [],
   "source": [
    "# Set up a list of alphas to check.\n",
    "enet_alphas = np.linspace(0.5, 1.0, 100)\n",
    "\n",
    "# Set up our l1 ratio. (What does this do?)\n",
    "enet_ratio = 0.5\n",
    "\n",
    "# Instantiate model.\n",
    "enet_model = ElasticNetCV(alphas=enet_alphas, l1_ratio=enet_ratio, cv=5)\n",
    "\n",
    "# Fit model using optimal alpha.\n",
    "enet_model = enet_model.fit(X_train_scaled, y_train)"
   ]
  },
  {
   "cell_type": "code",
   "execution_count": 31,
   "id": "da378c11",
   "metadata": {},
   "outputs": [
    {
     "data": {
      "text/html": [
       "<div>\n",
       "<style scoped>\n",
       "    .dataframe tbody tr th:only-of-type {\n",
       "        vertical-align: middle;\n",
       "    }\n",
       "\n",
       "    .dataframe tbody tr th {\n",
       "        vertical-align: top;\n",
       "    }\n",
       "\n",
       "    .dataframe thead th {\n",
       "        text-align: right;\n",
       "    }\n",
       "</style>\n",
       "<table border=\"1\" class=\"dataframe\">\n",
       "  <thead>\n",
       "    <tr style=\"text-align: right;\">\n",
       "      <th></th>\n",
       "      <th>Model</th>\n",
       "      <th>Train Score</th>\n",
       "      <th>Test Score</th>\n",
       "    </tr>\n",
       "  </thead>\n",
       "  <tbody>\n",
       "    <tr>\n",
       "      <th>0</th>\n",
       "      <td>LR</td>\n",
       "      <td>0.822305</td>\n",
       "      <td>0.808254</td>\n",
       "    </tr>\n",
       "    <tr>\n",
       "      <th>0</th>\n",
       "      <td>Ridge</td>\n",
       "      <td>0.821593</td>\n",
       "      <td>0.810020</td>\n",
       "    </tr>\n",
       "    <tr>\n",
       "      <th>0</th>\n",
       "      <td>Lasso</td>\n",
       "      <td>0.822275</td>\n",
       "      <td>0.810941</td>\n",
       "    </tr>\n",
       "    <tr>\n",
       "      <th>0</th>\n",
       "      <td>Elastic Net</td>\n",
       "      <td>0.810100</td>\n",
       "      <td>0.795095</td>\n",
       "    </tr>\n",
       "  </tbody>\n",
       "</table>\n",
       "</div>"
      ],
      "text/plain": [
       "         Model  Train Score  Test Score\n",
       "0           LR     0.822305    0.808254\n",
       "0        Ridge     0.821593    0.810020\n",
       "0        Lasso     0.822275    0.810941\n",
       "0  Elastic Net     0.810100    0.795095"
      ]
     },
     "execution_count": 31,
     "metadata": {},
     "output_type": "execute_result"
    }
   ],
   "source": [
    "\n",
    "# Evaluate model.\n",
    "enet_train_score  = enet_model.score(X_train_scaled, y_train)\n",
    "enet_test_score = enet_model.score(X_test_scaled, y_test)\n",
    "\n",
    "#Summary of Score\n",
    "df_result=add_reggression_result(df_result, 'Elastic Net', enet_train_score, enet_test_score)\n",
    "df_result\n"
   ]
  },
  {
   "cell_type": "markdown",
   "id": "5846d88f",
   "metadata": {},
   "source": [
    "## PREDICT Test Dataset"
   ]
  },
  {
   "cell_type": "code",
   "execution_count": null,
   "id": "e196c5da",
   "metadata": {},
   "outputs": [],
   "source": [
    "df_test = pd.read_csv(\"../datasets/test_wfeature.csv\")"
   ]
  },
  {
   "cell_type": "code",
   "execution_count": null,
   "id": "27021045",
   "metadata": {},
   "outputs": [],
   "source": [
    "df_test.head()"
   ]
  },
  {
   "cell_type": "code",
   "execution_count": null,
   "id": "28b695ae",
   "metadata": {},
   "outputs": [],
   "source": [
    "df_test.drop(columns=['Unnamed: 0', 'Unnamed: 0.1'], inplace=True)"
   ]
  },
  {
   "cell_type": "code",
   "execution_count": null,
   "id": "b9b04844",
   "metadata": {},
   "outputs": [],
   "source": [
    "df_test.shape"
   ]
  },
  {
   "cell_type": "code",
   "execution_count": null,
   "id": "0cc7bc1c",
   "metadata": {},
   "outputs": [],
   "source": [
    "#check for NUll values\n",
    "df_test.isnull().sum()[df_test.isnull().sum()>0].sort_values()"
   ]
  },
  {
   "cell_type": "code",
   "execution_count": null,
   "id": "a18560e9",
   "metadata": {},
   "outputs": [],
   "source": [
    "### Define X and Y\n",
    "#X = df_test.drop(columns='Id')\n",
    "X = df_test[['Lot Area', 'Neighborhood', 'Overall Qual','Gr Liv Area','zone_dummy','exterqual_dummy']]"
   ]
  },
  {
   "cell_type": "code",
   "execution_count": null,
   "id": "3c969be5",
   "metadata": {},
   "outputs": [],
   "source": [
    "\n",
    "# Instantiate our PolynomialFeatures object to create all two-way terms.\n",
    "poly = PolynomialFeatures(degree=2, interaction_only=False, include_bias=False)\n",
    "\n",
    "# Fit and transform our X data.\n",
    "X_overfit = poly.fit_transform(X)"
   ]
  },
  {
   "cell_type": "code",
   "execution_count": null,
   "id": "d4647ea8",
   "metadata": {},
   "outputs": [],
   "source": [
    "# scale the X\n",
    "sstest = StandardScaler()\n",
    "X_scaled = ss.fit_transform(X)"
   ]
  },
  {
   "cell_type": "markdown",
   "id": "accb5643",
   "metadata": {},
   "source": [
    "### LR - PREDICT"
   ]
  },
  {
   "cell_type": "code",
   "execution_count": null,
   "id": "7b81ce4e",
   "metadata": {},
   "outputs": [],
   "source": [
    "df_test_lr = df_test.copy()"
   ]
  },
  {
   "cell_type": "code",
   "execution_count": null,
   "id": "c69be04d",
   "metadata": {},
   "outputs": [],
   "source": [
    "df_test_lr['SalePrice'] = lr.predict(X)"
   ]
  },
  {
   "cell_type": "code",
   "execution_count": null,
   "id": "5f8bbc72",
   "metadata": {},
   "outputs": [],
   "source": [
    "df_test_submit = df_test_lr[['Id','SalePrice']]"
   ]
  },
  {
   "cell_type": "code",
   "execution_count": null,
   "id": "cd63f05a",
   "metadata": {},
   "outputs": [],
   "source": [
    "df_test_submit[\"SalePrice\"].hist()"
   ]
  },
  {
   "cell_type": "code",
   "execution_count": null,
   "id": "83eff404",
   "metadata": {},
   "outputs": [],
   "source": [
    "df_test_submit[\"SalePrice\"].head()"
   ]
  },
  {
   "cell_type": "code",
   "execution_count": null,
   "id": "6b1e2834",
   "metadata": {},
   "outputs": [],
   "source": [
    "df_test_submit.to_csv(\"../datasets/submit_lreg.csv\", index=False)"
   ]
  },
  {
   "cell_type": "markdown",
   "id": "240f07e3",
   "metadata": {},
   "source": [
    "### RIDGE - PREDICT"
   ]
  },
  {
   "cell_type": "code",
   "execution_count": null,
   "id": "3798278d",
   "metadata": {},
   "outputs": [],
   "source": [
    "df_test_ridge = df_test.copy()"
   ]
  },
  {
   "cell_type": "code",
   "execution_count": null,
   "id": "62596702",
   "metadata": {},
   "outputs": [],
   "source": [
    "df_test_ridge['SalePrice'] = ridge_model.predict(X_scaled)"
   ]
  },
  {
   "cell_type": "code",
   "execution_count": null,
   "id": "9cab1941",
   "metadata": {},
   "outputs": [],
   "source": [
    "df_test_submit = df_test_ridge[['Id','SalePrice']]"
   ]
  },
  {
   "cell_type": "code",
   "execution_count": null,
   "id": "af13c452",
   "metadata": {},
   "outputs": [],
   "source": [
    "df_test_submit[\"SalePrice\"].hist()"
   ]
  },
  {
   "cell_type": "code",
   "execution_count": null,
   "id": "c3809965",
   "metadata": {},
   "outputs": [],
   "source": [
    "df_test_submit.to_csv(\"../datasets/submit_ridgereg.csv\", index=False)"
   ]
  },
  {
   "cell_type": "code",
   "execution_count": null,
   "id": "4eb64a50",
   "metadata": {},
   "outputs": [],
   "source": []
  },
  {
   "cell_type": "markdown",
   "id": "af1677b5",
   "metadata": {},
   "source": [
    "### LASSO - PREDICT"
   ]
  },
  {
   "cell_type": "code",
   "execution_count": null,
   "id": "2060d8ec",
   "metadata": {},
   "outputs": [],
   "source": [
    "df_test_lasso = df_test.copy()"
   ]
  },
  {
   "cell_type": "code",
   "execution_count": null,
   "id": "063fc723",
   "metadata": {},
   "outputs": [],
   "source": [
    "df_test_lasso['SalePrice'] = lasso_model.predict(X_scaled)"
   ]
  },
  {
   "cell_type": "code",
   "execution_count": null,
   "id": "4e04aae8",
   "metadata": {},
   "outputs": [],
   "source": [
    "df_test_submit = df_test_lasso[['Id','SalePrice']]"
   ]
  },
  {
   "cell_type": "code",
   "execution_count": null,
   "id": "989bb30a",
   "metadata": {},
   "outputs": [],
   "source": [
    "df_test_submit[\"SalePrice\"].hist()"
   ]
  },
  {
   "cell_type": "code",
   "execution_count": null,
   "id": "d1a6c6b3",
   "metadata": {},
   "outputs": [],
   "source": [
    "df_test_submit.to_csv(\"../datasets/submit_lassoreg.csv\", index=False)"
   ]
  },
  {
   "cell_type": "markdown",
   "id": "2005bfa7",
   "metadata": {},
   "source": [
    "### ElasticNet - PREDICT"
   ]
  },
  {
   "cell_type": "code",
   "execution_count": null,
   "id": "66fb1ebf",
   "metadata": {},
   "outputs": [],
   "source": [
    "df_test_enet = df_test.copy()"
   ]
  },
  {
   "cell_type": "code",
   "execution_count": null,
   "id": "40bb4f60",
   "metadata": {},
   "outputs": [],
   "source": [
    "df_test_enet['SalePrice'] = enet_model.predict(X_scaled)"
   ]
  },
  {
   "cell_type": "code",
   "execution_count": null,
   "id": "c8130570",
   "metadata": {},
   "outputs": [],
   "source": [
    "df_test_submit = df_test_enet[['Id','SalePrice']]"
   ]
  },
  {
   "cell_type": "code",
   "execution_count": null,
   "id": "49d342b6",
   "metadata": {},
   "outputs": [],
   "source": [
    "df_test_submit.describe()"
   ]
  },
  {
   "cell_type": "code",
   "execution_count": null,
   "id": "03593beb",
   "metadata": {},
   "outputs": [],
   "source": [
    "df_test_submit[\"SalePrice\"].hist()"
   ]
  },
  {
   "cell_type": "code",
   "execution_count": null,
   "id": "c4b63b7e",
   "metadata": {},
   "outputs": [],
   "source": [
    "df_test_submit.to_csv(\"../datasets/submit_enetreg.csv\", index=False)"
   ]
  },
  {
   "cell_type": "code",
   "execution_count": null,
   "id": "20f6c83b",
   "metadata": {},
   "outputs": [],
   "source": []
  }
 ],
 "metadata": {
  "kernelspec": {
   "display_name": "Python 3",
   "language": "python",
   "name": "python3"
  },
  "language_info": {
   "codemirror_mode": {
    "name": "ipython",
    "version": 3
   },
   "file_extension": ".py",
   "mimetype": "text/x-python",
   "name": "python",
   "nbconvert_exporter": "python",
   "pygments_lexer": "ipython3",
   "version": "3.8.8"
  }
 },
 "nbformat": 4,
 "nbformat_minor": 5
}
