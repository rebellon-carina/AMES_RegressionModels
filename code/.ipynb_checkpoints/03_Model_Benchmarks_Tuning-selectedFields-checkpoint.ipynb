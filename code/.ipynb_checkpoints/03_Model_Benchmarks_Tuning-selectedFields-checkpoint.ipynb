{
 "cells": [
  {
   "cell_type": "markdown",
   "id": "912ec988",
   "metadata": {},
   "source": [
    "\n",
    "## Ames Housing Data and Kaggle Challenge\n",
    "\n",
    "Part 3 - after the 02_Preprocessing_and_Feature_Engineering\n",
    "\n",
    "This notebook is intended for creating regresssion models and testing."
   ]
  },
  {
   "cell_type": "code",
   "execution_count": 1,
   "id": "f4cf72bc",
   "metadata": {},
   "outputs": [],
   "source": [
    "#import packages\n",
    "import pandas as pd\n",
    "import matplotlib.pyplot as plt\n",
    "import seaborn as sns\n",
    "import numpy as np\n",
    "\n",
    "from sklearn.linear_model import LinearRegression\n",
    "from sklearn.linear_model import Ridge, Lasso, ElasticNet\n",
    "from sklearn.linear_model import RidgeCV, LassoCV, ElasticNetCV\n",
    "from sklearn.preprocessing import StandardScaler, PolynomialFeatures\n",
    "\n",
    "from sklearn.model_selection import train_test_split, cross_val_score,GridSearchCV, KFold,cross_validate\n",
    "\n",
    "from sklearn import preprocessing\n",
    "from sklearn import metrics\n",
    "from sklearn.metrics import get_scorer\n",
    "\n",
    "import statsmodels.api as sm\n",
    "\n",
    "%matplotlib inline"
   ]
  },
  {
   "cell_type": "code",
   "execution_count": 2,
   "id": "705d1725",
   "metadata": {},
   "outputs": [],
   "source": [
    "import warnings\n",
    "warnings.filterwarnings('ignore')"
   ]
  },
  {
   "cell_type": "markdown",
   "id": "e2ea95c2",
   "metadata": {},
   "source": [
    "## Loading of train dataset with additional features"
   ]
  },
  {
   "cell_type": "code",
   "execution_count": 3,
   "id": "33d2f003",
   "metadata": {},
   "outputs": [
    {
     "data": {
      "text/html": [
       "<div>\n",
       "<style scoped>\n",
       "    .dataframe tbody tr th:only-of-type {\n",
       "        vertical-align: middle;\n",
       "    }\n",
       "\n",
       "    .dataframe tbody tr th {\n",
       "        vertical-align: top;\n",
       "    }\n",
       "\n",
       "    .dataframe thead th {\n",
       "        text-align: right;\n",
       "    }\n",
       "</style>\n",
       "<table border=\"1\" class=\"dataframe\">\n",
       "  <thead>\n",
       "    <tr style=\"text-align: right;\">\n",
       "      <th></th>\n",
       "      <th>Unnamed: 0</th>\n",
       "      <th>Id</th>\n",
       "      <th>PID</th>\n",
       "      <th>MS SubClass</th>\n",
       "      <th>MS Zoning</th>\n",
       "      <th>Lot Frontage</th>\n",
       "      <th>Lot Area</th>\n",
       "      <th>Street</th>\n",
       "      <th>Lot Shape</th>\n",
       "      <th>Land Contour</th>\n",
       "      <th>...</th>\n",
       "      <th>Open Porch SF</th>\n",
       "      <th>Enclosed Porch</th>\n",
       "      <th>3Ssn Porch</th>\n",
       "      <th>Screen Porch</th>\n",
       "      <th>Pool Area</th>\n",
       "      <th>Misc Val</th>\n",
       "      <th>Mo Sold</th>\n",
       "      <th>Yr Sold</th>\n",
       "      <th>SalePrice</th>\n",
       "      <th>HouseAge</th>\n",
       "    </tr>\n",
       "  </thead>\n",
       "  <tbody>\n",
       "    <tr>\n",
       "      <th>0</th>\n",
       "      <td>0</td>\n",
       "      <td>109</td>\n",
       "      <td>533352170</td>\n",
       "      <td>60</td>\n",
       "      <td>6.0</td>\n",
       "      <td>79.0</td>\n",
       "      <td>13517</td>\n",
       "      <td>2</td>\n",
       "      <td>3</td>\n",
       "      <td>2.0</td>\n",
       "      <td>...</td>\n",
       "      <td>44</td>\n",
       "      <td>0</td>\n",
       "      <td>0</td>\n",
       "      <td>0</td>\n",
       "      <td>0</td>\n",
       "      <td>0</td>\n",
       "      <td>3</td>\n",
       "      <td>2010</td>\n",
       "      <td>130500</td>\n",
       "      <td>34</td>\n",
       "    </tr>\n",
       "    <tr>\n",
       "      <th>1</th>\n",
       "      <td>1</td>\n",
       "      <td>544</td>\n",
       "      <td>531379050</td>\n",
       "      <td>60</td>\n",
       "      <td>6.0</td>\n",
       "      <td>43.0</td>\n",
       "      <td>11492</td>\n",
       "      <td>2</td>\n",
       "      <td>3</td>\n",
       "      <td>2.0</td>\n",
       "      <td>...</td>\n",
       "      <td>74</td>\n",
       "      <td>0</td>\n",
       "      <td>0</td>\n",
       "      <td>0</td>\n",
       "      <td>0</td>\n",
       "      <td>0</td>\n",
       "      <td>4</td>\n",
       "      <td>2009</td>\n",
       "      <td>220000</td>\n",
       "      <td>13</td>\n",
       "    </tr>\n",
       "    <tr>\n",
       "      <th>2</th>\n",
       "      <td>2</td>\n",
       "      <td>153</td>\n",
       "      <td>535304180</td>\n",
       "      <td>20</td>\n",
       "      <td>6.0</td>\n",
       "      <td>68.0</td>\n",
       "      <td>7922</td>\n",
       "      <td>2</td>\n",
       "      <td>4</td>\n",
       "      <td>2.0</td>\n",
       "      <td>...</td>\n",
       "      <td>52</td>\n",
       "      <td>0</td>\n",
       "      <td>0</td>\n",
       "      <td>0</td>\n",
       "      <td>0</td>\n",
       "      <td>0</td>\n",
       "      <td>1</td>\n",
       "      <td>2010</td>\n",
       "      <td>109000</td>\n",
       "      <td>57</td>\n",
       "    </tr>\n",
       "    <tr>\n",
       "      <th>3</th>\n",
       "      <td>3</td>\n",
       "      <td>318</td>\n",
       "      <td>916386060</td>\n",
       "      <td>60</td>\n",
       "      <td>6.0</td>\n",
       "      <td>73.0</td>\n",
       "      <td>9802</td>\n",
       "      <td>2</td>\n",
       "      <td>4</td>\n",
       "      <td>2.0</td>\n",
       "      <td>...</td>\n",
       "      <td>0</td>\n",
       "      <td>0</td>\n",
       "      <td>0</td>\n",
       "      <td>0</td>\n",
       "      <td>0</td>\n",
       "      <td>0</td>\n",
       "      <td>4</td>\n",
       "      <td>2010</td>\n",
       "      <td>174000</td>\n",
       "      <td>4</td>\n",
       "    </tr>\n",
       "    <tr>\n",
       "      <th>4</th>\n",
       "      <td>4</td>\n",
       "      <td>255</td>\n",
       "      <td>906425045</td>\n",
       "      <td>50</td>\n",
       "      <td>6.0</td>\n",
       "      <td>82.0</td>\n",
       "      <td>14235</td>\n",
       "      <td>2</td>\n",
       "      <td>3</td>\n",
       "      <td>2.0</td>\n",
       "      <td>...</td>\n",
       "      <td>59</td>\n",
       "      <td>0</td>\n",
       "      <td>0</td>\n",
       "      <td>0</td>\n",
       "      <td>0</td>\n",
       "      <td>0</td>\n",
       "      <td>3</td>\n",
       "      <td>2010</td>\n",
       "      <td>138500</td>\n",
       "      <td>110</td>\n",
       "    </tr>\n",
       "  </tbody>\n",
       "</table>\n",
       "<p>5 rows × 73 columns</p>\n",
       "</div>"
      ],
      "text/plain": [
       "   Unnamed: 0   Id        PID  MS SubClass  MS Zoning  Lot Frontage  Lot Area  \\\n",
       "0           0  109  533352170           60        6.0          79.0     13517   \n",
       "1           1  544  531379050           60        6.0          43.0     11492   \n",
       "2           2  153  535304180           20        6.0          68.0      7922   \n",
       "3           3  318  916386060           60        6.0          73.0      9802   \n",
       "4           4  255  906425045           50        6.0          82.0     14235   \n",
       "\n",
       "   Street  Lot Shape  Land Contour  ...  Open Porch SF  Enclosed Porch  \\\n",
       "0       2          3           2.0  ...             44               0   \n",
       "1       2          3           2.0  ...             74               0   \n",
       "2       2          4           2.0  ...             52               0   \n",
       "3       2          4           2.0  ...              0               0   \n",
       "4       2          3           2.0  ...             59               0   \n",
       "\n",
       "   3Ssn Porch  Screen Porch  Pool Area  Misc Val  Mo Sold  Yr Sold  SalePrice  \\\n",
       "0           0             0          0         0        3     2010     130500   \n",
       "1           0             0          0         0        4     2009     220000   \n",
       "2           0             0          0         0        1     2010     109000   \n",
       "3           0             0          0         0        4     2010     174000   \n",
       "4           0             0          0         0        3     2010     138500   \n",
       "\n",
       "   HouseAge  \n",
       "0        34  \n",
       "1        13  \n",
       "2        57  \n",
       "3         4  \n",
       "4       110  \n",
       "\n",
       "[5 rows x 73 columns]"
      ]
     },
     "execution_count": 3,
     "metadata": {},
     "output_type": "execute_result"
    }
   ],
   "source": [
    "df_train = pd.read_csv(\"../datasets/train_wfeature_all.csv\")\n",
    "df_train.head()"
   ]
  },
  {
   "cell_type": "code",
   "execution_count": 4,
   "id": "6c6ea6d2",
   "metadata": {},
   "outputs": [],
   "source": [
    "#drop unnecessary columns\n",
    "df_train.drop(columns=['Unnamed: 0', 'Id', 'PID'], inplace=True)"
   ]
  },
  {
   "cell_type": "code",
   "execution_count": 5,
   "id": "14a94798",
   "metadata": {},
   "outputs": [
    {
     "data": {
      "text/plain": [
       "(1955, 70)"
      ]
     },
     "execution_count": 5,
     "metadata": {},
     "output_type": "execute_result"
    }
   ],
   "source": [
    "#check the number of data points and columns\n",
    "df_train.shape"
   ]
  },
  {
   "cell_type": "code",
   "execution_count": 6,
   "id": "0be16a20",
   "metadata": {},
   "outputs": [
    {
     "data": {
      "text/plain": [
       "Series([], dtype: int64)"
      ]
     },
     "execution_count": 6,
     "metadata": {},
     "output_type": "execute_result"
    }
   ],
   "source": [
    "#check that there is no null values\n",
    "df_train.isnull().sum()[df_train.isnull().sum()>0].sort_values()"
   ]
  },
  {
   "cell_type": "code",
   "execution_count": 7,
   "id": "6bae7d88",
   "metadata": {},
   "outputs": [
    {
     "data": {
      "text/plain": [
       "MS SubClass       int64\n",
       "MS Zoning       float64\n",
       "Lot Frontage    float64\n",
       "Lot Area          int64\n",
       "Street            int64\n",
       "                 ...   \n",
       "Misc Val          int64\n",
       "Mo Sold           int64\n",
       "Yr Sold           int64\n",
       "SalePrice         int64\n",
       "HouseAge          int64\n",
       "Length: 70, dtype: object"
      ]
     },
     "execution_count": 7,
     "metadata": {},
     "output_type": "execute_result"
    }
   ],
   "source": [
    "df_train.dtypes"
   ]
  },
  {
   "cell_type": "markdown",
   "id": "d1007c9d",
   "metadata": {},
   "source": [
    "***define X  and y***"
   ]
  },
  {
   "cell_type": "code",
   "execution_count": 8,
   "id": "f654f402",
   "metadata": {},
   "outputs": [],
   "source": [
    "X=df_train.drop(columns=['SalePrice'])\n",
    "y=df_train['SalePrice']"
   ]
  },
  {
   "cell_type": "code",
   "execution_count": 9,
   "id": "e2524182",
   "metadata": {},
   "outputs": [
    {
     "data": {
      "text/html": [
       "<table class=\"simpletable\">\n",
       "<caption>OLS Regression Results</caption>\n",
       "<tr>\n",
       "  <th>Dep. Variable:</th>        <td>SalePrice</td>    <th>  R-squared (uncentered):</th>      <td>   0.990</td> \n",
       "</tr>\n",
       "<tr>\n",
       "  <th>Model:</th>                   <td>OLS</td>       <th>  Adj. R-squared (uncentered):</th> <td>   0.989</td> \n",
       "</tr>\n",
       "<tr>\n",
       "  <th>Method:</th>             <td>Least Squares</td>  <th>  F-statistic:       </th>          <td>   2760.</td> \n",
       "</tr>\n",
       "<tr>\n",
       "  <th>Date:</th>             <td>Fri, 28 Jan 2022</td> <th>  Prob (F-statistic):</th>           <td>  0.00</td>  \n",
       "</tr>\n",
       "<tr>\n",
       "  <th>Time:</th>                 <td>01:19:01</td>     <th>  Log-Likelihood:    </th>          <td> -21959.</td> \n",
       "</tr>\n",
       "<tr>\n",
       "  <th>No. Observations:</th>      <td>  1955</td>      <th>  AIC:               </th>          <td>4.405e+04</td>\n",
       "</tr>\n",
       "<tr>\n",
       "  <th>Df Residuals:</th>          <td>  1889</td>      <th>  BIC:               </th>          <td>4.442e+04</td>\n",
       "</tr>\n",
       "<tr>\n",
       "  <th>Df Model:</th>              <td>    66</td>      <th>                     </th>              <td> </td>    \n",
       "</tr>\n",
       "<tr>\n",
       "  <th>Covariance Type:</th>      <td>nonrobust</td>    <th>                     </th>              <td> </td>    \n",
       "</tr>\n",
       "</table>\n",
       "<table class=\"simpletable\">\n",
       "<tr>\n",
       "         <td></td>            <th>coef</th>     <th>std err</th>      <th>t</th>      <th>P>|t|</th>  <th>[0.025</th>    <th>0.975]</th>  \n",
       "</tr>\n",
       "<tr>\n",
       "  <th>MS SubClass</th>     <td>  -92.1250</td> <td>   13.669</td> <td>   -6.740</td> <td> 0.000</td> <td> -118.933</td> <td>  -65.317</td>\n",
       "</tr>\n",
       "<tr>\n",
       "  <th>MS Zoning</th>       <td>  -15.9908</td> <td>  687.765</td> <td>   -0.023</td> <td> 0.981</td> <td>-1364.849</td> <td> 1332.867</td>\n",
       "</tr>\n",
       "<tr>\n",
       "  <th>Lot Frontage</th>    <td>    2.8067</td> <td>   29.820</td> <td>    0.094</td> <td> 0.925</td> <td>  -55.676</td> <td>   61.290</td>\n",
       "</tr>\n",
       "<tr>\n",
       "  <th>Lot Area</th>        <td>    0.4615</td> <td>    0.109</td> <td>    4.235</td> <td> 0.000</td> <td>    0.248</td> <td>    0.675</td>\n",
       "</tr>\n",
       "<tr>\n",
       "  <th>Street</th>          <td> 4055.4108</td> <td> 7363.593</td> <td>    0.551</td> <td> 0.582</td> <td>-1.04e+04</td> <td> 1.85e+04</td>\n",
       "</tr>\n",
       "<tr>\n",
       "  <th>Lot Shape</th>       <td> -203.0686</td> <td>  885.041</td> <td>   -0.229</td> <td> 0.819</td> <td>-1938.829</td> <td> 1532.692</td>\n",
       "</tr>\n",
       "<tr>\n",
       "  <th>Land Contour</th>    <td> 1911.5212</td> <td> 1067.037</td> <td>    1.791</td> <td> 0.073</td> <td> -181.174</td> <td> 4004.216</td>\n",
       "</tr>\n",
       "<tr>\n",
       "  <th>Utilities</th>       <td>   1.6e+04</td> <td> 8660.177</td> <td>    1.847</td> <td> 0.065</td> <td> -987.403</td> <td>  3.3e+04</td>\n",
       "</tr>\n",
       "<tr>\n",
       "  <th>Lot Config</th>      <td>  322.8136</td> <td>  399.545</td> <td>    0.808</td> <td> 0.419</td> <td> -460.782</td> <td> 1106.410</td>\n",
       "</tr>\n",
       "<tr>\n",
       "  <th>Land Slope</th>      <td>-3109.2832</td> <td> 2020.367</td> <td>   -1.539</td> <td> 0.124</td> <td>-7071.669</td> <td>  853.103</td>\n",
       "</tr>\n",
       "<tr>\n",
       "  <th>Neighborhood</th>    <td> 1099.5704</td> <td>  114.779</td> <td>    9.580</td> <td> 0.000</td> <td>  874.463</td> <td> 1324.678</td>\n",
       "</tr>\n",
       "<tr>\n",
       "  <th>Condition 1</th>     <td> 2550.7844</td> <td>  399.321</td> <td>    6.388</td> <td> 0.000</td> <td> 1767.629</td> <td> 3333.940</td>\n",
       "</tr>\n",
       "<tr>\n",
       "  <th>Condition 2</th>     <td> 1230.3506</td> <td> 1651.991</td> <td>    0.745</td> <td> 0.457</td> <td>-2009.569</td> <td> 4470.270</td>\n",
       "</tr>\n",
       "<tr>\n",
       "  <th>Bldg Type</th>       <td> -594.4687</td> <td>  778.087</td> <td>   -0.764</td> <td> 0.445</td> <td>-2120.468</td> <td>  931.531</td>\n",
       "</tr>\n",
       "<tr>\n",
       "  <th>House Style</th>     <td> -861.4042</td> <td>  342.980</td> <td>   -2.512</td> <td> 0.012</td> <td>-1534.064</td> <td> -188.745</td>\n",
       "</tr>\n",
       "<tr>\n",
       "  <th>Overall Qual</th>    <td> 8454.2016</td> <td>  602.266</td> <td>   14.037</td> <td> 0.000</td> <td> 7273.026</td> <td> 9635.377</td>\n",
       "</tr>\n",
       "<tr>\n",
       "  <th>Overall Cond</th>    <td> 4764.6640</td> <td>  533.568</td> <td>    8.930</td> <td> 0.000</td> <td> 3718.219</td> <td> 5811.109</td>\n",
       "</tr>\n",
       "<tr>\n",
       "  <th>Year Built</th>      <td>   23.4574</td> <td>   24.124</td> <td>    0.972</td> <td> 0.331</td> <td>  -23.856</td> <td>   70.771</td>\n",
       "</tr>\n",
       "<tr>\n",
       "  <th>Year Remod/Add</th>  <td>   77.2963</td> <td>   34.365</td> <td>    2.249</td> <td> 0.025</td> <td>    9.899</td> <td>  144.694</td>\n",
       "</tr>\n",
       "<tr>\n",
       "  <th>Roof Style</th>      <td> 2131.5108</td> <td> 1001.248</td> <td>    2.129</td> <td> 0.033</td> <td>  167.842</td> <td> 4095.179</td>\n",
       "</tr>\n",
       "<tr>\n",
       "  <th>Mas Vnr Area</th>    <td>    2.9276</td> <td>    3.228</td> <td>    0.907</td> <td> 0.365</td> <td>   -3.404</td> <td>    9.259</td>\n",
       "</tr>\n",
       "<tr>\n",
       "  <th>Exter Qual</th>      <td> 7659.8924</td> <td> 1357.596</td> <td>    5.642</td> <td> 0.000</td> <td> 4997.348</td> <td> 1.03e+04</td>\n",
       "</tr>\n",
       "<tr>\n",
       "  <th>Exter Cond</th>      <td>-1319.4471</td> <td> 1284.641</td> <td>   -1.027</td> <td> 0.305</td> <td>-3838.911</td> <td> 1200.016</td>\n",
       "</tr>\n",
       "<tr>\n",
       "  <th>Foundation</th>      <td> 1016.5092</td> <td>  487.221</td> <td>    2.086</td> <td> 0.037</td> <td>   60.961</td> <td> 1972.057</td>\n",
       "</tr>\n",
       "<tr>\n",
       "  <th>Bsmt Qual</th>       <td> 1303.5284</td> <td> 1003.015</td> <td>    1.300</td> <td> 0.194</td> <td> -663.605</td> <td> 3270.661</td>\n",
       "</tr>\n",
       "<tr>\n",
       "  <th>Bsmt Cond</th>       <td>-3220.3304</td> <td> 1189.255</td> <td>   -2.708</td> <td> 0.007</td> <td>-5552.721</td> <td> -887.940</td>\n",
       "</tr>\n",
       "<tr>\n",
       "  <th>Bsmt Exposure</th>   <td> 1488.4679</td> <td>  361.445</td> <td>    4.118</td> <td> 0.000</td> <td>  779.595</td> <td> 2197.341</td>\n",
       "</tr>\n",
       "<tr>\n",
       "  <th>BsmtFin Type 1</th>  <td>   14.6181</td> <td>  331.710</td> <td>    0.044</td> <td> 0.965</td> <td> -635.938</td> <td>  665.174</td>\n",
       "</tr>\n",
       "<tr>\n",
       "  <th>BsmtFin SF 1</th>    <td>   13.5616</td> <td>    1.664</td> <td>    8.148</td> <td> 0.000</td> <td>   10.297</td> <td>   16.826</td>\n",
       "</tr>\n",
       "<tr>\n",
       "  <th>BsmtFin Type 2</th>  <td> -155.2595</td> <td>  738.933</td> <td>   -0.210</td> <td> 0.834</td> <td>-1604.471</td> <td> 1293.952</td>\n",
       "</tr>\n",
       "<tr>\n",
       "  <th>BsmtFin SF 2</th>    <td>    1.2520</td> <td>    3.224</td> <td>    0.388</td> <td> 0.698</td> <td>   -5.070</td> <td>    7.574</td>\n",
       "</tr>\n",
       "<tr>\n",
       "  <th>Bsmt Unf SF</th>     <td>   -1.6119</td> <td>    1.468</td> <td>   -1.098</td> <td> 0.272</td> <td>   -4.491</td> <td>    1.267</td>\n",
       "</tr>\n",
       "<tr>\n",
       "  <th>Total Bsmt SF</th>   <td>   13.2017</td> <td>    2.006</td> <td>    6.582</td> <td> 0.000</td> <td>    9.268</td> <td>   17.135</td>\n",
       "</tr>\n",
       "<tr>\n",
       "  <th>Heating QC</th>      <td> 2219.4591</td> <td>  574.918</td> <td>    3.860</td> <td> 0.000</td> <td> 1091.918</td> <td> 3347.000</td>\n",
       "</tr>\n",
       "<tr>\n",
       "  <th>Central Air</th>     <td>-4430.0085</td> <td> 2065.553</td> <td>   -2.145</td> <td> 0.032</td> <td>-8481.014</td> <td> -379.003</td>\n",
       "</tr>\n",
       "<tr>\n",
       "  <th>Electrical</th>      <td>-2469.3320</td> <td> 1186.904</td> <td>   -2.080</td> <td> 0.038</td> <td>-4797.113</td> <td> -141.551</td>\n",
       "</tr>\n",
       "<tr>\n",
       "  <th>1st Flr SF</th>      <td>   17.4754</td> <td>    2.824</td> <td>    6.188</td> <td> 0.000</td> <td>   11.937</td> <td>   23.014</td>\n",
       "</tr>\n",
       "<tr>\n",
       "  <th>2nd Flr SF</th>      <td>   19.5254</td> <td>    2.635</td> <td>    7.409</td> <td> 0.000</td> <td>   14.357</td> <td>   24.694</td>\n",
       "</tr>\n",
       "<tr>\n",
       "  <th>Low Qual Fin SF</th> <td>   -7.8737</td> <td>    6.609</td> <td>   -1.191</td> <td> 0.234</td> <td>  -20.835</td> <td>    5.088</td>\n",
       "</tr>\n",
       "<tr>\n",
       "  <th>Gr Liv Area</th>     <td>   29.1271</td> <td>    2.683</td> <td>   10.857</td> <td> 0.000</td> <td>   23.865</td> <td>   34.389</td>\n",
       "</tr>\n",
       "<tr>\n",
       "  <th>Bsmt Full Bath</th>  <td> 4346.6637</td> <td> 1228.946</td> <td>    3.537</td> <td> 0.000</td> <td> 1936.429</td> <td> 6756.898</td>\n",
       "</tr>\n",
       "<tr>\n",
       "  <th>Bsmt Half Bath</th>  <td>-1281.7331</td> <td> 1812.555</td> <td>   -0.707</td> <td> 0.480</td> <td>-4836.554</td> <td> 2273.088</td>\n",
       "</tr>\n",
       "<tr>\n",
       "  <th>Full Bath</th>       <td>  454.5286</td> <td> 1298.437</td> <td>    0.350</td> <td> 0.726</td> <td>-2091.992</td> <td> 3001.049</td>\n",
       "</tr>\n",
       "<tr>\n",
       "  <th>Half Bath</th>       <td>-1353.9902</td> <td> 1292.328</td> <td>   -1.048</td> <td> 0.295</td> <td>-3888.531</td> <td> 1180.551</td>\n",
       "</tr>\n",
       "<tr>\n",
       "  <th>Bedroom AbvGr</th>   <td>-2729.3159</td> <td>  829.102</td> <td>   -3.292</td> <td> 0.001</td> <td>-4355.369</td> <td>-1103.263</td>\n",
       "</tr>\n",
       "<tr>\n",
       "  <th>Kitchen AbvGr</th>   <td>-1.001e+04</td> <td> 2694.036</td> <td>   -3.716</td> <td> 0.000</td> <td>-1.53e+04</td> <td>-4727.929</td>\n",
       "</tr>\n",
       "<tr>\n",
       "  <th>Kitchen Qual</th>    <td> 5912.0254</td> <td> 1052.635</td> <td>    5.616</td> <td> 0.000</td> <td> 3847.576</td> <td> 7976.475</td>\n",
       "</tr>\n",
       "<tr>\n",
       "  <th>TotRms AbvGrd</th>   <td>  747.5082</td> <td>  599.910</td> <td>    1.246</td> <td> 0.213</td> <td> -429.047</td> <td> 1924.064</td>\n",
       "</tr>\n",
       "<tr>\n",
       "  <th>Functional</th>      <td> 5129.5298</td> <td>  669.464</td> <td>    7.662</td> <td> 0.000</td> <td> 3816.564</td> <td> 6442.496</td>\n",
       "</tr>\n",
       "<tr>\n",
       "  <th>Fireplaces</th>      <td> 2528.5603</td> <td> 1500.300</td> <td>    1.685</td> <td> 0.092</td> <td> -413.859</td> <td> 5470.980</td>\n",
       "</tr>\n",
       "<tr>\n",
       "  <th>Fireplace Qu</th>    <td> 1474.1836</td> <td>  525.086</td> <td>    2.808</td> <td> 0.005</td> <td>  444.374</td> <td> 2503.993</td>\n",
       "</tr>\n",
       "<tr>\n",
       "  <th>Garage Type</th>     <td> -395.2383</td> <td>  424.745</td> <td>   -0.931</td> <td> 0.352</td> <td>-1228.257</td> <td>  437.781</td>\n",
       "</tr>\n",
       "<tr>\n",
       "  <th>Garage Yr Blt</th>   <td>   -9.3692</td> <td>   34.240</td> <td>   -0.274</td> <td> 0.784</td> <td>  -76.522</td> <td>   57.783</td>\n",
       "</tr>\n",
       "<tr>\n",
       "  <th>Garage Finish</th>   <td> 1056.7575</td> <td>  747.392</td> <td>    1.414</td> <td> 0.158</td> <td> -409.044</td> <td> 2522.559</td>\n",
       "</tr>\n",
       "<tr>\n",
       "  <th>Garage Cars</th>     <td> 1626.3213</td> <td> 1454.120</td> <td>    1.118</td> <td> 0.264</td> <td>-1225.529</td> <td> 4478.171</td>\n",
       "</tr>\n",
       "<tr>\n",
       "  <th>Garage Area</th>     <td>   22.2543</td> <td>    5.174</td> <td>    4.301</td> <td> 0.000</td> <td>   12.106</td> <td>   32.403</td>\n",
       "</tr>\n",
       "<tr>\n",
       "  <th>Garage Qual</th>     <td>-1929.6697</td> <td> 1960.272</td> <td>   -0.984</td> <td> 0.325</td> <td>-5774.196</td> <td> 1914.857</td>\n",
       "</tr>\n",
       "<tr>\n",
       "  <th>Garage Cond</th>     <td>-1196.2185</td> <td> 1987.138</td> <td>   -0.602</td> <td> 0.547</td> <td>-5093.435</td> <td> 2700.998</td>\n",
       "</tr>\n",
       "<tr>\n",
       "  <th>Paved Drive</th>     <td>  537.3025</td> <td>  998.096</td> <td>    0.538</td> <td> 0.590</td> <td>-1420.184</td> <td> 2494.789</td>\n",
       "</tr>\n",
       "<tr>\n",
       "  <th>Wood Deck SF</th>    <td>    7.4589</td> <td>    3.834</td> <td>    1.946</td> <td> 0.052</td> <td>   -0.060</td> <td>   14.978</td>\n",
       "</tr>\n",
       "<tr>\n",
       "  <th>Open Porch SF</th>   <td>   21.0868</td> <td>    7.204</td> <td>    2.927</td> <td> 0.003</td> <td>    6.958</td> <td>   35.215</td>\n",
       "</tr>\n",
       "<tr>\n",
       "  <th>Enclosed Porch</th>  <td>    9.5856</td> <td>    7.839</td> <td>    1.223</td> <td> 0.222</td> <td>   -5.789</td> <td>   24.960</td>\n",
       "</tr>\n",
       "<tr>\n",
       "  <th>3Ssn Porch</th>      <td>    7.2368</td> <td>   17.360</td> <td>    0.417</td> <td> 0.677</td> <td>  -26.809</td> <td>   41.283</td>\n",
       "</tr>\n",
       "<tr>\n",
       "  <th>Screen Porch</th>    <td>   32.3203</td> <td>    8.029</td> <td>    4.025</td> <td> 0.000</td> <td>   16.573</td> <td>   48.068</td>\n",
       "</tr>\n",
       "<tr>\n",
       "  <th>Pool Area</th>       <td>    6.4799</td> <td>   11.853</td> <td>    0.547</td> <td> 0.585</td> <td>  -16.767</td> <td>   29.727</td>\n",
       "</tr>\n",
       "<tr>\n",
       "  <th>Misc Val</th>        <td>    0.3890</td> <td>    0.971</td> <td>    0.400</td> <td> 0.689</td> <td>   -1.516</td> <td>    2.294</td>\n",
       "</tr>\n",
       "<tr>\n",
       "  <th>Mo Sold</th>         <td>  104.7569</td> <td>  156.120</td> <td>    0.671</td> <td> 0.502</td> <td> -201.428</td> <td>  410.942</td>\n",
       "</tr>\n",
       "<tr>\n",
       "  <th>Yr Sold</th>         <td> -164.0100</td> <td>   26.617</td> <td>   -6.162</td> <td> 0.000</td> <td> -216.211</td> <td> -111.809</td>\n",
       "</tr>\n",
       "<tr>\n",
       "  <th>HouseAge</th>        <td> -187.4674</td> <td>   24.182</td> <td>   -7.752</td> <td> 0.000</td> <td> -234.894</td> <td> -140.041</td>\n",
       "</tr>\n",
       "</table>\n",
       "<table class=\"simpletable\">\n",
       "<tr>\n",
       "  <th>Omnibus:</th>       <td>181.752</td> <th>  Durbin-Watson:     </th> <td>   1.940</td> \n",
       "</tr>\n",
       "<tr>\n",
       "  <th>Prob(Omnibus):</th> <td> 0.000</td>  <th>  Jarque-Bera (JB):  </th> <td>1235.686</td> \n",
       "</tr>\n",
       "<tr>\n",
       "  <th>Skew:</th>          <td> 0.048</td>  <th>  Prob(JB):          </th> <td>4.72e-269</td>\n",
       "</tr>\n",
       "<tr>\n",
       "  <th>Kurtosis:</th>      <td> 6.894</td>  <th>  Cond. No.          </th> <td>1.31e+16</td> \n",
       "</tr>\n",
       "</table><br/><br/>Notes:<br/>[1] R² is computed without centering (uncentered) since the model does not contain a constant.<br/>[2] Standard Errors assume that the covariance matrix of the errors is correctly specified.<br/>[3] The smallest eigenvalue is 1.73e-21. This might indicate that there are<br/>strong multicollinearity problems or that the design matrix is singular."
      ],
      "text/plain": [
       "<class 'statsmodels.iolib.summary.Summary'>\n",
       "\"\"\"\n",
       "                                 OLS Regression Results                                \n",
       "=======================================================================================\n",
       "Dep. Variable:              SalePrice   R-squared (uncentered):                   0.990\n",
       "Model:                            OLS   Adj. R-squared (uncentered):              0.989\n",
       "Method:                 Least Squares   F-statistic:                              2760.\n",
       "Date:                Fri, 28 Jan 2022   Prob (F-statistic):                        0.00\n",
       "Time:                        01:19:01   Log-Likelihood:                         -21959.\n",
       "No. Observations:                1955   AIC:                                  4.405e+04\n",
       "Df Residuals:                    1889   BIC:                                  4.442e+04\n",
       "Df Model:                          66                                                  \n",
       "Covariance Type:            nonrobust                                                  \n",
       "===================================================================================\n",
       "                      coef    std err          t      P>|t|      [0.025      0.975]\n",
       "-----------------------------------------------------------------------------------\n",
       "MS SubClass       -92.1250     13.669     -6.740      0.000    -118.933     -65.317\n",
       "MS Zoning         -15.9908    687.765     -0.023      0.981   -1364.849    1332.867\n",
       "Lot Frontage        2.8067     29.820      0.094      0.925     -55.676      61.290\n",
       "Lot Area            0.4615      0.109      4.235      0.000       0.248       0.675\n",
       "Street           4055.4108   7363.593      0.551      0.582   -1.04e+04    1.85e+04\n",
       "Lot Shape        -203.0686    885.041     -0.229      0.819   -1938.829    1532.692\n",
       "Land Contour     1911.5212   1067.037      1.791      0.073    -181.174    4004.216\n",
       "Utilities          1.6e+04   8660.177      1.847      0.065    -987.403     3.3e+04\n",
       "Lot Config        322.8136    399.545      0.808      0.419    -460.782    1106.410\n",
       "Land Slope      -3109.2832   2020.367     -1.539      0.124   -7071.669     853.103\n",
       "Neighborhood     1099.5704    114.779      9.580      0.000     874.463    1324.678\n",
       "Condition 1      2550.7844    399.321      6.388      0.000    1767.629    3333.940\n",
       "Condition 2      1230.3506   1651.991      0.745      0.457   -2009.569    4470.270\n",
       "Bldg Type        -594.4687    778.087     -0.764      0.445   -2120.468     931.531\n",
       "House Style      -861.4042    342.980     -2.512      0.012   -1534.064    -188.745\n",
       "Overall Qual     8454.2016    602.266     14.037      0.000    7273.026    9635.377\n",
       "Overall Cond     4764.6640    533.568      8.930      0.000    3718.219    5811.109\n",
       "Year Built         23.4574     24.124      0.972      0.331     -23.856      70.771\n",
       "Year Remod/Add     77.2963     34.365      2.249      0.025       9.899     144.694\n",
       "Roof Style       2131.5108   1001.248      2.129      0.033     167.842    4095.179\n",
       "Mas Vnr Area        2.9276      3.228      0.907      0.365      -3.404       9.259\n",
       "Exter Qual       7659.8924   1357.596      5.642      0.000    4997.348    1.03e+04\n",
       "Exter Cond      -1319.4471   1284.641     -1.027      0.305   -3838.911    1200.016\n",
       "Foundation       1016.5092    487.221      2.086      0.037      60.961    1972.057\n",
       "Bsmt Qual        1303.5284   1003.015      1.300      0.194    -663.605    3270.661\n",
       "Bsmt Cond       -3220.3304   1189.255     -2.708      0.007   -5552.721    -887.940\n",
       "Bsmt Exposure    1488.4679    361.445      4.118      0.000     779.595    2197.341\n",
       "BsmtFin Type 1     14.6181    331.710      0.044      0.965    -635.938     665.174\n",
       "BsmtFin SF 1       13.5616      1.664      8.148      0.000      10.297      16.826\n",
       "BsmtFin Type 2   -155.2595    738.933     -0.210      0.834   -1604.471    1293.952\n",
       "BsmtFin SF 2        1.2520      3.224      0.388      0.698      -5.070       7.574\n",
       "Bsmt Unf SF        -1.6119      1.468     -1.098      0.272      -4.491       1.267\n",
       "Total Bsmt SF      13.2017      2.006      6.582      0.000       9.268      17.135\n",
       "Heating QC       2219.4591    574.918      3.860      0.000    1091.918    3347.000\n",
       "Central Air     -4430.0085   2065.553     -2.145      0.032   -8481.014    -379.003\n",
       "Electrical      -2469.3320   1186.904     -2.080      0.038   -4797.113    -141.551\n",
       "1st Flr SF         17.4754      2.824      6.188      0.000      11.937      23.014\n",
       "2nd Flr SF         19.5254      2.635      7.409      0.000      14.357      24.694\n",
       "Low Qual Fin SF    -7.8737      6.609     -1.191      0.234     -20.835       5.088\n",
       "Gr Liv Area        29.1271      2.683     10.857      0.000      23.865      34.389\n",
       "Bsmt Full Bath   4346.6637   1228.946      3.537      0.000    1936.429    6756.898\n",
       "Bsmt Half Bath  -1281.7331   1812.555     -0.707      0.480   -4836.554    2273.088\n",
       "Full Bath         454.5286   1298.437      0.350      0.726   -2091.992    3001.049\n",
       "Half Bath       -1353.9902   1292.328     -1.048      0.295   -3888.531    1180.551\n",
       "Bedroom AbvGr   -2729.3159    829.102     -3.292      0.001   -4355.369   -1103.263\n",
       "Kitchen AbvGr   -1.001e+04   2694.036     -3.716      0.000   -1.53e+04   -4727.929\n",
       "Kitchen Qual     5912.0254   1052.635      5.616      0.000    3847.576    7976.475\n",
       "TotRms AbvGrd     747.5082    599.910      1.246      0.213    -429.047    1924.064\n",
       "Functional       5129.5298    669.464      7.662      0.000    3816.564    6442.496\n",
       "Fireplaces       2528.5603   1500.300      1.685      0.092    -413.859    5470.980\n",
       "Fireplace Qu     1474.1836    525.086      2.808      0.005     444.374    2503.993\n",
       "Garage Type      -395.2383    424.745     -0.931      0.352   -1228.257     437.781\n",
       "Garage Yr Blt      -9.3692     34.240     -0.274      0.784     -76.522      57.783\n",
       "Garage Finish    1056.7575    747.392      1.414      0.158    -409.044    2522.559\n",
       "Garage Cars      1626.3213   1454.120      1.118      0.264   -1225.529    4478.171\n",
       "Garage Area        22.2543      5.174      4.301      0.000      12.106      32.403\n",
       "Garage Qual     -1929.6697   1960.272     -0.984      0.325   -5774.196    1914.857\n",
       "Garage Cond     -1196.2185   1987.138     -0.602      0.547   -5093.435    2700.998\n",
       "Paved Drive       537.3025    998.096      0.538      0.590   -1420.184    2494.789\n",
       "Wood Deck SF        7.4589      3.834      1.946      0.052      -0.060      14.978\n",
       "Open Porch SF      21.0868      7.204      2.927      0.003       6.958      35.215\n",
       "Enclosed Porch      9.5856      7.839      1.223      0.222      -5.789      24.960\n",
       "3Ssn Porch          7.2368     17.360      0.417      0.677     -26.809      41.283\n",
       "Screen Porch       32.3203      8.029      4.025      0.000      16.573      48.068\n",
       "Pool Area           6.4799     11.853      0.547      0.585     -16.767      29.727\n",
       "Misc Val            0.3890      0.971      0.400      0.689      -1.516       2.294\n",
       "Mo Sold           104.7569    156.120      0.671      0.502    -201.428     410.942\n",
       "Yr Sold          -164.0100     26.617     -6.162      0.000    -216.211    -111.809\n",
       "HouseAge         -187.4674     24.182     -7.752      0.000    -234.894    -140.041\n",
       "==============================================================================\n",
       "Omnibus:                      181.752   Durbin-Watson:                   1.940\n",
       "Prob(Omnibus):                  0.000   Jarque-Bera (JB):             1235.686\n",
       "Skew:                           0.048   Prob(JB):                    4.72e-269\n",
       "Kurtosis:                       6.894   Cond. No.                     1.31e+16\n",
       "==============================================================================\n",
       "\n",
       "Notes:\n",
       "[1] R² is computed without centering (uncentered) since the model does not contain a constant.\n",
       "[2] Standard Errors assume that the covariance matrix of the errors is correctly specified.\n",
       "[3] The smallest eigenvalue is 1.73e-21. This might indicate that there are\n",
       "strong multicollinearity problems or that the design matrix is singular.\n",
       "\"\"\""
      ]
     },
     "execution_count": 9,
     "metadata": {},
     "output_type": "execute_result"
    }
   ],
   "source": [
    "#check the p-value using the OLS from statsmodel.api\n",
    "ols = sm.OLS(y, X).fit()\n",
    "ols.summary()"
   ]
  },
  {
   "cell_type": "markdown",
   "id": "192cfcb0",
   "metadata": {},
   "source": [
    "***below 0.5 p-value ***\n",
    "Lot Area, Utilities,Land Slope,Overall Qual,Overall Cond,Year Built,Exterior 1st,Exterior 2nd,\n",
    "Mas Vnr Type,Mas Vnr Area,Foundation,Bsmt Exposure,BsmtFin SF 1,Total Bsmt SF,1st Flr SF,2nd Flr SF,\n",
    "Gr Liv Area,Gr Liv Area,Bedroom AbvGr,Kitchen AbvGr,Functional,Garage Area"
   ]
  },
  {
   "cell_type": "code",
   "execution_count": 10,
   "id": "a95f0a18",
   "metadata": {},
   "outputs": [],
   "source": [
    "#split the data as train and validation\n",
    "X_train, X_val, y_train, y_val = train_test_split(X,y, test_size=0.2, random_state=52)"
   ]
  },
  {
   "cell_type": "code",
   "execution_count": 11,
   "id": "5418081f",
   "metadata": {},
   "outputs": [],
   "source": [
    "#scale the X\n",
    "ss = StandardScaler()\n",
    "X_train_scaled = ss.fit_transform(X_train)\n",
    "X_val_scaled = ss.transform(X_val)"
   ]
  },
  {
   "cell_type": "code",
   "execution_count": 12,
   "id": "8c59a25f",
   "metadata": {},
   "outputs": [],
   "source": [
    "#store the result of all models\n",
    "df_result = pd.DataFrame(columns=['Model', 'Train Score', 'Val Score'])"
   ]
  },
  {
   "cell_type": "code",
   "execution_count": 13,
   "id": "7ee6b15d",
   "metadata": {},
   "outputs": [],
   "source": [
    "def add_reggression_result(df, model, train_score, val_score):\n",
    "    df_temp = pd.DataFrame([[model, train_score, val_score]], columns=['Model', 'Train Score', 'Val Score'])\n",
    "    df = df.append(df_temp)\n",
    "    return df"
   ]
  },
  {
   "cell_type": "code",
   "execution_count": 14,
   "id": "f71f0257",
   "metadata": {},
   "outputs": [
    {
     "ename": "NameError",
     "evalue": "name 'Pipeline' is not defined",
     "output_type": "error",
     "traceback": [
      "\u001b[0;31m---------------------------------------------------------------------------\u001b[0m",
      "\u001b[0;31mNameError\u001b[0m                                 Traceback (most recent call last)",
      "\u001b[0;32m<ipython-input-14-560bc4c5490a>\u001b[0m in \u001b[0;36m<module>\u001b[0;34m\u001b[0m\n\u001b[1;32m      1\u001b[0m \u001b[0;31m# Instantiate a StandardScaler + kNN pipeline.\u001b[0m\u001b[0;34m\u001b[0m\u001b[0;34m\u001b[0m\u001b[0;34m\u001b[0m\u001b[0m\n\u001b[0;32m----> 2\u001b[0;31m pipeLR =Pipeline([\n\u001b[0m\u001b[1;32m      3\u001b[0m     \u001b[0;34m(\u001b[0m\u001b[0;34m'ss'\u001b[0m\u001b[0;34m,\u001b[0m \u001b[0mStandardScaler\u001b[0m\u001b[0;34m(\u001b[0m\u001b[0;34m)\u001b[0m\u001b[0;34m)\u001b[0m\u001b[0;34m,\u001b[0m\u001b[0;34m\u001b[0m\u001b[0;34m\u001b[0m\u001b[0m\n\u001b[1;32m      4\u001b[0m     \u001b[0;34m(\u001b[0m\u001b[0;34m'knn'\u001b[0m\u001b[0;34m,\u001b[0m \u001b[0mKNeighborsClassifier\u001b[0m\u001b[0;34m(\u001b[0m\u001b[0;34m)\u001b[0m\u001b[0;34m)\u001b[0m\u001b[0;34m\u001b[0m\u001b[0;34m\u001b[0m\u001b[0m\n\u001b[1;32m      5\u001b[0m \u001b[0;34m\u001b[0m\u001b[0m\n",
      "\u001b[0;31mNameError\u001b[0m: name 'Pipeline' is not defined"
     ]
    }
   ],
   "source": [
    "# Instantiate a StandardScaler + kNN pipeline.\n",
    "pipeLR =Pipeline([\n",
    "    ('ss', StandardScaler()),\n",
    "    ('knn', KNeighborsClassifier())\n",
    "    \n",
    "])\n",
    "\n",
    "\n",
    "pipeRidge =Pipeline([\n",
    "    ('ss', StandardScaler()),\n",
    "    ('knn', KNeighborsClassifier())\n",
    "    \n",
    "])\n",
    "\n",
    "pipeLasso =Pipeline([\n",
    "    ('ss', StandardScaler()),\n",
    "    ('knn', KNeighborsClassifier())\n",
    "    \n",
    "])"
   ]
  },
  {
   "cell_type": "markdown",
   "id": "921f0205",
   "metadata": {},
   "source": [
    "## Linear Regression"
   ]
  },
  {
   "cell_type": "code",
   "execution_count": 15,
   "id": "9e7d5d56",
   "metadata": {},
   "outputs": [
    {
     "data": {
      "text/plain": [
       "LinearRegression()"
      ]
     },
     "execution_count": 15,
     "metadata": {},
     "output_type": "execute_result"
    }
   ],
   "source": [
    "# Instantiate model.\n",
    "lr = LinearRegression()\n",
    "\n",
    "# Fit model\n",
    "lr.fit(X_train_scaled, y_train)"
   ]
  },
  {
   "cell_type": "code",
   "execution_count": 16,
   "id": "491c4b94",
   "metadata": {},
   "outputs": [
    {
     "name": "stdout",
     "output_type": "stream",
     "text": [
      "337552425.5488553 351421340.68517095\n"
     ]
    },
    {
     "data": {
      "text/html": [
       "<div>\n",
       "<style scoped>\n",
       "    .dataframe tbody tr th:only-of-type {\n",
       "        vertical-align: middle;\n",
       "    }\n",
       "\n",
       "    .dataframe tbody tr th {\n",
       "        vertical-align: top;\n",
       "    }\n",
       "\n",
       "    .dataframe thead th {\n",
       "        text-align: right;\n",
       "    }\n",
       "</style>\n",
       "<table border=\"1\" class=\"dataframe\">\n",
       "  <thead>\n",
       "    <tr style=\"text-align: right;\">\n",
       "      <th></th>\n",
       "      <th>Model</th>\n",
       "      <th>Train Score</th>\n",
       "      <th>Val Score</th>\n",
       "    </tr>\n",
       "  </thead>\n",
       "  <tbody>\n",
       "    <tr>\n",
       "      <th>0</th>\n",
       "      <td>LR</td>\n",
       "      <td>0.904708</td>\n",
       "      <td>0.905552</td>\n",
       "    </tr>\n",
       "  </tbody>\n",
       "</table>\n",
       "</div>"
      ],
      "text/plain": [
       "  Model  Train Score  Val Score\n",
       "0    LR     0.904708   0.905552"
      ]
     },
     "execution_count": 16,
     "metadata": {},
     "output_type": "execute_result"
    }
   ],
   "source": [
    "#R2 on the train set\n",
    "lr_train_score = lr.score(X_train_scaled, y_train)\n",
    "\n",
    "#R2 on the test set\n",
    "lr_val_score = lr.score(X_val_scaled, y_val)\n",
    "\n",
    "#predict train and validation\n",
    "y_pred_train = lr.predict(X_train_scaled)\n",
    "y_pred_val = lr.predict(X_val_scaled)\n",
    "\n",
    "#mean square error for train\n",
    "mse_train = metrics.mean_squared_error(y_pred_train, y_train)\n",
    "\n",
    "#mean square error for val\n",
    "mse_val = metrics.mean_squared_error(y_pred_val, y_val)\n",
    "\n",
    "#print(lr_train_score,lr_val_score)\n",
    "print(mse_train,mse_val)\n",
    "\n",
    "#Summary of Score\n",
    "df_result=add_reggression_result(df_result, 'LR', lr_train_score,lr_val_score )\n",
    "df_result\n"
   ]
  },
  {
   "cell_type": "code",
   "execution_count": 17,
   "id": "af23c73f",
   "metadata": {},
   "outputs": [
    {
     "data": {
      "text/plain": [
       "array([-3.46038993e+03,  2.39316023e+02, -3.79109716e+02,  4.30884171e+03,\n",
       "        2.89677923e+02, -1.21349579e+01,  5.01849855e+02,  9.39920242e+02,\n",
       "        4.34538652e+02, -5.26890389e+02,  7.04008915e+03,  2.89370884e+03,\n",
       "        3.72546425e+01, -5.07612382e+02, -1.38991952e+03,  1.18259351e+04,\n",
       "        5.92273807e+03, -5.58875299e+15,  1.50782287e+03,  9.53035396e+02,\n",
       "        5.11865669e+01,  3.82639951e+03, -8.01398051e+02,  1.76306369e+03,\n",
       "        1.12559149e+03, -2.08520008e+03,  1.83416391e+03, -1.47172244e+02,\n",
       "        3.74972781e+15, -9.27275730e+02,  1.55779211e+15,  3.99659000e+15,\n",
       "       -3.60655238e+15,  1.94723726e+03, -1.17858969e+03, -1.01714649e+03,\n",
       "       -1.54933486e+15, -1.80714941e+15, -2.21264231e+14,  1.95696446e+15,\n",
       "        2.12722755e+03, -1.58459942e+02, -4.64300695e+02, -8.56903470e+02,\n",
       "       -2.31732913e+03, -2.57296527e+03,  3.74714096e+03,  1.59123790e+03,\n",
       "        3.87107937e+03,  1.47448076e+03,  2.17860641e+03, -7.76818674e+02,\n",
       "       -5.06000364e+01,  7.44426969e+02,  1.91608531e+03,  4.09595033e+03,\n",
       "       -1.66438487e+03, -5.82584941e+02,  4.98435839e+02,  9.67820439e+02,\n",
       "        1.05238885e+03,  9.80029970e+02,  2.62028486e+02,  2.04861888e+03,\n",
       "        9.55705683e+02,  1.09018174e+02,  2.36176918e+02,  2.45389353e+14,\n",
       "       -5.60002892e+15])"
      ]
     },
     "execution_count": 17,
     "metadata": {},
     "output_type": "execute_result"
    }
   ],
   "source": [
    "lr.coef_"
   ]
  },
  {
   "cell_type": "code",
   "execution_count": 18,
   "id": "8fc90100",
   "metadata": {},
   "outputs": [
    {
     "data": {
      "text/plain": [
       "170091.35487071224"
      ]
     },
     "execution_count": 18,
     "metadata": {},
     "output_type": "execute_result"
    }
   ],
   "source": [
    "lr.intercept_"
   ]
  },
  {
   "cell_type": "markdown",
   "id": "65b9b5a3",
   "metadata": {},
   "source": [
    "## Ridge"
   ]
  },
  {
   "cell_type": "code",
   "execution_count": null,
   "id": "db67db0b",
   "metadata": {},
   "outputs": [],
   "source": []
  },
  {
   "cell_type": "code",
   "execution_count": 20,
   "id": "e86fe084",
   "metadata": {},
   "outputs": [],
   "source": [
    "from scipy.stats import uniform \n",
    "from sklearn.model_selection import RandomizedSearchCV\n",
    "\n",
    "param_grid = {'alpha': uniform()}\n",
    "\n",
    "model = Lasso()\n",
    "rand_search = RandomizedSearchCV(estimator=model, \n",
    "                                 param_distributions=param_grid,\n",
    "                                 n_iter=100)\n",
    "\n",
    "rand_search.fit(X_train_scaled, y_train);\n",
    "\n"
   ]
  },
  {
   "cell_type": "code",
   "execution_count": 21,
   "id": "16252d94",
   "metadata": {},
   "outputs": [
    {
     "name": "stdout",
     "output_type": "stream",
     "text": [
      "0.9903377117485532\n",
      "0.8907997498311531\n"
     ]
    }
   ],
   "source": [
    "print(rand_search.best_estimator_.alpha)\n",
    "print(rand_search.best_score_)"
   ]
  },
  {
   "cell_type": "code",
   "execution_count": 22,
   "id": "db162fe1",
   "metadata": {},
   "outputs": [
    {
     "data": {
      "text/plain": [
       "Ridge(alpha=0.9903377117485532)"
      ]
     },
     "execution_count": 22,
     "metadata": {},
     "output_type": "execute_result"
    }
   ],
   "source": [
    "# Set up a list of alphas to check.\n",
    "r_alphas = np.logspace(0, 0.5, 500)\n",
    "\n",
    "# Instantiate model.\n",
    "ridge = Ridge(alpha=rand_search.best_estimator_.alpha)\n",
    "\n",
    "# Fit model using optimal alpha.\n",
    "ridge.fit(X_train_scaled, y_train)"
   ]
  },
  {
   "cell_type": "code",
   "execution_count": 23,
   "id": "26f2e7a9",
   "metadata": {},
   "outputs": [
    {
     "data": {
      "text/plain": [
       "0.9047073920055884"
      ]
     },
     "execution_count": 23,
     "metadata": {},
     "output_type": "execute_result"
    }
   ],
   "source": [
    "#check the optmize alpa\n",
    "ridge.score(X_train_scaled, y_train)"
   ]
  },
  {
   "cell_type": "code",
   "execution_count": 24,
   "id": "3b9a26b1",
   "metadata": {},
   "outputs": [
    {
     "data": {
      "text/plain": [
       "0.9055977199020973"
      ]
     },
     "execution_count": 24,
     "metadata": {},
     "output_type": "execute_result"
    }
   ],
   "source": [
    "ridge.score(X_val_scaled, y_val)"
   ]
  },
  {
   "cell_type": "code",
   "execution_count": null,
   "id": "d1dd34e1",
   "metadata": {},
   "outputs": [],
   "source": [
    "#instantiate using the optimize alpha\n",
    "ridge_model = Ridge(5.0)\n",
    "\n",
    "# Fit model using optimal alpha.\n",
    "ridge_model.fit(X_train_poly_scaled, y_train)"
   ]
  },
  {
   "cell_type": "code",
   "execution_count": null,
   "id": "a50e9c2c",
   "metadata": {},
   "outputs": [],
   "source": [
    "# Evaluate model.\n",
    "ridge_train_score = ridge_model.score(X_train_poly_scaled, y_train)\n",
    "ridge_val_score = ridge_model.score(X_val_scaled, y_val)\n",
    "\n",
    "\n",
    "#Summary of Score\n",
    "df_result=add_reggression_result(df_result, 'Ridge', ridge_train_score, ridge_val_score)\n",
    "df_result"
   ]
  },
  {
   "cell_type": "code",
   "execution_count": null,
   "id": "a134def2",
   "metadata": {},
   "outputs": [],
   "source": [
    "df_result"
   ]
  },
  {
   "cell_type": "code",
   "execution_count": null,
   "id": "6afe930c",
   "metadata": {},
   "outputs": [],
   "source": [
    "alphas = np.array([5, 3.16, 0.5, 0.05, 0.005, 0.0005, 1, 0.1, 0.01,0.001, 0.0001, 0 ])\n",
    "\n",
    "model = Ridge()\n",
    "grid = GridSearchCV(estimator=model, param_grid=dict(alpha=alphas))\n",
    "\n",
    "grid.fit(X_train_scaled, y_train)\n",
    "\n",
    "print(grid.best_estimator_.alpha)\n",
    "print(grid.best_score_)"
   ]
  },
  {
   "cell_type": "code",
   "execution_count": null,
   "id": "5a044aeb",
   "metadata": {},
   "outputs": [],
   "source": [
    "ridge_model.coef_"
   ]
  },
  {
   "cell_type": "markdown",
   "id": "c8e664d7",
   "metadata": {},
   "source": [
    "## LASSO"
   ]
  },
  {
   "cell_type": "code",
   "execution_count": null,
   "id": "32476298",
   "metadata": {},
   "outputs": [],
   "source": [
    "poly = PolynomialFeatures(\n",
    "    degree = 2, include_bias = False, interaction_only = False)"
   ]
  },
  {
   "cell_type": "code",
   "execution_count": null,
   "id": "2f4dc84f",
   "metadata": {},
   "outputs": [],
   "source": [
    "X_train_poly = poly.fit_transform(X_train)\n",
    "polynomial_column_names = poly.get_feature_names(input_features = X_train.columns)\n",
    "X_train_poly = pd.DataFrame(data = X_train_poly, columns = polynomial_column_names )"
   ]
  },
  {
   "cell_type": "code",
   "execution_count": null,
   "id": "44969631",
   "metadata": {},
   "outputs": [],
   "source": [
    "X_train_poly.shape"
   ]
  },
  {
   "cell_type": "code",
   "execution_count": null,
   "id": "e01b1b34",
   "metadata": {},
   "outputs": [],
   "source": [
    "sc = StandardScaler()\n",
    "X_train_poly_scaled = sc.fit_transform(X_train_poly)\n",
    "X_train_poly_scaled = pd.DataFrame(data = X_train_poly_scaled, columns = X_train_poly.columns)"
   ]
  },
  {
   "cell_type": "code",
   "execution_count": null,
   "id": "fafa939a",
   "metadata": {},
   "outputs": [],
   "source": [
    "X_val_poly = poly.transform(X_val)\n",
    "X_val_poly_scaled = sc.transform(X_val_poly)"
   ]
  },
  {
   "cell_type": "code",
   "execution_count": null,
   "id": "a9610953",
   "metadata": {},
   "outputs": [],
   "source": [
    "cv = KFold(n_splits=5, shuffle=True, random_state=52)"
   ]
  },
  {
   "cell_type": "code",
   "execution_count": null,
   "id": "02d1973e",
   "metadata": {},
   "outputs": [],
   "source": [
    "lasso_alphas = np.linspace(0, 0.02, 11)"
   ]
  },
  {
   "cell_type": "code",
   "execution_count": null,
   "id": "a8800120",
   "metadata": {},
   "outputs": [],
   "source": [
    "chosen_alpha, max_validation_score, test_score_at_chosen_alpha = \\\n",
    "    regmodel_param_test(\n",
    "        lasso_alphas, X_train_poly_scaled, y_train, \n",
    "        cv, scoring = 'r2', model_name = 'LASSO', \n",
    "        X_test = X_val_poly_scaled, y_test = y_val, \n",
    "        draw_plot = True, filename = 'lasso_wide_search')\n",
    "print(\"Chosen alpha: %.5f\" % \\\n",
    "    chosen_alpha)\n",
    "print(\"Validation score: %.5f\" % \\\n",
    "    max_validation_score)\n",
    "print(\"Test score at chosen alpha: %.5f\" % \\\n",
    "    test_score_at_chosen_alpha)"
   ]
  },
  {
   "cell_type": "code",
   "execution_count": null,
   "id": "ea859940",
   "metadata": {},
   "outputs": [],
   "source": [
    "# Set up a list of alphas to check.\n",
    "l_alphas = np.logspace(0, 0.5, 500)\n",
    "\n",
    "# Instantiate model.\n",
    "lasso_cv = LassoCV(alphas=l_alphas, max_iter=5000, cv=5)"
   ]
  },
  {
   "cell_type": "code",
   "execution_count": null,
   "id": "1a34edec",
   "metadata": {},
   "outputs": [],
   "source": [
    "# Fit model\n",
    "lasso_cv.fit(X_train_scaled, y_train)"
   ]
  },
  {
   "cell_type": "code",
   "execution_count": null,
   "id": "80534751",
   "metadata": {},
   "outputs": [],
   "source": [
    "#check the optimize alpha\n",
    "lasso_cv.alpha_"
   ]
  },
  {
   "cell_type": "code",
   "execution_count": null,
   "id": "7a4430f4",
   "metadata": {},
   "outputs": [],
   "source": [
    "# Instantiate and Fit model using optimal alpha.\n",
    "lasso_model = Lasso(5.0)\n",
    "lasso_model.fit(X_train_scaled, y_train)"
   ]
  },
  {
   "cell_type": "code",
   "execution_count": null,
   "id": "48677bce",
   "metadata": {},
   "outputs": [],
   "source": [
    "# Evaluate model.\n",
    "lasso_train_score = lasso_model.score(X_train_scaled, y_train)\n",
    "lasso_test_score = lasso_model.score(X_val_scaled, y_val)\n",
    "\n",
    "#Summary of Score\n",
    "df_result=add_reggression_result(df_result, 'Lasso', lasso_train_score, lasso_test_score)\n",
    "df_result"
   ]
  },
  {
   "cell_type": "code",
   "execution_count": null,
   "id": "f1fd8008",
   "metadata": {},
   "outputs": [],
   "source": [
    "lasso_model.coef_"
   ]
  },
  {
   "cell_type": "markdown",
   "id": "d394acc9",
   "metadata": {},
   "source": [
    "## ElasticNet"
   ]
  },
  {
   "cell_type": "code",
   "execution_count": null,
   "id": "cda3fa73",
   "metadata": {},
   "outputs": [],
   "source": [
    "# Set up a list of alphas to check.\n",
    "enet_alphas = np.linspace(0.5, 1.0, 100)\n",
    "\n",
    "# Set up our l1 ratio. (What does this do?)\n",
    "enet_ratio = 0.5\n",
    "\n",
    "# Instantiate model.\n",
    "enet_model = ElasticNetCV(alphas=enet_alphas, l1_ratio=enet_ratio, cv=5)\n",
    "\n",
    "# Fit model using optimal alpha.\n",
    "enet_model = enet_model.fit(X_train_scaled, y_train)"
   ]
  },
  {
   "cell_type": "code",
   "execution_count": null,
   "id": "da378c11",
   "metadata": {},
   "outputs": [],
   "source": [
    "\n",
    "# Evaluate model.\n",
    "enet_train_score  = enet_model.score(X_train_scaled, y_train)\n",
    "enet_test_score = enet_model.score(X_val_scaled, y_val)\n",
    "\n",
    "#Summary of Score\n",
    "df_result=add_reggression_result(df_result, 'Elastic Net', enet_train_score, enet_test_score)\n",
    "df_result\n"
   ]
  },
  {
   "cell_type": "code",
   "execution_count": null,
   "id": "5d2e8be3",
   "metadata": {},
   "outputs": [],
   "source": [
    "enet_model.coef_"
   ]
  },
  {
   "cell_type": "code",
   "execution_count": null,
   "id": "02370303",
   "metadata": {},
   "outputs": [],
   "source": [
    "sns.catplot(x = 'Model', y='Val Score', kind='bar', data=df_result)"
   ]
  },
  {
   "cell_type": "code",
   "execution_count": null,
   "id": "fb939ccb",
   "metadata": {},
   "outputs": [],
   "source": []
  },
  {
   "cell_type": "markdown",
   "id": "5846d88f",
   "metadata": {},
   "source": [
    "## PREDICT Test Dataset"
   ]
  },
  {
   "cell_type": "code",
   "execution_count": null,
   "id": "e196c5da",
   "metadata": {},
   "outputs": [],
   "source": [
    "df_test = pd.read_csv(\"../datasets/test_wfeature_all.csv\")"
   ]
  },
  {
   "cell_type": "code",
   "execution_count": null,
   "id": "27021045",
   "metadata": {},
   "outputs": [],
   "source": [
    "df_test.head()"
   ]
  },
  {
   "cell_type": "code",
   "execution_count": null,
   "id": "28b695ae",
   "metadata": {},
   "outputs": [],
   "source": [
    "df_test.drop(columns=['Unnamed: 0'], inplace=True)"
   ]
  },
  {
   "cell_type": "code",
   "execution_count": null,
   "id": "b9b04844",
   "metadata": {},
   "outputs": [],
   "source": [
    "df_test.shape"
   ]
  },
  {
   "cell_type": "code",
   "execution_count": null,
   "id": "0cc7bc1c",
   "metadata": {},
   "outputs": [],
   "source": [
    "#check for NUll values\n",
    "df_test.isnull().sum()[df_test.isnull().sum()>0].sort_values()"
   ]
  },
  {
   "cell_type": "code",
   "execution_count": null,
   "id": "a18560e9",
   "metadata": {},
   "outputs": [],
   "source": [
    "### Define X and Y\n",
    "X = df_test.drop(columns=['Id'])"
   ]
  },
  {
   "cell_type": "code",
   "execution_count": null,
   "id": "d4647ea8",
   "metadata": {},
   "outputs": [],
   "source": [
    "# scale the X\n",
    "sstest = StandardScaler()\n",
    "X_scaled = sstest.fit_transform(X)"
   ]
  },
  {
   "cell_type": "markdown",
   "id": "accb5643",
   "metadata": {},
   "source": [
    "### LR - PREDICT"
   ]
  },
  {
   "cell_type": "code",
   "execution_count": null,
   "id": "7b81ce4e",
   "metadata": {},
   "outputs": [],
   "source": [
    "df_test_lr = df_test.copy()"
   ]
  },
  {
   "cell_type": "code",
   "execution_count": null,
   "id": "c69be04d",
   "metadata": {},
   "outputs": [],
   "source": [
    "df_test_lr['SalePrice'] = lr.predict(X)"
   ]
  },
  {
   "cell_type": "code",
   "execution_count": null,
   "id": "5f8bbc72",
   "metadata": {},
   "outputs": [],
   "source": [
    "df_test_submit = df_test_lr[['Id','SalePrice']]"
   ]
  },
  {
   "cell_type": "code",
   "execution_count": null,
   "id": "cd63f05a",
   "metadata": {},
   "outputs": [],
   "source": [
    "df_test_submit[\"SalePrice\"].hist()"
   ]
  },
  {
   "cell_type": "code",
   "execution_count": null,
   "id": "83eff404",
   "metadata": {},
   "outputs": [],
   "source": [
    "df_test_submit[\"SalePrice\"].head()"
   ]
  },
  {
   "cell_type": "code",
   "execution_count": null,
   "id": "6b1e2834",
   "metadata": {},
   "outputs": [],
   "source": [
    "df_test_submit.to_csv(\"../datasets/submit_lreg.csv\", index=False)"
   ]
  },
  {
   "cell_type": "markdown",
   "id": "240f07e3",
   "metadata": {},
   "source": [
    "### RIDGE - PREDICT"
   ]
  },
  {
   "cell_type": "code",
   "execution_count": null,
   "id": "3798278d",
   "metadata": {},
   "outputs": [],
   "source": [
    "df_test_ridge = df_test.copy()"
   ]
  },
  {
   "cell_type": "code",
   "execution_count": null,
   "id": "62596702",
   "metadata": {},
   "outputs": [],
   "source": [
    "df_test_ridge['SalePrice'] = ridge_model.predict(X_scaled)"
   ]
  },
  {
   "cell_type": "code",
   "execution_count": null,
   "id": "9cab1941",
   "metadata": {},
   "outputs": [],
   "source": [
    "df_test_submit = df_test_ridge[['Id','SalePrice']]"
   ]
  },
  {
   "cell_type": "code",
   "execution_count": null,
   "id": "af13c452",
   "metadata": {},
   "outputs": [],
   "source": [
    "df_test_submit[\"SalePrice\"].hist()"
   ]
  },
  {
   "cell_type": "code",
   "execution_count": null,
   "id": "c3809965",
   "metadata": {},
   "outputs": [],
   "source": [
    "df_test_submit.to_csv(\"../datasets/submit_ridgereg.csv\", index=False)"
   ]
  },
  {
   "cell_type": "code",
   "execution_count": null,
   "id": "4eb64a50",
   "metadata": {},
   "outputs": [],
   "source": []
  },
  {
   "cell_type": "markdown",
   "id": "af1677b5",
   "metadata": {},
   "source": [
    "### LASSO - PREDICT"
   ]
  },
  {
   "cell_type": "code",
   "execution_count": null,
   "id": "2060d8ec",
   "metadata": {},
   "outputs": [],
   "source": [
    "df_test_lasso = df_test.copy()"
   ]
  },
  {
   "cell_type": "code",
   "execution_count": null,
   "id": "063fc723",
   "metadata": {},
   "outputs": [],
   "source": [
    "df_test_lasso['SalePrice'] = lasso_model.predict(X_scaled)"
   ]
  },
  {
   "cell_type": "code",
   "execution_count": null,
   "id": "4e04aae8",
   "metadata": {},
   "outputs": [],
   "source": [
    "df_test_submit = df_test_lasso[['Id','SalePrice']]"
   ]
  },
  {
   "cell_type": "code",
   "execution_count": null,
   "id": "989bb30a",
   "metadata": {},
   "outputs": [],
   "source": [
    "df_test_submit[\"SalePrice\"].hist()"
   ]
  },
  {
   "cell_type": "code",
   "execution_count": null,
   "id": "d1a6c6b3",
   "metadata": {},
   "outputs": [],
   "source": [
    "df_test_submit.to_csv(\"../datasets/submit_lassoreg.csv\", index=False)"
   ]
  },
  {
   "cell_type": "markdown",
   "id": "2005bfa7",
   "metadata": {},
   "source": [
    "### ElasticNet - PREDICT"
   ]
  },
  {
   "cell_type": "code",
   "execution_count": null,
   "id": "66fb1ebf",
   "metadata": {},
   "outputs": [],
   "source": [
    "df_test_enet = df_test.copy()"
   ]
  },
  {
   "cell_type": "code",
   "execution_count": null,
   "id": "40bb4f60",
   "metadata": {},
   "outputs": [],
   "source": [
    "df_test_enet['SalePrice'] = enet_model.predict(X_scaled)"
   ]
  },
  {
   "cell_type": "code",
   "execution_count": null,
   "id": "c8130570",
   "metadata": {},
   "outputs": [],
   "source": [
    "df_test_submit = df_test_enet[['Id','SalePrice']]"
   ]
  },
  {
   "cell_type": "code",
   "execution_count": null,
   "id": "49d342b6",
   "metadata": {},
   "outputs": [],
   "source": [
    "df_test_submit.describe()"
   ]
  },
  {
   "cell_type": "code",
   "execution_count": null,
   "id": "03593beb",
   "metadata": {},
   "outputs": [],
   "source": [
    "df_test_submit[\"SalePrice\"].hist()"
   ]
  },
  {
   "cell_type": "code",
   "execution_count": null,
   "id": "c4b63b7e",
   "metadata": {},
   "outputs": [],
   "source": [
    "df_test_submit.to_csv(\"../datasets/submit_enetreg.csv\", index=False)"
   ]
  },
  {
   "cell_type": "code",
   "execution_count": null,
   "id": "20f6c83b",
   "metadata": {},
   "outputs": [],
   "source": []
  }
 ],
 "metadata": {
  "kernelspec": {
   "display_name": "Python 3",
   "language": "python",
   "name": "python3"
  },
  "language_info": {
   "codemirror_mode": {
    "name": "ipython",
    "version": 3
   },
   "file_extension": ".py",
   "mimetype": "text/x-python",
   "name": "python",
   "nbconvert_exporter": "python",
   "pygments_lexer": "ipython3",
   "version": "3.8.8"
  }
 },
 "nbformat": 4,
 "nbformat_minor": 5
}
