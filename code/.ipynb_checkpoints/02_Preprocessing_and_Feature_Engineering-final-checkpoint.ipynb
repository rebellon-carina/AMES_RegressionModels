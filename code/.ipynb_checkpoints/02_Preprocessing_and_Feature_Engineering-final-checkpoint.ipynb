{
 "cells": [
  {
   "cell_type": "markdown",
   "id": "912ec988",
   "metadata": {},
   "source": [
    "\n",
    "#  Ames Housing Data and Kaggle Challenge\n",
    "\n",
    "### PART 2, after the 01_EDA_and_Cleaning"
   ]
  },
  {
   "cell_type": "markdown",
   "id": "2303051f",
   "metadata": {},
   "source": [
    "## This notebook can be used for both Train and Test datasets\n",
    "\n",
    "- configure the dataset to process in the #configuration variable\n",
    "- feature engineering\n",
    "\n"
   ]
  },
  {
   "cell_type": "code",
   "execution_count": 1,
   "id": "f4cf72bc",
   "metadata": {},
   "outputs": [],
   "source": [
    "#import packages\n",
    "import pandas as pd\n",
    "import matplotlib\n",
    "import matplotlib.pyplot as plt\n",
    "import seaborn as sns\n",
    "import numpy as np\n",
    "import json\n",
    "from collections import defaultdict\n",
    "\n",
    "%matplotlib inline"
   ]
  },
  {
   "cell_type": "code",
   "execution_count": 2,
   "id": "6ca9208c",
   "metadata": {},
   "outputs": [
    {
     "name": "stdout",
     "output_type": "stream",
     "text": [
      "pandas:  1.3.4\n",
      "matplotlib:  3.3.4\n",
      "seaborn:  0.11.1\n",
      "numpy:  1.21.4\n",
      "json 2.0.9\n"
     ]
    }
   ],
   "source": [
    "#show versions of packages\n",
    "print('pandas: ', pd.__version__)\n",
    "print('matplotlib: ', matplotlib.__version__)\n",
    "print('seaborn: ', sns.__version__)\n",
    "print('numpy: ', np.__version__)\n",
    "print('json', json.__version__)"
   ]
  },
  {
   "cell_type": "code",
   "execution_count": 3,
   "id": "52dd5af4",
   "metadata": {},
   "outputs": [],
   "source": [
    "#configuration variable\n",
    "is_train_dataset = True"
   ]
  },
  {
   "cell_type": "markdown",
   "id": "e2ea95c2",
   "metadata": {},
   "source": [
    "## Loading of  Preproc Dataset"
   ]
  },
  {
   "cell_type": "code",
   "execution_count": 4,
   "id": "33d2f003",
   "metadata": {},
   "outputs": [
    {
     "name": "stdout",
     "output_type": "stream",
     "text": [
      "Loading train_preproc_final.csv\n"
     ]
    },
    {
     "data": {
      "text/html": [
       "<div>\n",
       "<style scoped>\n",
       "    .dataframe tbody tr th:only-of-type {\n",
       "        vertical-align: middle;\n",
       "    }\n",
       "\n",
       "    .dataframe tbody tr th {\n",
       "        vertical-align: top;\n",
       "    }\n",
       "\n",
       "    .dataframe thead th {\n",
       "        text-align: right;\n",
       "    }\n",
       "</style>\n",
       "<table border=\"1\" class=\"dataframe\">\n",
       "  <thead>\n",
       "    <tr style=\"text-align: right;\">\n",
       "      <th></th>\n",
       "      <th>Unnamed: 0</th>\n",
       "      <th>Id</th>\n",
       "      <th>PID</th>\n",
       "      <th>MS SubClass</th>\n",
       "      <th>MS Zoning</th>\n",
       "      <th>Lot Frontage</th>\n",
       "      <th>Lot Area</th>\n",
       "      <th>Street</th>\n",
       "      <th>Lot Shape</th>\n",
       "      <th>Land Contour</th>\n",
       "      <th>...</th>\n",
       "      <th>Open Porch SF</th>\n",
       "      <th>Enclosed Porch</th>\n",
       "      <th>3Ssn Porch</th>\n",
       "      <th>Screen Porch</th>\n",
       "      <th>Pool Area</th>\n",
       "      <th>Misc Val</th>\n",
       "      <th>Mo Sold</th>\n",
       "      <th>Yr Sold</th>\n",
       "      <th>Sale Type</th>\n",
       "      <th>SalePrice</th>\n",
       "    </tr>\n",
       "  </thead>\n",
       "  <tbody>\n",
       "    <tr>\n",
       "      <th>0</th>\n",
       "      <td>0</td>\n",
       "      <td>109</td>\n",
       "      <td>533352170</td>\n",
       "      <td>60</td>\n",
       "      <td>RL</td>\n",
       "      <td>79.0</td>\n",
       "      <td>13517</td>\n",
       "      <td>Pave</td>\n",
       "      <td>IR1</td>\n",
       "      <td>Lvl</td>\n",
       "      <td>...</td>\n",
       "      <td>44</td>\n",
       "      <td>0</td>\n",
       "      <td>0</td>\n",
       "      <td>0</td>\n",
       "      <td>0</td>\n",
       "      <td>0</td>\n",
       "      <td>3</td>\n",
       "      <td>2010</td>\n",
       "      <td>WD</td>\n",
       "      <td>130500</td>\n",
       "    </tr>\n",
       "    <tr>\n",
       "      <th>1</th>\n",
       "      <td>1</td>\n",
       "      <td>544</td>\n",
       "      <td>531379050</td>\n",
       "      <td>60</td>\n",
       "      <td>RL</td>\n",
       "      <td>43.0</td>\n",
       "      <td>11492</td>\n",
       "      <td>Pave</td>\n",
       "      <td>IR1</td>\n",
       "      <td>Lvl</td>\n",
       "      <td>...</td>\n",
       "      <td>74</td>\n",
       "      <td>0</td>\n",
       "      <td>0</td>\n",
       "      <td>0</td>\n",
       "      <td>0</td>\n",
       "      <td>0</td>\n",
       "      <td>4</td>\n",
       "      <td>2009</td>\n",
       "      <td>WD</td>\n",
       "      <td>220000</td>\n",
       "    </tr>\n",
       "    <tr>\n",
       "      <th>2</th>\n",
       "      <td>2</td>\n",
       "      <td>153</td>\n",
       "      <td>535304180</td>\n",
       "      <td>20</td>\n",
       "      <td>RL</td>\n",
       "      <td>68.0</td>\n",
       "      <td>7922</td>\n",
       "      <td>Pave</td>\n",
       "      <td>Reg</td>\n",
       "      <td>Lvl</td>\n",
       "      <td>...</td>\n",
       "      <td>52</td>\n",
       "      <td>0</td>\n",
       "      <td>0</td>\n",
       "      <td>0</td>\n",
       "      <td>0</td>\n",
       "      <td>0</td>\n",
       "      <td>1</td>\n",
       "      <td>2010</td>\n",
       "      <td>WD</td>\n",
       "      <td>109000</td>\n",
       "    </tr>\n",
       "    <tr>\n",
       "      <th>3</th>\n",
       "      <td>3</td>\n",
       "      <td>318</td>\n",
       "      <td>916386060</td>\n",
       "      <td>60</td>\n",
       "      <td>RL</td>\n",
       "      <td>73.0</td>\n",
       "      <td>9802</td>\n",
       "      <td>Pave</td>\n",
       "      <td>Reg</td>\n",
       "      <td>Lvl</td>\n",
       "      <td>...</td>\n",
       "      <td>0</td>\n",
       "      <td>0</td>\n",
       "      <td>0</td>\n",
       "      <td>0</td>\n",
       "      <td>0</td>\n",
       "      <td>0</td>\n",
       "      <td>4</td>\n",
       "      <td>2010</td>\n",
       "      <td>WD</td>\n",
       "      <td>174000</td>\n",
       "    </tr>\n",
       "    <tr>\n",
       "      <th>4</th>\n",
       "      <td>4</td>\n",
       "      <td>255</td>\n",
       "      <td>906425045</td>\n",
       "      <td>50</td>\n",
       "      <td>RL</td>\n",
       "      <td>82.0</td>\n",
       "      <td>14235</td>\n",
       "      <td>Pave</td>\n",
       "      <td>IR1</td>\n",
       "      <td>Lvl</td>\n",
       "      <td>...</td>\n",
       "      <td>59</td>\n",
       "      <td>0</td>\n",
       "      <td>0</td>\n",
       "      <td>0</td>\n",
       "      <td>0</td>\n",
       "      <td>0</td>\n",
       "      <td>3</td>\n",
       "      <td>2010</td>\n",
       "      <td>WD</td>\n",
       "      <td>138500</td>\n",
       "    </tr>\n",
       "  </tbody>\n",
       "</table>\n",
       "<p>5 rows × 78 columns</p>\n",
       "</div>"
      ],
      "text/plain": [
       "   Unnamed: 0   Id        PID  MS SubClass MS Zoning  Lot Frontage  Lot Area  \\\n",
       "0           0  109  533352170           60        RL          79.0     13517   \n",
       "1           1  544  531379050           60        RL          43.0     11492   \n",
       "2           2  153  535304180           20        RL          68.0      7922   \n",
       "3           3  318  916386060           60        RL          73.0      9802   \n",
       "4           4  255  906425045           50        RL          82.0     14235   \n",
       "\n",
       "  Street Lot Shape Land Contour  ... Open Porch SF Enclosed Porch 3Ssn Porch  \\\n",
       "0   Pave       IR1          Lvl  ...            44              0          0   \n",
       "1   Pave       IR1          Lvl  ...            74              0          0   \n",
       "2   Pave       Reg          Lvl  ...            52              0          0   \n",
       "3   Pave       Reg          Lvl  ...             0              0          0   \n",
       "4   Pave       IR1          Lvl  ...            59              0          0   \n",
       "\n",
       "  Screen Porch Pool Area Misc Val Mo Sold Yr Sold  Sale Type  SalePrice  \n",
       "0            0         0        0       3    2010        WD      130500  \n",
       "1            0         0        0       4    2009        WD      220000  \n",
       "2            0         0        0       1    2010        WD      109000  \n",
       "3            0         0        0       4    2010        WD      174000  \n",
       "4            0         0        0       3    2010        WD      138500  \n",
       "\n",
       "[5 rows x 78 columns]"
      ]
     },
     "execution_count": 4,
     "metadata": {},
     "output_type": "execute_result"
    }
   ],
   "source": [
    "if is_train_dataset:\n",
    "    df_ames = pd.read_csv(\"../datasets/train_preproc_final.csv\")\n",
    "    print(\"Loading train_preproc_final.csv\")\n",
    "else:\n",
    "    df_ames = pd.read_csv(\"../datasets/test_preproc_final.csv\")\n",
    "    print(\"Loading test_preproc_final.csv\")\n",
    "    \n",
    "df_ames.head()"
   ]
  },
  {
   "cell_type": "code",
   "execution_count": 5,
   "id": "adea945c",
   "metadata": {},
   "outputs": [],
   "source": [
    "#drop column index that was generated by the save csv from prior process\n",
    "df_ames.drop(columns=['Unnamed: 0'], inplace=True)"
   ]
  },
  {
   "cell_type": "code",
   "execution_count": 6,
   "id": "2c99b4ea",
   "metadata": {},
   "outputs": [
    {
     "data": {
      "text/plain": [
       "Series([], dtype: int64)"
      ]
     },
     "execution_count": 6,
     "metadata": {},
     "output_type": "execute_result"
    }
   ],
   "source": [
    "#check for null values\n",
    "df_ames.isnull().sum()[df_ames.isnull().sum()>0].sort_values()"
   ]
  },
  {
   "cell_type": "markdown",
   "id": "0a40fa31",
   "metadata": {},
   "source": [
    "**From the previous notebook (EDA), we have classified categorical features as Ordinal and Nominal.\n",
    "For Ordinal, a dictionary will be created to show their rank, for Nominal, they will be ordered based on their average Selling Price.***"
   ]
  },
  {
   "cell_type": "code",
   "execution_count": 7,
   "id": "4f412c0c",
   "metadata": {},
   "outputs": [],
   "source": [
    "#Classification of Categorical variables\n",
    "\n",
    "#ordinal data has a predetermined or natural order\n",
    "ord_var = ['Street','Lot Shape', 'Utilities','Land Slope','Exter Qual',\n",
    "       'Exter Cond','Bsmt Qual', 'Bsmt Cond', 'Bsmt Exposure',\n",
    "       'BsmtFin Type 1', 'BsmtFin Type 2','Heating QC',\n",
    "       'Central Air', 'Electrical', 'Kitchen Qual', 'Functional',\n",
    "       'Fireplace Qu', 'Garage Finish','Garage Qual',\n",
    "       'Garage Cond', 'Paved Drive']\n",
    "\n",
    "\n",
    "#Nominal data is classified without a natural order or rank\n",
    "nom_var = ['Roof Matl','Exterior 1st','Exterior 2nd','Mas Vnr Type','Heating','Sale Type', 'MS Zoning','Land Contour','Lot Config','Neighborhood', 'Condition 1',\n",
    "       'Condition 2', 'Bldg Type', 'House Style', 'Roof Style', 'Foundation',\n",
    "       'Garage Type']\n"
   ]
  },
  {
   "cell_type": "code",
   "execution_count": 8,
   "id": "94bc8e60",
   "metadata": {},
   "outputs": [],
   "source": [
    "#ordinal dict is manually created based on the ranking (domain knowledge)\n",
    "\n",
    "ordinal_dict = {\n",
    "    \n",
    "    'Street': {'Pave':2, 'Grvl':1, 'missing':0} ,\n",
    "    'Lot Shape' : {'Reg':4, 'IR1':3, 'IR2':2, 'IR3':1, 'missing':0},\n",
    "    'Utilities' : {'AllPub':3, 'NoSewr':2, 'NoSeWa':1, 'missing':0},\n",
    "    'Land Slope' : {'Gtl':3, 'Mod':2, 'Sev':1, 'missing':0}   ,\n",
    "    'Exter Qual' : {'Ex':5,'Gd':4, 'TA':3,'Fa':2,'Po':1, 'missing':0},\n",
    "    'Exter Cond' : {'Ex':5,'Gd':4, 'TA':3,'Fa':2,'Po':1, 'missing':0},\n",
    "    'Bsmt Qual' : {'Ex':5,'Gd':4, 'TA':3,'Fa':2,'Po':1, 'missing':0},\n",
    "    'Bsmt Cond' : {'Ex':5,'Gd':4, 'TA':3,'Fa':2,'Po':1, 'missing':0},\n",
    "    'Bsmt Exposure' : {'Gd':4, 'Av':3, 'Mn':2, 'No':0, 'missing':0} ,\n",
    "    'BsmtFin Type 1' : {'GLQ':6,'ALQ':5, 'BLQ':4, 'Rec':3, 'LwQ':2, 'Unf':1, 'missing':0},\n",
    "    'BsmtFin Type 2' : {'GLQ':6,'ALQ':5, 'BLQ':4, 'Rec':3, 'LwQ':2, 'Unf':1, 'missing':0},\n",
    "    'Heating QC' :{'Ex':5, 'Gd':4, 'TA':3,'Fa':2,'Po':1, 'missing':0},\n",
    "    'Central Air' :{'Y':1, 'N':0, 'missing':0}, \n",
    "    'Electrical' :{'SBrkr':5, 'FuseA':4,'FuseF':3, 'FuseP':2, 'Mix':1, 'missing':0}, \n",
    "    'Kitchen Qual' :{'Ex':5, 'Gd':4, 'TA':3,'Fa':2,'Po':1, 'missing':0}, \n",
    "    'Functional' :{'Typ':8,'Min1':7,'Min2':6, 'Mod':5, 'Maj1':4,'Maj2':3, 'Sev':2,'Sal':1, 'missing':0},\n",
    "    'Fireplace Qu' :{'Ex':5, 'Gd':4, 'TA':3,'Fa':2,'Po':1, 'missing':0}, \n",
    "    'Garage Finish' :{'Fin':3, 'RFn':2, 'Unf':1, 'missing':0 },\n",
    "    'Garage Qual' :{'Ex':5,'Gd':4, 'TA':3,'Fa':2,'Po':1, 'missing':0},\n",
    "    'Garage Cond' :{'Ex':5, 'Gd':4, 'TA':3,'Fa':2,'Po':1, 'missing':0}, \n",
    "    'Paved Drive' :{'Y':2, 'P':1, 'N':0, 'missing':0 }\n",
    "}"
   ]
  },
  {
   "cell_type": "code",
   "execution_count": 9,
   "id": "01adfb8f",
   "metadata": {},
   "outputs": [],
   "source": [
    "def nominal_rank_by_mean_SalePrice(df, feature):\n",
    "    '''Function to rank the nominal categorical features based on their mean\n",
    "    '''\n",
    "    \n",
    "    v_dic = {}\n",
    "    \n",
    "    grouped = df.loc[:,[feature, 'SalePrice']] \\\n",
    "                .groupby(feature) \\\n",
    "                .mean() \\\n",
    "                .sort_values(by='SalePrice')\n",
    "    \n",
    "    grouped['Rank'] = grouped['SalePrice'].rank(ascending=True)\n",
    "    \n",
    "    v_dic[feature] =grouped['Rank'].to_dict()\n",
    "    \n",
    "    return v_dic"
   ]
  },
  {
   "cell_type": "code",
   "execution_count": 10,
   "id": "6178ad5b",
   "metadata": {},
   "outputs": [],
   "source": [
    "def def_value():\n",
    "    '''This will be used by the dictionary'''\n",
    "    return 0"
   ]
  },
  {
   "cell_type": "code",
   "execution_count": 11,
   "id": "e2c268bf",
   "metadata": {},
   "outputs": [],
   "source": [
    "#For train dataset , we will call the function above to build our nominal dictionary\n",
    "#We need to save the dictionary as csv and reload to be used by test dataset\n",
    "\n",
    "nominal_dict = defaultdict(def_value)\n",
    "\n",
    "if is_train_dataset:\n",
    "    for nom in nom_var:\n",
    "        nominal_dict = {**nominal_dict, **nominal_rank_by_mean_SalePrice(df_ames, nom)}\n",
    "    \n",
    "    with open('../datasets/nominaldict.json', 'w') as fp:\n",
    "        json.dump(nominal_dict, fp)\n",
    "else:\n",
    "    with open('../datasets/nominaldict.json', 'r') as fp:\n",
    "        nominal_dict = json.load(fp)"
   ]
  },
  {
   "cell_type": "code",
   "execution_count": 12,
   "id": "4f17a60e",
   "metadata": {},
   "outputs": [
    {
     "data": {
      "text/plain": [
       "{'Roof Matl': {'CompShg': 1.0,\n",
       "  'Tar&Grv': 2.0,\n",
       "  'Membran': 3.0,\n",
       "  'WdShake': 4.0,\n",
       "  'WdShngl': 5.0},\n",
       " 'Exterior 1st': {'AsphShn': 1.0,\n",
       "  'CBlock': 2.0,\n",
       "  'AsbShng': 3.0,\n",
       "  'BrkComm': 4.0,\n",
       "  'Stucco': 5.0,\n",
       "  'Wd Sdng': 6.0,\n",
       "  'MetalSd': 7.0,\n",
       "  'WdShing': 8.0,\n",
       "  'HdBoard': 9.0,\n",
       "  'Plywood': 10.0,\n",
       "  'BrkFace': 11.0,\n",
       "  'CemntBd': 12.0,\n",
       "  'VinylSd': 13.0,\n",
       "  'Stone': 14.0,\n",
       "  'ImStucc': 15.0},\n",
       " 'Exterior 2nd': {'CBlock': 1.0,\n",
       "  'AsbShng': 2.0,\n",
       "  'AsphShn': 3.0,\n",
       "  'Brk Cmn': 4.0,\n",
       "  'Wd Sdng': 5.0,\n",
       "  'Wd Shng': 6.0,\n",
       "  'Stone': 7.0,\n",
       "  'Stucco': 8.0,\n",
       "  'MetalSd': 9.0,\n",
       "  'HdBoard': 10.0,\n",
       "  'Plywood': 11.0,\n",
       "  'BrkFace': 12.0,\n",
       "  'CmentBd': 13.0,\n",
       "  'VinylSd': 14.0,\n",
       "  'ImStucc': 15.0},\n",
       " 'Mas Vnr Type': {'BrkCmn': 1.0,\n",
       "  'None': 2.0,\n",
       "  'BrkFace': 3.0,\n",
       "  'missing': 4.0,\n",
       "  'Stone': 5.0},\n",
       " 'Heating': {'Grav': 1.0, 'Wall': 2.0, 'OthW': 3.0, 'GasW': 4.0, 'GasA': 5.0},\n",
       " 'Sale Type': {'ConLw': 1.0,\n",
       "  'Oth': 2.0,\n",
       "  'ConLD': 3.0,\n",
       "  'COD': 4.0,\n",
       "  'ConLI': 5.0,\n",
       "  'WD ': 6.0,\n",
       "  'CWD': 7.0,\n",
       "  'New': 8.0,\n",
       "  'Con': 9.0},\n",
       " 'MS Zoning': {'A (agr)': 1.0,\n",
       "  'I (all)': 2.0,\n",
       "  'C (all)': 3.0,\n",
       "  'RM': 4.0,\n",
       "  'RH': 5.0,\n",
       "  'RL': 6.0,\n",
       "  'FV': 7.0},\n",
       " 'Land Contour': {'Bnk': 1.0, 'Lvl': 2.0, 'Low': 3.0, 'HLS': 4.0},\n",
       " 'Lot Config': {'Inside': 1.0,\n",
       "  'FR2': 2.0,\n",
       "  'Corner': 3.0,\n",
       "  'FR3': 4.0,\n",
       "  'CulDSac': 5.0},\n",
       " 'Neighborhood': {'MeadowV': 1.0,\n",
       "  'IDOTRR': 2.0,\n",
       "  'BrDale': 3.0,\n",
       "  'OldTown': 4.0,\n",
       "  'BrkSide': 5.0,\n",
       "  'Edwards': 6.0,\n",
       "  'SWISU': 7.0,\n",
       "  'Landmrk': 8.0,\n",
       "  'Sawyer': 9.0,\n",
       "  'NPkVill': 10.0,\n",
       "  'Blueste': 11.0,\n",
       "  'NAmes': 12.0,\n",
       "  'Mitchel': 13.0,\n",
       "  'Gilbert': 14.0,\n",
       "  'SawyerW': 15.0,\n",
       "  'Greens': 16.0,\n",
       "  'NWAmes': 17.0,\n",
       "  'CollgCr': 18.0,\n",
       "  'Blmngtn': 19.0,\n",
       "  'Crawfor': 20.0,\n",
       "  'ClearCr': 21.0,\n",
       "  'Somerst': 22.0,\n",
       "  'Timber': 23.0,\n",
       "  'StoneBr': 24.0,\n",
       "  'Veenker': 25.0,\n",
       "  'NridgHt': 26.0,\n",
       "  'GrnHill': 27.0,\n",
       "  'NoRidge': 28.0},\n",
       " 'Condition 1': {'Artery': 1.0,\n",
       "  'RRNe': 2.0,\n",
       "  'RRAe': 3.0,\n",
       "  'Feedr': 4.0,\n",
       "  'RRAn': 5.0,\n",
       "  'Norm': 6.0,\n",
       "  'RRNn': 7.0,\n",
       "  'PosN': 8.0,\n",
       "  'PosA': 9.0},\n",
       " 'Condition 2': {'RRNn': 1.0,\n",
       "  'Artery': 2.0,\n",
       "  'Feedr': 3.0,\n",
       "  'RRAn': 4.0,\n",
       "  'Norm': 5.0,\n",
       "  'RRAe': 6.0,\n",
       "  'PosA': 7.0,\n",
       "  'PosN': 8.0},\n",
       " 'Bldg Type': {'2fmCon': 1.0,\n",
       "  'Twnhs': 2.0,\n",
       "  'Duplex': 3.0,\n",
       "  '1Fam': 4.0,\n",
       "  'TwnhsE': 5.0},\n",
       " 'House Style': {'1.5Unf': 1.0,\n",
       "  '1.5Fin': 2.0,\n",
       "  'SFoyer': 3.0,\n",
       "  'SLvl': 4.0,\n",
       "  '1Story': 5.0,\n",
       "  '2.5Unf': 6.0,\n",
       "  '2Story': 7.0,\n",
       "  '2.5Fin': 8.0},\n",
       " 'Roof Style': {'Gambrel': 1.0,\n",
       "  'Mansard': 2.0,\n",
       "  'Gable': 3.0,\n",
       "  'Hip': 4.0,\n",
       "  'Flat': 5.0,\n",
       "  'Shed': 6.0},\n",
       " 'Foundation': {'Slab': 1.0,\n",
       "  'BrkTil': 2.0,\n",
       "  'Stone': 3.0,\n",
       "  'CBlock': 4.0,\n",
       "  'Wood': 5.0,\n",
       "  'PConc': 6.0},\n",
       " 'Garage Type': {'CarPort': 1.0,\n",
       "  'missing': 2.0,\n",
       "  'Detchd': 3.0,\n",
       "  'Basment': 4.0,\n",
       "  '2Types': 5.0,\n",
       "  'Attchd': 6.0,\n",
       "  'BuiltIn': 7.0}}"
      ]
     },
     "execution_count": 12,
     "metadata": {},
     "output_type": "execute_result"
    }
   ],
   "source": [
    "nominal_dict"
   ]
  },
  {
   "cell_type": "markdown",
   "id": "c498730d",
   "metadata": {},
   "source": [
    "## Feature Engineering"
   ]
  },
  {
   "cell_type": "code",
   "execution_count": 13,
   "id": "850109d4",
   "metadata": {},
   "outputs": [
    {
     "name": "stdout",
     "output_type": "stream",
     "text": [
      "converted:  Street\n",
      "converted:  Lot Shape\n",
      "converted:  Utilities\n",
      "converted:  Land Slope\n",
      "converted:  Exter Qual\n",
      "converted:  Exter Cond\n",
      "converted:  Bsmt Qual\n",
      "converted:  Bsmt Cond\n",
      "converted:  Bsmt Exposure\n",
      "converted:  BsmtFin Type 1\n",
      "converted:  BsmtFin Type 2\n",
      "converted:  Heating QC\n",
      "converted:  Central Air\n",
      "converted:  Electrical\n",
      "converted:  Kitchen Qual\n",
      "converted:  Functional\n",
      "converted:  Fireplace Qu\n",
      "converted:  Garage Finish\n",
      "converted:  Garage Qual\n",
      "converted:  Garage Cond\n",
      "converted:  Paved Drive\n"
     ]
    }
   ],
   "source": [
    "#map all ordinal features \n",
    "for feature in ord_var:\n",
    "    df_ames[feature] = df_ames[feature].map(lambda x: ordinal_dict[feature][x])\n",
    "    print(\"converted: \", feature)"
   ]
  },
  {
   "cell_type": "code",
   "execution_count": 14,
   "id": "2a31477e",
   "metadata": {},
   "outputs": [
    {
     "name": "stdout",
     "output_type": "stream",
     "text": [
      "converted:  Roof Matl\n",
      "converted:  Exterior 1st\n",
      "converted:  Exterior 2nd\n",
      "converted:  Mas Vnr Type\n",
      "converted:  Heating\n",
      "converted:  Sale Type\n",
      "converted:  MS Zoning\n",
      "converted:  Land Contour\n",
      "converted:  Lot Config\n",
      "converted:  Neighborhood\n",
      "converted:  Condition 1\n",
      "converted:  Condition 2\n",
      "converted:  Bldg Type\n",
      "converted:  House Style\n",
      "converted:  Roof Style\n",
      "converted:  Foundation\n",
      "converted:  Garage Type\n"
     ]
    }
   ],
   "source": [
    "#map all nominal features \n",
    "for feature in nom_var:\n",
    "    df_ames[feature] = df_ames[feature].map(lambda x: nominal_dict[feature][x] if x in nominal_dict[feature] else 0)\n",
    "    print(\"converted: \", feature)"
   ]
  },
  {
   "cell_type": "code",
   "execution_count": 15,
   "id": "5e9a3673",
   "metadata": {},
   "outputs": [
    {
     "data": {
      "text/plain": [
       "(1955, 77)"
      ]
     },
     "execution_count": 15,
     "metadata": {},
     "output_type": "execute_result"
    }
   ],
   "source": [
    "df_ames.shape"
   ]
  },
  {
   "cell_type": "markdown",
   "id": "456fe6aa",
   "metadata": {},
   "source": [
    "***The next few codes are looking at the engineered feature to discover any interesting insights if there's any significant impact if the house sold is renovated within 5 years***"
   ]
  },
  {
   "cell_type": "code",
   "execution_count": 16,
   "id": "43ae51e5",
   "metadata": {},
   "outputs": [],
   "source": [
    "#Age calculation based in Year it was sold and Year it was built\n",
    "df_ames['HouseAge'] = df_ames['Yr Sold']- df_ames['Year Built']\n",
    "\n",
    "#'Year Remod/Add' is the same as 'Year Built', so it will be 0 if there is no remodelling\n",
    "df_ames['Remodel_Age'] = df_ames['Year Remod/Add']- df_ames['Year Built']\n",
    "\n",
    "#is_Remodeled is a featurethat has value 0 or 1\n",
    "#0 it means that it is not remodelled or remodelled but it is older than 5 years (Remodel_Age > 5)\n",
    "#1 means remodelled within 5 years (Remodel_Age is 1-5)\n",
    "df_ames['is_Remodeled'] = df_ames['Remodel_Age'].map(lambda x: 0 if (x == 0 or x > 5) else 1)"
   ]
  },
  {
   "cell_type": "code",
   "execution_count": null,
   "id": "e1fa3806",
   "metadata": {
    "scrolled": true
   },
   "outputs": [],
   "source": [
    "#check the distribution\n",
    "plt.figure(figsize=(2,2))\n",
    "sns.histplot(df_ames['is_Remodeled'], kde=False);\n",
    "plt.xticks(df_ames['is_Remodeled'])\n",
    "plt.title('Distribution of  Recently Remodelled vs Not Remodelled/Remodelled > 5 years');"
   ]
  },
  {
   "cell_type": "markdown",
   "id": "68f1e9af",
   "metadata": {},
   "source": [
    "Lot of properties are sold without remodelling"
   ]
  },
  {
   "cell_type": "code",
   "execution_count": null,
   "id": "e54b5ed4",
   "metadata": {},
   "outputs": [],
   "source": [
    "if is_train_dataset:\n",
    "    print(df_ames.groupby(by='is_Remodeled')['SalePrice'].mean())"
   ]
  },
  {
   "cell_type": "code",
   "execution_count": null,
   "id": "e9a343d5",
   "metadata": {},
   "outputs": [],
   "source": [
    "#Percentage of increase for recently remodelled (5 years) vs not remodelled/remodelled more than 5 years\n",
    "print('%:', round((206607-163449)/163449 * 100,2))"
   ]
  },
  {
   "cell_type": "code",
   "execution_count": null,
   "id": "839c1d8a",
   "metadata": {},
   "outputs": [],
   "source": [
    "#visualizing the difference of mean with 'is Remodeled'\n",
    "if is_train_dataset:\n",
    "    sns.catplot(data=df_ames, hue='is_Remodeled', y='SalePrice', x='Yr Sold' , kind='bar',ci=None)\n",
    "    plt.title('Sale Price for Recently Remodelled (5 Years from the date sold) by Year');"
   ]
  },
  {
   "cell_type": "code",
   "execution_count": null,
   "id": "d7a075cb",
   "metadata": {},
   "outputs": [],
   "source": [
    "if is_train_dataset:\n",
    "    print(df_ames.groupby(by=['is_Remodeled','Yr Sold'])['SalePrice'].mean())"
   ]
  },
  {
   "cell_type": "code",
   "execution_count": null,
   "id": "88dd329c",
   "metadata": {},
   "outputs": [],
   "source": [
    "print('2010 Increase:', (199307.351852-161815.132597)/161815.132597)\n",
    "print('2009 Increase:', (209715.357143-167982.052109)/167982.052109)\n",
    "print('2008 Increase:', (206766.027778-162873.317647)/162873.317647)\n",
    "print('2007 Increase:', (209042.014085-162362.734463)/162362.734463)\n",
    "print('2006 Increase:', (206394.750000-160062.715026)/160062.715026)"
   ]
  },
  {
   "cell_type": "markdown",
   "id": "4f390adc",
   "metadata": {},
   "source": [
    "***Ave SalePrice for recently remodelled house is higher (within 5 years before sold) year on year\n",
    "The increase of Average Selling Price is around 23% to 29%***"
   ]
  },
  {
   "cell_type": "code",
   "execution_count": null,
   "id": "b2d463e2",
   "metadata": {},
   "outputs": [],
   "source": [
    "#quality of the house for remodelled/non-remodelled\n",
    "if is_train_dataset:\n",
    "    #visualizing the difference of mean with recent remodelling (5 years before it is sold)\n",
    "    plt.figure(figsize=(10,5))\n",
    "\n",
    "    sns.boxplot(data=df_ames, hue='is_Remodeled', y='SalePrice', x='Overall Qual' )\n",
    "\n",
    "    plt.legend(bbox_to_anchor=(1.05, 1), loc=2)\n",
    "    plt.title('Sale Price for Recently Remodelled (5 Years from the date sold) by Year');\n"
   ]
  },
  {
   "cell_type": "code",
   "execution_count": null,
   "id": "c4e46488",
   "metadata": {},
   "outputs": [],
   "source": [
    "#FOR presentation, need simple graph please!\n",
    "\n",
    "if is_train_dataset:\n",
    "    #visualizing the difference of mean with recent remodelling (5 years before it is sold)\n",
    "    plt.figure(figsize=(10,5))\n",
    "\n",
    "    sns.catplot(data=df_ames, hue='is_Remodeled', y='SalePrice', x='Overall Qual', kind='point',ci=None )\n",
    "\n",
    "    #plt.legend(bbox_to_anchor=(1.05, 1), loc=2)\n",
    "    plt.title('Sale Price for Recently Remodelled (5 Years from the date sold) by Quality Rating');"
   ]
  },
  {
   "attachments": {},
   "cell_type": "markdown",
   "id": "2277c45b",
   "metadata": {},
   "source": [
    "***The remodeled property have higher average Sale Price when the Quality Rating above 4***"
   ]
  },
  {
   "cell_type": "markdown",
   "id": "97523dd3",
   "metadata": {},
   "source": [
    "#### During the EDA, we looked at 'Gr Live Area' and 'Total Bsmt SF'"
   ]
  },
  {
   "cell_type": "code",
   "execution_count": null,
   "id": "ad2f6210",
   "metadata": {},
   "outputs": [],
   "source": [
    "#create a feature variable that adds the 'Gr Liv Area' and 'Total Bsmt SF'\n",
    "\n",
    "df_ames['Total_SF'] = df_ames['Gr Liv Area'] + df_ames['Total Bsmt SF']\n",
    "\n",
    "if is_train_dataset:\n",
    "    #check the correlation\n",
    "    df_ames[['Total_SF','Gr Liv Area','Total Bsmt SF','SalePrice']].corr()"
   ]
  },
  {
   "cell_type": "markdown",
   "id": "189c51d3",
   "metadata": {},
   "source": [
    "***Total Square foot has higher correlation (78%), than 'Gr Live Area' and 'Total Bsmt SF' when added."
   ]
  },
  {
   "cell_type": "code",
   "execution_count": null,
   "id": "6f106b57",
   "metadata": {},
   "outputs": [],
   "source": [
    "#do we still have categorical features, there should be ZERO as we transformed them to their  ranking\n",
    "df_ames.select_dtypes(include = 'object').columns"
   ]
  },
  {
   "cell_type": "code",
   "execution_count": null,
   "id": "ab1a85af",
   "metadata": {},
   "outputs": [],
   "source": [
    "#final check for null values\n",
    "df_ames.isnull().sum()[df_ames.isnull().sum()>0].sort_values()"
   ]
  },
  {
   "cell_type": "code",
   "execution_count": null,
   "id": "42ef3657",
   "metadata": {},
   "outputs": [],
   "source": [
    "#check the distribution after cleanup and feature engineering\n",
    "plt.figure()\n",
    "df_ames.drop(columns=['Id', 'PID']).hist(layout=(10,8), alpha=0.5, bins=50,figsize=(20,30));"
   ]
  },
  {
   "cell_type": "markdown",
   "id": "1a6bc9b1",
   "metadata": {},
   "source": [
    "**There are only few that has normal distribution:\n",
    "Tota Bsmt SF, 1st Flr SF, Gr Liv Area, TotRms AbvGrd, SalePrice and Total_SF**"
   ]
  },
  {
   "cell_type": "code",
   "execution_count": null,
   "id": "241c9b64",
   "metadata": {},
   "outputs": [],
   "source": [
    "#checking some few features and it's correlation to Overall Quality to address some business problems\n",
    "\n",
    "plt.figure(figsize=(10,10))\n",
    "sns.set(style=\"white\")\n",
    "\n",
    "df_qual = df_ames[[\"Overall Qual\",'Exter Qual', 'Kitchen Qual', 'Bsmt Qual','Year Built','Year Remod/Add','Garage Yr Blt',\n",
    "                    'Garage Finish','Foundation','Garage Type', 'Heating QC','Fireplace Qu','Exterior 1st','Mas Vnr Type',\n",
    "                    'Exterior 2nd','Bsmt Cond','Central Air']].corr()\n",
    "\n",
    "mask = np.zeros_like(df_qual)\n",
    "mask[np.triu_indices_from(mask)] = True\n",
    "\n",
    "sns.heatmap(df_qual,annot=True,mask=mask, square=True)"
   ]
  },
  {
   "cell_type": "markdown",
   "id": "3e0b437f",
   "metadata": {},
   "source": [
    "### What is our top 10 correlation after feature engineering, did it change from our previous EDA?"
   ]
  },
  {
   "cell_type": "code",
   "execution_count": null,
   "id": "afeb211a",
   "metadata": {},
   "outputs": [],
   "source": [
    "#Correlation after feature engineering\n",
    "## Lets look at our TOP 10 features again\n",
    "if is_train_dataset:\n",
    "    corr = df_ames.corr()\n",
    "    \n",
    "    # creating a colormap\n",
    "    colormap = sns.color_palette(\"Greens\")\n",
    "    \n",
    "    plt.figure(figsize=(8,8))\n",
    "    sns.set(style=\"white\")\n",
    "\n",
    "    k = 11\n",
    "    cols = corr.nlargest(k, 'SalePrice')['SalePrice'].index\n",
    "    corr_10 =  df_ames[cols].corr()\n",
    "    \n",
    "    mask = np.zeros_like(corr_10)\n",
    "    mask[np.triu_indices_from(mask)] = True\n",
    "    \n",
    "    plt.title('TOP 10 Features (after Cleaning and Feature Engineering)')\n",
    "    sns.heatmap(corr_10, annot=True,mask=mask, square=True, fmt='.2f', cbar_kws={\"shrink\": .5}, cmap=colormap)"
   ]
  },
  {
   "cell_type": "markdown",
   "id": "493c1dfb",
   "metadata": {},
   "source": [
    "### It changed! Total SF, Neighborhood, Exter Qual were now in top 10"
   ]
  },
  {
   "cell_type": "code",
   "execution_count": null,
   "id": "00141413",
   "metadata": {},
   "outputs": [],
   "source": [
    "#saved the preprocessed files\n",
    "if is_train_dataset:\n",
    "    df_ames.to_csv(\"../datasets/train_wfeature_all.csv\")\n",
    "    print(\"Successfully saved train_wfeature_all.csv\")\n",
    "else:\n",
    "    df_ames.to_csv(\"../datasets/test_wfeature_all.csv\")\n",
    "    print(\"Successfully saved test_wfeature_all.csv\")"
   ]
  },
  {
   "cell_type": "markdown",
   "id": "4214a8fd",
   "metadata": {},
   "source": [
    "# Summary:\n",
    "\n",
    " - ***Ordinal Features*** are transformed using the dictionary that shows their ordinal values (manually created)\n",
    " - ***Nominal Features*** are transformed using the dictionary that is automtically created from train dataset by  ranking the the mean of SalePrice, the same dictionary is used for Test, if the value is not in the train dataset, it will populate as 0\n",
    " \n",
    " - Feature Engineering:\n",
    "   - ***HouseAge*** is calculated based on the Year the house is build, minus the Year it was sold.\n",
    "   - ***Total_SF*** =  We added 'Gr Liv Area' and 'Total Bsmt SF'\n",
    "   - ***Remodel_Age*** = 'Year Remod/Add' minus the 'Year Built'\n",
    "   - ***is_Remodeled*** = if the Remodel_Age is not zero and the renovation age is between 1-5, then 1 (True), else 0 (False)"
   ]
  },
  {
   "cell_type": "code",
   "execution_count": null,
   "id": "d73bfe36",
   "metadata": {},
   "outputs": [],
   "source": []
  }
 ],
 "metadata": {
  "kernelspec": {
   "display_name": "Python 3",
   "language": "python",
   "name": "python3"
  },
  "language_info": {
   "codemirror_mode": {
    "name": "ipython",
    "version": 3
   },
   "file_extension": ".py",
   "mimetype": "text/x-python",
   "name": "python",
   "nbconvert_exporter": "python",
   "pygments_lexer": "ipython3",
   "version": "3.8.8"
  }
 },
 "nbformat": 4,
 "nbformat_minor": 5
}
