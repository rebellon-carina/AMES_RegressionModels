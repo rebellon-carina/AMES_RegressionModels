{
 "cells": [
  {
   "cell_type": "markdown",
   "id": "912ec988",
   "metadata": {},
   "source": [
    "\n",
    "##  DSI-US-11 Project 2 Regression Challenge (Kaggle)\n",
    "\n",
    "Part 3 - after the 02_Preprocessing_and_Feature_Engineering\n",
    "\n",
    "This notebook is intended for creating regresssion models and testing."
   ]
  },
  {
   "cell_type": "code",
   "execution_count": 1,
   "id": "f4cf72bc",
   "metadata": {},
   "outputs": [],
   "source": [
    "#import packages\n",
    "import pandas as pd\n",
    "import matplotlib.pyplot as plt\n",
    "import seaborn as sns\n",
    "import numpy as np\n",
    "\n",
    "from sklearn.linear_model import LinearRegression\n",
    "from sklearn.linear_model import Ridge, Lasso, ElasticNet\n",
    "from sklearn.linear_model import RidgeCV, LassoCV, ElasticNetCV\n",
    "from sklearn.preprocessing import StandardScaler\n",
    "\n",
    "from sklearn.model_selection import train_test_split, cross_val_score\n",
    "\n",
    "from pandas_profiling import ProfileReport\n",
    "from sklearn import preprocessing\n",
    "\n",
    "from scipy import stats\n",
    "\n",
    "%matplotlib inline"
   ]
  },
  {
   "cell_type": "markdown",
   "id": "e2ea95c2",
   "metadata": {},
   "source": [
    "## Loading of train dataset with feature"
   ]
  },
  {
   "cell_type": "code",
   "execution_count": 2,
   "id": "33d2f003",
   "metadata": {},
   "outputs": [
    {
     "data": {
      "text/html": [
       "<div>\n",
       "<style scoped>\n",
       "    .dataframe tbody tr th:only-of-type {\n",
       "        vertical-align: middle;\n",
       "    }\n",
       "\n",
       "    .dataframe tbody tr th {\n",
       "        vertical-align: top;\n",
       "    }\n",
       "\n",
       "    .dataframe thead th {\n",
       "        text-align: right;\n",
       "    }\n",
       "</style>\n",
       "<table border=\"1\" class=\"dataframe\">\n",
       "  <thead>\n",
       "    <tr style=\"text-align: right;\">\n",
       "      <th></th>\n",
       "      <th>Unnamed: 0</th>\n",
       "      <th>Unnamed: 0.1</th>\n",
       "      <th>Lot Frontage</th>\n",
       "      <th>Lot Area</th>\n",
       "      <th>Street</th>\n",
       "      <th>Land Contour</th>\n",
       "      <th>Utilities</th>\n",
       "      <th>Lot Config</th>\n",
       "      <th>Land Slope</th>\n",
       "      <th>Neighborhood</th>\n",
       "      <th>...</th>\n",
       "      <th>heatqc_dummy</th>\n",
       "      <th>kitchenqual_dummy</th>\n",
       "      <th>fireplacequal_dummy</th>\n",
       "      <th>garagequal_dummy</th>\n",
       "      <th>garagecond_dummy</th>\n",
       "      <th>bsmtqual_dummy</th>\n",
       "      <th>bsmtcond_dummy</th>\n",
       "      <th>paveddrive_dummy</th>\n",
       "      <th>centralair_dummy</th>\n",
       "      <th>HouseAge</th>\n",
       "    </tr>\n",
       "  </thead>\n",
       "  <tbody>\n",
       "    <tr>\n",
       "      <th>0</th>\n",
       "      <td>0</td>\n",
       "      <td>0</td>\n",
       "      <td>79.466028</td>\n",
       "      <td>13517</td>\n",
       "      <td>1</td>\n",
       "      <td>3</td>\n",
       "      <td>0</td>\n",
       "      <td>1</td>\n",
       "      <td>0</td>\n",
       "      <td>22</td>\n",
       "      <td>...</td>\n",
       "      <td>5</td>\n",
       "      <td>4</td>\n",
       "      <td>0</td>\n",
       "      <td>3</td>\n",
       "      <td>3</td>\n",
       "      <td>3</td>\n",
       "      <td>3</td>\n",
       "      <td>2</td>\n",
       "      <td>1</td>\n",
       "      <td>34</td>\n",
       "    </tr>\n",
       "    <tr>\n",
       "      <th>1</th>\n",
       "      <td>1</td>\n",
       "      <td>1</td>\n",
       "      <td>43.000000</td>\n",
       "      <td>11492</td>\n",
       "      <td>1</td>\n",
       "      <td>3</td>\n",
       "      <td>0</td>\n",
       "      <td>1</td>\n",
       "      <td>0</td>\n",
       "      <td>23</td>\n",
       "      <td>...</td>\n",
       "      <td>5</td>\n",
       "      <td>4</td>\n",
       "      <td>3</td>\n",
       "      <td>3</td>\n",
       "      <td>3</td>\n",
       "      <td>4</td>\n",
       "      <td>3</td>\n",
       "      <td>2</td>\n",
       "      <td>1</td>\n",
       "      <td>13</td>\n",
       "    </tr>\n",
       "    <tr>\n",
       "      <th>2</th>\n",
       "      <td>2</td>\n",
       "      <td>2</td>\n",
       "      <td>68.000000</td>\n",
       "      <td>7922</td>\n",
       "      <td>1</td>\n",
       "      <td>3</td>\n",
       "      <td>0</td>\n",
       "      <td>4</td>\n",
       "      <td>0</td>\n",
       "      <td>15</td>\n",
       "      <td>...</td>\n",
       "      <td>3</td>\n",
       "      <td>4</td>\n",
       "      <td>0</td>\n",
       "      <td>3</td>\n",
       "      <td>3</td>\n",
       "      <td>3</td>\n",
       "      <td>3</td>\n",
       "      <td>2</td>\n",
       "      <td>1</td>\n",
       "      <td>57</td>\n",
       "    </tr>\n",
       "    <tr>\n",
       "      <th>3</th>\n",
       "      <td>3</td>\n",
       "      <td>3</td>\n",
       "      <td>73.000000</td>\n",
       "      <td>9802</td>\n",
       "      <td>1</td>\n",
       "      <td>3</td>\n",
       "      <td>0</td>\n",
       "      <td>4</td>\n",
       "      <td>0</td>\n",
       "      <td>26</td>\n",
       "      <td>...</td>\n",
       "      <td>4</td>\n",
       "      <td>3</td>\n",
       "      <td>0</td>\n",
       "      <td>3</td>\n",
       "      <td>3</td>\n",
       "      <td>4</td>\n",
       "      <td>3</td>\n",
       "      <td>2</td>\n",
       "      <td>1</td>\n",
       "      <td>4</td>\n",
       "    </tr>\n",
       "    <tr>\n",
       "      <th>4</th>\n",
       "      <td>4</td>\n",
       "      <td>4</td>\n",
       "      <td>82.000000</td>\n",
       "      <td>14235</td>\n",
       "      <td>1</td>\n",
       "      <td>3</td>\n",
       "      <td>0</td>\n",
       "      <td>4</td>\n",
       "      <td>0</td>\n",
       "      <td>23</td>\n",
       "      <td>...</td>\n",
       "      <td>3</td>\n",
       "      <td>3</td>\n",
       "      <td>0</td>\n",
       "      <td>3</td>\n",
       "      <td>3</td>\n",
       "      <td>2</td>\n",
       "      <td>4</td>\n",
       "      <td>0</td>\n",
       "      <td>1</td>\n",
       "      <td>110</td>\n",
       "    </tr>\n",
       "  </tbody>\n",
       "</table>\n",
       "<p>5 rows × 64 columns</p>\n",
       "</div>"
      ],
      "text/plain": [
       "   Unnamed: 0  Unnamed: 0.1  Lot Frontage  Lot Area  Street  Land Contour  \\\n",
       "0           0             0     79.466028     13517       1             3   \n",
       "1           1             1     43.000000     11492       1             3   \n",
       "2           2             2     68.000000      7922       1             3   \n",
       "3           3             3     73.000000      9802       1             3   \n",
       "4           4             4     82.000000     14235       1             3   \n",
       "\n",
       "   Utilities  Lot Config  Land Slope  Neighborhood  ...  heatqc_dummy  \\\n",
       "0          0           1           0            22  ...             5   \n",
       "1          0           1           0            23  ...             5   \n",
       "2          0           4           0            15  ...             3   \n",
       "3          0           4           0            26  ...             4   \n",
       "4          0           4           0            23  ...             3   \n",
       "\n",
       "   kitchenqual_dummy  fireplacequal_dummy  garagequal_dummy  garagecond_dummy  \\\n",
       "0                  4                    0                 3                 3   \n",
       "1                  4                    3                 3                 3   \n",
       "2                  4                    0                 3                 3   \n",
       "3                  3                    0                 3                 3   \n",
       "4                  3                    0                 3                 3   \n",
       "\n",
       "   bsmtqual_dummy  bsmtcond_dummy  paveddrive_dummy  centralair_dummy  \\\n",
       "0               3               3                 2                 1   \n",
       "1               4               3                 2                 1   \n",
       "2               3               3                 2                 1   \n",
       "3               4               3                 2                 1   \n",
       "4               2               4                 0                 1   \n",
       "\n",
       "   HouseAge  \n",
       "0        34  \n",
       "1        13  \n",
       "2        57  \n",
       "3         4  \n",
       "4       110  \n",
       "\n",
       "[5 rows x 64 columns]"
      ]
     },
     "execution_count": 2,
     "metadata": {},
     "output_type": "execute_result"
    }
   ],
   "source": [
    "df_train = pd.read_csv(\"../datasets/train_wfeature.csv\")\n",
    "df_train.head()"
   ]
  },
  {
   "cell_type": "code",
   "execution_count": 3,
   "id": "6c6ea6d2",
   "metadata": {},
   "outputs": [],
   "source": [
    "#drop unnecessary columns\n",
    "df_train.drop(columns=['Unnamed: 0', 'Unnamed: 0.1'], inplace=True)"
   ]
  },
  {
   "cell_type": "code",
   "execution_count": 4,
   "id": "14a94798",
   "metadata": {},
   "outputs": [
    {
     "data": {
      "text/plain": [
       "(1933, 62)"
      ]
     },
     "execution_count": 4,
     "metadata": {},
     "output_type": "execute_result"
    }
   ],
   "source": [
    "#check the number of data points and columns\n",
    "df_train.shape"
   ]
  },
  {
   "cell_type": "code",
   "execution_count": 5,
   "id": "0be16a20",
   "metadata": {},
   "outputs": [
    {
     "data": {
      "text/plain": [
       "Series([], dtype: int64)"
      ]
     },
     "execution_count": 5,
     "metadata": {},
     "output_type": "execute_result"
    }
   ],
   "source": [
    "#check that there is no null values\n",
    "df_train.isnull().sum()[df_train.isnull().sum()>0].sort_values()"
   ]
  },
  {
   "cell_type": "code",
   "execution_count": 6,
   "id": "6bae7d88",
   "metadata": {},
   "outputs": [
    {
     "data": {
      "text/html": [
       "<div>\n",
       "<style scoped>\n",
       "    .dataframe tbody tr th:only-of-type {\n",
       "        vertical-align: middle;\n",
       "    }\n",
       "\n",
       "    .dataframe tbody tr th {\n",
       "        vertical-align: top;\n",
       "    }\n",
       "\n",
       "    .dataframe thead th {\n",
       "        text-align: right;\n",
       "    }\n",
       "</style>\n",
       "<table border=\"1\" class=\"dataframe\">\n",
       "  <thead>\n",
       "    <tr style=\"text-align: right;\">\n",
       "      <th></th>\n",
       "      <th>count</th>\n",
       "      <th>mean</th>\n",
       "      <th>std</th>\n",
       "      <th>min</th>\n",
       "      <th>25%</th>\n",
       "      <th>50%</th>\n",
       "      <th>75%</th>\n",
       "      <th>max</th>\n",
       "    </tr>\n",
       "  </thead>\n",
       "  <tbody>\n",
       "    <tr>\n",
       "      <th>Lot Frontage</th>\n",
       "      <td>1933.0</td>\n",
       "      <td>69.161974</td>\n",
       "      <td>24.249410</td>\n",
       "      <td>21.0</td>\n",
       "      <td>60.0</td>\n",
       "      <td>68.38805</td>\n",
       "      <td>80.0</td>\n",
       "      <td>468.379543</td>\n",
       "    </tr>\n",
       "    <tr>\n",
       "      <th>Lot Area</th>\n",
       "      <td>1933.0</td>\n",
       "      <td>9784.326436</td>\n",
       "      <td>6445.639572</td>\n",
       "      <td>1300.0</td>\n",
       "      <td>7406.0</td>\n",
       "      <td>9260.00000</td>\n",
       "      <td>11120.0</td>\n",
       "      <td>159000.000000</td>\n",
       "    </tr>\n",
       "    <tr>\n",
       "      <th>Street</th>\n",
       "      <td>1933.0</td>\n",
       "      <td>0.998448</td>\n",
       "      <td>0.039375</td>\n",
       "      <td>0.0</td>\n",
       "      <td>1.0</td>\n",
       "      <td>1.00000</td>\n",
       "      <td>1.0</td>\n",
       "      <td>1.000000</td>\n",
       "    </tr>\n",
       "    <tr>\n",
       "      <th>Land Contour</th>\n",
       "      <td>1933.0</td>\n",
       "      <td>2.797206</td>\n",
       "      <td>0.679676</td>\n",
       "      <td>0.0</td>\n",
       "      <td>3.0</td>\n",
       "      <td>3.00000</td>\n",
       "      <td>3.0</td>\n",
       "      <td>3.000000</td>\n",
       "    </tr>\n",
       "    <tr>\n",
       "      <th>Utilities</th>\n",
       "      <td>1933.0</td>\n",
       "      <td>0.000517</td>\n",
       "      <td>0.022745</td>\n",
       "      <td>0.0</td>\n",
       "      <td>0.0</td>\n",
       "      <td>0.00000</td>\n",
       "      <td>0.0</td>\n",
       "      <td>1.000000</td>\n",
       "    </tr>\n",
       "    <tr>\n",
       "      <th>...</th>\n",
       "      <td>...</td>\n",
       "      <td>...</td>\n",
       "      <td>...</td>\n",
       "      <td>...</td>\n",
       "      <td>...</td>\n",
       "      <td>...</td>\n",
       "      <td>...</td>\n",
       "      <td>...</td>\n",
       "    </tr>\n",
       "    <tr>\n",
       "      <th>bsmtqual_dummy</th>\n",
       "      <td>1933.0</td>\n",
       "      <td>3.441283</td>\n",
       "      <td>0.858699</td>\n",
       "      <td>0.0</td>\n",
       "      <td>3.0</td>\n",
       "      <td>3.00000</td>\n",
       "      <td>4.0</td>\n",
       "      <td>5.000000</td>\n",
       "    </tr>\n",
       "    <tr>\n",
       "      <th>bsmtcond_dummy</th>\n",
       "      <td>1933.0</td>\n",
       "      <td>2.929643</td>\n",
       "      <td>0.568511</td>\n",
       "      <td>0.0</td>\n",
       "      <td>3.0</td>\n",
       "      <td>3.00000</td>\n",
       "      <td>3.0</td>\n",
       "      <td>5.000000</td>\n",
       "    </tr>\n",
       "    <tr>\n",
       "      <th>paveddrive_dummy</th>\n",
       "      <td>1933.0</td>\n",
       "      <td>1.840145</td>\n",
       "      <td>0.523567</td>\n",
       "      <td>0.0</td>\n",
       "      <td>2.0</td>\n",
       "      <td>2.00000</td>\n",
       "      <td>2.0</td>\n",
       "      <td>2.000000</td>\n",
       "    </tr>\n",
       "    <tr>\n",
       "      <th>centralair_dummy</th>\n",
       "      <td>1933.0</td>\n",
       "      <td>0.934816</td>\n",
       "      <td>0.246914</td>\n",
       "      <td>0.0</td>\n",
       "      <td>1.0</td>\n",
       "      <td>1.00000</td>\n",
       "      <td>1.0</td>\n",
       "      <td>1.000000</td>\n",
       "    </tr>\n",
       "    <tr>\n",
       "      <th>HouseAge</th>\n",
       "      <td>1933.0</td>\n",
       "      <td>37.035178</td>\n",
       "      <td>29.678240</td>\n",
       "      <td>0.0</td>\n",
       "      <td>8.0</td>\n",
       "      <td>35.00000</td>\n",
       "      <td>55.0</td>\n",
       "      <td>136.000000</td>\n",
       "    </tr>\n",
       "  </tbody>\n",
       "</table>\n",
       "<p>62 rows × 8 columns</p>\n",
       "</div>"
      ],
      "text/plain": [
       "                   count         mean          std     min     25%  \\\n",
       "Lot Frontage      1933.0    69.161974    24.249410    21.0    60.0   \n",
       "Lot Area          1933.0  9784.326436  6445.639572  1300.0  7406.0   \n",
       "Street            1933.0     0.998448     0.039375     0.0     1.0   \n",
       "Land Contour      1933.0     2.797206     0.679676     0.0     3.0   \n",
       "Utilities         1933.0     0.000517     0.022745     0.0     0.0   \n",
       "...                  ...          ...          ...     ...     ...   \n",
       "bsmtqual_dummy    1933.0     3.441283     0.858699     0.0     3.0   \n",
       "bsmtcond_dummy    1933.0     2.929643     0.568511     0.0     3.0   \n",
       "paveddrive_dummy  1933.0     1.840145     0.523567     0.0     2.0   \n",
       "centralair_dummy  1933.0     0.934816     0.246914     0.0     1.0   \n",
       "HouseAge          1933.0    37.035178    29.678240     0.0     8.0   \n",
       "\n",
       "                         50%      75%            max  \n",
       "Lot Frontage        68.38805     80.0     468.379543  \n",
       "Lot Area          9260.00000  11120.0  159000.000000  \n",
       "Street               1.00000      1.0       1.000000  \n",
       "Land Contour         3.00000      3.0       3.000000  \n",
       "Utilities            0.00000      0.0       1.000000  \n",
       "...                      ...      ...            ...  \n",
       "bsmtqual_dummy       3.00000      4.0       5.000000  \n",
       "bsmtcond_dummy       3.00000      3.0       5.000000  \n",
       "paveddrive_dummy     2.00000      2.0       2.000000  \n",
       "centralair_dummy     1.00000      1.0       1.000000  \n",
       "HouseAge            35.00000     55.0     136.000000  \n",
       "\n",
       "[62 rows x 8 columns]"
      ]
     },
     "execution_count": 6,
     "metadata": {},
     "output_type": "execute_result"
    }
   ],
   "source": [
    "df_train.describe().T"
   ]
  },
  {
   "cell_type": "code",
   "execution_count": 7,
   "id": "38309c30",
   "metadata": {},
   "outputs": [],
   "source": [
    "## add OLS here"
   ]
  },
  {
   "cell_type": "markdown",
   "id": "d1007c9d",
   "metadata": {},
   "source": [
    "## define X  (...) and y (target)"
   ]
  },
  {
   "cell_type": "code",
   "execution_count": 8,
   "id": "f654f402",
   "metadata": {},
   "outputs": [],
   "source": [
    "X=df_train.drop(columns='SalePrice')\n",
    "y=df_train['SalePrice']"
   ]
  },
  {
   "cell_type": "code",
   "execution_count": 9,
   "id": "a95f0a18",
   "metadata": {},
   "outputs": [],
   "source": [
    "#split the data\n",
    "X_train, X_test, y_train, y_test = train_test_split(X,y, random_state=52)"
   ]
  },
  {
   "cell_type": "code",
   "execution_count": 10,
   "id": "5418081f",
   "metadata": {},
   "outputs": [],
   "source": [
    "#scale the X\n",
    "ss = StandardScaler()\n",
    "X_train_scaled = ss.fit_transform(X_train)\n",
    "X_test_scaled = ss.transform(X_test)"
   ]
  },
  {
   "cell_type": "code",
   "execution_count": 11,
   "id": "8c59a25f",
   "metadata": {},
   "outputs": [],
   "source": [
    "#store the result of all models\n",
    "df_result = pd.DataFrame(columns=['Model', 'Train Score', 'Test Score'])"
   ]
  },
  {
   "cell_type": "code",
   "execution_count": 12,
   "id": "7ee6b15d",
   "metadata": {},
   "outputs": [],
   "source": [
    "def add_reggression_result(df, model, train_score, test_score):\n",
    "    df_temp = pd.DataFrame([[model, train_score, test_score]], columns=['Model', 'Train Score', 'Test Score'])\n",
    "    df = df.append(df_temp)\n",
    "    return df"
   ]
  },
  {
   "cell_type": "markdown",
   "id": "921f0205",
   "metadata": {},
   "source": [
    "## Linear Regression"
   ]
  },
  {
   "cell_type": "code",
   "execution_count": 13,
   "id": "9e7d5d56",
   "metadata": {},
   "outputs": [
    {
     "data": {
      "text/plain": [
       "LinearRegression()"
      ]
     },
     "execution_count": 13,
     "metadata": {},
     "output_type": "execute_result"
    }
   ],
   "source": [
    "# Instantiate model.\n",
    "lr = LinearRegression()\n",
    "\n",
    "# Fit model\n",
    "lr.fit(X_train, y_train)"
   ]
  },
  {
   "cell_type": "code",
   "execution_count": 14,
   "id": "491c4b94",
   "metadata": {},
   "outputs": [
    {
     "name": "stdout",
     "output_type": "stream",
     "text": [
      "0.8889616740824643 0.8693385343270047\n"
     ]
    },
    {
     "data": {
      "text/html": [
       "<div>\n",
       "<style scoped>\n",
       "    .dataframe tbody tr th:only-of-type {\n",
       "        vertical-align: middle;\n",
       "    }\n",
       "\n",
       "    .dataframe tbody tr th {\n",
       "        vertical-align: top;\n",
       "    }\n",
       "\n",
       "    .dataframe thead th {\n",
       "        text-align: right;\n",
       "    }\n",
       "</style>\n",
       "<table border=\"1\" class=\"dataframe\">\n",
       "  <thead>\n",
       "    <tr style=\"text-align: right;\">\n",
       "      <th></th>\n",
       "      <th>Model</th>\n",
       "      <th>Train Score</th>\n",
       "      <th>Test Score</th>\n",
       "    </tr>\n",
       "  </thead>\n",
       "  <tbody>\n",
       "    <tr>\n",
       "      <th>0</th>\n",
       "      <td>LR</td>\n",
       "      <td>0.888962</td>\n",
       "      <td>0.869339</td>\n",
       "    </tr>\n",
       "  </tbody>\n",
       "</table>\n",
       "</div>"
      ],
      "text/plain": [
       "  Model  Train Score  Test Score\n",
       "0    LR     0.888962    0.869339"
      ]
     },
     "execution_count": 14,
     "metadata": {},
     "output_type": "execute_result"
    }
   ],
   "source": [
    "#predicting on the train set\n",
    "lr_train_score = lr.score(X_train, y_train)\n",
    "\n",
    "#predicting on the test set\n",
    "lr_test_score = lr.score(X_test, y_test)\n",
    "\n",
    "print(lr_train_score,lr_test_score)\n",
    "#Summary of Score\n",
    "df_result=add_reggression_result(df_result, 'LR', lr_train_score,lr_test_score )\n",
    "df_result\n"
   ]
  },
  {
   "cell_type": "markdown",
   "id": "65b9b5a3",
   "metadata": {},
   "source": [
    "## Ridge"
   ]
  },
  {
   "cell_type": "code",
   "execution_count": 15,
   "id": "db162fe1",
   "metadata": {},
   "outputs": [
    {
     "data": {
      "text/plain": [
       "RidgeCV(alphas=array([1.        , 1.00230986, 1.00462506, 1.00694561, 1.00927151,\n",
       "       1.01160279, 1.01393946, 1.01628152, 1.01862899, 1.02098188,\n",
       "       1.02334021, 1.02570399, 1.02807322, 1.03044793, 1.03282813,\n",
       "       1.03521382, 1.03760502, 1.04000175, 1.04240401, 1.04481182,\n",
       "       1.04722519, 1.04964414, 1.05206867, 1.05449881, 1.05693455,\n",
       "       1.05937593, 1.06182294, 1.06427561, 1.06673394, 1.06919795,\n",
       "       1.0716...\n",
       "       2.92369364, 2.93044698, 2.93721591, 2.94400048, 2.95080071,\n",
       "       2.95761666, 2.96444835, 2.97129582, 2.97815911, 2.98503825,\n",
       "       2.99193327, 2.99884423, 3.00577115, 3.01271407, 3.01967303,\n",
       "       3.02664806, 3.0336392 , 3.04064649, 3.04766997, 3.05470967,\n",
       "       3.06176563, 3.06883789, 3.07592649, 3.08303146, 3.09015284,\n",
       "       3.09729067, 3.10444498, 3.11161583, 3.11880323, 3.12600724,\n",
       "       3.13322789, 3.14046522, 3.14771926, 3.15499006, 3.16227766]),\n",
       "        cv=5, scoring='r2')"
      ]
     },
     "execution_count": 15,
     "metadata": {},
     "output_type": "execute_result"
    }
   ],
   "source": [
    "# Set up a list of alphas to check.\n",
    "r_alphas = np.logspace(0, 0.5, 500)\n",
    "\n",
    "# Instantiate model.\n",
    "ridge_cv = RidgeCV(alphas=r_alphas, scoring='r2', cv=5)\n",
    "\n",
    "# Fit model using optimal alpha.\n",
    "ridge_cv.fit(X_train_scaled, y_train)"
   ]
  },
  {
   "cell_type": "code",
   "execution_count": 16,
   "id": "26f2e7a9",
   "metadata": {},
   "outputs": [
    {
     "data": {
      "text/plain": [
       "3.1622776601683795"
      ]
     },
     "execution_count": 16,
     "metadata": {},
     "output_type": "execute_result"
    }
   ],
   "source": [
    "#check the optmize alpa\n",
    "ridge_cv.alpha_"
   ]
  },
  {
   "cell_type": "code",
   "execution_count": 17,
   "id": "d1dd34e1",
   "metadata": {},
   "outputs": [
    {
     "data": {
      "text/plain": [
       "Ridge(alpha=3.1622776601683795)"
      ]
     },
     "execution_count": 17,
     "metadata": {},
     "output_type": "execute_result"
    }
   ],
   "source": [
    "#instantiate using the optimize alpha\n",
    "ridge_model = Ridge(ridge_cv.alpha_)\n",
    "\n",
    "# Fit model using optimal alpha.\n",
    "ridge_model.fit(X_train_scaled, y_train)"
   ]
  },
  {
   "cell_type": "code",
   "execution_count": 18,
   "id": "a50e9c2c",
   "metadata": {},
   "outputs": [
    {
     "data": {
      "text/html": [
       "<div>\n",
       "<style scoped>\n",
       "    .dataframe tbody tr th:only-of-type {\n",
       "        vertical-align: middle;\n",
       "    }\n",
       "\n",
       "    .dataframe tbody tr th {\n",
       "        vertical-align: top;\n",
       "    }\n",
       "\n",
       "    .dataframe thead th {\n",
       "        text-align: right;\n",
       "    }\n",
       "</style>\n",
       "<table border=\"1\" class=\"dataframe\">\n",
       "  <thead>\n",
       "    <tr style=\"text-align: right;\">\n",
       "      <th></th>\n",
       "      <th>Model</th>\n",
       "      <th>Train Score</th>\n",
       "      <th>Test Score</th>\n",
       "    </tr>\n",
       "  </thead>\n",
       "  <tbody>\n",
       "    <tr>\n",
       "      <th>0</th>\n",
       "      <td>LR</td>\n",
       "      <td>0.888962</td>\n",
       "      <td>0.869339</td>\n",
       "    </tr>\n",
       "    <tr>\n",
       "      <th>0</th>\n",
       "      <td>Ridge</td>\n",
       "      <td>0.888957</td>\n",
       "      <td>0.869256</td>\n",
       "    </tr>\n",
       "  </tbody>\n",
       "</table>\n",
       "</div>"
      ],
      "text/plain": [
       "   Model  Train Score  Test Score\n",
       "0     LR     0.888962    0.869339\n",
       "0  Ridge     0.888957    0.869256"
      ]
     },
     "execution_count": 18,
     "metadata": {},
     "output_type": "execute_result"
    }
   ],
   "source": [
    "# Evaluate model.\n",
    "ridge_train_score = ridge_model.score(X_train_scaled, y_train)\n",
    "ridge_test_score = ridge_model.score(X_test_scaled, y_test)\n",
    "\n",
    "\n",
    "#Summary of Score\n",
    "df_result=add_reggression_result(df_result, 'Ridge', ridge_train_score, ridge_test_score)\n",
    "df_result"
   ]
  },
  {
   "cell_type": "code",
   "execution_count": 19,
   "id": "d86c7c73",
   "metadata": {},
   "outputs": [
    {
     "data": {
      "text/plain": [
       "array([5.49901190e+07, 8.99333902e+07, 6.02069194e+07, 8.13548036e+07,\n",
       "       6.17228498e+07, 6.83314045e+07, 6.91529011e+07, 8.86862712e+07,\n",
       "       7.12556126e+07, 9.81580084e+07, 9.99312686e+07, 8.80953570e+07,\n",
       "       8.39411480e+07, 9.86701079e+07, 6.96403549e+07, 7.85561881e+07,\n",
       "       6.02694420e+07, 7.99712202e+07, 5.90483299e+07, 7.80820391e+07,\n",
       "       6.94836763e+07, 7.07875333e+07, 9.19652759e+07, 6.84897160e+07,\n",
       "       1.04098240e+08, 7.62749484e+07, 7.49630903e+07, 8.67697432e+07,\n",
       "       1.33197022e+08, 1.24194106e+08, 5.87812754e+07, 7.52208916e+07,\n",
       "       6.37792882e+07, 6.45971638e+07, 1.11916046e+08, 9.68558769e+07,\n",
       "       6.53183211e+07, 1.08640745e+08, 6.92442772e+07, 7.40414278e+07,\n",
       "       4.93332794e+07, 1.05250995e+08, 5.63857677e+07, 6.50553878e+07,\n",
       "       6.12803543e+07, 7.52673699e+07, 5.46795413e+07, 8.85149432e+07,\n",
       "       4.93856345e+07, 6.94402530e+07, 7.03094790e+07, 6.33623857e+07,\n",
       "       7.73441939e+07, 8.12861954e+07, 5.97174929e+07, 6.26818735e+07,\n",
       "       8.77814752e+07, 7.90730653e+07, 5.36492740e+07, 5.90833804e+07,\n",
       "       1.06668604e+08, 5.97733369e+07, 8.24576920e+07, 9.71785941e+07,\n",
       "       6.11633603e+07, 4.76361983e+07, 6.12238323e+07, 8.70009164e+07,\n",
       "       4.05840510e+07, 8.88316418e+07, 8.61585910e+07, 8.56993268e+07,\n",
       "       4.72116858e+07, 7.14376574e+07, 8.89749412e+07, 1.54303742e+08,\n",
       "       7.98585159e+07, 6.91386628e+07, 7.09379858e+07, 8.10797748e+07,\n",
       "       7.11657109e+07, 1.09487245e+08, 8.70078207e+07, 5.01426306e+07,\n",
       "       6.94133216e+07, 7.17489446e+07, 1.64266909e+08, 5.97106545e+07,\n",
       "       6.72346002e+07, 8.17113960e+07, 9.10649885e+07, 9.47424432e+07,\n",
       "       1.24295050e+08, 1.08407582e+08, 6.22168434e+07, 4.07778045e+07,\n",
       "       1.01605208e+08, 6.95491533e+07, 5.48649171e+07, 1.05089580e+08,\n",
       "       6.47018147e+07, 8.32965867e+07, 9.80052463e+07, 6.42680310e+07,\n",
       "       7.43344276e+07, 5.10909780e+07, 6.03761099e+07, 5.93810878e+07,\n",
       "       1.08828696e+08, 4.13890237e+07, 8.03483852e+07, 8.63391876e+07,\n",
       "       7.95834346e+07, 7.83776016e+07, 5.54502800e+07, 1.06570804e+08,\n",
       "       9.94842222e+07, 9.61406002e+07, 7.62642071e+07, 8.40995091e+07,\n",
       "       9.33652940e+07, 1.00366365e+08, 4.03051362e+07, 7.44336871e+07,\n",
       "       7.19264811e+07, 7.69350392e+07, 8.61347993e+07, 6.39458304e+07,\n",
       "       9.83215349e+07, 9.90270064e+07, 9.29139601e+07, 7.35873653e+07,\n",
       "       7.64308272e+07, 5.56031929e+07, 5.43233738e+07, 5.46663112e+07,\n",
       "       9.95203530e+07, 7.72321772e+07, 6.63000633e+07, 6.74638632e+07,\n",
       "       7.52005264e+07, 5.73369488e+07, 8.50842174e+07, 9.61383866e+07,\n",
       "       9.55140840e+07, 4.67995638e+07, 7.42094795e+07, 9.67416236e+07,\n",
       "       1.06917136e+08, 6.33061247e+07, 7.39625836e+07, 6.94612453e+07,\n",
       "       9.50034947e+07, 8.37460745e+07, 5.86509979e+08, 1.26496314e+08,\n",
       "       5.72154166e+07, 1.01731111e+08, 7.26617185e+07, 1.12139623e+08,\n",
       "       5.60537597e+07, 8.28250748e+07, 7.09237537e+07, 5.91136383e+07,\n",
       "       6.36112200e+07, 7.27319484e+07, 8.28693841e+07, 6.87584855e+07,\n",
       "       6.06407516e+07, 9.17988288e+07, 9.70049549e+07, 7.24801549e+07,\n",
       "       5.14624783e+07, 6.31594379e+07, 8.94526949e+07, 1.17220351e+08,\n",
       "       7.86025976e+07, 9.72749128e+07, 8.35863145e+07, 6.06254084e+07,\n",
       "       7.10739492e+07, 6.50832158e+07, 5.90944351e+07, 7.75127553e+07,\n",
       "       7.62694928e+07, 8.99363330e+07, 7.70183866e+07, 7.52128563e+07,\n",
       "       7.32066455e+07, 8.54330028e+07, 6.09844951e+07, 6.20307990e+07,\n",
       "       6.43303913e+07, 1.02440940e+08, 8.09177020e+07, 5.43982593e+07,\n",
       "       9.12680091e+07, 5.26214601e+07, 7.84181784e+07, 6.45865174e+07,\n",
       "       6.87101441e+07, 9.11707024e+07, 8.68495111e+07, 6.02785235e+07,\n",
       "       7.48810966e+07, 7.12091583e+07, 8.28397125e+07, 8.26424517e+07,\n",
       "       1.04797346e+08, 6.83724757e+07, 6.11397591e+07, 9.61387208e+07,\n",
       "       8.81627367e+07, 4.11025904e+07, 5.44370166e+07, 5.01426973e+07,\n",
       "       6.68341235e+07, 8.26519025e+07, 1.14179650e+08, 6.54013974e+07,\n",
       "       7.00424919e+07, 7.29808364e+07, 9.41357101e+07, 7.20666254e+07,\n",
       "       7.65325748e+07, 5.40885683e+07, 1.85998478e+08, 4.65875098e+07,\n",
       "       6.14723389e+07, 6.04473215e+07, 7.58003061e+07, 8.15785991e+07,\n",
       "       5.96765490e+07, 7.21711841e+07, 8.91197446e+07, 8.51546325e+07,\n",
       "       1.00719300e+08, 9.32721236e+07, 6.89762526e+07, 3.99534675e+07,\n",
       "       6.50455046e+07, 9.79408467e+07, 7.47177030e+07, 7.01224492e+07,\n",
       "       5.91999997e+07, 7.05505566e+07, 6.25958677e+07, 9.21757125e+07,\n",
       "       6.98416447e+07, 9.02949365e+07, 6.44504621e+07, 6.31501694e+07,\n",
       "       8.87977254e+07, 1.02481809e+08, 8.31334619e+07, 1.03698112e+08,\n",
       "       8.13206918e+07, 5.12462139e+07, 1.09151036e+08, 9.45100365e+07,\n",
       "       7.90040304e+07, 1.29165727e+08, 5.45931466e+07, 5.03700755e+07,\n",
       "       6.02307724e+07, 7.50419580e+07, 1.02471441e+08, 9.63700387e+07,\n",
       "       7.34419540e+07, 2.39000336e+08, 1.20650171e+08, 9.85914899e+07,\n",
       "       8.71523344e+07, 1.24649948e+08, 7.38837748e+07, 1.00452101e+08,\n",
       "       7.61067088e+07, 1.01951556e+08, 7.14091307e+07, 8.77115780e+07,\n",
       "       1.48801227e+08, 6.98415574e+07, 6.40271856e+07, 6.33933030e+07,\n",
       "       6.01545996e+07, 6.20260705e+07, 6.15868802e+07, 7.29762931e+07,\n",
       "       5.75313205e+07, 1.02286591e+08, 8.55453334e+07, 9.79675556e+07,\n",
       "       5.63491785e+07, 8.10279144e+07, 5.98343798e+07, 5.62296814e+07,\n",
       "       3.24796086e+07, 5.90182465e+07, 9.36332949e+07, 7.61621845e+07,\n",
       "       5.43261796e+07, 8.48014087e+07, 1.81805626e+08, 8.22396179e+07,\n",
       "       1.36202087e+08, 5.64506887e+07, 7.98791656e+07, 6.19267077e+07,\n",
       "       8.96874505e+07, 5.42226550e+07, 8.19448794e+07, 7.93812800e+07,\n",
       "       7.37129577e+07, 6.52142388e+07, 8.85218668e+07, 1.03606075e+08,\n",
       "       8.80701357e+07, 9.37352418e+07, 8.13266902e+07, 8.78552826e+07,\n",
       "       9.51434233e+07, 1.06331929e+08, 5.96113269e+07, 7.13213694e+07,\n",
       "       8.71535661e+07, 7.04837759e+07, 1.06515256e+08, 6.39712017e+07,\n",
       "       8.28764187e+07, 2.00847158e+08, 7.22500938e+07, 9.30944530e+07,\n",
       "       7.31288650e+07, 1.02900534e+08, 6.29029008e+07, 5.38843455e+07,\n",
       "       8.40573048e+07, 1.53999937e+08, 6.57352384e+07, 9.89998577e+07,\n",
       "       8.25573469e+07, 8.35040000e+07, 6.88777908e+07, 4.73770268e+07,\n",
       "       4.17126646e+07, 9.63347934e+07, 8.12232014e+07, 8.55675373e+07,\n",
       "       9.34559890e+07, 7.53956737e+07, 8.59170757e+07, 5.59882683e+07,\n",
       "       6.24519199e+07, 1.21067465e+08, 9.61696889e+07, 6.19136449e+07,\n",
       "       5.65045325e+07, 7.64128212e+07, 8.16160945e+07, 6.85101376e+07,\n",
       "       6.39162680e+07, 5.87910793e+07, 4.93475176e+07, 9.78522913e+07,\n",
       "       5.20179927e+07, 8.84446848e+07, 7.45823246e+07, 5.26622204e+07,\n",
       "       4.35804271e+07, 1.02174415e+08, 4.88787858e+07, 9.60664661e+07,\n",
       "       9.38681332e+07, 1.00566941e+08, 6.24569501e+07, 7.62628270e+07,\n",
       "       8.67476363e+07, 6.29288695e+07, 8.91822395e+07, 7.45642816e+07,\n",
       "       6.88883336e+07, 1.05386757e+08, 8.17916271e+07, 6.00106566e+07,\n",
       "       6.01823684e+07, 3.99997960e+07, 6.62070913e+07, 9.25550354e+07,\n",
       "       5.99831052e+07, 6.51519523e+07, 9.03090015e+07, 8.08700937e+07,\n",
       "       8.89606052e+07, 4.51957967e+07, 9.44109234e+07, 8.25447697e+07,\n",
       "       5.91753196e+07, 9.60510125e+07, 8.72487599e+07, 9.44312668e+07,\n",
       "       7.33976341e+07, 7.13313770e+07, 1.02160895e+08, 7.61849237e+07,\n",
       "       5.73605399e+07, 7.49744670e+07, 9.23336507e+07, 5.91878070e+07,\n",
       "       8.43294760e+07, 8.45631153e+07, 8.48341439e+07, 7.95983872e+07,\n",
       "       5.01514544e+07, 7.57282522e+07, 1.08678469e+08, 8.68199325e+07,\n",
       "       6.87996839e+07, 6.87965242e+07, 5.87542328e+07, 6.04043007e+07,\n",
       "       7.97330827e+07, 1.08666306e+08, 1.08121460e+08, 7.42855381e+07,\n",
       "       7.28533822e+07, 9.98947304e+07, 8.31884082e+07, 6.61253374e+07,\n",
       "       6.99999911e+07, 8.39075014e+07, 7.88130247e+07, 8.67250979e+07,\n",
       "       9.48309289e+07, 8.04230755e+07, 7.02835870e+07, 7.27208448e+07,\n",
       "       5.54486909e+07, 8.88739573e+07, 7.52741545e+07, 1.00806159e+08,\n",
       "       1.00161496e+08, 6.13123156e+07, 7.63230770e+07, 7.67891780e+07,\n",
       "       7.48932480e+07, 7.86502003e+07, 8.54503348e+07, 9.82565124e+07,\n",
       "       8.07011143e+07, 8.12902337e+07, 7.52587011e+07, 7.14627504e+07,\n",
       "       6.45024981e+07, 9.32758871e+07, 6.03359207e+07, 8.00377437e+07,\n",
       "       6.35815702e+07, 6.98673820e+07, 8.97012157e+07, 6.08866643e+07,\n",
       "       9.22415768e+07, 1.45431492e+08, 5.28065772e+07, 7.69279678e+07,\n",
       "       6.34746393e+07, 5.56848735e+07, 7.61553900e+07, 6.56592093e+07,\n",
       "       6.57768450e+07, 8.31040725e+07, 8.53220776e+07, 5.12389077e+07,\n",
       "       9.17416351e+07, 7.84803309e+07, 9.36871719e+07, 6.39673444e+07,\n",
       "       1.00231632e+08, 6.58084650e+07, 7.75210667e+07, 5.72031611e+07,\n",
       "       8.16910410e+07, 8.95776252e+07, 9.49435860e+07, 8.07209073e+07])"
      ]
     },
     "execution_count": 19,
     "metadata": {},
     "output_type": "execute_result"
    }
   ],
   "source": [
    "ridge_model.predict(X_test)"
   ]
  },
  {
   "cell_type": "markdown",
   "id": "c8e664d7",
   "metadata": {},
   "source": [
    "## LASSO"
   ]
  },
  {
   "cell_type": "code",
   "execution_count": 20,
   "id": "ea859940",
   "metadata": {},
   "outputs": [],
   "source": [
    "# Set up a list of alphas to check.\n",
    "l_alphas = np.logspace(0, 0.5, 500)\n",
    "\n",
    "# Instantiate model.\n",
    "lasso_cv = LassoCV(alphas=l_alphas, max_iter=5000, cv=5)"
   ]
  },
  {
   "cell_type": "code",
   "execution_count": 21,
   "id": "1a34edec",
   "metadata": {},
   "outputs": [
    {
     "data": {
      "text/plain": [
       "LassoCV(alphas=array([1.        , 1.00230986, 1.00462506, 1.00694561, 1.00927151,\n",
       "       1.01160279, 1.01393946, 1.01628152, 1.01862899, 1.02098188,\n",
       "       1.02334021, 1.02570399, 1.02807322, 1.03044793, 1.03282813,\n",
       "       1.03521382, 1.03760502, 1.04000175, 1.04240401, 1.04481182,\n",
       "       1.04722519, 1.04964414, 1.05206867, 1.05449881, 1.05693455,\n",
       "       1.05937593, 1.06182294, 1.06427561, 1.06673394, 1.06919795,\n",
       "       1.0716...\n",
       "       2.95761666, 2.96444835, 2.97129582, 2.97815911, 2.98503825,\n",
       "       2.99193327, 2.99884423, 3.00577115, 3.01271407, 3.01967303,\n",
       "       3.02664806, 3.0336392 , 3.04064649, 3.04766997, 3.05470967,\n",
       "       3.06176563, 3.06883789, 3.07592649, 3.08303146, 3.09015284,\n",
       "       3.09729067, 3.10444498, 3.11161583, 3.11880323, 3.12600724,\n",
       "       3.13322789, 3.14046522, 3.14771926, 3.15499006, 3.16227766]),\n",
       "        cv=5, max_iter=5000)"
      ]
     },
     "execution_count": 21,
     "metadata": {},
     "output_type": "execute_result"
    }
   ],
   "source": [
    "# Fit model\n",
    "lasso_cv.fit(X_train_scaled, y_train)"
   ]
  },
  {
   "cell_type": "code",
   "execution_count": 22,
   "id": "80534751",
   "metadata": {},
   "outputs": [
    {
     "data": {
      "text/plain": [
       "3.1622776601683795"
      ]
     },
     "execution_count": 22,
     "metadata": {},
     "output_type": "execute_result"
    }
   ],
   "source": [
    "#check the optimize alpha\n",
    "lasso_cv.alpha_"
   ]
  },
  {
   "cell_type": "code",
   "execution_count": 23,
   "id": "7a4430f4",
   "metadata": {},
   "outputs": [
    {
     "name": "stderr",
     "output_type": "stream",
     "text": [
      "/opt/anaconda3/lib/python3.8/site-packages/sklearn/linear_model/_coordinate_descent.py:530: ConvergenceWarning: Objective did not converge. You might want to increase the number of iterations. Duality gap: 140891051396.26456, tolerance: 509786401.70347583\n",
      "  model = cd_fast.enet_coordinate_descent(\n"
     ]
    },
    {
     "data": {
      "text/plain": [
       "Lasso(alpha=3.1622776601683795)"
      ]
     },
     "execution_count": 23,
     "metadata": {},
     "output_type": "execute_result"
    }
   ],
   "source": [
    "# Instantiate and Fit model using optimal alpha.\n",
    "lasso_model = Lasso(lasso_cv.alpha_)\n",
    "lasso_model.fit(X_train_scaled, y_train)"
   ]
  },
  {
   "cell_type": "code",
   "execution_count": 24,
   "id": "48677bce",
   "metadata": {},
   "outputs": [
    {
     "data": {
      "text/html": [
       "<div>\n",
       "<style scoped>\n",
       "    .dataframe tbody tr th:only-of-type {\n",
       "        vertical-align: middle;\n",
       "    }\n",
       "\n",
       "    .dataframe tbody tr th {\n",
       "        vertical-align: top;\n",
       "    }\n",
       "\n",
       "    .dataframe thead th {\n",
       "        text-align: right;\n",
       "    }\n",
       "</style>\n",
       "<table border=\"1\" class=\"dataframe\">\n",
       "  <thead>\n",
       "    <tr style=\"text-align: right;\">\n",
       "      <th></th>\n",
       "      <th>Model</th>\n",
       "      <th>Train Score</th>\n",
       "      <th>Test Score</th>\n",
       "    </tr>\n",
       "  </thead>\n",
       "  <tbody>\n",
       "    <tr>\n",
       "      <th>0</th>\n",
       "      <td>LR</td>\n",
       "      <td>0.888962</td>\n",
       "      <td>0.869339</td>\n",
       "    </tr>\n",
       "    <tr>\n",
       "      <th>0</th>\n",
       "      <td>Ridge</td>\n",
       "      <td>0.888957</td>\n",
       "      <td>0.869256</td>\n",
       "    </tr>\n",
       "    <tr>\n",
       "      <th>0</th>\n",
       "      <td>Lasso</td>\n",
       "      <td>0.888961</td>\n",
       "      <td>0.869328</td>\n",
       "    </tr>\n",
       "  </tbody>\n",
       "</table>\n",
       "</div>"
      ],
      "text/plain": [
       "   Model  Train Score  Test Score\n",
       "0     LR     0.888962    0.869339\n",
       "0  Ridge     0.888957    0.869256\n",
       "0  Lasso     0.888961    0.869328"
      ]
     },
     "execution_count": 24,
     "metadata": {},
     "output_type": "execute_result"
    }
   ],
   "source": [
    "# Evaluate model.\n",
    "lasso_train_score = lasso_model.score(X_train_scaled, y_train)\n",
    "lasso_test_score = lasso_model.score(X_test_scaled, y_test)\n",
    "\n",
    "#Summary of Score\n",
    "df_result=add_reggression_result(df_result, 'Lasso', lasso_train_score, lasso_test_score)\n",
    "df_result"
   ]
  },
  {
   "cell_type": "markdown",
   "id": "d394acc9",
   "metadata": {},
   "source": [
    "## ElasticNet"
   ]
  },
  {
   "cell_type": "code",
   "execution_count": 25,
   "id": "cda3fa73",
   "metadata": {},
   "outputs": [],
   "source": [
    "# Set up a list of alphas to check.\n",
    "enet_alphas = np.linspace(0.5, 1.0, 100)\n",
    "\n",
    "# Set up our l1 ratio. (What does this do?)\n",
    "enet_ratio = 0.5\n",
    "\n",
    "# Instantiate model.\n",
    "enet_model = ElasticNetCV(alphas=enet_alphas, l1_ratio=enet_ratio, cv=5)\n",
    "\n",
    "# Fit model using optimal alpha.\n",
    "enet_model = enet_model.fit(X_train_scaled, y_train)"
   ]
  },
  {
   "cell_type": "code",
   "execution_count": 26,
   "id": "da378c11",
   "metadata": {},
   "outputs": [
    {
     "data": {
      "text/html": [
       "<div>\n",
       "<style scoped>\n",
       "    .dataframe tbody tr th:only-of-type {\n",
       "        vertical-align: middle;\n",
       "    }\n",
       "\n",
       "    .dataframe tbody tr th {\n",
       "        vertical-align: top;\n",
       "    }\n",
       "\n",
       "    .dataframe thead th {\n",
       "        text-align: right;\n",
       "    }\n",
       "</style>\n",
       "<table border=\"1\" class=\"dataframe\">\n",
       "  <thead>\n",
       "    <tr style=\"text-align: right;\">\n",
       "      <th></th>\n",
       "      <th>Model</th>\n",
       "      <th>Train Score</th>\n",
       "      <th>Test Score</th>\n",
       "    </tr>\n",
       "  </thead>\n",
       "  <tbody>\n",
       "    <tr>\n",
       "      <th>0</th>\n",
       "      <td>LR</td>\n",
       "      <td>0.888962</td>\n",
       "      <td>0.869339</td>\n",
       "    </tr>\n",
       "    <tr>\n",
       "      <th>0</th>\n",
       "      <td>Ridge</td>\n",
       "      <td>0.888957</td>\n",
       "      <td>0.869256</td>\n",
       "    </tr>\n",
       "    <tr>\n",
       "      <th>0</th>\n",
       "      <td>Lasso</td>\n",
       "      <td>0.888961</td>\n",
       "      <td>0.869328</td>\n",
       "    </tr>\n",
       "    <tr>\n",
       "      <th>0</th>\n",
       "      <td>Elastic Net</td>\n",
       "      <td>0.879653</td>\n",
       "      <td>0.855267</td>\n",
       "    </tr>\n",
       "  </tbody>\n",
       "</table>\n",
       "</div>"
      ],
      "text/plain": [
       "         Model  Train Score  Test Score\n",
       "0           LR     0.888962    0.869339\n",
       "0        Ridge     0.888957    0.869256\n",
       "0        Lasso     0.888961    0.869328\n",
       "0  Elastic Net     0.879653    0.855267"
      ]
     },
     "execution_count": 26,
     "metadata": {},
     "output_type": "execute_result"
    }
   ],
   "source": [
    "\n",
    "# Evaluate model.\n",
    "enet_train_score  = enet_model.score(X_train_scaled, y_train)\n",
    "enet_test_score = enet_model.score(X_test_scaled, y_test)\n",
    "\n",
    "#Summary of Score\n",
    "df_result=add_reggression_result(df_result, 'Elastic Net', enet_train_score, enet_test_score)\n",
    "df_result\n"
   ]
  },
  {
   "cell_type": "markdown",
   "id": "5846d88f",
   "metadata": {},
   "source": [
    "## PREDICT Test Dataset"
   ]
  },
  {
   "cell_type": "code",
   "execution_count": 27,
   "id": "e196c5da",
   "metadata": {},
   "outputs": [],
   "source": [
    "df_test = pd.read_csv(\"../datasets/test_wfeature.csv\")"
   ]
  },
  {
   "cell_type": "code",
   "execution_count": 28,
   "id": "27021045",
   "metadata": {},
   "outputs": [
    {
     "data": {
      "text/html": [
       "<div>\n",
       "<style scoped>\n",
       "    .dataframe tbody tr th:only-of-type {\n",
       "        vertical-align: middle;\n",
       "    }\n",
       "\n",
       "    .dataframe tbody tr th {\n",
       "        vertical-align: top;\n",
       "    }\n",
       "\n",
       "    .dataframe thead th {\n",
       "        text-align: right;\n",
       "    }\n",
       "</style>\n",
       "<table border=\"1\" class=\"dataframe\">\n",
       "  <thead>\n",
       "    <tr style=\"text-align: right;\">\n",
       "      <th></th>\n",
       "      <th>Unnamed: 0</th>\n",
       "      <th>Unnamed: 0.1</th>\n",
       "      <th>Id</th>\n",
       "      <th>Lot Frontage</th>\n",
       "      <th>Lot Area</th>\n",
       "      <th>Street</th>\n",
       "      <th>Land Contour</th>\n",
       "      <th>Utilities</th>\n",
       "      <th>Lot Config</th>\n",
       "      <th>Land Slope</th>\n",
       "      <th>...</th>\n",
       "      <th>heatqc_dummy</th>\n",
       "      <th>kitchenqual_dummy</th>\n",
       "      <th>fireplacequal_dummy</th>\n",
       "      <th>garagequal_dummy</th>\n",
       "      <th>garagecond_dummy</th>\n",
       "      <th>bsmtqual_dummy</th>\n",
       "      <th>bsmtcond_dummy</th>\n",
       "      <th>paveddrive_dummy</th>\n",
       "      <th>centralair_dummy</th>\n",
       "      <th>HouseAge</th>\n",
       "    </tr>\n",
       "  </thead>\n",
       "  <tbody>\n",
       "    <tr>\n",
       "      <th>0</th>\n",
       "      <td>0</td>\n",
       "      <td>0</td>\n",
       "      <td>2658</td>\n",
       "      <td>69.000000</td>\n",
       "      <td>9142</td>\n",
       "      <td>1</td>\n",
       "      <td>3</td>\n",
       "      <td>0</td>\n",
       "      <td>4</td>\n",
       "      <td>0</td>\n",
       "      <td>...</td>\n",
       "      <td>4</td>\n",
       "      <td>2</td>\n",
       "      <td>0</td>\n",
       "      <td>1</td>\n",
       "      <td>1</td>\n",
       "      <td>2</td>\n",
       "      <td>3</td>\n",
       "      <td>2</td>\n",
       "      <td>0</td>\n",
       "      <td>96</td>\n",
       "    </tr>\n",
       "    <tr>\n",
       "      <th>1</th>\n",
       "      <td>1</td>\n",
       "      <td>1</td>\n",
       "      <td>2718</td>\n",
       "      <td>69.308020</td>\n",
       "      <td>9662</td>\n",
       "      <td>1</td>\n",
       "      <td>3</td>\n",
       "      <td>0</td>\n",
       "      <td>4</td>\n",
       "      <td>0</td>\n",
       "      <td>...</td>\n",
       "      <td>3</td>\n",
       "      <td>3</td>\n",
       "      <td>0</td>\n",
       "      <td>3</td>\n",
       "      <td>3</td>\n",
       "      <td>4</td>\n",
       "      <td>3</td>\n",
       "      <td>2</td>\n",
       "      <td>1</td>\n",
       "      <td>29</td>\n",
       "    </tr>\n",
       "    <tr>\n",
       "      <th>2</th>\n",
       "      <td>2</td>\n",
       "      <td>2</td>\n",
       "      <td>2414</td>\n",
       "      <td>58.000000</td>\n",
       "      <td>17104</td>\n",
       "      <td>1</td>\n",
       "      <td>3</td>\n",
       "      <td>0</td>\n",
       "      <td>4</td>\n",
       "      <td>0</td>\n",
       "      <td>...</td>\n",
       "      <td>5</td>\n",
       "      <td>4</td>\n",
       "      <td>4</td>\n",
       "      <td>3</td>\n",
       "      <td>3</td>\n",
       "      <td>4</td>\n",
       "      <td>4</td>\n",
       "      <td>2</td>\n",
       "      <td>1</td>\n",
       "      <td>0</td>\n",
       "    </tr>\n",
       "    <tr>\n",
       "      <th>3</th>\n",
       "      <td>3</td>\n",
       "      <td>3</td>\n",
       "      <td>1989</td>\n",
       "      <td>60.000000</td>\n",
       "      <td>8520</td>\n",
       "      <td>1</td>\n",
       "      <td>3</td>\n",
       "      <td>0</td>\n",
       "      <td>4</td>\n",
       "      <td>0</td>\n",
       "      <td>...</td>\n",
       "      <td>3</td>\n",
       "      <td>3</td>\n",
       "      <td>0</td>\n",
       "      <td>2</td>\n",
       "      <td>3</td>\n",
       "      <td>3</td>\n",
       "      <td>3</td>\n",
       "      <td>0</td>\n",
       "      <td>1</td>\n",
       "      <td>84</td>\n",
       "    </tr>\n",
       "    <tr>\n",
       "      <th>4</th>\n",
       "      <td>4</td>\n",
       "      <td>4</td>\n",
       "      <td>625</td>\n",
       "      <td>69.127591</td>\n",
       "      <td>9500</td>\n",
       "      <td>1</td>\n",
       "      <td>3</td>\n",
       "      <td>0</td>\n",
       "      <td>4</td>\n",
       "      <td>0</td>\n",
       "      <td>...</td>\n",
       "      <td>4</td>\n",
       "      <td>3</td>\n",
       "      <td>4</td>\n",
       "      <td>3</td>\n",
       "      <td>3</td>\n",
       "      <td>4</td>\n",
       "      <td>3</td>\n",
       "      <td>2</td>\n",
       "      <td>1</td>\n",
       "      <td>46</td>\n",
       "    </tr>\n",
       "  </tbody>\n",
       "</table>\n",
       "<p>5 rows × 64 columns</p>\n",
       "</div>"
      ],
      "text/plain": [
       "   Unnamed: 0  Unnamed: 0.1    Id  Lot Frontage  Lot Area  Street  \\\n",
       "0           0             0  2658     69.000000      9142       1   \n",
       "1           1             1  2718     69.308020      9662       1   \n",
       "2           2             2  2414     58.000000     17104       1   \n",
       "3           3             3  1989     60.000000      8520       1   \n",
       "4           4             4   625     69.127591      9500       1   \n",
       "\n",
       "   Land Contour  Utilities  Lot Config  Land Slope  ...  heatqc_dummy  \\\n",
       "0             3          0           4           0  ...             4   \n",
       "1             3          0           4           0  ...             3   \n",
       "2             3          0           4           0  ...             5   \n",
       "3             3          0           4           0  ...             3   \n",
       "4             3          0           4           0  ...             4   \n",
       "\n",
       "   kitchenqual_dummy  fireplacequal_dummy  garagequal_dummy  garagecond_dummy  \\\n",
       "0                  2                    0                 1                 1   \n",
       "1                  3                    0                 3                 3   \n",
       "2                  4                    4                 3                 3   \n",
       "3                  3                    0                 2                 3   \n",
       "4                  3                    4                 3                 3   \n",
       "\n",
       "   bsmtqual_dummy  bsmtcond_dummy  paveddrive_dummy  centralair_dummy  \\\n",
       "0               2               3                 2                 0   \n",
       "1               4               3                 2                 1   \n",
       "2               4               4                 2                 1   \n",
       "3               3               3                 0                 1   \n",
       "4               4               3                 2                 1   \n",
       "\n",
       "   HouseAge  \n",
       "0        96  \n",
       "1        29  \n",
       "2         0  \n",
       "3        84  \n",
       "4        46  \n",
       "\n",
       "[5 rows x 64 columns]"
      ]
     },
     "execution_count": 28,
     "metadata": {},
     "output_type": "execute_result"
    }
   ],
   "source": [
    "df_test.head()"
   ]
  },
  {
   "cell_type": "code",
   "execution_count": 29,
   "id": "28b695ae",
   "metadata": {},
   "outputs": [],
   "source": [
    "df_test.drop(columns=['Unnamed: 0', 'Unnamed: 0.1'], inplace=True)"
   ]
  },
  {
   "cell_type": "code",
   "execution_count": 30,
   "id": "b9b04844",
   "metadata": {},
   "outputs": [
    {
     "data": {
      "text/plain": [
       "(878, 62)"
      ]
     },
     "execution_count": 30,
     "metadata": {},
     "output_type": "execute_result"
    }
   ],
   "source": [
    "df_test.shape"
   ]
  },
  {
   "cell_type": "code",
   "execution_count": 31,
   "id": "0cc7bc1c",
   "metadata": {},
   "outputs": [
    {
     "data": {
      "text/plain": [
       "Series([], dtype: int64)"
      ]
     },
     "execution_count": 31,
     "metadata": {},
     "output_type": "execute_result"
    }
   ],
   "source": [
    "#check for NUll values\n",
    "df_test.isnull().sum()[df_test.isnull().sum()>0].sort_values()"
   ]
  },
  {
   "cell_type": "code",
   "execution_count": 32,
   "id": "a18560e9",
   "metadata": {},
   "outputs": [],
   "source": [
    "### Define X and Y\n",
    "X = df_test.drop(columns='Id')"
   ]
  },
  {
   "cell_type": "code",
   "execution_count": 33,
   "id": "d4647ea8",
   "metadata": {},
   "outputs": [],
   "source": [
    "# scale the X\n",
    "sstest = StandardScaler()\n",
    "X_scaled = ss.fit_transform(X)"
   ]
  },
  {
   "cell_type": "markdown",
   "id": "accb5643",
   "metadata": {},
   "source": [
    "### LR - PREDICT"
   ]
  },
  {
   "cell_type": "code",
   "execution_count": 34,
   "id": "7b81ce4e",
   "metadata": {},
   "outputs": [],
   "source": [
    "df_test_lr = df_test.copy()"
   ]
  },
  {
   "cell_type": "code",
   "execution_count": 35,
   "id": "c69be04d",
   "metadata": {},
   "outputs": [],
   "source": [
    "df_test_lr['SalePrice'] = lr.predict(X)"
   ]
  },
  {
   "cell_type": "code",
   "execution_count": 36,
   "id": "5f8bbc72",
   "metadata": {},
   "outputs": [],
   "source": [
    "df_test_submit = df_test_lr[['Id','SalePrice']]"
   ]
  },
  {
   "cell_type": "code",
   "execution_count": 37,
   "id": "cd63f05a",
   "metadata": {},
   "outputs": [
    {
     "data": {
      "text/plain": [
       "<AxesSubplot:>"
      ]
     },
     "execution_count": 37,
     "metadata": {},
     "output_type": "execute_result"
    },
    {
     "data": {
      "image/png": "[encoded data removed]",
      "text/plain": [
       "<Figure size 432x288 with 1 Axes>"
      ]
     },
     "metadata": {
      "needs_background": "light"
     },
     "output_type": "display_data"
    }
   ],
   "source": [
    "df_test_submit[\"SalePrice\"].hist()"
   ]
  },
  {
   "cell_type": "code",
   "execution_count": 38,
   "id": "83eff404",
   "metadata": {},
   "outputs": [
    {
     "data": {
      "text/plain": [
       "0    133049.791373\n",
       "1    168513.069506\n",
       "2    207628.428819\n",
       "3    108988.526713\n",
       "4    177483.082152\n",
       "Name: SalePrice, dtype: float64"
      ]
     },
     "execution_count": 38,
     "metadata": {},
     "output_type": "execute_result"
    }
   ],
   "source": [
    "df_test_submit[\"SalePrice\"].head()"
   ]
  },
  {
   "cell_type": "code",
   "execution_count": 39,
   "id": "6b1e2834",
   "metadata": {},
   "outputs": [],
   "source": [
    "df_test_submit.to_csv(\"../datasets/submit_lreg.csv\", index=False)"
   ]
  },
  {
   "cell_type": "markdown",
   "id": "240f07e3",
   "metadata": {},
   "source": [
    "### RIDGE - PREDICT"
   ]
  },
  {
   "cell_type": "code",
   "execution_count": 40,
   "id": "3798278d",
   "metadata": {},
   "outputs": [],
   "source": [
    "df_test_ridge = df_test.copy()"
   ]
  },
  {
   "cell_type": "code",
   "execution_count": 41,
   "id": "62596702",
   "metadata": {},
   "outputs": [],
   "source": [
    "df_test_ridge['SalePrice'] = ridge_model.predict(X_scaled)"
   ]
  },
  {
   "cell_type": "code",
   "execution_count": 42,
   "id": "9cab1941",
   "metadata": {},
   "outputs": [],
   "source": [
    "df_test_submit = df_test_ridge[['Id','SalePrice']]"
   ]
  },
  {
   "cell_type": "code",
   "execution_count": 43,
   "id": "af13c452",
   "metadata": {},
   "outputs": [
    {
     "data": {
      "text/plain": [
       "<AxesSubplot:>"
      ]
     },
     "execution_count": 43,
     "metadata": {},
     "output_type": "execute_result"
    },
    {
     "data": {
      "image/png": "[encoded data removed]",
      "text/plain": [
       "<Figure size 432x288 with 1 Axes>"
      ]
     },
     "metadata": {
      "needs_background": "light"
     },
     "output_type": "display_data"
    }
   ],
   "source": [
    "df_test_submit[\"SalePrice\"].hist()"
   ]
  },
  {
   "cell_type": "code",
   "execution_count": 44,
   "id": "c3809965",
   "metadata": {},
   "outputs": [],
   "source": [
    "df_test_submit.to_csv(\"../datasets/submit_ridgereg.csv\", index=False)"
   ]
  },
  {
   "cell_type": "code",
   "execution_count": null,
   "id": "4eb64a50",
   "metadata": {},
   "outputs": [],
   "source": []
  },
  {
   "cell_type": "markdown",
   "id": "af1677b5",
   "metadata": {},
   "source": [
    "### LASSO - PREDICT"
   ]
  },
  {
   "cell_type": "code",
   "execution_count": 45,
   "id": "2060d8ec",
   "metadata": {},
   "outputs": [],
   "source": [
    "df_test_lasso = df_test.copy()"
   ]
  },
  {
   "cell_type": "code",
   "execution_count": 46,
   "id": "063fc723",
   "metadata": {},
   "outputs": [],
   "source": [
    "df_test_lasso['SalePrice'] = lasso_model.predict(X_scaled)"
   ]
  },
  {
   "cell_type": "code",
   "execution_count": 47,
   "id": "4e04aae8",
   "metadata": {},
   "outputs": [],
   "source": [
    "df_test_submit = df_test_lasso[['Id','SalePrice']]"
   ]
  },
  {
   "cell_type": "code",
   "execution_count": 48,
   "id": "989bb30a",
   "metadata": {},
   "outputs": [
    {
     "data": {
      "text/plain": [
       "<AxesSubplot:>"
      ]
     },
     "execution_count": 48,
     "metadata": {},
     "output_type": "execute_result"
    },
    {
     "data": {
      "image/png": "[encoded data removed]",
      "text/plain": [
       "<Figure size 432x288 with 1 Axes>"
      ]
     },
     "metadata": {
      "needs_background": "light"
     },
     "output_type": "display_data"
    }
   ],
   "source": [
    "df_test_submit[\"SalePrice\"].hist()"
   ]
  },
  {
   "cell_type": "code",
   "execution_count": 49,
   "id": "d1a6c6b3",
   "metadata": {},
   "outputs": [],
   "source": [
    "df_test_submit.to_csv(\"../datasets/submit_lassoreg.csv\", index=False)"
   ]
  },
  {
   "cell_type": "markdown",
   "id": "2005bfa7",
   "metadata": {},
   "source": [
    "### ElasticNet - PREDICT"
   ]
  },
  {
   "cell_type": "code",
   "execution_count": 50,
   "id": "66fb1ebf",
   "metadata": {},
   "outputs": [],
   "source": [
    "df_test_enet = df_test.copy()"
   ]
  },
  {
   "cell_type": "code",
   "execution_count": 51,
   "id": "40bb4f60",
   "metadata": {},
   "outputs": [],
   "source": [
    "df_test_enet['SalePrice'] = enet_model.predict(X_scaled)"
   ]
  },
  {
   "cell_type": "code",
   "execution_count": 52,
   "id": "c8130570",
   "metadata": {},
   "outputs": [],
   "source": [
    "df_test_submit = df_test_enet[['Id','SalePrice']]"
   ]
  },
  {
   "cell_type": "code",
   "execution_count": 53,
   "id": "49d342b6",
   "metadata": {},
   "outputs": [
    {
     "data": {
      "text/html": [
       "<div>\n",
       "<style scoped>\n",
       "    .dataframe tbody tr th:only-of-type {\n",
       "        vertical-align: middle;\n",
       "    }\n",
       "\n",
       "    .dataframe tbody tr th {\n",
       "        vertical-align: top;\n",
       "    }\n",
       "\n",
       "    .dataframe thead th {\n",
       "        text-align: right;\n",
       "    }\n",
       "</style>\n",
       "<table border=\"1\" class=\"dataframe\">\n",
       "  <thead>\n",
       "    <tr style=\"text-align: right;\">\n",
       "      <th></th>\n",
       "      <th>Id</th>\n",
       "      <th>SalePrice</th>\n",
       "    </tr>\n",
       "  </thead>\n",
       "  <tbody>\n",
       "    <tr>\n",
       "      <th>count</th>\n",
       "      <td>878.000000</td>\n",
       "      <td>878.000000</td>\n",
       "    </tr>\n",
       "    <tr>\n",
       "      <th>mean</th>\n",
       "      <td>1444.749431</td>\n",
       "      <td>171607.198758</td>\n",
       "    </tr>\n",
       "    <tr>\n",
       "      <th>std</th>\n",
       "      <td>850.838263</td>\n",
       "      <td>56003.262998</td>\n",
       "    </tr>\n",
       "    <tr>\n",
       "      <th>min</th>\n",
       "      <td>2.000000</td>\n",
       "      <td>13741.688620</td>\n",
       "    </tr>\n",
       "    <tr>\n",
       "      <th>25%</th>\n",
       "      <td>692.250000</td>\n",
       "      <td>130178.951002</td>\n",
       "    </tr>\n",
       "    <tr>\n",
       "      <th>50%</th>\n",
       "      <td>1433.000000</td>\n",
       "      <td>163302.837671</td>\n",
       "    </tr>\n",
       "    <tr>\n",
       "      <th>75%</th>\n",
       "      <td>2197.500000</td>\n",
       "      <td>208587.462058</td>\n",
       "    </tr>\n",
       "    <tr>\n",
       "      <th>max</th>\n",
       "      <td>2928.000000</td>\n",
       "      <td>389224.917267</td>\n",
       "    </tr>\n",
       "  </tbody>\n",
       "</table>\n",
       "</div>"
      ],
      "text/plain": [
       "                Id      SalePrice\n",
       "count   878.000000     878.000000\n",
       "mean   1444.749431  171607.198758\n",
       "std     850.838263   56003.262998\n",
       "min       2.000000   13741.688620\n",
       "25%     692.250000  130178.951002\n",
       "50%    1433.000000  163302.837671\n",
       "75%    2197.500000  208587.462058\n",
       "max    2928.000000  389224.917267"
      ]
     },
     "execution_count": 53,
     "metadata": {},
     "output_type": "execute_result"
    }
   ],
   "source": [
    "df_test_submit.describe()"
   ]
  },
  {
   "cell_type": "code",
   "execution_count": 54,
   "id": "03593beb",
   "metadata": {},
   "outputs": [
    {
     "data": {
      "text/plain": [
       "<AxesSubplot:>"
      ]
     },
     "execution_count": 54,
     "metadata": {},
     "output_type": "execute_result"
    },
    {
     "data": {
      "image/png": "[encoded data removed]",
      "text/plain": [
       "<Figure size 432x288 with 1 Axes>"
      ]
     },
     "metadata": {
      "needs_background": "light"
     },
     "output_type": "display_data"
    }
   ],
   "source": [
    "df_test_submit[\"SalePrice\"].hist()"
   ]
  },
  {
   "cell_type": "code",
   "execution_count": 55,
   "id": "c4b63b7e",
   "metadata": {},
   "outputs": [],
   "source": [
    "df_test_submit.to_csv(\"../datasets/submit_enetreg.csv\", index=False)"
   ]
  },
  {
   "cell_type": "code",
   "execution_count": null,
   "id": "20f6c83b",
   "metadata": {},
   "outputs": [],
   "source": []
  }
 ],
 "metadata": {
  "kernelspec": {
   "display_name": "Python 3",
   "language": "python",
   "name": "python3"
  },
  "language_info": {
   "codemirror_mode": {
    "name": "ipython",
    "version": 3
   },
   "file_extension": ".py",
   "mimetype": "text/x-python",
   "name": "python",
   "nbconvert_exporter": "python",
   "pygments_lexer": "ipython3",
   "version": "3.8.8"
  }
 },
 "nbformat": 4,
 "nbformat_minor": 5
}
