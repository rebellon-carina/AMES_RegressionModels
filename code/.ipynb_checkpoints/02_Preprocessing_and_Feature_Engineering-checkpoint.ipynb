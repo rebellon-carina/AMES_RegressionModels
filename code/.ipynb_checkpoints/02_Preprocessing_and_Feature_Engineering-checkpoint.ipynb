{
 "cells": [
  {
   "cell_type": "markdown",
   "id": "912ec988",
   "metadata": {},
   "source": [
    "\n",
    "##  DSI-US-11 Project 2 Regression Challenge (Kaggle)\n",
    "\n",
    "PART 2, after the 01_EDA_and_Cleaning"
   ]
  },
  {
   "cell_type": "markdown",
   "id": "2303051f",
   "metadata": {},
   "source": [
    "## This notebook can be used for both Train and Test datasets\n",
    "\n",
    "- read, cleanup and save preprocessed data for both train and test\n",
    "- drop records only for train dataset\n",
    "\n"
   ]
  },
  {
   "cell_type": "code",
   "execution_count": 43,
   "id": "52dd5af4",
   "metadata": {},
   "outputs": [],
   "source": [
    "#configuration variable\n",
    "is_train_dataset = False"
   ]
  },
  {
   "cell_type": "code",
   "execution_count": 45,
   "id": "f4cf72bc",
   "metadata": {},
   "outputs": [],
   "source": [
    "#import packages\n",
    "import pandas as pd\n",
    "import matplotlib.pyplot as plt\n",
    "import seaborn as sns\n",
    "import numpy as np\n",
    "\n",
    "from sklearn import preprocessing\n",
    "\n",
    "%matplotlib inline"
   ]
  },
  {
   "cell_type": "markdown",
   "id": "e2ea95c2",
   "metadata": {},
   "source": [
    "## Loading of  Preproc Dataset"
   ]
  },
  {
   "cell_type": "code",
   "execution_count": 46,
   "id": "33d2f003",
   "metadata": {},
   "outputs": [
    {
     "name": "stdout",
     "output_type": "stream",
     "text": [
      "Loading test_preproc.csv\n"
     ]
    },
    {
     "data": {
      "text/html": [
       "<div>\n",
       "<style scoped>\n",
       "    .dataframe tbody tr th:only-of-type {\n",
       "        vertical-align: middle;\n",
       "    }\n",
       "\n",
       "    .dataframe tbody tr th {\n",
       "        vertical-align: top;\n",
       "    }\n",
       "\n",
       "    .dataframe thead th {\n",
       "        text-align: right;\n",
       "    }\n",
       "</style>\n",
       "<table border=\"1\" class=\"dataframe\">\n",
       "  <thead>\n",
       "    <tr style=\"text-align: right;\">\n",
       "      <th></th>\n",
       "      <th>Unnamed: 0</th>\n",
       "      <th>Id</th>\n",
       "      <th>MS Zoning</th>\n",
       "      <th>Lot Frontage</th>\n",
       "      <th>Lot Area</th>\n",
       "      <th>Street</th>\n",
       "      <th>Lot Shape</th>\n",
       "      <th>Land Contour</th>\n",
       "      <th>Utilities</th>\n",
       "      <th>Lot Config</th>\n",
       "      <th>...</th>\n",
       "      <th>Garage Cars</th>\n",
       "      <th>Garage Area</th>\n",
       "      <th>Garage Qual</th>\n",
       "      <th>Garage Cond</th>\n",
       "      <th>Paved Drive</th>\n",
       "      <th>Wood Deck SF</th>\n",
       "      <th>Open Porch SF</th>\n",
       "      <th>Fence</th>\n",
       "      <th>Yr Sold</th>\n",
       "      <th>Sale Type</th>\n",
       "    </tr>\n",
       "  </thead>\n",
       "  <tbody>\n",
       "    <tr>\n",
       "      <th>0</th>\n",
       "      <td>0</td>\n",
       "      <td>2658</td>\n",
       "      <td>RM</td>\n",
       "      <td>69.000000</td>\n",
       "      <td>9142</td>\n",
       "      <td>Pave</td>\n",
       "      <td>Reg</td>\n",
       "      <td>Lvl</td>\n",
       "      <td>AllPub</td>\n",
       "      <td>Inside</td>\n",
       "      <td>...</td>\n",
       "      <td>1</td>\n",
       "      <td>440</td>\n",
       "      <td>Po</td>\n",
       "      <td>Po</td>\n",
       "      <td>Y</td>\n",
       "      <td>0</td>\n",
       "      <td>60</td>\n",
       "      <td>NaN</td>\n",
       "      <td>2006</td>\n",
       "      <td>WD</td>\n",
       "    </tr>\n",
       "    <tr>\n",
       "      <th>1</th>\n",
       "      <td>1</td>\n",
       "      <td>2718</td>\n",
       "      <td>RL</td>\n",
       "      <td>69.308020</td>\n",
       "      <td>9662</td>\n",
       "      <td>Pave</td>\n",
       "      <td>IR1</td>\n",
       "      <td>Lvl</td>\n",
       "      <td>AllPub</td>\n",
       "      <td>Inside</td>\n",
       "      <td>...</td>\n",
       "      <td>2</td>\n",
       "      <td>580</td>\n",
       "      <td>TA</td>\n",
       "      <td>TA</td>\n",
       "      <td>Y</td>\n",
       "      <td>170</td>\n",
       "      <td>0</td>\n",
       "      <td>NaN</td>\n",
       "      <td>2006</td>\n",
       "      <td>WD</td>\n",
       "    </tr>\n",
       "    <tr>\n",
       "      <th>2</th>\n",
       "      <td>2</td>\n",
       "      <td>2414</td>\n",
       "      <td>RL</td>\n",
       "      <td>58.000000</td>\n",
       "      <td>17104</td>\n",
       "      <td>Pave</td>\n",
       "      <td>IR1</td>\n",
       "      <td>Lvl</td>\n",
       "      <td>AllPub</td>\n",
       "      <td>Inside</td>\n",
       "      <td>...</td>\n",
       "      <td>2</td>\n",
       "      <td>426</td>\n",
       "      <td>TA</td>\n",
       "      <td>TA</td>\n",
       "      <td>Y</td>\n",
       "      <td>100</td>\n",
       "      <td>24</td>\n",
       "      <td>NaN</td>\n",
       "      <td>2006</td>\n",
       "      <td>New</td>\n",
       "    </tr>\n",
       "    <tr>\n",
       "      <th>3</th>\n",
       "      <td>3</td>\n",
       "      <td>1989</td>\n",
       "      <td>RM</td>\n",
       "      <td>60.000000</td>\n",
       "      <td>8520</td>\n",
       "      <td>Pave</td>\n",
       "      <td>Reg</td>\n",
       "      <td>Lvl</td>\n",
       "      <td>AllPub</td>\n",
       "      <td>Inside</td>\n",
       "      <td>...</td>\n",
       "      <td>2</td>\n",
       "      <td>480</td>\n",
       "      <td>Fa</td>\n",
       "      <td>TA</td>\n",
       "      <td>N</td>\n",
       "      <td>0</td>\n",
       "      <td>0</td>\n",
       "      <td>NaN</td>\n",
       "      <td>2007</td>\n",
       "      <td>WD</td>\n",
       "    </tr>\n",
       "    <tr>\n",
       "      <th>4</th>\n",
       "      <td>4</td>\n",
       "      <td>625</td>\n",
       "      <td>RL</td>\n",
       "      <td>69.127591</td>\n",
       "      <td>9500</td>\n",
       "      <td>Pave</td>\n",
       "      <td>IR1</td>\n",
       "      <td>Lvl</td>\n",
       "      <td>AllPub</td>\n",
       "      <td>Inside</td>\n",
       "      <td>...</td>\n",
       "      <td>2</td>\n",
       "      <td>514</td>\n",
       "      <td>TA</td>\n",
       "      <td>TA</td>\n",
       "      <td>Y</td>\n",
       "      <td>0</td>\n",
       "      <td>76</td>\n",
       "      <td>NaN</td>\n",
       "      <td>2009</td>\n",
       "      <td>WD</td>\n",
       "    </tr>\n",
       "  </tbody>\n",
       "</table>\n",
       "<p>5 rows × 60 columns</p>\n",
       "</div>"
      ],
      "text/plain": [
       "   Unnamed: 0    Id MS Zoning  Lot Frontage  Lot Area Street Lot Shape  \\\n",
       "0           0  2658        RM     69.000000      9142   Pave       Reg   \n",
       "1           1  2718        RL     69.308020      9662   Pave       IR1   \n",
       "2           2  2414        RL     58.000000     17104   Pave       IR1   \n",
       "3           3  1989        RM     60.000000      8520   Pave       Reg   \n",
       "4           4   625        RL     69.127591      9500   Pave       IR1   \n",
       "\n",
       "  Land Contour Utilities Lot Config  ... Garage Cars Garage Area Garage Qual  \\\n",
       "0          Lvl    AllPub     Inside  ...           1         440          Po   \n",
       "1          Lvl    AllPub     Inside  ...           2         580          TA   \n",
       "2          Lvl    AllPub     Inside  ...           2         426          TA   \n",
       "3          Lvl    AllPub     Inside  ...           2         480          Fa   \n",
       "4          Lvl    AllPub     Inside  ...           2         514          TA   \n",
       "\n",
       "  Garage Cond Paved Drive Wood Deck SF  Open Porch SF  Fence  Yr Sold  \\\n",
       "0          Po           Y            0             60    NaN     2006   \n",
       "1          TA           Y          170              0    NaN     2006   \n",
       "2          TA           Y          100             24    NaN     2006   \n",
       "3          TA           N            0              0    NaN     2007   \n",
       "4          TA           Y            0             76    NaN     2009   \n",
       "\n",
       "  Sale Type  \n",
       "0       WD   \n",
       "1       WD   \n",
       "2       New  \n",
       "3       WD   \n",
       "4       WD   \n",
       "\n",
       "[5 rows x 60 columns]"
      ]
     },
     "execution_count": 46,
     "metadata": {},
     "output_type": "execute_result"
    }
   ],
   "source": [
    "if is_train_dataset:\n",
    "    df_ames = pd.read_csv(\"../datasets/train_preproc.csv\")\n",
    "    print(\"Loading train_preproc.csv\")\n",
    "else:\n",
    "    df_ames = pd.read_csv(\"../datasets/test_preproc.csv\")\n",
    "    print(\"Loading test_preproc.csv\")\n",
    "    \n",
    "df_ames.head()"
   ]
  },
  {
   "cell_type": "markdown",
   "id": "c498730d",
   "metadata": {},
   "source": [
    "## Feauture Engineering"
   ]
  },
  {
   "cell_type": "code",
   "execution_count": 47,
   "id": "dcb11078",
   "metadata": {},
   "outputs": [],
   "source": [
    "#grouping by zone we can see the average \n",
    "if is_train_dataset == True:\n",
    "    print(df_ames.groupby(by=\"MS Zoning\")['SalePrice'].mean().sort_values())\n"
   ]
  },
  {
   "cell_type": "code",
   "execution_count": 48,
   "id": "3a80a1e6",
   "metadata": {},
   "outputs": [],
   "source": [
    "def zoning_rank(x):\n",
    "    if 'RM' in x:\n",
    "        return 1\n",
    "    elif 'RH' in x:\n",
    "        return 2\n",
    "    elif 'RL' in x:\n",
    "        return 3\n",
    "    elif 'FV' in x:\n",
    "        return 4\n",
    "    else:\n",
    "        return 0"
   ]
  },
  {
   "cell_type": "code",
   "execution_count": 49,
   "id": "7e7921e9",
   "metadata": {},
   "outputs": [],
   "source": [
    "def lotshape_rank(x):\n",
    "    if 'Reg' in x:\n",
    "        return 4\n",
    "    elif 'IR1' in x:\n",
    "        return 3\n",
    "    elif 'IR2' in x:\n",
    "        return 2\n",
    "    elif 'IR3' in x:\n",
    "        return 1\n",
    "    else:\n",
    "        return 0"
   ]
  },
  {
   "cell_type": "code",
   "execution_count": 50,
   "id": "366b2c9c",
   "metadata": {},
   "outputs": [],
   "source": [
    "def condition_quality_rank(x):\n",
    "    if pd.isna(x):\n",
    "        return 0\n",
    "    elif 'Ex' in x:\n",
    "        return 5\n",
    "    elif 'Gd' in x:\n",
    "        return 4\n",
    "    elif 'TA' in x:\n",
    "        return 3\n",
    "    elif 'Fa' in x:\n",
    "        return 2\n",
    "    elif 'Po' in x:\n",
    "        return 1\n",
    "    else:\n",
    "        return 0"
   ]
  },
  {
   "cell_type": "code",
   "execution_count": 51,
   "id": "efdb4119",
   "metadata": {},
   "outputs": [],
   "source": [
    "##based on the mean, rank the zone\n",
    "df_ames['zone_dummy'] = df_ames['MS Zoning'].map(zoning_rank)"
   ]
  },
  {
   "cell_type": "code",
   "execution_count": 52,
   "id": "734f1190",
   "metadata": {},
   "outputs": [
    {
     "data": {
      "text/plain": [
       "3    674\n",
       "1    146\n",
       "4     38\n",
       "2     13\n",
       "0      7\n",
       "Name: zone_dummy, dtype: int64"
      ]
     },
     "execution_count": 52,
     "metadata": {},
     "output_type": "execute_result"
    }
   ],
   "source": [
    "df_ames['zone_dummy'].value_counts()"
   ]
  },
  {
   "cell_type": "code",
   "execution_count": 53,
   "id": "87a8dd8d",
   "metadata": {},
   "outputs": [],
   "source": [
    "##based on the irregularities, rank the lot shape\n",
    "df_ames['lotshape_dummy'] = df_ames['Lot Shape'].map(lotshape_rank)"
   ]
  },
  {
   "cell_type": "code",
   "execution_count": 54,
   "id": "57ab7ec1",
   "metadata": {},
   "outputs": [
    {
     "data": {
      "text/plain": [
       "4    564\n",
       "3    286\n",
       "2     21\n",
       "1      7\n",
       "Name: lotshape_dummy, dtype: int64"
      ]
     },
     "execution_count": 54,
     "metadata": {},
     "output_type": "execute_result"
    }
   ],
   "source": [
    "df_ames['lotshape_dummy'].value_counts()"
   ]
  },
  {
   "cell_type": "code",
   "execution_count": 55,
   "id": "5a98f154",
   "metadata": {},
   "outputs": [],
   "source": [
    "#convert the condition to numerical values \n",
    "df_ames['exterqual_dummy'] = df_ames['Exter Qual'].map(condition_quality_rank)\n",
    "df_ames['extercond_dummy'] = df_ames['Exter Cond'].map(condition_quality_rank)\n",
    "df_ames['heatqc_dummy'] = df_ames['Heating QC'].map(condition_quality_rank)\n",
    "df_ames['kitchenqual_dummy'] = df_ames['Kitchen Qual'].map(condition_quality_rank)\n",
    "df_ames['fireplacequal_dummy'] = df_ames['Fireplace Qu'].map(condition_quality_rank)\n",
    "df_ames['garagequal_dummy'] = df_ames['Garage Qual'].map(condition_quality_rank)\n",
    "df_ames['garagecond_dummy'] = df_ames['Garage Cond'].map(condition_quality_rank)\n",
    "df_ames['bsmtqual_dummy'] = df_ames['Bsmt Qual'].map(condition_quality_rank)\n",
    "df_ames['bsmtcond_dummy'] = df_ames['Bsmt Cond'].map(condition_quality_rank)"
   ]
  },
  {
   "cell_type": "code",
   "execution_count": 56,
   "id": "8588bba0",
   "metadata": {},
   "outputs": [],
   "source": [
    "#convert Y to 2 and  P to 1 and N to 0\n",
    "#PavedDrive: Paved driveway\n",
    "#Y Paved\n",
    "#P Partial Pavement\n",
    "#N Dirt/Gravel#\n",
    "\n",
    "df_ames['paveddrive_dummy'] = df_ames[\"Paved Drive\"].map({\"Y\":2,\"P\":1, \"N\":0 })"
   ]
  },
  {
   "cell_type": "code",
   "execution_count": 57,
   "id": "b634d69e",
   "metadata": {},
   "outputs": [],
   "source": [
    "#convert Y to 1 and  N to 0\n",
    "\n",
    "df_ames['centralair_dummy'] = df_ames[\"Central Air\"].map(lambda x: 1 if x=='Y' else 0)"
   ]
  },
  {
   "cell_type": "code",
   "execution_count": 58,
   "id": "0b9d7cd9",
   "metadata": {},
   "outputs": [
    {
     "data": {
      "text/plain": [
       "array(['N', 'Y'], dtype=object)"
      ]
     },
     "execution_count": 58,
     "metadata": {},
     "output_type": "execute_result"
    }
   ],
   "source": [
    "df_ames[\"Central Air\"].unique()"
   ]
  },
  {
   "cell_type": "code",
   "execution_count": 59,
   "id": "43ae51e5",
   "metadata": {},
   "outputs": [],
   "source": [
    "#Age calculation based in Year it was sold and Year it was built\n",
    "df_ames['HouseAge'] = df_ames['Yr Sold']- df_ames['Year Built']"
   ]
  },
  {
   "cell_type": "code",
   "execution_count": 60,
   "id": "2a53d17f",
   "metadata": {},
   "outputs": [
    {
     "data": {
      "text/html": [
       "<div>\n",
       "<style scoped>\n",
       "    .dataframe tbody tr th:only-of-type {\n",
       "        vertical-align: middle;\n",
       "    }\n",
       "\n",
       "    .dataframe tbody tr th {\n",
       "        vertical-align: top;\n",
       "    }\n",
       "\n",
       "    .dataframe thead th {\n",
       "        text-align: right;\n",
       "    }\n",
       "</style>\n",
       "<table border=\"1\" class=\"dataframe\">\n",
       "  <thead>\n",
       "    <tr style=\"text-align: right;\">\n",
       "      <th></th>\n",
       "      <th>Yr Sold</th>\n",
       "      <th>Year Built</th>\n",
       "      <th>Year Remod/Add</th>\n",
       "      <th>HouseAge</th>\n",
       "    </tr>\n",
       "  </thead>\n",
       "  <tbody>\n",
       "    <tr>\n",
       "      <th>0</th>\n",
       "      <td>2006</td>\n",
       "      <td>1910</td>\n",
       "      <td>1950</td>\n",
       "      <td>96</td>\n",
       "    </tr>\n",
       "    <tr>\n",
       "      <th>1</th>\n",
       "      <td>2006</td>\n",
       "      <td>1977</td>\n",
       "      <td>1977</td>\n",
       "      <td>29</td>\n",
       "    </tr>\n",
       "    <tr>\n",
       "      <th>2</th>\n",
       "      <td>2006</td>\n",
       "      <td>2006</td>\n",
       "      <td>2006</td>\n",
       "      <td>0</td>\n",
       "    </tr>\n",
       "    <tr>\n",
       "      <th>3</th>\n",
       "      <td>2007</td>\n",
       "      <td>1923</td>\n",
       "      <td>2006</td>\n",
       "      <td>84</td>\n",
       "    </tr>\n",
       "    <tr>\n",
       "      <th>4</th>\n",
       "      <td>2009</td>\n",
       "      <td>1963</td>\n",
       "      <td>1963</td>\n",
       "      <td>46</td>\n",
       "    </tr>\n",
       "  </tbody>\n",
       "</table>\n",
       "</div>"
      ],
      "text/plain": [
       "   Yr Sold  Year Built  Year Remod/Add  HouseAge\n",
       "0     2006        1910            1950        96\n",
       "1     2006        1977            1977        29\n",
       "2     2006        2006            2006         0\n",
       "3     2007        1923            2006        84\n",
       "4     2009        1963            1963        46"
      ]
     },
     "execution_count": 60,
     "metadata": {},
     "output_type": "execute_result"
    }
   ],
   "source": [
    "df_ames[['Yr Sold', 'Year Built', 'Year Remod/Add', 'HouseAge']].head()"
   ]
  },
  {
   "cell_type": "code",
   "execution_count": 61,
   "id": "7e2b94ec",
   "metadata": {},
   "outputs": [],
   "source": [
    "#drop fields that we used to create new one\n",
    "df_ames.drop(columns=['MS Zoning', 'Lot Shape', 'Exter Qual', 'Exter Cond', 'Bsmt Qual', 'Bsmt Cond', 'Heating QC','Kitchen Qual','Fireplace Qu','Garage Qual','Garage Cond'], inplace=True)"
   ]
  },
  {
   "cell_type": "code",
   "execution_count": 62,
   "id": "8b9b5ebd",
   "metadata": {},
   "outputs": [],
   "source": [
    "#One hot encoding for categorical values\n",
    "\n",
    "var_categorical = df_ames.select_dtypes(include = 'object').columns\n",
    "\n",
    "le = preprocessing.LabelEncoder()\n",
    "\n",
    "for x in var_categorical:\n",
    "    df_ames[x] = le.fit_transform(df_ames[x] )"
   ]
  },
  {
   "cell_type": "code",
   "execution_count": 63,
   "id": "68a3d210",
   "metadata": {},
   "outputs": [
    {
     "data": {
      "text/plain": [
       "Index([], dtype='object')"
      ]
     },
     "execution_count": 63,
     "metadata": {},
     "output_type": "execute_result"
    }
   ],
   "source": [
    "df_ames.select_dtypes(include = 'object').columns"
   ]
  },
  {
   "cell_type": "code",
   "execution_count": 64,
   "id": "ab1a85af",
   "metadata": {},
   "outputs": [
    {
     "data": {
      "text/plain": [
       "Series([], dtype: int64)"
      ]
     },
     "execution_count": 64,
     "metadata": {},
     "output_type": "execute_result"
    }
   ],
   "source": [
    "#final check for null values\n",
    "df_ames.isnull().sum()[df_ames.isnull().sum()>0].sort_values()"
   ]
  },
  {
   "cell_type": "code",
   "execution_count": 65,
   "id": "00141413",
   "metadata": {},
   "outputs": [],
   "source": [
    "#saved the preprocessed files\n",
    "if is_train_dataset:\n",
    "    df_ames.to_csv(\"../datasets/train_wfeature.csv\")\n",
    "else:\n",
    "    df_ames.to_csv(\"../datasets/test_wfeature.csv\")"
   ]
  },
  {
   "cell_type": "code",
   "execution_count": null,
   "id": "52f09b48",
   "metadata": {},
   "outputs": [],
   "source": []
  }
 ],
 "metadata": {
  "kernelspec": {
   "display_name": "Python 3",
   "language": "python",
   "name": "python3"
  },
  "language_info": {
   "codemirror_mode": {
    "name": "ipython",
    "version": 3
   },
   "file_extension": ".py",
   "mimetype": "text/x-python",
   "name": "python",
   "nbconvert_exporter": "python",
   "pygments_lexer": "ipython3",
   "version": "3.8.8"
  }
 },
 "nbformat": 4,
 "nbformat_minor": 5
}
