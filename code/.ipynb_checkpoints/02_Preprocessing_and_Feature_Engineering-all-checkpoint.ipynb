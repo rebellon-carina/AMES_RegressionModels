{
 "cells": [
  {
   "cell_type": "markdown",
   "id": "912ec988",
   "metadata": {},
   "source": [
    "\n",
    "#  Ames Housing Data and Kaggle Challenge\n",
    "\n",
    "### PART 2, after the 01_EDA_and_Cleaning"
   ]
  },
  {
   "cell_type": "markdown",
   "id": "2303051f",
   "metadata": {},
   "source": [
    "## This notebook can be used for both Train and Test datasets\n",
    "\n",
    "- feature engineering\n",
    "\n"
   ]
  },
  {
   "cell_type": "code",
   "execution_count": 33,
   "id": "f4cf72bc",
   "metadata": {},
   "outputs": [],
   "source": [
    "#import packages\n",
    "import pandas as pd\n",
    "import matplotlib.pyplot as plt\n",
    "import seaborn as sns\n",
    "import numpy as np\n",
    "\n",
    "from sklearn import preprocessing\n",
    "\n",
    "%matplotlib inline"
   ]
  },
  {
   "cell_type": "code",
   "execution_count": 34,
   "id": "52dd5af4",
   "metadata": {},
   "outputs": [],
   "source": [
    "#configuration variable\n",
    "is_train_dataset = True"
   ]
  },
  {
   "cell_type": "markdown",
   "id": "e2ea95c2",
   "metadata": {},
   "source": [
    "## Loading of  Preproc Dataset"
   ]
  },
  {
   "cell_type": "code",
   "execution_count": 35,
   "id": "33d2f003",
   "metadata": {},
   "outputs": [
    {
     "name": "stdout",
     "output_type": "stream",
     "text": [
      "Loading train_preproc_final.csv\n"
     ]
    },
    {
     "data": {
      "text/html": [
       "<div>\n",
       "<style scoped>\n",
       "    .dataframe tbody tr th:only-of-type {\n",
       "        vertical-align: middle;\n",
       "    }\n",
       "\n",
       "    .dataframe tbody tr th {\n",
       "        vertical-align: top;\n",
       "    }\n",
       "\n",
       "    .dataframe thead th {\n",
       "        text-align: right;\n",
       "    }\n",
       "</style>\n",
       "<table border=\"1\" class=\"dataframe\">\n",
       "  <thead>\n",
       "    <tr style=\"text-align: right;\">\n",
       "      <th></th>\n",
       "      <th>Unnamed: 0</th>\n",
       "      <th>Id</th>\n",
       "      <th>PID</th>\n",
       "      <th>MS SubClass</th>\n",
       "      <th>MS Zoning</th>\n",
       "      <th>Lot Frontage</th>\n",
       "      <th>Lot Area</th>\n",
       "      <th>Street</th>\n",
       "      <th>Lot Shape</th>\n",
       "      <th>Land Contour</th>\n",
       "      <th>...</th>\n",
       "      <th>Enclosed Porch</th>\n",
       "      <th>3Ssn Porch</th>\n",
       "      <th>Screen Porch</th>\n",
       "      <th>Pool Area</th>\n",
       "      <th>Fence</th>\n",
       "      <th>Misc Val</th>\n",
       "      <th>Mo Sold</th>\n",
       "      <th>Yr Sold</th>\n",
       "      <th>Sale Type</th>\n",
       "      <th>SalePrice</th>\n",
       "    </tr>\n",
       "  </thead>\n",
       "  <tbody>\n",
       "    <tr>\n",
       "      <th>0</th>\n",
       "      <td>0</td>\n",
       "      <td>109</td>\n",
       "      <td>533352170</td>\n",
       "      <td>60</td>\n",
       "      <td>RL</td>\n",
       "      <td>79.0</td>\n",
       "      <td>13517</td>\n",
       "      <td>Pave</td>\n",
       "      <td>IR1</td>\n",
       "      <td>Lvl</td>\n",
       "      <td>...</td>\n",
       "      <td>0</td>\n",
       "      <td>0</td>\n",
       "      <td>0</td>\n",
       "      <td>0</td>\n",
       "      <td>missing</td>\n",
       "      <td>0</td>\n",
       "      <td>3</td>\n",
       "      <td>2010</td>\n",
       "      <td>WD</td>\n",
       "      <td>130500</td>\n",
       "    </tr>\n",
       "    <tr>\n",
       "      <th>1</th>\n",
       "      <td>1</td>\n",
       "      <td>544</td>\n",
       "      <td>531379050</td>\n",
       "      <td>60</td>\n",
       "      <td>RL</td>\n",
       "      <td>43.0</td>\n",
       "      <td>11492</td>\n",
       "      <td>Pave</td>\n",
       "      <td>IR1</td>\n",
       "      <td>Lvl</td>\n",
       "      <td>...</td>\n",
       "      <td>0</td>\n",
       "      <td>0</td>\n",
       "      <td>0</td>\n",
       "      <td>0</td>\n",
       "      <td>missing</td>\n",
       "      <td>0</td>\n",
       "      <td>4</td>\n",
       "      <td>2009</td>\n",
       "      <td>WD</td>\n",
       "      <td>220000</td>\n",
       "    </tr>\n",
       "    <tr>\n",
       "      <th>2</th>\n",
       "      <td>2</td>\n",
       "      <td>153</td>\n",
       "      <td>535304180</td>\n",
       "      <td>20</td>\n",
       "      <td>RL</td>\n",
       "      <td>68.0</td>\n",
       "      <td>7922</td>\n",
       "      <td>Pave</td>\n",
       "      <td>Reg</td>\n",
       "      <td>Lvl</td>\n",
       "      <td>...</td>\n",
       "      <td>0</td>\n",
       "      <td>0</td>\n",
       "      <td>0</td>\n",
       "      <td>0</td>\n",
       "      <td>missing</td>\n",
       "      <td>0</td>\n",
       "      <td>1</td>\n",
       "      <td>2010</td>\n",
       "      <td>WD</td>\n",
       "      <td>109000</td>\n",
       "    </tr>\n",
       "    <tr>\n",
       "      <th>3</th>\n",
       "      <td>3</td>\n",
       "      <td>318</td>\n",
       "      <td>916386060</td>\n",
       "      <td>60</td>\n",
       "      <td>RL</td>\n",
       "      <td>73.0</td>\n",
       "      <td>9802</td>\n",
       "      <td>Pave</td>\n",
       "      <td>Reg</td>\n",
       "      <td>Lvl</td>\n",
       "      <td>...</td>\n",
       "      <td>0</td>\n",
       "      <td>0</td>\n",
       "      <td>0</td>\n",
       "      <td>0</td>\n",
       "      <td>missing</td>\n",
       "      <td>0</td>\n",
       "      <td>4</td>\n",
       "      <td>2010</td>\n",
       "      <td>WD</td>\n",
       "      <td>174000</td>\n",
       "    </tr>\n",
       "    <tr>\n",
       "      <th>4</th>\n",
       "      <td>4</td>\n",
       "      <td>255</td>\n",
       "      <td>906425045</td>\n",
       "      <td>50</td>\n",
       "      <td>RL</td>\n",
       "      <td>82.0</td>\n",
       "      <td>14235</td>\n",
       "      <td>Pave</td>\n",
       "      <td>IR1</td>\n",
       "      <td>Lvl</td>\n",
       "      <td>...</td>\n",
       "      <td>0</td>\n",
       "      <td>0</td>\n",
       "      <td>0</td>\n",
       "      <td>0</td>\n",
       "      <td>missing</td>\n",
       "      <td>0</td>\n",
       "      <td>3</td>\n",
       "      <td>2010</td>\n",
       "      <td>WD</td>\n",
       "      <td>138500</td>\n",
       "    </tr>\n",
       "  </tbody>\n",
       "</table>\n",
       "<p>5 rows × 79 columns</p>\n",
       "</div>"
      ],
      "text/plain": [
       "   Unnamed: 0   Id        PID  MS SubClass MS Zoning  Lot Frontage  Lot Area  \\\n",
       "0           0  109  533352170           60        RL          79.0     13517   \n",
       "1           1  544  531379050           60        RL          43.0     11492   \n",
       "2           2  153  535304180           20        RL          68.0      7922   \n",
       "3           3  318  916386060           60        RL          73.0      9802   \n",
       "4           4  255  906425045           50        RL          82.0     14235   \n",
       "\n",
       "  Street Lot Shape Land Contour  ... Enclosed Porch 3Ssn Porch Screen Porch  \\\n",
       "0   Pave       IR1          Lvl  ...              0          0            0   \n",
       "1   Pave       IR1          Lvl  ...              0          0            0   \n",
       "2   Pave       Reg          Lvl  ...              0          0            0   \n",
       "3   Pave       Reg          Lvl  ...              0          0            0   \n",
       "4   Pave       IR1          Lvl  ...              0          0            0   \n",
       "\n",
       "  Pool Area    Fence Misc Val Mo Sold Yr Sold  Sale Type  SalePrice  \n",
       "0         0  missing        0       3    2010        WD      130500  \n",
       "1         0  missing        0       4    2009        WD      220000  \n",
       "2         0  missing        0       1    2010        WD      109000  \n",
       "3         0  missing        0       4    2010        WD      174000  \n",
       "4         0  missing        0       3    2010        WD      138500  \n",
       "\n",
       "[5 rows x 79 columns]"
      ]
     },
     "execution_count": 35,
     "metadata": {},
     "output_type": "execute_result"
    }
   ],
   "source": [
    "if is_train_dataset:\n",
    "    df_ames = pd.read_csv(\"../datasets/train_preproc_final.csv\")\n",
    "    print(\"Loading train_preproc_final.csv\")\n",
    "else:\n",
    "    df_ames = pd.read_csv(\"../datasets/test_preproc_final.csv\")\n",
    "    print(\"Loading test_preproc_final.csv\")\n",
    "    \n",
    "df_ames.head()"
   ]
  },
  {
   "cell_type": "code",
   "execution_count": 36,
   "id": "adea945c",
   "metadata": {},
   "outputs": [],
   "source": [
    "#drop column index that was generated by the save csv from prior process\n",
    "df_ames.drop(columns=['Unnamed: 0'], inplace=True)"
   ]
  },
  {
   "cell_type": "code",
   "execution_count": 37,
   "id": "2c99b4ea",
   "metadata": {},
   "outputs": [
    {
     "data": {
      "text/plain": [
       "Series([], dtype: int64)"
      ]
     },
     "execution_count": 37,
     "metadata": {},
     "output_type": "execute_result"
    }
   ],
   "source": [
    "#check for null values\n",
    "df_ames.isnull().sum()[df_ames.isnull().sum()>0].sort_values()"
   ]
  },
  {
   "cell_type": "markdown",
   "id": "b0456dad",
   "metadata": {},
   "source": [
    "**From the previous notebook (EDA), we have classified categorical features as Ordinal and Nominal.\n",
    "For Ordinal, a dictionary will be created to show their rank, for Nominal, they will be ordered based on their average Selling Price.***"
   ]
  },
  {
   "cell_type": "code",
   "execution_count": 38,
   "id": "75ea1edb",
   "metadata": {},
   "outputs": [],
   "source": [
    "#Classification of Categorical variables\n",
    "\n",
    "#ordinal data has a predetermined or natural order\n",
    "ord_var = ['Street','Lot Shape', 'Utilities','Land Slope','Exter Qual',\n",
    "       'Exter Cond','Bsmt Qual', 'Bsmt Cond', 'Bsmt Exposure',\n",
    "       'BsmtFin Type 1', 'BsmtFin Type 2','Heating QC',\n",
    "       'Central Air', 'Electrical', 'Kitchen Qual', 'Functional',\n",
    "       'Fireplace Qu', 'Garage Finish','Garage Qual',\n",
    "       'Garage Cond', 'Paved Drive']\n",
    "\n",
    "\n",
    "#Nominal data is classified without a natural order or rank\n",
    "nom_var = ['MS Zoning','Land Contour','Lot Config','Neighborhood', 'Condition 1',\n",
    "       'Condition 2', 'Bldg Type', 'House Style', 'Roof Style', 'Roof Matl',\n",
    "       'Exterior 1st', 'Exterior 2nd', 'Mas Vnr Type','Foundation','Heating',\n",
    "       'Garage Type', 'Sale Type']\n",
    "\n"
   ]
  },
  {
   "cell_type": "code",
   "execution_count": 77,
   "id": "8b1598af",
   "metadata": {},
   "outputs": [],
   "source": [
    "transform_ordinal = {\n",
    "    \n",
    "    'Street': {'Pave':2, 'Grvl':1, 'missing':0} ,\n",
    "    'Lot Shape' : {'Reg':4, 'IR1':3, 'IR2':2, 'IR3':1, 'missing':0},\n",
    "    'Utilities' : {'AllPub':3, 'NoSewr':2, 'NoSeWa':1, 'missing':0},\n",
    "    'Land Slope' : {'Gtl':3, 'Mod':2, 'Sev':1, 'missing':0}   ,\n",
    "    'Exter Qual' : {'Ex':5,'Gd':4, 'TA':3,'Fa':2,'Po':1, 'missing':0},\n",
    "    'Exter Cond' : {'Ex':5,'Gd':4, 'TA':3,'Fa':2,'Po':1, 'missing':0},\n",
    "    'Bsmt Qual' : {'Ex':5,'Gd':4, 'TA':3,'Fa':2,'Po':1, 'missing':0},\n",
    "    'Bsmt Cond' : {'Ex':5,'Gd':4, 'TA':3,'Fa':2,'Po':1, 'missing':0},\n",
    "    'Bsmt Exposure' : {'Gd':4, 'Av':3, 'Mn':2, 'No':0, 'missing':0} ,\n",
    "    'BsmtFin Type 1' : {'GLQ':6,'ALQ':5, 'BLQ':4, 'Rec':3, 'LwQ':2, 'Unf':1, 'missing':0},\n",
    "    'BsmtFin Type 2' : {'GLQ':6,'ALQ':5, 'BLQ':4, 'Rec':3, 'LwQ':2, 'Unf':1, 'missing':0},\n",
    "    'Heating QC' :{'Ex':5, 'Gd':4, 'TA':3,'Fa':2,'Po':1, 'missing':0},\n",
    "    'Central Air' :{'Y':1, 'N':0, 'missing':0}, \n",
    "    'Electrical' :{'SBrkr':5, 'FuseA':4,' FuseF':3, 'FuseP':2, 'Mix':1, 'missing':0}, \n",
    "    'Kitchen Qual' :{'Ex':5, 'Gd':4, 'TA':3,'Fa':2,'Po':1, 'missing':0}, \n",
    "    'Functional' :{'Typ':8,'Min1':7,'Min2':6, 'Mod':5, 'Maj1':4,'Maj2':3, 'Sev':2,'Sal':1, 'missing':0},\n",
    "    'Fireplace Qu' :{'Ex':5, 'Gd':4, 'TA':3,'Fa':2,'Po':1, 'missing':0}, \n",
    "    'Garage Finish' :{'Fin':3, 'RFn':2, 'Unf':1, 'missing':0 },\n",
    "    'Garage Qual' :{'Ex':5,'Gd':4, 'TA':3,'Fa':2,'Po':1, 'missing':0},\n",
    "    'Garage Cond' :{'Ex':5, 'Gd':4, 'TA':3,'Fa':2,'Po':1, 'missing':0}, \n",
    "    'Paved Drive' :{'Y':2, 'P':1, 'N':0, 'missing':0 }\n",
    "}"
   ]
  },
  {
   "cell_type": "code",
   "execution_count": 47,
   "id": "9cdc6b8d",
   "metadata": {},
   "outputs": [
    {
     "data": {
      "text/plain": [
       "0"
      ]
     },
     "execution_count": 47,
     "metadata": {},
     "output_type": "execute_result"
    }
   ],
   "source": [
    "def nominal_rank_by_mean:\n",
    "    return 0"
   ]
  },
  {
   "cell_type": "markdown",
   "id": "c498730d",
   "metadata": {},
   "source": [
    "## Feature Engineering"
   ]
  },
  {
   "cell_type": "code",
   "execution_count": 6,
   "id": "dcb11078",
   "metadata": {},
   "outputs": [
    {
     "name": "stdout",
     "output_type": "stream",
     "text": [
      "MS Zoning\n",
      "RM    126387.057508\n",
      "RH    148859.571429\n",
      "RL    177822.905109\n",
      "FV    215803.757576\n",
      "Name: SalePrice, dtype: float64\n"
     ]
    }
   ],
   "source": [
    "#grouping by zone we can see the average \n",
    "if is_train_dataset:\n",
    "    print(df_ames.groupby(by=\"MS Zoning\")['SalePrice'].mean().sort_values())\n"
   ]
  },
  {
   "cell_type": "code",
   "execution_count": 7,
   "id": "3a80a1e6",
   "metadata": {},
   "outputs": [],
   "source": [
    "def zoning_rank(x):\n",
    "    '''Function to rank the 'MS Zoning', this is their rank based on their mean during the EDA\n",
    "    RM (Residential Medium Density)   =1, \n",
    "    RH (Residential High Density)     =2, \n",
    "    RL (Residential Low Density)      =3, \n",
    "    FV (Floating Village Residential) =4, \n",
    "    else 0\n",
    "    '''\n",
    "\n",
    "    if 'RM' in x: \n",
    "        return 1\n",
    "    elif 'RH' in x:\n",
    "        return 2\n",
    "    elif 'RL' in x:\n",
    "        return 3\n",
    "    elif 'FV' in x:\n",
    "        return 4\n",
    "    else:\n",
    "        return 0"
   ]
  },
  {
   "cell_type": "code",
   "execution_count": 8,
   "id": "7e7921e9",
   "metadata": {},
   "outputs": [],
   "source": [
    "def lotshape_rank(x):\n",
    "    '''Function to rank the 'Lot Shape', this is their rank based on irregularities\n",
    "    Reg (Regular)              =1, \n",
    "    IR1 (Slightly irregular)   = 2, \n",
    "    IR2 (Moderately Irregular) =3, \n",
    "    IR3 (Irregular)            =4, \n",
    "    else 0\n",
    "    '''\n",
    "\n",
    "    if 'Reg' in x:\n",
    "        return 4\n",
    "    elif 'IR1' in x:\n",
    "        return 3\n",
    "    elif 'IR2' in x:\n",
    "        return 2\n",
    "    elif 'IR3' in x:\n",
    "        return 1\n",
    "    else:\n",
    "        return 0"
   ]
  },
  {
   "cell_type": "code",
   "execution_count": 9,
   "id": "366b2c9c",
   "metadata": {},
   "outputs": [],
   "source": [
    "def condition_quality_rank(x):\n",
    "\n",
    "    '''Function to rank the Quality\n",
    "    Excellent =5, Good=4, Average/Typical=3, Fair=2, Poor=0, else 0\n",
    "    '''\n",
    "        \n",
    "    if 'Ex' in x:\n",
    "        return 5\n",
    "    elif 'Gd' in x:\n",
    "        return 4\n",
    "    elif 'TA' in x:\n",
    "        return 3\n",
    "    elif 'Fa' in x:\n",
    "        return 2\n",
    "    elif 'Po' in x:\n",
    "        return 1\n",
    "    else:\n",
    "        return 0"
   ]
  },
  {
   "cell_type": "code",
   "execution_count": 10,
   "id": "efdb4119",
   "metadata": {},
   "outputs": [],
   "source": [
    "##based on the mean per 'MS Zoning', rank the zone\n",
    "df_ames['zone_dummy'] = df_ames['MS Zoning'].map(zoning_rank)"
   ]
  },
  {
   "cell_type": "code",
   "execution_count": 11,
   "id": "87a8dd8d",
   "metadata": {},
   "outputs": [],
   "source": [
    "##based on the mean per 'Lot Shape' which describes the irregularities, rank the lot shape\n",
    "df_ames['lotshape_dummy'] = df_ames['Lot Shape'].map(lotshape_rank)"
   ]
  },
  {
   "cell_type": "code",
   "execution_count": 12,
   "id": "5a98f154",
   "metadata": {},
   "outputs": [],
   "source": [
    "#convert the condition to numerical values, from Poor to Excellent\n",
    "df_ames['exterqual_dummy'] = df_ames['Exter Qual'].map(condition_quality_rank)\n",
    "df_ames['extercond_dummy'] = df_ames['Exter Cond'].map(condition_quality_rank)\n",
    "df_ames['heatqc_dummy'] = df_ames['Heating QC'].map(condition_quality_rank)\n",
    "df_ames['kitchenqual_dummy'] = df_ames['Kitchen Qual'].map(condition_quality_rank)\n",
    "df_ames['fireplacequal_dummy'] = df_ames['Fireplace Qu'].map(condition_quality_rank)\n",
    "df_ames['garagequal_dummy'] = df_ames['Garage Qual'].map(condition_quality_rank)\n",
    "df_ames['garagecond_dummy'] = df_ames['Garage Cond'].map(condition_quality_rank)\n",
    "df_ames['bsmtqual_dummy'] = df_ames['Bsmt Qual'].map(condition_quality_rank)\n",
    "df_ames['bsmtcond_dummy'] = df_ames['Bsmt Cond'].map(condition_quality_rank)"
   ]
  },
  {
   "cell_type": "code",
   "execution_count": 13,
   "id": "8588bba0",
   "metadata": {},
   "outputs": [],
   "source": [
    "#convert Y to 2 and  P to 1 and N to 0\n",
    "#PavedDrive: Paved driveway\n",
    "#Y Paved\n",
    "#P Partial Pavement\n",
    "#N Dirt/Gravel#\n",
    "\n",
    "df_ames['paveddrive_dummy'] = df_ames[\"Paved Drive\"].map({\"Y\":2,\"P\":1, \"N\":0 })"
   ]
  },
  {
   "cell_type": "code",
   "execution_count": 14,
   "id": "b634d69e",
   "metadata": {},
   "outputs": [],
   "source": [
    "#convert Y to 1 and  N to 0\n",
    "df_ames['centralair_dummy'] = df_ames[\"Central Air\"].map(lambda x: 1 if x=='Y' else 0)"
   ]
  },
  {
   "cell_type": "code",
   "execution_count": 15,
   "id": "43ae51e5",
   "metadata": {},
   "outputs": [],
   "source": [
    "#Age calculation based in Year it was sold and Year it was built\n",
    "df_ames['HouseAge'] = df_ames['Yr Sold']- df_ames['Year Built']"
   ]
  },
  {
   "cell_type": "code",
   "execution_count": 16,
   "id": "2a53d17f",
   "metadata": {},
   "outputs": [
    {
     "data": {
      "text/html": [
       "<div>\n",
       "<style scoped>\n",
       "    .dataframe tbody tr th:only-of-type {\n",
       "        vertical-align: middle;\n",
       "    }\n",
       "\n",
       "    .dataframe tbody tr th {\n",
       "        vertical-align: top;\n",
       "    }\n",
       "\n",
       "    .dataframe thead th {\n",
       "        text-align: right;\n",
       "    }\n",
       "</style>\n",
       "<table border=\"1\" class=\"dataframe\">\n",
       "  <thead>\n",
       "    <tr style=\"text-align: right;\">\n",
       "      <th></th>\n",
       "      <th>Yr Sold</th>\n",
       "      <th>Year Built</th>\n",
       "      <th>Year Remod/Add</th>\n",
       "      <th>HouseAge</th>\n",
       "    </tr>\n",
       "  </thead>\n",
       "  <tbody>\n",
       "    <tr>\n",
       "      <th>0</th>\n",
       "      <td>2010</td>\n",
       "      <td>1976</td>\n",
       "      <td>2005</td>\n",
       "      <td>34</td>\n",
       "    </tr>\n",
       "    <tr>\n",
       "      <th>1</th>\n",
       "      <td>2009</td>\n",
       "      <td>1996</td>\n",
       "      <td>1997</td>\n",
       "      <td>13</td>\n",
       "    </tr>\n",
       "    <tr>\n",
       "      <th>2</th>\n",
       "      <td>2010</td>\n",
       "      <td>1953</td>\n",
       "      <td>2007</td>\n",
       "      <td>57</td>\n",
       "    </tr>\n",
       "    <tr>\n",
       "      <th>3</th>\n",
       "      <td>2010</td>\n",
       "      <td>2006</td>\n",
       "      <td>2007</td>\n",
       "      <td>4</td>\n",
       "    </tr>\n",
       "    <tr>\n",
       "      <th>4</th>\n",
       "      <td>2010</td>\n",
       "      <td>1900</td>\n",
       "      <td>1993</td>\n",
       "      <td>110</td>\n",
       "    </tr>\n",
       "  </tbody>\n",
       "</table>\n",
       "</div>"
      ],
      "text/plain": [
       "   Yr Sold  Year Built  Year Remod/Add  HouseAge\n",
       "0     2010        1976            2005        34\n",
       "1     2009        1996            1997        13\n",
       "2     2010        1953            2007        57\n",
       "3     2010        2006            2007         4\n",
       "4     2010        1900            1993       110"
      ]
     },
     "execution_count": 16,
     "metadata": {},
     "output_type": "execute_result"
    }
   ],
   "source": [
    "df_ames[['Yr Sold', 'Year Built', 'Year Remod/Add', 'HouseAge']].head()"
   ]
  },
  {
   "cell_type": "code",
   "execution_count": 17,
   "id": "e2fef3bf",
   "metadata": {},
   "outputs": [],
   "source": [
    "def neighborhood_rank(x):\n",
    "    '''Rank based on the mean of the neigborhood\n",
    "    '''\n",
    "    if x in neigh_below_25:     # < 25% quantile\n",
    "        return 1\n",
    "    elif x in neigh_bet_25_50:  # < 50% quantile\n",
    "        return 2\n",
    "    elif x in neigh_bet_50_75:  # < 75% quantile\n",
    "        return 3 \n",
    "    else:\n",
    "        return 4               # > 75% quantile"
   ]
  },
  {
   "cell_type": "code",
   "execution_count": 114,
   "id": "01adfb8f",
   "metadata": {},
   "outputs": [],
   "source": [
    "#Ranking of Neigborhood\n",
    "if is_train_dataset:\n",
    "    grouped = df_ames.loc[:,['Neighborhood', 'SalePrice']] \\\n",
    "                .groupby('Neighborhood') \\\n",
    "                .median() \\\n",
    "                .sort_values(by='SalePrice').reset_index()\n",
    "    grouped['rank'] = list(grouped.index)\n",
    "   "
   ]
  },
  {
   "cell_type": "code",
   "execution_count": 117,
   "id": "52b3b57d",
   "metadata": {},
   "outputs": [
    {
     "data": {
      "text/html": [
       "<div>\n",
       "<style scoped>\n",
       "    .dataframe tbody tr th:only-of-type {\n",
       "        vertical-align: middle;\n",
       "    }\n",
       "\n",
       "    .dataframe tbody tr th {\n",
       "        vertical-align: top;\n",
       "    }\n",
       "\n",
       "    .dataframe thead th {\n",
       "        text-align: right;\n",
       "    }\n",
       "</style>\n",
       "<table border=\"1\" class=\"dataframe\">\n",
       "  <thead>\n",
       "    <tr style=\"text-align: right;\">\n",
       "      <th></th>\n",
       "      <th>Neighborhood</th>\n",
       "      <th>rank</th>\n",
       "    </tr>\n",
       "  </thead>\n",
       "  <tbody>\n",
       "    <tr>\n",
       "      <th>0</th>\n",
       "      <td>MeadowV</td>\n",
       "      <td>0</td>\n",
       "    </tr>\n",
       "    <tr>\n",
       "      <th>1</th>\n",
       "      <td>BrDale</td>\n",
       "      <td>1</td>\n",
       "    </tr>\n",
       "    <tr>\n",
       "      <th>2</th>\n",
       "      <td>IDOTRR</td>\n",
       "      <td>2</td>\n",
       "    </tr>\n",
       "    <tr>\n",
       "      <th>3</th>\n",
       "      <td>OldTown</td>\n",
       "      <td>3</td>\n",
       "    </tr>\n",
       "    <tr>\n",
       "      <th>4</th>\n",
       "      <td>Edwards</td>\n",
       "      <td>4</td>\n",
       "    </tr>\n",
       "    <tr>\n",
       "      <th>5</th>\n",
       "      <td>BrkSide</td>\n",
       "      <td>5</td>\n",
       "    </tr>\n",
       "    <tr>\n",
       "      <th>6</th>\n",
       "      <td>Sawyer</td>\n",
       "      <td>6</td>\n",
       "    </tr>\n",
       "    <tr>\n",
       "      <th>7</th>\n",
       "      <td>SWISU</td>\n",
       "      <td>7</td>\n",
       "    </tr>\n",
       "    <tr>\n",
       "      <th>8</th>\n",
       "      <td>Landmrk</td>\n",
       "      <td>8</td>\n",
       "    </tr>\n",
       "    <tr>\n",
       "      <th>9</th>\n",
       "      <td>Blueste</td>\n",
       "      <td>9</td>\n",
       "    </tr>\n",
       "    <tr>\n",
       "      <th>10</th>\n",
       "      <td>NAmes</td>\n",
       "      <td>10</td>\n",
       "    </tr>\n",
       "    <tr>\n",
       "      <th>11</th>\n",
       "      <td>NPkVill</td>\n",
       "      <td>11</td>\n",
       "    </tr>\n",
       "    <tr>\n",
       "      <th>12</th>\n",
       "      <td>Mitchel</td>\n",
       "      <td>12</td>\n",
       "    </tr>\n",
       "    <tr>\n",
       "      <th>13</th>\n",
       "      <td>Gilbert</td>\n",
       "      <td>13</td>\n",
       "    </tr>\n",
       "    <tr>\n",
       "      <th>14</th>\n",
       "      <td>SawyerW</td>\n",
       "      <td>14</td>\n",
       "    </tr>\n",
       "    <tr>\n",
       "      <th>15</th>\n",
       "      <td>NWAmes</td>\n",
       "      <td>15</td>\n",
       "    </tr>\n",
       "    <tr>\n",
       "      <th>16</th>\n",
       "      <td>Greens</td>\n",
       "      <td>16</td>\n",
       "    </tr>\n",
       "    <tr>\n",
       "      <th>17</th>\n",
       "      <td>Blmngtn</td>\n",
       "      <td>17</td>\n",
       "    </tr>\n",
       "    <tr>\n",
       "      <th>18</th>\n",
       "      <td>Crawfor</td>\n",
       "      <td>18</td>\n",
       "    </tr>\n",
       "    <tr>\n",
       "      <th>19</th>\n",
       "      <td>CollgCr</td>\n",
       "      <td>19</td>\n",
       "    </tr>\n",
       "    <tr>\n",
       "      <th>20</th>\n",
       "      <td>Timber</td>\n",
       "      <td>20</td>\n",
       "    </tr>\n",
       "    <tr>\n",
       "      <th>21</th>\n",
       "      <td>Somerst</td>\n",
       "      <td>21</td>\n",
       "    </tr>\n",
       "    <tr>\n",
       "      <th>22</th>\n",
       "      <td>ClearCr</td>\n",
       "      <td>22</td>\n",
       "    </tr>\n",
       "    <tr>\n",
       "      <th>23</th>\n",
       "      <td>StoneBr</td>\n",
       "      <td>23</td>\n",
       "    </tr>\n",
       "    <tr>\n",
       "      <th>24</th>\n",
       "      <td>Veenker</td>\n",
       "      <td>24</td>\n",
       "    </tr>\n",
       "    <tr>\n",
       "      <th>25</th>\n",
       "      <td>NridgHt</td>\n",
       "      <td>25</td>\n",
       "    </tr>\n",
       "    <tr>\n",
       "      <th>26</th>\n",
       "      <td>GrnHill</td>\n",
       "      <td>26</td>\n",
       "    </tr>\n",
       "    <tr>\n",
       "      <th>27</th>\n",
       "      <td>NoRidge</td>\n",
       "      <td>27</td>\n",
       "    </tr>\n",
       "  </tbody>\n",
       "</table>\n",
       "</div>"
      ],
      "text/plain": [
       "   Neighborhood  rank\n",
       "0       MeadowV     0\n",
       "1        BrDale     1\n",
       "2        IDOTRR     2\n",
       "3       OldTown     3\n",
       "4       Edwards     4\n",
       "5       BrkSide     5\n",
       "6        Sawyer     6\n",
       "7         SWISU     7\n",
       "8       Landmrk     8\n",
       "9       Blueste     9\n",
       "10        NAmes    10\n",
       "11      NPkVill    11\n",
       "12      Mitchel    12\n",
       "13      Gilbert    13\n",
       "14      SawyerW    14\n",
       "15       NWAmes    15\n",
       "16       Greens    16\n",
       "17      Blmngtn    17\n",
       "18      Crawfor    18\n",
       "19      CollgCr    19\n",
       "20       Timber    20\n",
       "21      Somerst    21\n",
       "22      ClearCr    22\n",
       "23      StoneBr    23\n",
       "24      Veenker    24\n",
       "25      NridgHt    25\n",
       "26      GrnHill    26\n",
       "27      NoRidge    27"
      ]
     },
     "execution_count": 117,
     "metadata": {},
     "output_type": "execute_result"
    }
   ],
   "source": [
    "grouped[['Neighborhood', 'rank']]"
   ]
  },
  {
   "cell_type": "code",
   "execution_count": 118,
   "id": "a75958ce",
   "metadata": {},
   "outputs": [],
   "source": [
    "nominal_dict = {}\n",
    "nominal_dict['Neighborhood'] = grouped[['Neighborhood', 'rank']].to_dict()"
   ]
  },
  {
   "cell_type": "code",
   "execution_count": 119,
   "id": "e4e42acb",
   "metadata": {},
   "outputs": [
    {
     "data": {
      "text/plain": [
       "{'Neighborhood': {'Neighborhood': {0: 'MeadowV',\n",
       "   1: 'BrDale',\n",
       "   2: 'IDOTRR',\n",
       "   3: 'OldTown',\n",
       "   4: 'Edwards',\n",
       "   5: 'BrkSide',\n",
       "   6: 'Sawyer',\n",
       "   7: 'SWISU',\n",
       "   8: 'Landmrk',\n",
       "   9: 'Blueste',\n",
       "   10: 'NAmes',\n",
       "   11: 'NPkVill',\n",
       "   12: 'Mitchel',\n",
       "   13: 'Gilbert',\n",
       "   14: 'SawyerW',\n",
       "   15: 'NWAmes',\n",
       "   16: 'Greens',\n",
       "   17: 'Blmngtn',\n",
       "   18: 'Crawfor',\n",
       "   19: 'CollgCr',\n",
       "   20: 'Timber',\n",
       "   21: 'Somerst',\n",
       "   22: 'ClearCr',\n",
       "   23: 'StoneBr',\n",
       "   24: 'Veenker',\n",
       "   25: 'NridgHt',\n",
       "   26: 'GrnHill',\n",
       "   27: 'NoRidge'},\n",
       "  'rank': {0: 0,\n",
       "   1: 1,\n",
       "   2: 2,\n",
       "   3: 3,\n",
       "   4: 4,\n",
       "   5: 5,\n",
       "   6: 6,\n",
       "   7: 7,\n",
       "   8: 8,\n",
       "   9: 9,\n",
       "   10: 10,\n",
       "   11: 11,\n",
       "   12: 12,\n",
       "   13: 13,\n",
       "   14: 14,\n",
       "   15: 15,\n",
       "   16: 16,\n",
       "   17: 17,\n",
       "   18: 18,\n",
       "   19: 19,\n",
       "   20: 20,\n",
       "   21: 21,\n",
       "   22: 22,\n",
       "   23: 23,\n",
       "   24: 24,\n",
       "   25: 25,\n",
       "   26: 26,\n",
       "   27: 27}}}"
      ]
     },
     "execution_count": 119,
     "metadata": {},
     "output_type": "execute_result"
    }
   ],
   "source": [
    "nominal_dict"
   ]
  },
  {
   "cell_type": "code",
   "execution_count": 19,
   "id": "31d3101b",
   "metadata": {},
   "outputs": [
    {
     "name": "stdout",
     "output_type": "stream",
     "text": [
      "neigh_above_75: Index(['NoRidge', 'GrnHill', 'NridgHt', 'Veenker', 'StoneBr', 'ClearCr',\n",
      "       'Somerst', 'Timber'],\n",
      "      dtype='object', name='Neighborhood')\n",
      "neigh_bet_50_75: ['CollgCr', 'Crawfor', 'Blmngtn', 'Greens', 'NWAmes', 'SawyerW', 'Gilbert', 'Mitchel']\n",
      "neigh_bet_25_50: ['NPkVill', 'NAmes', 'Blueste', 'Landmrk', 'SWISU', 'Sawyer']\n",
      "neigh_below_25: ['BrkSide', 'Edwards', 'OldTown', 'IDOTRR', 'BrDale', 'MeadowV']\n"
     ]
    }
   ],
   "source": [
    "if is_train_dataset:\n",
    "    ## Neighborhood above 75% quantile (205,000)\n",
    "    neigh_above_75 = grouped[(grouped['SalePrice'] > df_ames['SalePrice'].quantile(0.75))].index\n",
    "    \n",
    "    \n",
    "    ##Neighborhood 50-75% quantile\n",
    "    neigh_bet_50_75 = list(grouped[(grouped['SalePrice'] > df_ames['SalePrice'].quantile(0.50)) & (grouped['SalePrice'] <= df_ames['SalePrice'].quantile(0.75))].index)\n",
    "    \n",
    "    \n",
    "    ##Neighborhood 25-50% quantile\n",
    "    neigh_bet_25_50 = list(grouped[(grouped['SalePrice'] > df_ames['SalePrice'].quantile(0.25)) & (grouped['SalePrice'] <= df_ames['SalePrice'].quantile(0.50))].index)\n",
    "    \n",
    "    \n",
    "    ## Neighborhood below 25% quantile\n",
    "    neigh_below_25 = list(grouped[(grouped['SalePrice'] < df_ames['SalePrice'].quantile(0.25))].index)\n",
    "    \n",
    "else:    \n",
    "    neigh_above_75 = ['NoRidge', 'GrnHill', 'NridgHt', 'Veenker', 'StoneBr', 'ClearCr', 'Somerst', 'Timber']\n",
    "    neigh_bet_50_75 = ['CollgCr', 'Crawfor', 'Blmngtn', 'Greens', 'NWAmes', 'SawyerW', 'Gilbert', 'Mitchel']\n",
    "    neigh_bet_25_50 = ['NPkVill', 'NAmes', 'Blueste', 'Landmrk', 'SWISU', 'Sawyer']\n",
    "    neigh_below_25 = ['BrkSide', 'Edwards', 'OldTown', 'IDOTRR', 'BrDale', 'MeadowV']\n",
    "\n",
    "\n",
    "print('neigh_above_75:', neigh_above_75)\n",
    "print('neigh_bet_50_75:', neigh_bet_50_75)\n",
    "print('neigh_bet_25_50:', neigh_bet_25_50)\n",
    "print('neigh_below_25:', neigh_below_25)"
   ]
  },
  {
   "cell_type": "code",
   "execution_count": 20,
   "id": "9c3efceb",
   "metadata": {},
   "outputs": [],
   "source": [
    "#create feature for the neighborhood rank by mean\n",
    "df_ames['neiborhood_dummy'] = df_ames['Neighborhood'].map(neighborhood_rank)"
   ]
  },
  {
   "cell_type": "code",
   "execution_count": 21,
   "id": "1d5afa95",
   "metadata": {},
   "outputs": [
    {
     "data": {
      "text/html": [
       "<div>\n",
       "<style scoped>\n",
       "    .dataframe tbody tr th:only-of-type {\n",
       "        vertical-align: middle;\n",
       "    }\n",
       "\n",
       "    .dataframe tbody tr th {\n",
       "        vertical-align: top;\n",
       "    }\n",
       "\n",
       "    .dataframe thead th {\n",
       "        text-align: right;\n",
       "    }\n",
       "</style>\n",
       "<table border=\"1\" class=\"dataframe\">\n",
       "  <thead>\n",
       "    <tr style=\"text-align: right;\">\n",
       "      <th></th>\n",
       "      <th>Neighborhood</th>\n",
       "      <th>neiborhood_dummy</th>\n",
       "    </tr>\n",
       "  </thead>\n",
       "  <tbody>\n",
       "    <tr>\n",
       "      <th>0</th>\n",
       "      <td>Sawyer</td>\n",
       "      <td>2</td>\n",
       "    </tr>\n",
       "    <tr>\n",
       "      <th>1</th>\n",
       "      <td>SawyerW</td>\n",
       "      <td>3</td>\n",
       "    </tr>\n",
       "    <tr>\n",
       "      <th>2</th>\n",
       "      <td>NAmes</td>\n",
       "      <td>2</td>\n",
       "    </tr>\n",
       "    <tr>\n",
       "      <th>3</th>\n",
       "      <td>Timber</td>\n",
       "      <td>4</td>\n",
       "    </tr>\n",
       "    <tr>\n",
       "      <th>4</th>\n",
       "      <td>SawyerW</td>\n",
       "      <td>3</td>\n",
       "    </tr>\n",
       "  </tbody>\n",
       "</table>\n",
       "</div>"
      ],
      "text/plain": [
       "  Neighborhood  neiborhood_dummy\n",
       "0       Sawyer                 2\n",
       "1      SawyerW                 3\n",
       "2        NAmes                 2\n",
       "3       Timber                 4\n",
       "4      SawyerW                 3"
      ]
     },
     "execution_count": 21,
     "metadata": {},
     "output_type": "execute_result"
    }
   ],
   "source": [
    "#validate the function works correctly\n",
    "df_ames[['Neighborhood', 'neiborhood_dummy']].head()"
   ]
  },
  {
   "cell_type": "code",
   "execution_count": 22,
   "id": "7e2b94ec",
   "metadata": {},
   "outputs": [],
   "source": [
    "#drop fields that we used to create new one\n",
    "df_ames.drop(columns=['MS Zoning', 'Lot Shape', 'Exter Qual', 'Exter Cond', 'Bsmt Qual', 'Bsmt Cond', 'Heating QC','Kitchen Qual','Fireplace Qu','Garage Qual','Garage Cond'], inplace=True)"
   ]
  },
  {
   "cell_type": "code",
   "execution_count": 23,
   "id": "8b9b5ebd",
   "metadata": {},
   "outputs": [],
   "source": [
    "#One hot encoding for other categorical values\n",
    "var_categorical = df_ames.select_dtypes(include = 'object').columns\n",
    "\n",
    "le = preprocessing.LabelEncoder()\n",
    "\n",
    "for x in var_categorical:\n",
    "    df_ames[x] = le.fit_transform(df_ames[x] )"
   ]
  },
  {
   "cell_type": "code",
   "execution_count": 24,
   "id": "3e82f2dd",
   "metadata": {},
   "outputs": [
    {
     "data": {
      "text/plain": [
       "Index(['Street', 'Land Contour', 'Utilities', 'Lot Config', 'Land Slope',\n",
       "       'Neighborhood', 'Condition 1', 'Condition 2', 'Bldg Type',\n",
       "       'House Style', 'Roof Style', 'Roof Matl', 'Exterior 1st',\n",
       "       'Exterior 2nd', 'Mas Vnr Type', 'Foundation', 'Bsmt Exposure',\n",
       "       'BsmtFin Type 1', 'BsmtFin Type 2', 'Heating', 'Central Air',\n",
       "       'Electrical', 'Functional', 'Garage Type', 'Garage Finish',\n",
       "       'Paved Drive', 'Fence', 'Sale Type'],\n",
       "      dtype='object')"
      ]
     },
     "execution_count": 24,
     "metadata": {},
     "output_type": "execute_result"
    }
   ],
   "source": [
    "## Categorical variables that we transformed via LabelEncoder\n",
    "var_categorical"
   ]
  },
  {
   "cell_type": "code",
   "execution_count": 25,
   "id": "ab1a85af",
   "metadata": {},
   "outputs": [
    {
     "data": {
      "text/plain": [
       "Series([], dtype: int64)"
      ]
     },
     "execution_count": 25,
     "metadata": {},
     "output_type": "execute_result"
    }
   ],
   "source": [
    "#final check for null values\n",
    "df_ames.isnull().sum()[df_ames.isnull().sum()>0].sort_values()"
   ]
  },
  {
   "cell_type": "code",
   "execution_count": 26,
   "id": "42ef3657",
   "metadata": {},
   "outputs": [
    {
     "data": {
      "text/plain": [
       "<Figure size 432x288 with 0 Axes>"
      ]
     },
     "metadata": {},
     "output_type": "display_data"
    },
    {
     "data": {
      "image/png": "[encoded data removed]",
      "text/plain": [
       "<Figure size 1440x2160 with 80 Axes>"
      ]
     },
     "metadata": {
      "needs_background": "light"
     },
     "output_type": "display_data"
    }
   ],
   "source": [
    "#check the distribution after cleanup and feature engineering\n",
    "plt.figure()\n",
    "df_ames.hist(layout=(10,8),color='k', alpha=0.5, bins=50,figsize=(20,30));"
   ]
  },
  {
   "cell_type": "code",
   "execution_count": 27,
   "id": "00141413",
   "metadata": {},
   "outputs": [
    {
     "name": "stdout",
     "output_type": "stream",
     "text": [
      "Successfully saved train_wfeature_all.csv\n"
     ]
    }
   ],
   "source": [
    "#saved the preprocessed files\n",
    "if is_train_dataset:\n",
    "    df_ames.to_csv(\"../datasets/train_wfeature_all.csv\")\n",
    "    print(\"Successfully saved train_wfeature_all.csv\")\n",
    "else:\n",
    "    df_ames.to_csv(\"../datasets/test_wfeature_all.csv\")\n",
    "    print(\"Successfully saved test_wfeature_all.csv\")"
   ]
  },
  {
   "cell_type": "code",
   "execution_count": null,
   "id": "bfc47e12",
   "metadata": {},
   "outputs": [],
   "source": []
  }
 ],
 "metadata": {
  "kernelspec": {
   "display_name": "Python 3",
   "language": "python",
   "name": "python3"
  },
  "language_info": {
   "codemirror_mode": {
    "name": "ipython",
    "version": 3
   },
   "file_extension": ".py",
   "mimetype": "text/x-python",
   "name": "python",
   "nbconvert_exporter": "python",
   "pygments_lexer": "ipython3",
   "version": "3.8.8"
  }
 },
 "nbformat": 4,
 "nbformat_minor": 5
}
