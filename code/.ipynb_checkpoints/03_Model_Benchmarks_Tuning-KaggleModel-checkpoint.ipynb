{
 "cells": [
  {
   "cell_type": "markdown",
   "id": "912ec988",
   "metadata": {},
   "source": [
    "\n",
    "## Ames Housing Data and Kaggle Challenge\n",
    "\n",
    "Part 3 - after the 02_Preprocessing_and_Feature_Engineering\n",
    "\n",
    "This notebook is the last part.. intended for creating regresssion models and testing.\n",
    "and using the final models to predict the test dataset for submission to Kaggle"
   ]
  },
  {
   "cell_type": "code",
   "execution_count": 1,
   "id": "f4cf72bc",
   "metadata": {},
   "outputs": [],
   "source": [
    "#import packages\n",
    "import pandas as pd\n",
    "import matplotlib.pyplot as plt\n",
    "import seaborn as sns\n",
    "import numpy as np\n",
    "\n",
    "#regression models\n",
    "import sklearn  #to show version\n",
    "from sklearn.linear_model import LinearRegression\n",
    "from sklearn.linear_model import Ridge, Lasso, ElasticNet\n",
    "from sklearn.linear_model import RidgeCV, LassoCV, ElasticNetCV\n",
    "from sklearn.preprocessing import StandardScaler, PolynomialFeatures\n",
    "from sklearn.model_selection import train_test_split, cross_val_score,RandomizedSearchCV, KFold,cross_validate\n",
    "from sklearn import preprocessing\n",
    "from sklearn import metrics\n",
    "\n",
    "#for OLS\n",
    "import statsmodels.api as sm\n",
    "\n",
    "%matplotlib inline"
   ]
  },
  {
   "cell_type": "code",
   "execution_count": 2,
   "id": "d1d4d0bb",
   "metadata": {},
   "outputs": [
    {
     "name": "stdout",
     "output_type": "stream",
     "text": [
      "pandas:  1.3.4\n",
      "seaborn:  0.11.1\n",
      "numpy:  1.21.4\n",
      "sklearn 0.24.1\n"
     ]
    }
   ],
   "source": [
    "#package versions\n",
    "#show versions of packages\n",
    "print('pandas: ', pd.__version__)\n",
    "print('seaborn: ', sns.__version__)\n",
    "print('numpy: ', np.__version__)\n",
    "print('sklearn', sklearn.__version__)"
   ]
  },
  {
   "cell_type": "code",
   "execution_count": 3,
   "id": "705d1725",
   "metadata": {},
   "outputs": [],
   "source": [
    "import warnings\n",
    "warnings.filterwarnings('ignore')"
   ]
  },
  {
   "cell_type": "markdown",
   "id": "7f9c66de",
   "metadata": {},
   "source": [
    "### USER DEFINED VARIABLES"
   ]
  },
  {
   "cell_type": "code",
   "execution_count": 4,
   "id": "d6c603d8",
   "metadata": {},
   "outputs": [],
   "source": [
    "#store the resutt of regression models\n",
    "regression_dict = {}\n",
    "\n",
    "#we will use the same alphas for different regression models\n",
    "my_alphas = np.linspace(100, 800, 100)\n",
    "\n",
    "#parameter for cross validation\n",
    "crossval = KFold(n_splits=5, shuffle=True, random_state=52)"
   ]
  },
  {
   "cell_type": "markdown",
   "id": "048a3414",
   "metadata": {},
   "source": [
    "### USER DEFINED FUNCTIONS"
   ]
  },
  {
   "cell_type": "code",
   "execution_count": 5,
   "id": "fc215979",
   "metadata": {},
   "outputs": [],
   "source": [
    "def rmodel_crossval(model_type, alphas, X_train, y_train, X_val, y_val, dic):\n",
    "    ''' this function is to use cross validation, loop and search the best alpha\n",
    "    parameter: model_type ('Ridge' or 'Lasso' or 'Enet'), list of alpha,\n",
    "    X_train, y_train, X_val, y_val, dic(dictionary of the regression result)\n",
    "    \n",
    "    return: optimal alpha based on the range of alpha, the rest of the result will be added in the dictionary\n",
    "    '''\n",
    "    \n",
    "    val_score_list = []    #this is out X_val and y_val\n",
    "    train_score_list = []  #this is our X_train and y_train\n",
    "    cv_score_list = []     #this is our Cross validation from (X_train)\n",
    "    mse_train_list = []     #this is our mean squared error for train\n",
    "    mse_val_list = []     #this is our mean squared error for val\n",
    "    rmse_train_list = []     #this is our root mean squared error\n",
    "    rmse_val_list = []     #this is our root mean squared error\n",
    "    \n",
    "    #loop for each alpha\n",
    "    for alpha in alphas:\n",
    "###BEGIN LOOP        \n",
    "        #print(\"Trying for alpha:\",alpha )\n",
    "        \n",
    "        if model_type == 'Lasso':\n",
    "            rmodel = Lasso(alpha = alpha)\n",
    "        elif model_type == 'Ridge':\n",
    "            rmodel = Ridge(alpha = alpha)\n",
    "        elif model_type == 'Enet':\n",
    "            rmodel = ElasticNet(alpha = alpha)\n",
    "        else:\n",
    "            print('Invalid Model Type, Lasso, Ridge')\n",
    "            return None\n",
    "\n",
    "        cv = cross_validate(\n",
    "            rmodel, X_train, y_train, scoring='r2', cv=crossval, \n",
    "            return_train_score = True)\n",
    "        \n",
    "        train_score_list.append(np.mean(cv['train_score']))\n",
    "        cv_score_list.append(np.mean(cv['test_score']))\n",
    "            \n",
    "        #fit  Train\n",
    "        rmodel.fit(X_train,y_train)\n",
    "        y_train_pred = rmodel.predict(X_train)\n",
    "        mse_train_list.append(metrics.mean_squared_error(y_train, y_train_pred))\n",
    "        rmse_train_list.append(metrics.mean_squared_error(y_train, y_train_pred, squared=False))\n",
    "        \n",
    "        #predict Val\n",
    "        y_pred = rmodel.predict(X_val)\n",
    "        mse_val_list.append(metrics.mean_squared_error(y_val, y_pred))\n",
    "        rmse_val_list.append(metrics.mean_squared_error(y_val, y_pred, squared=False))\n",
    "        \n",
    "        val_score_list.append(rmodel.score(X_val, y_val))\n",
    "###END LOOP\n",
    "    \n",
    "    \n",
    "    #after looping, search the optimal alpha\n",
    "    optimal_alpha_index = np.argmax(val_score_list)\n",
    "    optimal_alpha = alphas[optimal_alpha_index]\n",
    "    \n",
    "    #maximum score in our validation data\n",
    "    val_score = np.max(val_score_list)\n",
    "    \n",
    "    #train score using the same alpha\n",
    "    train_score = train_score_list[optimal_alpha_index]\n",
    "    \n",
    "     #train mse using the same alpha\n",
    "    mse_train_score = mse_train_list[optimal_alpha_index]\n",
    "    mse_val_score = mse_val_list[optimal_alpha_index]\n",
    "    \n",
    "    #train rmse using the same alpha\n",
    "    rmse_train_score = rmse_train_list[optimal_alpha_index]\n",
    "    rmse_val_score = rmse_val_list[optimal_alpha_index]\n",
    "    \n",
    "    #lets plot the results\n",
    "    rmodel_plot(\n",
    "            cv_score_list, train_score_list, val_score_list,alphas, optimal_alpha,\n",
    "        model_type)\n",
    "    \n",
    "    \n",
    "    \n",
    "    print('Alpha:', optimal_alpha)\n",
    "    print('R2 of Train:', train_score, ', R2 of Val:', val_score)\n",
    "    print('MSE of Train,', mse_train_score, ', MSE of Val', mse_val_score)\n",
    "    print('RMSE of Train,', rmse_train_score, ', RMSE of Val', rmse_val_score)\n",
    "\n",
    "    model_print = model_type + '(cross_validate)'\n",
    "    \n",
    "    dic[model_print] = {'alpha': optimal_alpha, \n",
    "                                   'train_score': round(train_score,4), \n",
    "                                   'validation_score' : round(val_score,4),\n",
    "                                   'mse_train': round(mse_train_score,4), \n",
    "                                   'mse_val':round(mse_val_score,4), \n",
    "                                   'rmse_train': round(rmse_train_score,4),\n",
    "                                   'rmse_val': round(rmse_val_score,4)}\n",
    "    \n",
    "    return optimal_alpha"
   ]
  },
  {
   "cell_type": "code",
   "execution_count": 6,
   "id": "abf621ae",
   "metadata": {},
   "outputs": [],
   "source": [
    "def rmodel_plot(cross_val_score, train_score_list, val_score_list, alphas, optimal_alpha,\n",
    "    model_type):\n",
    "    \n",
    "    '''plotting the optimal alpha and the r2 score of cross validation, train data, and validation data\n",
    "    parameters: cross_val_score, train_score_list, alphas, optimal_alpha,\n",
    "                model_type, val_score_list\n",
    "    return: no return, just plot the graph\n",
    "    '''\n",
    "    \n",
    "    #set figure size\n",
    "    plt.figure(figsize = (7,5))\n",
    "    \n",
    "    #cross validation score\n",
    "    sns.lineplot(y = cross_val_score, x = alphas, \n",
    "                 label = 'CrossVal from X_train')\n",
    "    \n",
    "    #training data score\n",
    "    sns.lineplot(y = train_score_list, x = alphas, \n",
    "                 label = 'Training Data (X_train)')\n",
    "    \n",
    "    #vertical line for the optimal alpha\n",
    "    plt.axvline(x=optimal_alpha, linestyle='--')\n",
    "    \n",
    "    \n",
    "    #\n",
    "    sns.lineplot(y = val_score_list, x = alphas, \n",
    "                     label = 'Validation Data (X_val)')\n",
    "    \n",
    "    #plt.legend(bbox_to_anchor=(1.05, 1), loc=2, borderaxespad=0.)\n",
    "    \n",
    "    plt.title(model_type)\n",
    "    plt.xlabel('alphas')\n",
    "    plt.ylabel('r2 (score)')\n",
    "    \n",
    "    plt.legend()\n",
    "    plt.show()"
   ]
  },
  {
   "cell_type": "code",
   "execution_count": 7,
   "id": "09a6e24b",
   "metadata": {},
   "outputs": [],
   "source": [
    "def get_r2_mse(model, model_name, alpha, x_train, x_val, y_train, y_val, reg_dict, add_dic=False):\n",
    "    '''to help in getting r2, mse and rmse in different models\n",
    "    parameter: model, x_train, x_val, y_train, y_val, \n",
    "    reg_dict (dictionary to add the result), \n",
    "    add_dic (if we want to add the result in dictionary)'''\n",
    "    \n",
    "    #fit the model\n",
    "    model.fit(x_train, y_train)\n",
    "    \n",
    "    #r2\n",
    "    train_score = model.score(x_train, y_train)\n",
    "    val_score = model.score(x_val, y_val)\n",
    "\n",
    "    #predict train and validation\n",
    "    y_pred_train = model.predict(x_train)\n",
    "    y_pred_val = model.predict(x_val)\n",
    "\n",
    "    #mean square error for train\n",
    "    mse_train = metrics.mean_squared_error(y_pred_train, y_train)\n",
    "    rmse_train = metrics.mean_squared_error(y_pred_train, y_train, squared=False)\n",
    "\n",
    "    #mean square error for val\n",
    "    mse_val = metrics.mean_squared_error(y_pred_val, y_val)\n",
    "    rmse_val = metrics.mean_squared_error(y_pred_val, y_val, squared=False)\n",
    "    \n",
    "    print('Alpha:', alpha)\n",
    "    print('R2 of Train:', train_score, ', R2 of Val:', val_score)\n",
    "    print('MSE of Train,', mse_train, ', MSE of Val', mse_val)\n",
    "    print('RMSE of Train,', rmse_train, ', RMSE of Val', rmse_val)\n",
    "\n",
    "    if add_dic:\n",
    "        regression_dict[model_name] = {'alpha': round(alpha,4), \n",
    "                                   'train_score': round(train_score,4), \n",
    "                                   'validation_score' : round(val_score,4),\n",
    "                                   'mse_train': round(mse_train,4), \n",
    "                                   'mse_val':round(mse_val,4), \n",
    "                                   'rmse_train': round(rmse_train,4),\n",
    "                                   'rmse_val': round(rmse_val,4)}"
   ]
  },
  {
   "cell_type": "markdown",
   "id": "e2ea95c2",
   "metadata": {},
   "source": [
    "## Loading of train dataset with additional features"
   ]
  },
  {
   "cell_type": "code",
   "execution_count": 8,
   "id": "33d2f003",
   "metadata": {},
   "outputs": [
    {
     "data": {
      "text/html": [
       "<div>\n",
       "<style scoped>\n",
       "    .dataframe tbody tr th:only-of-type {\n",
       "        vertical-align: middle;\n",
       "    }\n",
       "\n",
       "    .dataframe tbody tr th {\n",
       "        vertical-align: top;\n",
       "    }\n",
       "\n",
       "    .dataframe thead th {\n",
       "        text-align: right;\n",
       "    }\n",
       "</style>\n",
       "<table border=\"1\" class=\"dataframe\">\n",
       "  <thead>\n",
       "    <tr style=\"text-align: right;\">\n",
       "      <th></th>\n",
       "      <th>Unnamed: 0</th>\n",
       "      <th>Id</th>\n",
       "      <th>PID</th>\n",
       "      <th>MS SubClass</th>\n",
       "      <th>MS Zoning</th>\n",
       "      <th>Lot Frontage</th>\n",
       "      <th>Lot Area</th>\n",
       "      <th>Street</th>\n",
       "      <th>Lot Shape</th>\n",
       "      <th>Land Contour</th>\n",
       "      <th>...</th>\n",
       "      <th>Pool Area</th>\n",
       "      <th>Misc Val</th>\n",
       "      <th>Mo Sold</th>\n",
       "      <th>Yr Sold</th>\n",
       "      <th>Sale Type</th>\n",
       "      <th>SalePrice</th>\n",
       "      <th>HouseAge</th>\n",
       "      <th>Remodel_Age</th>\n",
       "      <th>is_Remodeled</th>\n",
       "      <th>Total_SF</th>\n",
       "    </tr>\n",
       "  </thead>\n",
       "  <tbody>\n",
       "    <tr>\n",
       "      <th>0</th>\n",
       "      <td>0</td>\n",
       "      <td>109</td>\n",
       "      <td>533352170</td>\n",
       "      <td>60</td>\n",
       "      <td>6.0</td>\n",
       "      <td>79.0</td>\n",
       "      <td>13517</td>\n",
       "      <td>2</td>\n",
       "      <td>3</td>\n",
       "      <td>2.0</td>\n",
       "      <td>...</td>\n",
       "      <td>0</td>\n",
       "      <td>0</td>\n",
       "      <td>3</td>\n",
       "      <td>2010</td>\n",
       "      <td>6.0</td>\n",
       "      <td>130500</td>\n",
       "      <td>34</td>\n",
       "      <td>29</td>\n",
       "      <td>0</td>\n",
       "      <td>2204.0</td>\n",
       "    </tr>\n",
       "    <tr>\n",
       "      <th>1</th>\n",
       "      <td>1</td>\n",
       "      <td>544</td>\n",
       "      <td>531379050</td>\n",
       "      <td>60</td>\n",
       "      <td>6.0</td>\n",
       "      <td>43.0</td>\n",
       "      <td>11492</td>\n",
       "      <td>2</td>\n",
       "      <td>3</td>\n",
       "      <td>2.0</td>\n",
       "      <td>...</td>\n",
       "      <td>0</td>\n",
       "      <td>0</td>\n",
       "      <td>4</td>\n",
       "      <td>2009</td>\n",
       "      <td>6.0</td>\n",
       "      <td>220000</td>\n",
       "      <td>13</td>\n",
       "      <td>1</td>\n",
       "      <td>1</td>\n",
       "      <td>3035.0</td>\n",
       "    </tr>\n",
       "    <tr>\n",
       "      <th>2</th>\n",
       "      <td>2</td>\n",
       "      <td>153</td>\n",
       "      <td>535304180</td>\n",
       "      <td>20</td>\n",
       "      <td>6.0</td>\n",
       "      <td>68.0</td>\n",
       "      <td>7922</td>\n",
       "      <td>2</td>\n",
       "      <td>4</td>\n",
       "      <td>2.0</td>\n",
       "      <td>...</td>\n",
       "      <td>0</td>\n",
       "      <td>0</td>\n",
       "      <td>1</td>\n",
       "      <td>2010</td>\n",
       "      <td>6.0</td>\n",
       "      <td>109000</td>\n",
       "      <td>57</td>\n",
       "      <td>54</td>\n",
       "      <td>0</td>\n",
       "      <td>2114.0</td>\n",
       "    </tr>\n",
       "    <tr>\n",
       "      <th>3</th>\n",
       "      <td>3</td>\n",
       "      <td>318</td>\n",
       "      <td>916386060</td>\n",
       "      <td>60</td>\n",
       "      <td>6.0</td>\n",
       "      <td>73.0</td>\n",
       "      <td>9802</td>\n",
       "      <td>2</td>\n",
       "      <td>4</td>\n",
       "      <td>2.0</td>\n",
       "      <td>...</td>\n",
       "      <td>0</td>\n",
       "      <td>0</td>\n",
       "      <td>4</td>\n",
       "      <td>2010</td>\n",
       "      <td>6.0</td>\n",
       "      <td>174000</td>\n",
       "      <td>4</td>\n",
       "      <td>1</td>\n",
       "      <td>1</td>\n",
       "      <td>1828.0</td>\n",
       "    </tr>\n",
       "    <tr>\n",
       "      <th>4</th>\n",
       "      <td>4</td>\n",
       "      <td>255</td>\n",
       "      <td>906425045</td>\n",
       "      <td>50</td>\n",
       "      <td>6.0</td>\n",
       "      <td>82.0</td>\n",
       "      <td>14235</td>\n",
       "      <td>2</td>\n",
       "      <td>3</td>\n",
       "      <td>2.0</td>\n",
       "      <td>...</td>\n",
       "      <td>0</td>\n",
       "      <td>0</td>\n",
       "      <td>3</td>\n",
       "      <td>2010</td>\n",
       "      <td>6.0</td>\n",
       "      <td>138500</td>\n",
       "      <td>110</td>\n",
       "      <td>93</td>\n",
       "      <td>0</td>\n",
       "      <td>2121.0</td>\n",
       "    </tr>\n",
       "  </tbody>\n",
       "</table>\n",
       "<p>5 rows × 82 columns</p>\n",
       "</div>"
      ],
      "text/plain": [
       "   Unnamed: 0   Id        PID  MS SubClass  MS Zoning  Lot Frontage  Lot Area  \\\n",
       "0           0  109  533352170           60        6.0          79.0     13517   \n",
       "1           1  544  531379050           60        6.0          43.0     11492   \n",
       "2           2  153  535304180           20        6.0          68.0      7922   \n",
       "3           3  318  916386060           60        6.0          73.0      9802   \n",
       "4           4  255  906425045           50        6.0          82.0     14235   \n",
       "\n",
       "   Street  Lot Shape  Land Contour  ...  Pool Area  Misc Val  Mo Sold  \\\n",
       "0       2          3           2.0  ...          0         0        3   \n",
       "1       2          3           2.0  ...          0         0        4   \n",
       "2       2          4           2.0  ...          0         0        1   \n",
       "3       2          4           2.0  ...          0         0        4   \n",
       "4       2          3           2.0  ...          0         0        3   \n",
       "\n",
       "   Yr Sold  Sale Type  SalePrice  HouseAge  Remodel_Age  is_Remodeled  \\\n",
       "0     2010        6.0     130500        34           29             0   \n",
       "1     2009        6.0     220000        13            1             1   \n",
       "2     2010        6.0     109000        57           54             0   \n",
       "3     2010        6.0     174000         4            1             1   \n",
       "4     2010        6.0     138500       110           93             0   \n",
       "\n",
       "   Total_SF  \n",
       "0    2204.0  \n",
       "1    3035.0  \n",
       "2    2114.0  \n",
       "3    1828.0  \n",
       "4    2121.0  \n",
       "\n",
       "[5 rows x 82 columns]"
      ]
     },
     "execution_count": 8,
     "metadata": {},
     "output_type": "execute_result"
    }
   ],
   "source": [
    "df_train = pd.read_csv(\"../datasets/train_wfeature_all.csv\")\n",
    "df_train.head()"
   ]
  },
  {
   "cell_type": "code",
   "execution_count": 9,
   "id": "6c6ea6d2",
   "metadata": {},
   "outputs": [],
   "source": [
    "#drop unnecessary columns\n",
    "df_train.drop(columns=['Unnamed: 0', 'Id', 'PID'], inplace=True)"
   ]
  },
  {
   "cell_type": "code",
   "execution_count": 10,
   "id": "14a94798",
   "metadata": {},
   "outputs": [
    {
     "data": {
      "text/plain": [
       "(1955, 79)"
      ]
     },
     "execution_count": 10,
     "metadata": {},
     "output_type": "execute_result"
    }
   ],
   "source": [
    "#check the number of data points and columns\n",
    "df_train.shape"
   ]
  },
  {
   "cell_type": "code",
   "execution_count": 11,
   "id": "0be16a20",
   "metadata": {},
   "outputs": [
    {
     "data": {
      "text/plain": [
       "Series([], dtype: int64)"
      ]
     },
     "execution_count": 11,
     "metadata": {},
     "output_type": "execute_result"
    }
   ],
   "source": [
    "#check that there is no null values\n",
    "df_train.isnull().sum()[df_train.isnull().sum()>0].sort_values()"
   ]
  },
  {
   "cell_type": "code",
   "execution_count": 12,
   "id": "6bae7d88",
   "metadata": {},
   "outputs": [
    {
     "data": {
      "text/plain": [
       "MS SubClass       int64\n",
       "MS Zoning       float64\n",
       "Lot Frontage    float64\n",
       "Lot Area          int64\n",
       "Street            int64\n",
       "                 ...   \n",
       "SalePrice         int64\n",
       "HouseAge          int64\n",
       "Remodel_Age       int64\n",
       "is_Remodeled      int64\n",
       "Total_SF        float64\n",
       "Length: 79, dtype: object"
      ]
     },
     "execution_count": 12,
     "metadata": {},
     "output_type": "execute_result"
    }
   ],
   "source": [
    "df_train.dtypes"
   ]
  },
  {
   "cell_type": "markdown",
   "id": "d1007c9d",
   "metadata": {},
   "source": [
    "***define X  and y***"
   ]
  },
  {
   "cell_type": "code",
   "execution_count": 13,
   "id": "f654f402",
   "metadata": {},
   "outputs": [],
   "source": [
    "X=df_train.drop(columns=['SalePrice'])\n",
    "y=df_train['SalePrice']"
   ]
  },
  {
   "cell_type": "code",
   "execution_count": 14,
   "id": "e2524182",
   "metadata": {},
   "outputs": [
    {
     "data": {
      "text/html": [
       "<table class=\"simpletable\">\n",
       "<caption>OLS Regression Results</caption>\n",
       "<tr>\n",
       "  <th>Dep. Variable:</th>        <td>SalePrice</td>    <th>  R-squared (uncentered):</th>      <td>   0.990</td> \n",
       "</tr>\n",
       "<tr>\n",
       "  <th>Model:</th>                   <td>OLS</td>       <th>  Adj. R-squared (uncentered):</th> <td>   0.989</td> \n",
       "</tr>\n",
       "<tr>\n",
       "  <th>Method:</th>             <td>Least Squares</td>  <th>  F-statistic:       </th>          <td>   2523.</td> \n",
       "</tr>\n",
       "<tr>\n",
       "  <th>Date:</th>             <td>Mon, 31 Jan 2022</td> <th>  Prob (F-statistic):</th>           <td>  0.00</td>  \n",
       "</tr>\n",
       "<tr>\n",
       "  <th>Time:</th>                 <td>20:07:41</td>     <th>  Log-Likelihood:    </th>          <td> -21944.</td> \n",
       "</tr>\n",
       "<tr>\n",
       "  <th>No. Observations:</th>      <td>  1955</td>      <th>  AIC:               </th>          <td>4.403e+04</td>\n",
       "</tr>\n",
       "<tr>\n",
       "  <th>Df Residuals:</th>          <td>  1882</td>      <th>  BIC:               </th>          <td>4.444e+04</td>\n",
       "</tr>\n",
       "<tr>\n",
       "  <th>Df Model:</th>              <td>    73</td>      <th>                     </th>              <td> </td>    \n",
       "</tr>\n",
       "<tr>\n",
       "  <th>Covariance Type:</th>      <td>nonrobust</td>    <th>                     </th>              <td> </td>    \n",
       "</tr>\n",
       "</table>\n",
       "<table class=\"simpletable\">\n",
       "<tr>\n",
       "         <td></td>            <th>coef</th>     <th>std err</th>      <th>t</th>      <th>P>|t|</th>  <th>[0.025</th>    <th>0.975]</th>  \n",
       "</tr>\n",
       "<tr>\n",
       "  <th>MS SubClass</th>     <td>  -87.9702</td> <td>   13.651</td> <td>   -6.444</td> <td> 0.000</td> <td> -114.743</td> <td>  -61.198</td>\n",
       "</tr>\n",
       "<tr>\n",
       "  <th>MS Zoning</th>       <td>   83.2589</td> <td>  687.098</td> <td>    0.121</td> <td> 0.904</td> <td>-1264.295</td> <td> 1430.813</td>\n",
       "</tr>\n",
       "<tr>\n",
       "  <th>Lot Frontage</th>    <td>    4.3310</td> <td>   29.784</td> <td>    0.145</td> <td> 0.884</td> <td>  -54.083</td> <td>   62.745</td>\n",
       "</tr>\n",
       "<tr>\n",
       "  <th>Lot Area</th>        <td>    0.4724</td> <td>    0.109</td> <td>    4.324</td> <td> 0.000</td> <td>    0.258</td> <td>    0.687</td>\n",
       "</tr>\n",
       "<tr>\n",
       "  <th>Street</th>          <td> 3971.6334</td> <td> 7334.510</td> <td>    0.541</td> <td> 0.588</td> <td>-1.04e+04</td> <td> 1.84e+04</td>\n",
       "</tr>\n",
       "<tr>\n",
       "  <th>Lot Shape</th>       <td> -331.3108</td> <td>  881.545</td> <td>   -0.376</td> <td> 0.707</td> <td>-2060.219</td> <td> 1397.598</td>\n",
       "</tr>\n",
       "<tr>\n",
       "  <th>Land Contour</th>    <td> 1929.5686</td> <td> 1062.026</td> <td>    1.817</td> <td> 0.069</td> <td> -153.303</td> <td> 4012.440</td>\n",
       "</tr>\n",
       "<tr>\n",
       "  <th>Utilities</th>       <td> 1.357e+04</td> <td> 8649.531</td> <td>    1.569</td> <td> 0.117</td> <td>-3389.448</td> <td> 3.05e+04</td>\n",
       "</tr>\n",
       "<tr>\n",
       "  <th>Lot Config</th>      <td>  370.3655</td> <td>  398.199</td> <td>    0.930</td> <td> 0.352</td> <td> -410.593</td> <td> 1151.324</td>\n",
       "</tr>\n",
       "<tr>\n",
       "  <th>Land Slope</th>      <td>-3142.3434</td> <td> 2022.216</td> <td>   -1.554</td> <td> 0.120</td> <td>-7108.365</td> <td>  823.678</td>\n",
       "</tr>\n",
       "<tr>\n",
       "  <th>Neighborhood</th>    <td> 1089.4708</td> <td>  114.326</td> <td>    9.530</td> <td> 0.000</td> <td>  865.253</td> <td> 1313.689</td>\n",
       "</tr>\n",
       "<tr>\n",
       "  <th>Condition 1</th>     <td> 2657.4013</td> <td>  398.318</td> <td>    6.672</td> <td> 0.000</td> <td> 1876.209</td> <td> 3438.593</td>\n",
       "</tr>\n",
       "<tr>\n",
       "  <th>Condition 2</th>     <td> 1461.7162</td> <td> 1645.512</td> <td>    0.888</td> <td> 0.374</td> <td>-1765.504</td> <td> 4688.937</td>\n",
       "</tr>\n",
       "<tr>\n",
       "  <th>Bldg Type</th>       <td> -494.7177</td> <td>  777.907</td> <td>   -0.636</td> <td> 0.525</td> <td>-2020.369</td> <td> 1030.934</td>\n",
       "</tr>\n",
       "<tr>\n",
       "  <th>House Style</th>     <td> -855.3321</td> <td>  342.155</td> <td>   -2.500</td> <td> 0.013</td> <td>-1526.375</td> <td> -184.289</td>\n",
       "</tr>\n",
       "<tr>\n",
       "  <th>Overall Qual</th>    <td> 8360.9329</td> <td>  601.215</td> <td>   13.907</td> <td> 0.000</td> <td> 7181.815</td> <td> 9540.050</td>\n",
       "</tr>\n",
       "<tr>\n",
       "  <th>Overall Cond</th>    <td> 4683.5433</td> <td>  532.658</td> <td>    8.793</td> <td> 0.000</td> <td> 3638.880</td> <td> 5728.207</td>\n",
       "</tr>\n",
       "<tr>\n",
       "  <th>Year Built</th>      <td>   31.2147</td> <td>   16.686</td> <td>    1.871</td> <td> 0.062</td> <td>   -1.510</td> <td>   63.940</td>\n",
       "</tr>\n",
       "<tr>\n",
       "  <th>Year Remod/Add</th>  <td>   47.7147</td> <td>   19.784</td> <td>    2.412</td> <td> 0.016</td> <td>    8.914</td> <td>   86.515</td>\n",
       "</tr>\n",
       "<tr>\n",
       "  <th>Roof Style</th>      <td> 2288.7173</td> <td> 1004.441</td> <td>    2.279</td> <td> 0.023</td> <td>  318.783</td> <td> 4258.651</td>\n",
       "</tr>\n",
       "<tr>\n",
       "  <th>Roof Matl</th>       <td> -634.4095</td> <td> 1958.209</td> <td>   -0.324</td> <td> 0.746</td> <td>-4474.899</td> <td> 3206.080</td>\n",
       "</tr>\n",
       "<tr>\n",
       "  <th>Exterior 1st</th>    <td>  494.2178</td> <td>  305.150</td> <td>    1.620</td> <td> 0.105</td> <td> -104.250</td> <td> 1092.685</td>\n",
       "</tr>\n",
       "<tr>\n",
       "  <th>Exterior 2nd</th>    <td> -125.4053</td> <td>  253.542</td> <td>   -0.495</td> <td> 0.621</td> <td> -622.659</td> <td>  371.848</td>\n",
       "</tr>\n",
       "<tr>\n",
       "  <th>Mas Vnr Type</th>    <td>  845.2049</td> <td>  645.693</td> <td>    1.309</td> <td> 0.191</td> <td> -421.144</td> <td> 2111.554</td>\n",
       "</tr>\n",
       "<tr>\n",
       "  <th>Mas Vnr Area</th>    <td>    1.9953</td> <td>    3.564</td> <td>    0.560</td> <td> 0.576</td> <td>   -4.995</td> <td>    8.986</td>\n",
       "</tr>\n",
       "<tr>\n",
       "  <th>Exter Qual</th>      <td> 7528.1079</td> <td> 1355.277</td> <td>    5.555</td> <td> 0.000</td> <td> 4870.104</td> <td> 1.02e+04</td>\n",
       "</tr>\n",
       "<tr>\n",
       "  <th>Exter Cond</th>      <td>-1333.5862</td> <td> 1284.736</td> <td>   -1.038</td> <td> 0.299</td> <td>-3853.243</td> <td> 1186.071</td>\n",
       "</tr>\n",
       "<tr>\n",
       "  <th>Foundation</th>      <td>  844.8569</td> <td>  490.271</td> <td>    1.723</td> <td> 0.085</td> <td> -116.675</td> <td> 1806.389</td>\n",
       "</tr>\n",
       "<tr>\n",
       "  <th>Bsmt Qual</th>       <td>  986.7543</td> <td> 1003.339</td> <td>    0.983</td> <td> 0.326</td> <td> -981.019</td> <td> 2954.527</td>\n",
       "</tr>\n",
       "<tr>\n",
       "  <th>Bsmt Cond</th>       <td>-3149.2287</td> <td> 1189.463</td> <td>   -2.648</td> <td> 0.008</td> <td>-5482.034</td> <td> -816.424</td>\n",
       "</tr>\n",
       "<tr>\n",
       "  <th>Bsmt Exposure</th>   <td> 1413.3384</td> <td>  360.424</td> <td>    3.921</td> <td> 0.000</td> <td>  706.465</td> <td> 2120.211</td>\n",
       "</tr>\n",
       "<tr>\n",
       "  <th>BsmtFin Type 1</th>  <td>  122.8675</td> <td>  330.985</td> <td>    0.371</td> <td> 0.711</td> <td> -526.268</td> <td>  772.003</td>\n",
       "</tr>\n",
       "<tr>\n",
       "  <th>BsmtFin SF 1</th>    <td>    9.3018</td> <td>    1.684</td> <td>    5.523</td> <td> 0.000</td> <td>    5.999</td> <td>   12.605</td>\n",
       "</tr>\n",
       "<tr>\n",
       "  <th>BsmtFin Type 2</th>  <td>   14.4603</td> <td>  736.955</td> <td>    0.020</td> <td> 0.984</td> <td>-1430.875</td> <td> 1459.795</td>\n",
       "</tr>\n",
       "<tr>\n",
       "  <th>BsmtFin SF 2</th>    <td>   -3.0945</td> <td>    3.112</td> <td>   -0.994</td> <td> 0.320</td> <td>   -9.199</td> <td>    3.010</td>\n",
       "</tr>\n",
       "<tr>\n",
       "  <th>Bsmt Unf SF</th>     <td>   -6.0473</td> <td>    1.527</td> <td>   -3.962</td> <td> 0.000</td> <td>   -9.041</td> <td>   -3.053</td>\n",
       "</tr>\n",
       "<tr>\n",
       "  <th>Total Bsmt SF</th>   <td>    0.1599</td> <td>    1.694</td> <td>    0.094</td> <td> 0.925</td> <td>   -3.163</td> <td>    3.483</td>\n",
       "</tr>\n",
       "<tr>\n",
       "  <th>Heating</th>         <td> 2526.4847</td> <td> 1607.619</td> <td>    1.572</td> <td> 0.116</td> <td> -626.418</td> <td> 5679.387</td>\n",
       "</tr>\n",
       "<tr>\n",
       "  <th>Heating QC</th>      <td> 1956.1149</td> <td>  577.038</td> <td>    3.390</td> <td> 0.001</td> <td>  824.413</td> <td> 3087.817</td>\n",
       "</tr>\n",
       "<tr>\n",
       "  <th>Central Air</th>     <td>-4749.9783</td> <td> 2111.065</td> <td>   -2.250</td> <td> 0.025</td> <td>-8890.252</td> <td> -609.705</td>\n",
       "</tr>\n",
       "<tr>\n",
       "  <th>Electrical</th>      <td>-2442.9597</td> <td> 1185.700</td> <td>   -2.060</td> <td> 0.040</td> <td>-4768.384</td> <td> -117.536</td>\n",
       "</tr>\n",
       "<tr>\n",
       "  <th>1st Flr SF</th>      <td>   13.2288</td> <td>    3.015</td> <td>    4.388</td> <td> 0.000</td> <td>    7.316</td> <td>   19.142</td>\n",
       "</tr>\n",
       "<tr>\n",
       "  <th>2nd Flr SF</th>      <td>   15.0259</td> <td>    2.739</td> <td>    5.485</td> <td> 0.000</td> <td>    9.653</td> <td>   20.398</td>\n",
       "</tr>\n",
       "<tr>\n",
       "  <th>Low Qual Fin SF</th> <td>  -11.2010</td> <td>    6.372</td> <td>   -1.758</td> <td> 0.079</td> <td>  -23.697</td> <td>    1.295</td>\n",
       "</tr>\n",
       "<tr>\n",
       "  <th>Gr Liv Area</th>     <td>   17.0537</td> <td>    2.036</td> <td>    8.376</td> <td> 0.000</td> <td>   13.061</td> <td>   21.047</td>\n",
       "</tr>\n",
       "<tr>\n",
       "  <th>Bsmt Full Bath</th>  <td> 4328.4294</td> <td> 1226.645</td> <td>    3.529</td> <td> 0.000</td> <td> 1922.701</td> <td> 6734.157</td>\n",
       "</tr>\n",
       "<tr>\n",
       "  <th>Bsmt Half Bath</th>  <td>-1568.6664</td> <td> 1805.944</td> <td>   -0.869</td> <td> 0.385</td> <td>-5110.529</td> <td> 1973.196</td>\n",
       "</tr>\n",
       "<tr>\n",
       "  <th>Full Bath</th>       <td>  402.5433</td> <td> 1294.009</td> <td>    0.311</td> <td> 0.756</td> <td>-2135.300</td> <td> 2940.387</td>\n",
       "</tr>\n",
       "<tr>\n",
       "  <th>Half Bath</th>       <td>-1183.3062</td> <td> 1288.656</td> <td>   -0.918</td> <td> 0.359</td> <td>-3710.650</td> <td> 1344.038</td>\n",
       "</tr>\n",
       "<tr>\n",
       "  <th>Bedroom AbvGr</th>   <td>-2690.2279</td> <td>  828.566</td> <td>   -3.247</td> <td> 0.001</td> <td>-4315.232</td> <td>-1065.224</td>\n",
       "</tr>\n",
       "<tr>\n",
       "  <th>Kitchen AbvGr</th>   <td>-1.021e+04</td> <td> 2684.720</td> <td>   -3.801</td> <td> 0.000</td> <td>-1.55e+04</td> <td>-4940.020</td>\n",
       "</tr>\n",
       "<tr>\n",
       "  <th>Kitchen Qual</th>    <td> 5763.6213</td> <td> 1050.778</td> <td>    5.485</td> <td> 0.000</td> <td> 3702.810</td> <td> 7824.433</td>\n",
       "</tr>\n",
       "<tr>\n",
       "  <th>TotRms AbvGrd</th>   <td>  592.5376</td> <td>  598.134</td> <td>    0.991</td> <td> 0.322</td> <td> -580.538</td> <td> 1765.613</td>\n",
       "</tr>\n",
       "<tr>\n",
       "  <th>Functional</th>      <td> 5191.3725</td> <td>  668.820</td> <td>    7.762</td> <td> 0.000</td> <td> 3879.666</td> <td> 6503.079</td>\n",
       "</tr>\n",
       "<tr>\n",
       "  <th>Fireplaces</th>      <td> 2317.8466</td> <td> 1495.041</td> <td>    1.550</td> <td> 0.121</td> <td> -614.265</td> <td> 5249.958</td>\n",
       "</tr>\n",
       "<tr>\n",
       "  <th>Fireplace Qu</th>    <td> 1418.2479</td> <td>  523.528</td> <td>    2.709</td> <td> 0.007</td> <td>  391.492</td> <td> 2445.004</td>\n",
       "</tr>\n",
       "<tr>\n",
       "  <th>Garage Type</th>     <td> -477.8799</td> <td>  423.690</td> <td>   -1.128</td> <td> 0.260</td> <td>-1308.832</td> <td>  353.072</td>\n",
       "</tr>\n",
       "<tr>\n",
       "  <th>Garage Yr Blt</th>   <td>  -22.4959</td> <td>   34.212</td> <td>   -0.658</td> <td> 0.511</td> <td>  -89.593</td> <td>   44.601</td>\n",
       "</tr>\n",
       "<tr>\n",
       "  <th>Garage Finish</th>   <td>  887.3361</td> <td>  746.078</td> <td>    1.189</td> <td> 0.234</td> <td> -575.892</td> <td> 2350.564</td>\n",
       "</tr>\n",
       "<tr>\n",
       "  <th>Garage Cars</th>     <td> 1714.4143</td> <td> 1448.325</td> <td>    1.184</td> <td> 0.237</td> <td>-1126.077</td> <td> 4554.905</td>\n",
       "</tr>\n",
       "<tr>\n",
       "  <th>Garage Area</th>     <td>   21.3197</td> <td>    5.165</td> <td>    4.128</td> <td> 0.000</td> <td>   11.190</td> <td>   31.450</td>\n",
       "</tr>\n",
       "<tr>\n",
       "  <th>Garage Qual</th>     <td>-1288.2288</td> <td> 1959.381</td> <td>   -0.657</td> <td> 0.511</td> <td>-5131.016</td> <td> 2554.559</td>\n",
       "</tr>\n",
       "<tr>\n",
       "  <th>Garage Cond</th>     <td>-1433.4158</td> <td> 1982.395</td> <td>   -0.723</td> <td> 0.470</td> <td>-5321.339</td> <td> 2454.507</td>\n",
       "</tr>\n",
       "<tr>\n",
       "  <th>Paved Drive</th>     <td>  533.4332</td> <td>  993.964</td> <td>    0.537</td> <td> 0.592</td> <td>-1415.954</td> <td> 2482.820</td>\n",
       "</tr>\n",
       "<tr>\n",
       "  <th>Wood Deck SF</th>    <td>    8.6432</td> <td>    3.822</td> <td>    2.261</td> <td> 0.024</td> <td>    1.147</td> <td>   16.139</td>\n",
       "</tr>\n",
       "<tr>\n",
       "  <th>Open Porch SF</th>   <td>   20.2983</td> <td>    7.181</td> <td>    2.827</td> <td> 0.005</td> <td>    6.214</td> <td>   34.382</td>\n",
       "</tr>\n",
       "<tr>\n",
       "  <th>Enclosed Porch</th>  <td>   10.4463</td> <td>    7.803</td> <td>    1.339</td> <td> 0.181</td> <td>   -4.858</td> <td>   25.751</td>\n",
       "</tr>\n",
       "<tr>\n",
       "  <th>3Ssn Porch</th>      <td>    6.0755</td> <td>   17.289</td> <td>    0.351</td> <td> 0.725</td> <td>  -27.833</td> <td>   39.984</td>\n",
       "</tr>\n",
       "<tr>\n",
       "  <th>Screen Porch</th>    <td>   33.9701</td> <td>    7.998</td> <td>    4.247</td> <td> 0.000</td> <td>   18.285</td> <td>   49.656</td>\n",
       "</tr>\n",
       "<tr>\n",
       "  <th>Pool Area</th>       <td>    5.8801</td> <td>   11.795</td> <td>    0.499</td> <td> 0.618</td> <td>  -17.252</td> <td>   29.012</td>\n",
       "</tr>\n",
       "<tr>\n",
       "  <th>Misc Val</th>        <td>    0.2938</td> <td>    0.967</td> <td>    0.304</td> <td> 0.761</td> <td>   -1.603</td> <td>    2.190</td>\n",
       "</tr>\n",
       "<tr>\n",
       "  <th>Mo Sold</th>         <td>   84.4333</td> <td>  155.805</td> <td>    0.542</td> <td> 0.588</td> <td> -221.136</td> <td>  390.002</td>\n",
       "</tr>\n",
       "<tr>\n",
       "  <th>Yr Sold</th>         <td> -141.3968</td> <td>   23.590</td> <td>   -5.994</td> <td> 0.000</td> <td> -187.663</td> <td>  -95.131</td>\n",
       "</tr>\n",
       "<tr>\n",
       "  <th>Sale Type</th>       <td> 2281.3729</td> <td>  609.847</td> <td>    3.741</td> <td> 0.000</td> <td> 1085.325</td> <td> 3477.421</td>\n",
       "</tr>\n",
       "<tr>\n",
       "  <th>HouseAge</th>        <td> -172.6115</td> <td>   26.075</td> <td>   -6.620</td> <td> 0.000</td> <td> -223.750</td> <td> -121.473</td>\n",
       "</tr>\n",
       "<tr>\n",
       "  <th>Remodel_Age</th>     <td>   16.4999</td> <td>   18.523</td> <td>    0.891</td> <td> 0.373</td> <td>  -19.828</td> <td>   52.828</td>\n",
       "</tr>\n",
       "<tr>\n",
       "  <th>is_Remodeled</th>    <td> 2504.1206</td> <td> 1280.954</td> <td>    1.955</td> <td> 0.051</td> <td>   -8.120</td> <td> 5016.361</td>\n",
       "</tr>\n",
       "<tr>\n",
       "  <th>Total_SF</th>        <td>   17.2136</td> <td>    1.258</td> <td>   13.686</td> <td> 0.000</td> <td>   14.747</td> <td>   19.680</td>\n",
       "</tr>\n",
       "</table>\n",
       "<table class=\"simpletable\">\n",
       "<tr>\n",
       "  <th>Omnibus:</th>       <td>186.109</td> <th>  Durbin-Watson:     </th> <td>   1.951</td> \n",
       "</tr>\n",
       "<tr>\n",
       "  <th>Prob(Omnibus):</th> <td> 0.000</td>  <th>  Jarque-Bera (JB):  </th> <td>1318.345</td> \n",
       "</tr>\n",
       "<tr>\n",
       "  <th>Skew:</th>          <td> 0.003</td>  <th>  Prob(JB):          </th> <td>5.31e-287</td>\n",
       "</tr>\n",
       "<tr>\n",
       "  <th>Kurtosis:</th>      <td> 7.023</td>  <th>  Cond. No.          </th> <td>1.33e+16</td> \n",
       "</tr>\n",
       "</table><br/><br/>Notes:<br/>[1] R² is computed without centering (uncentered) since the model does not contain a constant.<br/>[2] Standard Errors assume that the covariance matrix of the errors is correctly specified.<br/>[3] The smallest eigenvalue is 1.75e-21. This might indicate that there are<br/>strong multicollinearity problems or that the design matrix is singular."
      ],
      "text/plain": [
       "<class 'statsmodels.iolib.summary.Summary'>\n",
       "\"\"\"\n",
       "                                 OLS Regression Results                                \n",
       "=======================================================================================\n",
       "Dep. Variable:              SalePrice   R-squared (uncentered):                   0.990\n",
       "Model:                            OLS   Adj. R-squared (uncentered):              0.989\n",
       "Method:                 Least Squares   F-statistic:                              2523.\n",
       "Date:                Mon, 31 Jan 2022   Prob (F-statistic):                        0.00\n",
       "Time:                        20:07:41   Log-Likelihood:                         -21944.\n",
       "No. Observations:                1955   AIC:                                  4.403e+04\n",
       "Df Residuals:                    1882   BIC:                                  4.444e+04\n",
       "Df Model:                          73                                                  \n",
       "Covariance Type:            nonrobust                                                  \n",
       "===================================================================================\n",
       "                      coef    std err          t      P>|t|      [0.025      0.975]\n",
       "-----------------------------------------------------------------------------------\n",
       "MS SubClass       -87.9702     13.651     -6.444      0.000    -114.743     -61.198\n",
       "MS Zoning          83.2589    687.098      0.121      0.904   -1264.295    1430.813\n",
       "Lot Frontage        4.3310     29.784      0.145      0.884     -54.083      62.745\n",
       "Lot Area            0.4724      0.109      4.324      0.000       0.258       0.687\n",
       "Street           3971.6334   7334.510      0.541      0.588   -1.04e+04    1.84e+04\n",
       "Lot Shape        -331.3108    881.545     -0.376      0.707   -2060.219    1397.598\n",
       "Land Contour     1929.5686   1062.026      1.817      0.069    -153.303    4012.440\n",
       "Utilities        1.357e+04   8649.531      1.569      0.117   -3389.448    3.05e+04\n",
       "Lot Config        370.3655    398.199      0.930      0.352    -410.593    1151.324\n",
       "Land Slope      -3142.3434   2022.216     -1.554      0.120   -7108.365     823.678\n",
       "Neighborhood     1089.4708    114.326      9.530      0.000     865.253    1313.689\n",
       "Condition 1      2657.4013    398.318      6.672      0.000    1876.209    3438.593\n",
       "Condition 2      1461.7162   1645.512      0.888      0.374   -1765.504    4688.937\n",
       "Bldg Type        -494.7177    777.907     -0.636      0.525   -2020.369    1030.934\n",
       "House Style      -855.3321    342.155     -2.500      0.013   -1526.375    -184.289\n",
       "Overall Qual     8360.9329    601.215     13.907      0.000    7181.815    9540.050\n",
       "Overall Cond     4683.5433    532.658      8.793      0.000    3638.880    5728.207\n",
       "Year Built         31.2147     16.686      1.871      0.062      -1.510      63.940\n",
       "Year Remod/Add     47.7147     19.784      2.412      0.016       8.914      86.515\n",
       "Roof Style       2288.7173   1004.441      2.279      0.023     318.783    4258.651\n",
       "Roof Matl        -634.4095   1958.209     -0.324      0.746   -4474.899    3206.080\n",
       "Exterior 1st      494.2178    305.150      1.620      0.105    -104.250    1092.685\n",
       "Exterior 2nd     -125.4053    253.542     -0.495      0.621    -622.659     371.848\n",
       "Mas Vnr Type      845.2049    645.693      1.309      0.191    -421.144    2111.554\n",
       "Mas Vnr Area        1.9953      3.564      0.560      0.576      -4.995       8.986\n",
       "Exter Qual       7528.1079   1355.277      5.555      0.000    4870.104    1.02e+04\n",
       "Exter Cond      -1333.5862   1284.736     -1.038      0.299   -3853.243    1186.071\n",
       "Foundation        844.8569    490.271      1.723      0.085    -116.675    1806.389\n",
       "Bsmt Qual         986.7543   1003.339      0.983      0.326    -981.019    2954.527\n",
       "Bsmt Cond       -3149.2287   1189.463     -2.648      0.008   -5482.034    -816.424\n",
       "Bsmt Exposure    1413.3384    360.424      3.921      0.000     706.465    2120.211\n",
       "BsmtFin Type 1    122.8675    330.985      0.371      0.711    -526.268     772.003\n",
       "BsmtFin SF 1        9.3018      1.684      5.523      0.000       5.999      12.605\n",
       "BsmtFin Type 2     14.4603    736.955      0.020      0.984   -1430.875    1459.795\n",
       "BsmtFin SF 2       -3.0945      3.112     -0.994      0.320      -9.199       3.010\n",
       "Bsmt Unf SF        -6.0473      1.527     -3.962      0.000      -9.041      -3.053\n",
       "Total Bsmt SF       0.1599      1.694      0.094      0.925      -3.163       3.483\n",
       "Heating          2526.4847   1607.619      1.572      0.116    -626.418    5679.387\n",
       "Heating QC       1956.1149    577.038      3.390      0.001     824.413    3087.817\n",
       "Central Air     -4749.9783   2111.065     -2.250      0.025   -8890.252    -609.705\n",
       "Electrical      -2442.9597   1185.700     -2.060      0.040   -4768.384    -117.536\n",
       "1st Flr SF         13.2288      3.015      4.388      0.000       7.316      19.142\n",
       "2nd Flr SF         15.0259      2.739      5.485      0.000       9.653      20.398\n",
       "Low Qual Fin SF   -11.2010      6.372     -1.758      0.079     -23.697       1.295\n",
       "Gr Liv Area        17.0537      2.036      8.376      0.000      13.061      21.047\n",
       "Bsmt Full Bath   4328.4294   1226.645      3.529      0.000    1922.701    6734.157\n",
       "Bsmt Half Bath  -1568.6664   1805.944     -0.869      0.385   -5110.529    1973.196\n",
       "Full Bath         402.5433   1294.009      0.311      0.756   -2135.300    2940.387\n",
       "Half Bath       -1183.3062   1288.656     -0.918      0.359   -3710.650    1344.038\n",
       "Bedroom AbvGr   -2690.2279    828.566     -3.247      0.001   -4315.232   -1065.224\n",
       "Kitchen AbvGr   -1.021e+04   2684.720     -3.801      0.000   -1.55e+04   -4940.020\n",
       "Kitchen Qual     5763.6213   1050.778      5.485      0.000    3702.810    7824.433\n",
       "TotRms AbvGrd     592.5376    598.134      0.991      0.322    -580.538    1765.613\n",
       "Functional       5191.3725    668.820      7.762      0.000    3879.666    6503.079\n",
       "Fireplaces       2317.8466   1495.041      1.550      0.121    -614.265    5249.958\n",
       "Fireplace Qu     1418.2479    523.528      2.709      0.007     391.492    2445.004\n",
       "Garage Type      -477.8799    423.690     -1.128      0.260   -1308.832     353.072\n",
       "Garage Yr Blt     -22.4959     34.212     -0.658      0.511     -89.593      44.601\n",
       "Garage Finish     887.3361    746.078      1.189      0.234    -575.892    2350.564\n",
       "Garage Cars      1714.4143   1448.325      1.184      0.237   -1126.077    4554.905\n",
       "Garage Area        21.3197      5.165      4.128      0.000      11.190      31.450\n",
       "Garage Qual     -1288.2288   1959.381     -0.657      0.511   -5131.016    2554.559\n",
       "Garage Cond     -1433.4158   1982.395     -0.723      0.470   -5321.339    2454.507\n",
       "Paved Drive       533.4332    993.964      0.537      0.592   -1415.954    2482.820\n",
       "Wood Deck SF        8.6432      3.822      2.261      0.024       1.147      16.139\n",
       "Open Porch SF      20.2983      7.181      2.827      0.005       6.214      34.382\n",
       "Enclosed Porch     10.4463      7.803      1.339      0.181      -4.858      25.751\n",
       "3Ssn Porch          6.0755     17.289      0.351      0.725     -27.833      39.984\n",
       "Screen Porch       33.9701      7.998      4.247      0.000      18.285      49.656\n",
       "Pool Area           5.8801     11.795      0.499      0.618     -17.252      29.012\n",
       "Misc Val            0.2938      0.967      0.304      0.761      -1.603       2.190\n",
       "Mo Sold            84.4333    155.805      0.542      0.588    -221.136     390.002\n",
       "Yr Sold          -141.3968     23.590     -5.994      0.000    -187.663     -95.131\n",
       "Sale Type        2281.3729    609.847      3.741      0.000    1085.325    3477.421\n",
       "HouseAge         -172.6115     26.075     -6.620      0.000    -223.750    -121.473\n",
       "Remodel_Age        16.4999     18.523      0.891      0.373     -19.828      52.828\n",
       "is_Remodeled     2504.1206   1280.954      1.955      0.051      -8.120    5016.361\n",
       "Total_SF           17.2136      1.258     13.686      0.000      14.747      19.680\n",
       "==============================================================================\n",
       "Omnibus:                      186.109   Durbin-Watson:                   1.951\n",
       "Prob(Omnibus):                  0.000   Jarque-Bera (JB):             1318.345\n",
       "Skew:                           0.003   Prob(JB):                    5.31e-287\n",
       "Kurtosis:                       7.023   Cond. No.                     1.33e+16\n",
       "==============================================================================\n",
       "\n",
       "Notes:\n",
       "[1] R² is computed without centering (uncentered) since the model does not contain a constant.\n",
       "[2] Standard Errors assume that the covariance matrix of the errors is correctly specified.\n",
       "[3] The smallest eigenvalue is 1.75e-21. This might indicate that there are\n",
       "strong multicollinearity problems or that the design matrix is singular.\n",
       "\"\"\""
      ]
     },
     "execution_count": 14,
     "metadata": {},
     "output_type": "execute_result"
    }
   ],
   "source": [
    "#check the p-value using the OLS from statsmodel.api\n",
    "ols = sm.OLS(y, X).fit()\n",
    "ols.summary()"
   ]
  },
  {
   "cell_type": "markdown",
   "id": "192cfcb0",
   "metadata": {},
   "source": [
    "***below 0.05 p-value, means they are statistically significant ...***\n",
    "- MS SubClass,Lot Area,Neighborhood,Condition 1,House Style,\n",
    "Overall Qual, Overall Cond, Year Remod/Add, Roof Style, Exter Qual,\n",
    "Bsmt Cond,Bsmt Exposure,BsmtFin SF 1,Total Bsmt SF,Heating QC,\t\n",
    "Electrical,1st Flr SF,nd Flr SF,2nd Flr SF,Bsmt Full Bath,Bedroom AbvGr,\n",
    "Kitchen AbvGr,Kitchen Qual,Functional,Fireplace Qu,Garage Area,Open Porch SF,\n",
    "Screen Porch,Yr Sold,HouseAge"
   ]
  },
  {
   "cell_type": "markdown",
   "id": "9b7b4304",
   "metadata": {},
   "source": [
    "### split train datasets into train and validation, 80% train and 20% validation data"
   ]
  },
  {
   "cell_type": "code",
   "execution_count": 15,
   "id": "a95f0a18",
   "metadata": {},
   "outputs": [],
   "source": [
    "#split the data as train and validation\n",
    "X_train, X_val, y_train, y_val = train_test_split(X,y, test_size=0.2, random_state=52)"
   ]
  },
  {
   "cell_type": "code",
   "execution_count": 16,
   "id": "325e9d04",
   "metadata": {},
   "outputs": [],
   "source": [
    "#scale the X\n",
    "ss = StandardScaler()\n",
    "X_train_scaled = ss.fit_transform(X_train)\n",
    "X_val_scaled = ss.transform(X_val)"
   ]
  },
  {
   "cell_type": "markdown",
   "id": "be7ad147",
   "metadata": {},
   "source": [
    "### Create polynomial features from train and val datasets"
   ]
  },
  {
   "cell_type": "code",
   "execution_count": 17,
   "id": "32476298",
   "metadata": {},
   "outputs": [],
   "source": [
    "poly = PolynomialFeatures(\n",
    "    degree = 2, include_bias = False, interaction_only = False)"
   ]
  },
  {
   "cell_type": "code",
   "execution_count": 18,
   "id": "2f4dc84f",
   "metadata": {},
   "outputs": [],
   "source": [
    "X_train_poly = poly.fit_transform(X_train)\n",
    "polynomial_column_names = poly.get_feature_names(input_features = X_train.columns)\n",
    "X_train_poly = pd.DataFrame(data = X_train_poly, columns = polynomial_column_names )"
   ]
  },
  {
   "cell_type": "code",
   "execution_count": 19,
   "id": "bb8772d7",
   "metadata": {},
   "outputs": [],
   "source": [
    "X_val_poly = poly.fit_transform(X_val)\n",
    "polynomial_column_names = poly.get_feature_names(input_features = X_val.columns)\n",
    "X_val_poly = pd.DataFrame(data = X_val_poly, columns = polynomial_column_names )"
   ]
  },
  {
   "cell_type": "code",
   "execution_count": 20,
   "id": "700aa342",
   "metadata": {},
   "outputs": [
    {
     "data": {
      "text/plain": [
       "(1564, 3159)"
      ]
     },
     "execution_count": 20,
     "metadata": {},
     "output_type": "execute_result"
    }
   ],
   "source": [
    "#check how many features we have after poly\n",
    "X_train_poly.shape"
   ]
  },
  {
   "cell_type": "code",
   "execution_count": 21,
   "id": "5418081f",
   "metadata": {},
   "outputs": [],
   "source": [
    "#scale the X - Poly\n",
    "ssp = StandardScaler()\n",
    "X_train_scaled_poly = ssp.fit_transform(X_train_poly)\n",
    "X_val_scaled_poly = ssp.transform(X_val_poly)"
   ]
  },
  {
   "cell_type": "markdown",
   "id": "921f0205",
   "metadata": {},
   "source": [
    "## Linear Regression (without Poly)"
   ]
  },
  {
   "cell_type": "code",
   "execution_count": 22,
   "id": "9e7d5d56",
   "metadata": {},
   "outputs": [
    {
     "name": "stdout",
     "output_type": "stream",
     "text": [
      "Alpha: 0\n",
      "R2 of Train: 0.9065599249800954 , R2 of Val: 0.9040406489205822\n",
      "MSE of Train, 330990756.00769347 , MSE of Val 357044247.6708944\n",
      "RMSE of Train, 18193.151349002004 , RMSE of Val 18895.614508951392\n"
     ]
    }
   ],
   "source": [
    "# Instantiate model.\n",
    "lr = LinearRegression()\n",
    "get_r2_mse(lr, 'LR (no poly)', 0, X_train_scaled, X_val_scaled, y_train, y_val, regression_dict, True)"
   ]
  },
  {
   "cell_type": "markdown",
   "id": "a89fbf31",
   "metadata": {},
   "source": [
    "## Linear Regression (with Poly)"
   ]
  },
  {
   "cell_type": "code",
   "execution_count": 23,
   "id": "dd4e9901",
   "metadata": {},
   "outputs": [
    {
     "name": "stdout",
     "output_type": "stream",
     "text": [
      "Alpha: 0\n",
      "R2 of Train: 1.0 , R2 of Val: -1.8991535518285003\n",
      "MSE of Train, 9.67650384785196e-19 , MSE of Val 10787131083.6431\n",
      "RMSE of Train, 9.83692220557424e-10 , RMSE of Val 103861.11439630859\n"
     ]
    }
   ],
   "source": [
    "# Instantiate model.\n",
    "lrPoly = LinearRegression()\n",
    "\n",
    "#we will not add this to our dictionary as the result is not good\n",
    "get_r2_mse(lrPoly, 'LR (with poly)', 0, X_train_scaled_poly, X_val_scaled_poly, y_train, y_val, regression_dict, False)\n"
   ]
  },
  {
   "cell_type": "markdown",
   "id": "c8b8ea85",
   "metadata": {},
   "source": [
    "***It's overfitting, the train dataset has 100% r2, but the validation score is negative 1.89!\n",
    "MSE of validation is 10B!!! LR is not a good model for polynomials.***"
   ]
  },
  {
   "cell_type": "markdown",
   "id": "6c082221",
   "metadata": {},
   "source": [
    "### Searching for optimal alpha -> RIDGE, LASSO and ELASTiCNET"
   ]
  },
  {
   "cell_type": "markdown",
   "id": "65b9b5a3",
   "metadata": {},
   "source": [
    "## Ridge"
   ]
  },
  {
   "cell_type": "code",
   "execution_count": 24,
   "id": "61937fe1",
   "metadata": {},
   "outputs": [
    {
     "data": {
      "image/png": "[encoded data removed]",
      "text/plain": [
       "<Figure size 504x360 with 1 Axes>"
      ]
     },
     "metadata": {
      "needs_background": "light"
     },
     "output_type": "display_data"
    },
    {
     "name": "stdout",
     "output_type": "stream",
     "text": [
      "Alpha: 453.5353535353535\n",
      "R2 of Train: 0.9506109350341434 , R2 of Val: 0.9291034292450665\n",
      "MSE of Train, 180146972.6135066 , MSE of Val 263790995.69662446\n",
      "RMSE of Train, 13421.88409328238 , RMSE of Val 16241.643872977404\n"
     ]
    }
   ],
   "source": [
    "#using cross validation to loop  with range of alphas and plot the optimal/chosen alpha\n",
    "\n",
    "ridgesearch_optimal_alpha = rmodel_crossval('Ridge', my_alphas, X_train_scaled_poly, y_train, \n",
    "        X_val_scaled_poly, y_val,regression_dict)\n",
    "\n"
   ]
  },
  {
   "cell_type": "code",
   "execution_count": 25,
   "id": "3f071482",
   "metadata": {},
   "outputs": [
    {
     "name": "stdout",
     "output_type": "stream",
     "text": [
      "Alpha: 559.5959595959596\n",
      "R2 of Train: 0.9469874973967146 , R2 of Val: 0.9290227965112458\n",
      "MSE of Train, 187785040.95575103 , MSE of Val 264091012.87536567\n",
      "RMSE of Train, 13703.468209024715 , RMSE of Val 16250.87729556056\n"
     ]
    }
   ],
   "source": [
    "#Using RidgeCV using the same alphas\n",
    "ridge_cv = RidgeCV(alphas=my_alphas, cv=crossval)\n",
    "ridge_cv.fit(X_train_scaled_poly, y_train);\n",
    "\n",
    "#chosen alpha\n",
    "ridge_cv_alpha = ridge_cv.alpha_\n",
    "\n",
    "#get our result, but need to create a model again based on the chosen alpha\n",
    "ridge = Ridge(alpha=ridge_cv_alpha)\n",
    "get_r2_mse(ridge, 'RidgeCV', ridge_cv_alpha, X_train_scaled_poly, X_val_scaled_poly, y_train, y_val, regression_dict, True)"
   ]
  },
  {
   "cell_type": "code",
   "execution_count": 26,
   "id": "e86fe084",
   "metadata": {},
   "outputs": [
    {
     "name": "stdout",
     "output_type": "stream",
     "text": [
      "Alpha: 559.5959595959596\n",
      "R2 of Train: 0.9469874973967146 , R2 of Val: 0.9290227965112458\n",
      "MSE of Train, 187785040.95575103 , MSE of Val 264091012.87536567\n",
      "RMSE of Train, 13703.468209024715 , RMSE of Val 16250.87729556056\n"
     ]
    }
   ],
   "source": [
    "#Using RandomizedSearchCV, search for the best alpa\n",
    "\n",
    "param_grid = {'alpha': my_alphas}\n",
    "\n",
    "# Instantiate model.\n",
    "ridge_model = Ridge()\n",
    "rand_search_ridge = RandomizedSearchCV(estimator=ridge_model, \n",
    "                                 param_distributions=param_grid,\n",
    "                                 cv=crossval,\n",
    "                                 n_iter=100)\n",
    "\n",
    "rand_search_ridge.fit(X_train_scaled_poly, y_train);\n",
    "\n",
    "#check the optimal alpha based on RandomizedSearchCV\n",
    "ridgerandomscv_optimal_alpa = rand_search_ridge.best_estimator_.alpha\n",
    "\n",
    "#get our result, but need to create a model again based on the chosen alpha\n",
    "ridge = Ridge(alpha=ridgerandomscv_optimal_alpa)\n",
    "get_r2_mse(ridge, 'Ridge RandomCSV', ridgerandomscv_optimal_alpa, X_train_scaled_poly, X_val_scaled_poly, y_train, y_val, regression_dict, True)\n",
    "\n",
    "\n"
   ]
  },
  {
   "cell_type": "markdown",
   "id": "c8e664d7",
   "metadata": {},
   "source": [
    "## LASSO"
   ]
  },
  {
   "cell_type": "code",
   "execution_count": 27,
   "id": "a8800120",
   "metadata": {},
   "outputs": [
    {
     "data": {
      "image/png": "[encoded data removed]",
      "text/plain": [
       "<Figure size 504x360 with 1 Axes>"
      ]
     },
     "metadata": {
      "needs_background": "light"
     },
     "output_type": "display_data"
    },
    {
     "name": "stdout",
     "output_type": "stream",
     "text": [
      "Alpha: 290.9090909090909\n",
      "R2 of Train: 0.9416136410735498 , R2 of Val: 0.9260899887546477\n",
      "MSE of Train, 219837472.32971793 , MSE of Val 275003364.06614524\n",
      "RMSE of Train, 14826.917155286123 , RMSE of Val 16583.225381877473\n"
     ]
    }
   ],
   "source": [
    "#using cross validation to loop  with range of alphas and plot the optimal/chosen alpha\n",
    "lassosearch_optimal_alpha = rmodel_crossval('Lasso', my_alphas, X_train_scaled_poly, y_train, \n",
    "        X_val_scaled_poly, y_val,regression_dict)\n"
   ]
  },
  {
   "cell_type": "code",
   "execution_count": 28,
   "id": "c171dfb9",
   "metadata": {},
   "outputs": [
    {
     "name": "stdout",
     "output_type": "stream",
     "text": [
      "Alpha: 679.7979797979798\n",
      "R2 of Train: 0.9292541606120929 , R2 of Val: 0.9232116393423625\n",
      "MSE of Train, 250601456.15694463 , MSE of Val 285713087.39048064\n",
      "RMSE of Train, 15830.396588744852 , RMSE of Val 16903.04964763698\n"
     ]
    }
   ],
   "source": [
    "#Using LassoCV using the same alphas\n",
    "lasso_cv = LassoCV(alphas=my_alphas,cv=crossval)\n",
    "\n",
    "#instantiate the model\n",
    "lasso_cv.fit(X_train_scaled_poly, y_train);\n",
    "\n",
    "#get the optimal alpha\n",
    "lasso_cv_alpha = lasso_cv.alpha_\n",
    "\n",
    "#get our result, but need to create a model again based on the chosen alpha\n",
    "lasso = Lasso(alpha=ridgerandomscv_optimal_alpa)\n",
    "get_r2_mse(lasso, 'LassoCV', lasso_cv_alpha, X_train_scaled_poly, X_val_scaled_poly, y_train, y_val, regression_dict, True)\n"
   ]
  },
  {
   "cell_type": "code",
   "execution_count": 29,
   "id": "f1fd8008",
   "metadata": {},
   "outputs": [],
   "source": [
    "#do we have any features that zeroed out?\n",
    "coef = dict(zip(polynomial_column_names, lasso_cv.coef_))\n",
    "\n",
    "#uncomment if you want to see, but it's quite long\n",
    "#coef "
   ]
  },
  {
   "cell_type": "markdown",
   "id": "aab0002f",
   "metadata": {},
   "source": [
    "## Lasso's coef_\n",
    "<details>\n",
    "  <summary>Out of 3159, there are only 30+ Features with coef_, the rest are 0s, expand for details</summary>\n",
    "\n",
    "        #'MS SubClass Mas Vnr Type': -654.1489403181133,\n",
    "        #'MS SubClass Mas Vnr Type': -654.1489403181133,\n",
    "        #'MS SubClass Garage Area': -703.1880977250123,\n",
    "        #'MS Zoning Condition 1': 732.1944822395341,\n",
    "        #'MS Zoning Bldg Type': 494.2327493717202,\n",
    "        #'MS Zoning Functional': 68.22189615343186,\n",
    "        #'MS Zoning Sale Type': 782.327760433673,\n",
    "        #'Lot Area Land Contour': 201.0705489834723,\n",
    "        #'Lot Area Overall Cond': 808.4102640940354,\n",
    "        #'Lot Area Exterior 1st': 2079.293074914176,\n",
    "        #'Lot Area Mas Vnr Type': 671.0863274559588,\n",
    "        #'Lot Area Paved Drive': 1869.3584761342483,\n",
    "        #'Street Functional': 497.97823447403516,\n",
    "        #'Lot Shape Kitchen AbvGr': -254.398620531571,\n",
    "        #'Land Contour Overall Qual': 146.53163425696454,\n",
    "        #'Utilities Year Remod/Add': 336.4946940202968,\n",
    "        #'Lot Config Mas Vnr Area': -299.9970301720546,\n",
    "        #'Land Slope Roof Matl': -241.75796536619774,\n",
    "        #'Land Slope Kitchen AbvGr': -282.65870164953304,\n",
    "        #'Neighborhood^2': 1289.2993556183199,\n",
    "        #'Neighborhood Overall Qual': 2736.0926437310322,\n",
    "        #'Neighborhood Low Qual Fin SF': -407.32079988508303,\n",
    "        #'Neighborhood Gr Liv Area': 3116.667530950304,\n",
    "        #'Neighborhood Fireplace Qu': 1841.1185391045533,\n",
    "        #'Neighborhood Garage Finish': 369.751068284764,\n",
    "        #'Condition 1 Overall Qual': 424.15707182282625,\n",
    "        #'Condition 1 Overall Cond': 633.6837530095626\n",
    "        #'Condition 1 Functional': 253.53255115924145,\n",
    "        #'Condition 1 Paved Drive': 223.46153493956672\n",
    "    \n",
    "</details>"
   ]
  },
  {
   "cell_type": "code",
   "execution_count": 30,
   "id": "ea859940",
   "metadata": {},
   "outputs": [
    {
     "name": "stdout",
     "output_type": "stream",
     "text": [
      "Alpha: 651.5151515151515\n",
      "R2 of Train: 0.9275816858953299 , R2 of Val: 0.9236080242703574\n",
      "MSE of Train, 256525827.1592924 , MSE of Val 284238223.7444469\n",
      "RMSE of Train, 16016.423669449194 , RMSE of Val 16859.366054049806\n"
     ]
    }
   ],
   "source": [
    "#Using RandomizedSearchCV, search for the best alpa\n",
    "param_grid = {'alpha': my_alphas}\n",
    "\n",
    "model = Lasso()\n",
    "lasso_rand_search = RandomizedSearchCV(estimator=model, \n",
    "                                 param_distributions=param_grid,\n",
    "                                 cv=crossval,\n",
    "                                 n_iter=100)\n",
    "\n",
    "lasso_rand_search.fit(X_train_scaled_poly, y_train);\n",
    "\n",
    "#check the optimal alpha based on RandomizedSearchCV\n",
    "lassorandomcsv_optimal_alpha = lasso_rand_search.best_estimator_.alpha\n",
    "\n",
    "\n",
    "#get our result, but need to create a model again based on the chosen alpha\n",
    "lasso = Lasso(alpha=lassorandomcsv_optimal_alpha)\n",
    "get_r2_mse(lasso, 'LassoCV', lassorandomcsv_optimal_alpha, X_train_scaled_poly, X_val_scaled_poly, y_train, y_val, regression_dict, True)\n",
    "\n"
   ]
  },
  {
   "cell_type": "markdown",
   "id": "d394acc9",
   "metadata": {},
   "source": [
    "## ElasticNet"
   ]
  },
  {
   "cell_type": "code",
   "execution_count": 31,
   "id": "349878f1",
   "metadata": {},
   "outputs": [
    {
     "data": {
      "image/png": "[encoded data removed]",
      "text/plain": [
       "<Figure size 504x360 with 1 Axes>"
      ]
     },
     "metadata": {
      "needs_background": "light"
     },
     "output_type": "display_data"
    },
    {
     "name": "stdout",
     "output_type": "stream",
     "text": [
      "Alpha: 100.0\n",
      "R2 of Train: 0.8792504008939034 , R2 of Val: 0.898089775028289\n",
      "MSE of Train, 432157365.31005716 , MSE of Val 379186178.2691925\n",
      "RMSE of Train, 20788.394967145905 , RMSE of Val 19472.70341450289\n"
     ]
    }
   ],
   "source": [
    "#using cross validation to loop  with range of alphas and plot the optimal/chosen alpha\n",
    "enetsearch_optimal_alpha = rmodel_crossval('Enet', my_alphas, X_train_scaled_poly, y_train, \n",
    "        X_val_scaled_poly, y_val,regression_dict)\n"
   ]
  },
  {
   "cell_type": "code",
   "execution_count": 32,
   "id": "cda3fa73",
   "metadata": {},
   "outputs": [
    {
     "name": "stdout",
     "output_type": "stream",
     "text": [
      "Alpha: 100.0\n",
      "R2 of Train: 0.8780001679743664 , R2 of Val: 0.898089775028289\n",
      "MSE of Train, 432157365.31005716 , MSE of Val 379186178.2691925\n",
      "RMSE of Train, 20788.394967145905 , RMSE of Val 19472.70341450289\n"
     ]
    }
   ],
   "source": [
    "#using ElasticNetCV\n",
    "\n",
    "# Instantiate model.\n",
    "enetcv_model = ElasticNetCV(alphas=my_alphas, cv=crossval)\n",
    "\n",
    "# Fit model \n",
    "enetcv_model.fit(X_train_scaled_poly, y_train)\n",
    "\n",
    "#get the optimal alpha\n",
    "enetcv_alpha = enetcv_model.alpha_\n",
    "\n",
    "#get our result, but need to create a model again based on the chosen alpha\n",
    "enet = ElasticNet(alpha=enetcv_alpha)\n",
    "get_r2_mse(enet, 'ENetCV', enetcv_alpha, X_train_scaled_poly, X_val_scaled_poly, y_train, y_val, regression_dict, True)\n"
   ]
  },
  {
   "cell_type": "code",
   "execution_count": 33,
   "id": "736eff7b",
   "metadata": {},
   "outputs": [
    {
     "name": "stdout",
     "output_type": "stream",
     "text": [
      "Alpha: 100.0\n",
      "R2 of Train: 0.8780001679743664 , R2 of Val: 0.898089775028289\n",
      "MSE of Train, 432157365.31005716 , MSE of Val 379186178.2691925\n",
      "RMSE of Train, 20788.394967145905 , RMSE of Val 19472.70341450289\n"
     ]
    }
   ],
   "source": [
    "#Using RandomizedSearchCV, search for the best alpa\n",
    "param_grid = {'alpha': my_alphas}\n",
    "\n",
    "model = ElasticNet()\n",
    "enet_rand_search = RandomizedSearchCV(estimator=model, \n",
    "                                 param_distributions=param_grid,\n",
    "                                 cv=crossval,\n",
    "                                 n_iter=100)\n",
    "\n",
    "enet_rand_search.fit(X_train_scaled_poly, y_train);\n",
    "\n",
    "#check the optimal alpha based on RandomizedSearchCV\n",
    "enetrandomcsv_optimal_alpha = enet_rand_search.best_estimator_.alpha\n",
    "\n",
    "#get our result, but need to create a model again based on the chosen alpha\n",
    "enet = ElasticNet(alpha=enetrandomcsv_optimal_alpha)\n",
    "get_r2_mse(enet, 'ENet RandomSCV', enetrandomcsv_optimal_alpha, X_train_scaled_poly, X_val_scaled_poly, y_train, y_val, regression_dict, True)\n"
   ]
  },
  {
   "cell_type": "markdown",
   "id": "6885e0d7",
   "metadata": {},
   "source": [
    "***Optimal alpha for ElasticNet is 100 for all***"
   ]
  },
  {
   "cell_type": "markdown",
   "id": "15d5c7d0",
   "metadata": {},
   "source": [
    "# Summmary of Regression Models"
   ]
  },
  {
   "cell_type": "code",
   "execution_count": 34,
   "id": "a8f1c0d0",
   "metadata": {},
   "outputs": [
    {
     "data": {
      "text/html": [
       "<div>\n",
       "<style scoped>\n",
       "    .dataframe tbody tr th:only-of-type {\n",
       "        vertical-align: middle;\n",
       "    }\n",
       "\n",
       "    .dataframe tbody tr th {\n",
       "        vertical-align: top;\n",
       "    }\n",
       "\n",
       "    .dataframe thead th {\n",
       "        text-align: right;\n",
       "    }\n",
       "</style>\n",
       "<table border=\"1\" class=\"dataframe\">\n",
       "  <thead>\n",
       "    <tr style=\"text-align: right;\">\n",
       "      <th></th>\n",
       "      <th>model_type</th>\n",
       "      <th>alpha</th>\n",
       "      <th>train_score</th>\n",
       "      <th>validation_score</th>\n",
       "      <th>mse_train</th>\n",
       "      <th>mse_val</th>\n",
       "      <th>rmse_train</th>\n",
       "      <th>rmse_val</th>\n",
       "    </tr>\n",
       "  </thead>\n",
       "  <tbody>\n",
       "    <tr>\n",
       "      <th>0</th>\n",
       "      <td>LR (no poly)</td>\n",
       "      <td>0.000000</td>\n",
       "      <td>0.9066</td>\n",
       "      <td>0.9040</td>\n",
       "      <td>3.309908e+08</td>\n",
       "      <td>3.570442e+08</td>\n",
       "      <td>18193.1513</td>\n",
       "      <td>18895.6145</td>\n",
       "    </tr>\n",
       "    <tr>\n",
       "      <th>1</th>\n",
       "      <td>Ridge(cross_validate)</td>\n",
       "      <td>453.535354</td>\n",
       "      <td>0.9506</td>\n",
       "      <td>0.9291</td>\n",
       "      <td>1.801470e+08</td>\n",
       "      <td>2.637910e+08</td>\n",
       "      <td>13421.8841</td>\n",
       "      <td>16241.6439</td>\n",
       "    </tr>\n",
       "    <tr>\n",
       "      <th>2</th>\n",
       "      <td>RidgeCV</td>\n",
       "      <td>559.596000</td>\n",
       "      <td>0.9470</td>\n",
       "      <td>0.9290</td>\n",
       "      <td>1.877850e+08</td>\n",
       "      <td>2.640910e+08</td>\n",
       "      <td>13703.4682</td>\n",
       "      <td>16250.8773</td>\n",
       "    </tr>\n",
       "    <tr>\n",
       "      <th>3</th>\n",
       "      <td>Ridge RandomCSV</td>\n",
       "      <td>559.596000</td>\n",
       "      <td>0.9470</td>\n",
       "      <td>0.9290</td>\n",
       "      <td>1.877850e+08</td>\n",
       "      <td>2.640910e+08</td>\n",
       "      <td>13703.4682</td>\n",
       "      <td>16250.8773</td>\n",
       "    </tr>\n",
       "    <tr>\n",
       "      <th>4</th>\n",
       "      <td>Lasso(cross_validate)</td>\n",
       "      <td>290.909091</td>\n",
       "      <td>0.9416</td>\n",
       "      <td>0.9261</td>\n",
       "      <td>2.198375e+08</td>\n",
       "      <td>2.750034e+08</td>\n",
       "      <td>14826.9172</td>\n",
       "      <td>16583.2254</td>\n",
       "    </tr>\n",
       "    <tr>\n",
       "      <th>5</th>\n",
       "      <td>LassoCV</td>\n",
       "      <td>651.515200</td>\n",
       "      <td>0.9276</td>\n",
       "      <td>0.9236</td>\n",
       "      <td>2.565258e+08</td>\n",
       "      <td>2.842382e+08</td>\n",
       "      <td>16016.4237</td>\n",
       "      <td>16859.3661</td>\n",
       "    </tr>\n",
       "    <tr>\n",
       "      <th>6</th>\n",
       "      <td>Enet(cross_validate)</td>\n",
       "      <td>100.000000</td>\n",
       "      <td>0.8793</td>\n",
       "      <td>0.8981</td>\n",
       "      <td>4.321574e+08</td>\n",
       "      <td>3.791862e+08</td>\n",
       "      <td>20788.3950</td>\n",
       "      <td>19472.7034</td>\n",
       "    </tr>\n",
       "    <tr>\n",
       "      <th>7</th>\n",
       "      <td>ENetCV</td>\n",
       "      <td>100.000000</td>\n",
       "      <td>0.8780</td>\n",
       "      <td>0.8981</td>\n",
       "      <td>4.321574e+08</td>\n",
       "      <td>3.791862e+08</td>\n",
       "      <td>20788.3950</td>\n",
       "      <td>19472.7034</td>\n",
       "    </tr>\n",
       "    <tr>\n",
       "      <th>8</th>\n",
       "      <td>ENet RandomSCV</td>\n",
       "      <td>100.000000</td>\n",
       "      <td>0.8780</td>\n",
       "      <td>0.8981</td>\n",
       "      <td>4.321574e+08</td>\n",
       "      <td>3.791862e+08</td>\n",
       "      <td>20788.3950</td>\n",
       "      <td>19472.7034</td>\n",
       "    </tr>\n",
       "  </tbody>\n",
       "</table>\n",
       "</div>"
      ],
      "text/plain": [
       "              model_type       alpha  train_score  validation_score  \\\n",
       "0           LR (no poly)    0.000000       0.9066            0.9040   \n",
       "1  Ridge(cross_validate)  453.535354       0.9506            0.9291   \n",
       "2                RidgeCV  559.596000       0.9470            0.9290   \n",
       "3        Ridge RandomCSV  559.596000       0.9470            0.9290   \n",
       "4  Lasso(cross_validate)  290.909091       0.9416            0.9261   \n",
       "5                LassoCV  651.515200       0.9276            0.9236   \n",
       "6   Enet(cross_validate)  100.000000       0.8793            0.8981   \n",
       "7                 ENetCV  100.000000       0.8780            0.8981   \n",
       "8         ENet RandomSCV  100.000000       0.8780            0.8981   \n",
       "\n",
       "      mse_train       mse_val  rmse_train    rmse_val  \n",
       "0  3.309908e+08  3.570442e+08  18193.1513  18895.6145  \n",
       "1  1.801470e+08  2.637910e+08  13421.8841  16241.6439  \n",
       "2  1.877850e+08  2.640910e+08  13703.4682  16250.8773  \n",
       "3  1.877850e+08  2.640910e+08  13703.4682  16250.8773  \n",
       "4  2.198375e+08  2.750034e+08  14826.9172  16583.2254  \n",
       "5  2.565258e+08  2.842382e+08  16016.4237  16859.3661  \n",
       "6  4.321574e+08  3.791862e+08  20788.3950  19472.7034  \n",
       "7  4.321574e+08  3.791862e+08  20788.3950  19472.7034  \n",
       "8  4.321574e+08  3.791862e+08  20788.3950  19472.7034  "
      ]
     },
     "execution_count": 34,
     "metadata": {},
     "output_type": "execute_result"
    }
   ],
   "source": [
    "df_reg = pd.DataFrame(regression_dict).T.reset_index()\n",
    "df_reg.rename(columns={\"index\":\"model_type\"}, inplace=True)\n",
    "df_reg"
   ]
  },
  {
   "cell_type": "code",
   "execution_count": 35,
   "id": "b1506f7c",
   "metadata": {},
   "outputs": [
    {
     "data": {
      "image/png": "[encoded data removed]",
      "text/plain": [
       "<Figure size 1080x360 with 1 Axes>"
      ]
     },
     "metadata": {
      "needs_background": "light"
     },
     "output_type": "display_data"
    }
   ],
   "source": [
    "#4 subplots\n",
    "plt.figure(figsize=(15,5))\n",
    "sns.lineplot(data=df_reg, x='model_type', y='validation_score');"
   ]
  },
  {
   "cell_type": "code",
   "execution_count": 36,
   "id": "b960acc6",
   "metadata": {},
   "outputs": [
    {
     "data": {
      "image/png": "[encoded data removed]",
      "text/plain": [
       "<Figure size 1080x360 with 1 Axes>"
      ]
     },
     "metadata": {
      "needs_background": "light"
     },
     "output_type": "display_data"
    }
   ],
   "source": [
    "#4 subplots\n",
    "plt.figure(figsize=(15,5))\n",
    "sns.lineplot(data=df_reg, x='model_type', y='rmse_val');"
   ]
  },
  {
   "cell_type": "code",
   "execution_count": 37,
   "id": "0196e8c2",
   "metadata": {},
   "outputs": [
    {
     "data": {
      "text/html": [
       "<div>\n",
       "<style scoped>\n",
       "    .dataframe tbody tr th:only-of-type {\n",
       "        vertical-align: middle;\n",
       "    }\n",
       "\n",
       "    .dataframe tbody tr th {\n",
       "        vertical-align: top;\n",
       "    }\n",
       "\n",
       "    .dataframe thead th {\n",
       "        text-align: right;\n",
       "    }\n",
       "</style>\n",
       "<table border=\"1\" class=\"dataframe\">\n",
       "  <thead>\n",
       "    <tr style=\"text-align: right;\">\n",
       "      <th></th>\n",
       "      <th>model_type</th>\n",
       "      <th>alpha</th>\n",
       "      <th>train_score</th>\n",
       "      <th>validation_score</th>\n",
       "      <th>mse_train</th>\n",
       "      <th>mse_val</th>\n",
       "      <th>rmse_train</th>\n",
       "      <th>rmse_val</th>\n",
       "    </tr>\n",
       "  </thead>\n",
       "  <tbody>\n",
       "    <tr>\n",
       "      <th>1</th>\n",
       "      <td>Ridge(cross_validate)</td>\n",
       "      <td>453.535354</td>\n",
       "      <td>0.9506</td>\n",
       "      <td>0.9291</td>\n",
       "      <td>1.801470e+08</td>\n",
       "      <td>2.637910e+08</td>\n",
       "      <td>13421.8841</td>\n",
       "      <td>16241.6439</td>\n",
       "    </tr>\n",
       "    <tr>\n",
       "      <th>2</th>\n",
       "      <td>RidgeCV</td>\n",
       "      <td>559.596000</td>\n",
       "      <td>0.9470</td>\n",
       "      <td>0.9290</td>\n",
       "      <td>1.877850e+08</td>\n",
       "      <td>2.640910e+08</td>\n",
       "      <td>13703.4682</td>\n",
       "      <td>16250.8773</td>\n",
       "    </tr>\n",
       "    <tr>\n",
       "      <th>3</th>\n",
       "      <td>Ridge RandomCSV</td>\n",
       "      <td>559.596000</td>\n",
       "      <td>0.9470</td>\n",
       "      <td>0.9290</td>\n",
       "      <td>1.877850e+08</td>\n",
       "      <td>2.640910e+08</td>\n",
       "      <td>13703.4682</td>\n",
       "      <td>16250.8773</td>\n",
       "    </tr>\n",
       "    <tr>\n",
       "      <th>4</th>\n",
       "      <td>Lasso(cross_validate)</td>\n",
       "      <td>290.909091</td>\n",
       "      <td>0.9416</td>\n",
       "      <td>0.9261</td>\n",
       "      <td>2.198375e+08</td>\n",
       "      <td>2.750034e+08</td>\n",
       "      <td>14826.9172</td>\n",
       "      <td>16583.2254</td>\n",
       "    </tr>\n",
       "    <tr>\n",
       "      <th>5</th>\n",
       "      <td>LassoCV</td>\n",
       "      <td>651.515200</td>\n",
       "      <td>0.9276</td>\n",
       "      <td>0.9236</td>\n",
       "      <td>2.565258e+08</td>\n",
       "      <td>2.842382e+08</td>\n",
       "      <td>16016.4237</td>\n",
       "      <td>16859.3661</td>\n",
       "    </tr>\n",
       "    <tr>\n",
       "      <th>0</th>\n",
       "      <td>LR (no poly)</td>\n",
       "      <td>0.000000</td>\n",
       "      <td>0.9066</td>\n",
       "      <td>0.9040</td>\n",
       "      <td>3.309908e+08</td>\n",
       "      <td>3.570442e+08</td>\n",
       "      <td>18193.1513</td>\n",
       "      <td>18895.6145</td>\n",
       "    </tr>\n",
       "    <tr>\n",
       "      <th>6</th>\n",
       "      <td>Enet(cross_validate)</td>\n",
       "      <td>100.000000</td>\n",
       "      <td>0.8793</td>\n",
       "      <td>0.8981</td>\n",
       "      <td>4.321574e+08</td>\n",
       "      <td>3.791862e+08</td>\n",
       "      <td>20788.3950</td>\n",
       "      <td>19472.7034</td>\n",
       "    </tr>\n",
       "    <tr>\n",
       "      <th>7</th>\n",
       "      <td>ENetCV</td>\n",
       "      <td>100.000000</td>\n",
       "      <td>0.8780</td>\n",
       "      <td>0.8981</td>\n",
       "      <td>4.321574e+08</td>\n",
       "      <td>3.791862e+08</td>\n",
       "      <td>20788.3950</td>\n",
       "      <td>19472.7034</td>\n",
       "    </tr>\n",
       "    <tr>\n",
       "      <th>8</th>\n",
       "      <td>ENet RandomSCV</td>\n",
       "      <td>100.000000</td>\n",
       "      <td>0.8780</td>\n",
       "      <td>0.8981</td>\n",
       "      <td>4.321574e+08</td>\n",
       "      <td>3.791862e+08</td>\n",
       "      <td>20788.3950</td>\n",
       "      <td>19472.7034</td>\n",
       "    </tr>\n",
       "  </tbody>\n",
       "</table>\n",
       "</div>"
      ],
      "text/plain": [
       "              model_type       alpha  train_score  validation_score  \\\n",
       "1  Ridge(cross_validate)  453.535354       0.9506            0.9291   \n",
       "2                RidgeCV  559.596000       0.9470            0.9290   \n",
       "3        Ridge RandomCSV  559.596000       0.9470            0.9290   \n",
       "4  Lasso(cross_validate)  290.909091       0.9416            0.9261   \n",
       "5                LassoCV  651.515200       0.9276            0.9236   \n",
       "0           LR (no poly)    0.000000       0.9066            0.9040   \n",
       "6   Enet(cross_validate)  100.000000       0.8793            0.8981   \n",
       "7                 ENetCV  100.000000       0.8780            0.8981   \n",
       "8         ENet RandomSCV  100.000000       0.8780            0.8981   \n",
       "\n",
       "      mse_train       mse_val  rmse_train    rmse_val  \n",
       "1  1.801470e+08  2.637910e+08  13421.8841  16241.6439  \n",
       "2  1.877850e+08  2.640910e+08  13703.4682  16250.8773  \n",
       "3  1.877850e+08  2.640910e+08  13703.4682  16250.8773  \n",
       "4  2.198375e+08  2.750034e+08  14826.9172  16583.2254  \n",
       "5  2.565258e+08  2.842382e+08  16016.4237  16859.3661  \n",
       "0  3.309908e+08  3.570442e+08  18193.1513  18895.6145  \n",
       "6  4.321574e+08  3.791862e+08  20788.3950  19472.7034  \n",
       "7  4.321574e+08  3.791862e+08  20788.3950  19472.7034  \n",
       "8  4.321574e+08  3.791862e+08  20788.3950  19472.7034  "
      ]
     },
     "execution_count": 37,
     "metadata": {},
     "output_type": "execute_result"
    }
   ],
   "source": [
    "#Ridge with cross validation has the highest score and lowest rmse, with alpha = 453.535354\n",
    "df_reg.sort_values(by='validation_score', ascending=False)"
   ]
  },
  {
   "cell_type": "markdown",
   "id": "c54a2e6d",
   "metadata": {},
   "source": [
    "# Summary and Conclusion\n",
    "*Ridge with alpha of 453.53 have the highest score (r2) and lowest root mean squared error (rmse)*"
   ]
  },
  {
   "cell_type": "markdown",
   "id": "6a996b57",
   "metadata": {},
   "source": [
    "## Let's get the best alpha for each model to prepare for the Test dataset\n"
   ]
  },
  {
   "cell_type": "code",
   "execution_count": 64,
   "id": "7e7caa48",
   "metadata": {},
   "outputs": [
    {
     "data": {
      "text/plain": [
       "Ridge(alpha=453.535354)"
      ]
     },
     "execution_count": 64,
     "metadata": {},
     "output_type": "execute_result"
    }
   ],
   "source": [
    "#ridge\n",
    "ridge_final = Ridge(alpha=453.535354)\n",
    "ridge_final.fit(X_train_scaled_poly, y_train)"
   ]
  },
  {
   "cell_type": "code",
   "execution_count": 65,
   "id": "83494a3f",
   "metadata": {},
   "outputs": [
    {
     "data": {
      "text/plain": [
       "Lasso(alpha=290.90909)"
      ]
     },
     "execution_count": 65,
     "metadata": {},
     "output_type": "execute_result"
    }
   ],
   "source": [
    "#lasso\n",
    "lasso_final = Lasso(alpha=290.90909)\n",
    "lasso_final.fit(X_train_scaled_poly, y_train)"
   ]
  },
  {
   "cell_type": "code",
   "execution_count": 66,
   "id": "38da8c12",
   "metadata": {},
   "outputs": [
    {
     "data": {
      "text/plain": [
       "ElasticNet(alpha=100)"
      ]
     },
     "execution_count": 66,
     "metadata": {},
     "output_type": "execute_result"
    }
   ],
   "source": [
    "#enet\n",
    "enet_final = ElasticNet(alpha=100)\n",
    "enet_final.fit(X_train_scaled_poly, y_train)"
   ]
  },
  {
   "cell_type": "markdown",
   "id": "5846d88f",
   "metadata": {},
   "source": [
    "## PREDICT Test Dataset (Kaggle submission)"
   ]
  },
  {
   "cell_type": "code",
   "execution_count": 67,
   "id": "e196c5da",
   "metadata": {},
   "outputs": [],
   "source": [
    "df_test = pd.read_csv(\"../datasets/test_wfeature_all.csv\")"
   ]
  },
  {
   "cell_type": "code",
   "execution_count": 68,
   "id": "27021045",
   "metadata": {},
   "outputs": [
    {
     "data": {
      "text/html": [
       "<div>\n",
       "<style scoped>\n",
       "    .dataframe tbody tr th:only-of-type {\n",
       "        vertical-align: middle;\n",
       "    }\n",
       "\n",
       "    .dataframe tbody tr th {\n",
       "        vertical-align: top;\n",
       "    }\n",
       "\n",
       "    .dataframe thead th {\n",
       "        text-align: right;\n",
       "    }\n",
       "</style>\n",
       "<table border=\"1\" class=\"dataframe\">\n",
       "  <thead>\n",
       "    <tr style=\"text-align: right;\">\n",
       "      <th></th>\n",
       "      <th>Unnamed: 0</th>\n",
       "      <th>Id</th>\n",
       "      <th>PID</th>\n",
       "      <th>MS SubClass</th>\n",
       "      <th>MS Zoning</th>\n",
       "      <th>Lot Frontage</th>\n",
       "      <th>Lot Area</th>\n",
       "      <th>Street</th>\n",
       "      <th>Lot Shape</th>\n",
       "      <th>Land Contour</th>\n",
       "      <th>...</th>\n",
       "      <th>Screen Porch</th>\n",
       "      <th>Pool Area</th>\n",
       "      <th>Misc Val</th>\n",
       "      <th>Mo Sold</th>\n",
       "      <th>Yr Sold</th>\n",
       "      <th>Sale Type</th>\n",
       "      <th>HouseAge</th>\n",
       "      <th>Remodel_Age</th>\n",
       "      <th>is_Remodeled</th>\n",
       "      <th>Total_SF</th>\n",
       "    </tr>\n",
       "  </thead>\n",
       "  <tbody>\n",
       "    <tr>\n",
       "      <th>0</th>\n",
       "      <td>0</td>\n",
       "      <td>2658</td>\n",
       "      <td>902301120</td>\n",
       "      <td>190</td>\n",
       "      <td>4.0</td>\n",
       "      <td>69.0</td>\n",
       "      <td>9142</td>\n",
       "      <td>2</td>\n",
       "      <td>4</td>\n",
       "      <td>2.0</td>\n",
       "      <td>...</td>\n",
       "      <td>0</td>\n",
       "      <td>0</td>\n",
       "      <td>0</td>\n",
       "      <td>4</td>\n",
       "      <td>2006</td>\n",
       "      <td>6.0</td>\n",
       "      <td>96</td>\n",
       "      <td>40</td>\n",
       "      <td>0</td>\n",
       "      <td>2948</td>\n",
       "    </tr>\n",
       "    <tr>\n",
       "      <th>1</th>\n",
       "      <td>1</td>\n",
       "      <td>2718</td>\n",
       "      <td>905108090</td>\n",
       "      <td>90</td>\n",
       "      <td>6.0</td>\n",
       "      <td>69.0</td>\n",
       "      <td>9662</td>\n",
       "      <td>2</td>\n",
       "      <td>3</td>\n",
       "      <td>2.0</td>\n",
       "      <td>...</td>\n",
       "      <td>0</td>\n",
       "      <td>0</td>\n",
       "      <td>0</td>\n",
       "      <td>8</td>\n",
       "      <td>2006</td>\n",
       "      <td>6.0</td>\n",
       "      <td>29</td>\n",
       "      <td>0</td>\n",
       "      <td>0</td>\n",
       "      <td>3934</td>\n",
       "    </tr>\n",
       "    <tr>\n",
       "      <th>2</th>\n",
       "      <td>2</td>\n",
       "      <td>2414</td>\n",
       "      <td>528218130</td>\n",
       "      <td>60</td>\n",
       "      <td>6.0</td>\n",
       "      <td>58.0</td>\n",
       "      <td>17104</td>\n",
       "      <td>2</td>\n",
       "      <td>3</td>\n",
       "      <td>2.0</td>\n",
       "      <td>...</td>\n",
       "      <td>0</td>\n",
       "      <td>0</td>\n",
       "      <td>0</td>\n",
       "      <td>9</td>\n",
       "      <td>2006</td>\n",
       "      <td>8.0</td>\n",
       "      <td>0</td>\n",
       "      <td>0</td>\n",
       "      <td>0</td>\n",
       "      <td>2150</td>\n",
       "    </tr>\n",
       "    <tr>\n",
       "      <th>3</th>\n",
       "      <td>3</td>\n",
       "      <td>1989</td>\n",
       "      <td>902207150</td>\n",
       "      <td>30</td>\n",
       "      <td>4.0</td>\n",
       "      <td>60.0</td>\n",
       "      <td>8520</td>\n",
       "      <td>2</td>\n",
       "      <td>4</td>\n",
       "      <td>2.0</td>\n",
       "      <td>...</td>\n",
       "      <td>0</td>\n",
       "      <td>0</td>\n",
       "      <td>0</td>\n",
       "      <td>7</td>\n",
       "      <td>2007</td>\n",
       "      <td>6.0</td>\n",
       "      <td>84</td>\n",
       "      <td>83</td>\n",
       "      <td>0</td>\n",
       "      <td>1936</td>\n",
       "    </tr>\n",
       "    <tr>\n",
       "      <th>4</th>\n",
       "      <td>4</td>\n",
       "      <td>625</td>\n",
       "      <td>535105100</td>\n",
       "      <td>20</td>\n",
       "      <td>6.0</td>\n",
       "      <td>68.0</td>\n",
       "      <td>9500</td>\n",
       "      <td>2</td>\n",
       "      <td>3</td>\n",
       "      <td>2.0</td>\n",
       "      <td>...</td>\n",
       "      <td>185</td>\n",
       "      <td>0</td>\n",
       "      <td>0</td>\n",
       "      <td>7</td>\n",
       "      <td>2009</td>\n",
       "      <td>6.0</td>\n",
       "      <td>46</td>\n",
       "      <td>0</td>\n",
       "      <td>0</td>\n",
       "      <td>2788</td>\n",
       "    </tr>\n",
       "  </tbody>\n",
       "</table>\n",
       "<p>5 rows × 81 columns</p>\n",
       "</div>"
      ],
      "text/plain": [
       "   Unnamed: 0    Id        PID  MS SubClass  MS Zoning  Lot Frontage  \\\n",
       "0           0  2658  902301120          190        4.0          69.0   \n",
       "1           1  2718  905108090           90        6.0          69.0   \n",
       "2           2  2414  528218130           60        6.0          58.0   \n",
       "3           3  1989  902207150           30        4.0          60.0   \n",
       "4           4   625  535105100           20        6.0          68.0   \n",
       "\n",
       "   Lot Area  Street  Lot Shape  Land Contour  ...  Screen Porch  Pool Area  \\\n",
       "0      9142       2          4           2.0  ...             0          0   \n",
       "1      9662       2          3           2.0  ...             0          0   \n",
       "2     17104       2          3           2.0  ...             0          0   \n",
       "3      8520       2          4           2.0  ...             0          0   \n",
       "4      9500       2          3           2.0  ...           185          0   \n",
       "\n",
       "   Misc Val  Mo Sold  Yr Sold  Sale Type  HouseAge  Remodel_Age  is_Remodeled  \\\n",
       "0         0        4     2006        6.0        96           40             0   \n",
       "1         0        8     2006        6.0        29            0             0   \n",
       "2         0        9     2006        8.0         0            0             0   \n",
       "3         0        7     2007        6.0        84           83             0   \n",
       "4         0        7     2009        6.0        46            0             0   \n",
       "\n",
       "   Total_SF  \n",
       "0      2948  \n",
       "1      3934  \n",
       "2      2150  \n",
       "3      1936  \n",
       "4      2788  \n",
       "\n",
       "[5 rows x 81 columns]"
      ]
     },
     "execution_count": 68,
     "metadata": {},
     "output_type": "execute_result"
    }
   ],
   "source": [
    "df_test.head()"
   ]
  },
  {
   "cell_type": "code",
   "execution_count": 69,
   "id": "28b695ae",
   "metadata": {},
   "outputs": [],
   "source": [
    "df_test.drop(columns=['Unnamed: 0'], inplace=True)"
   ]
  },
  {
   "cell_type": "code",
   "execution_count": 70,
   "id": "b9b04844",
   "metadata": {},
   "outputs": [
    {
     "data": {
      "text/plain": [
       "(878, 80)"
      ]
     },
     "execution_count": 70,
     "metadata": {},
     "output_type": "execute_result"
    }
   ],
   "source": [
    "df_test.shape"
   ]
  },
  {
   "cell_type": "code",
   "execution_count": 71,
   "id": "0cc7bc1c",
   "metadata": {},
   "outputs": [
    {
     "data": {
      "text/plain": [
       "Series([], dtype: int64)"
      ]
     },
     "execution_count": 71,
     "metadata": {},
     "output_type": "execute_result"
    }
   ],
   "source": [
    "#check for NUll values\n",
    "df_test.isnull().sum()[df_test.isnull().sum()>0].sort_values()"
   ]
  },
  {
   "cell_type": "code",
   "execution_count": 72,
   "id": "a18560e9",
   "metadata": {},
   "outputs": [],
   "source": [
    "## Define X \n",
    "X_test = df_test.drop(columns=['Id', 'PID'])\n",
    "X_test_scaled = ss.transform(X_test)"
   ]
  },
  {
   "cell_type": "code",
   "execution_count": 73,
   "id": "0e10144f",
   "metadata": {},
   "outputs": [],
   "source": [
    "## Poly\n",
    "X_test_poly = poly.fit_transform(X_test)\n",
    "polynomial_column_names = poly.get_feature_names(input_features = X_test.columns)\n",
    "X_test_poly = pd.DataFrame(data = X_test_poly, columns = polynomial_column_names )"
   ]
  },
  {
   "cell_type": "code",
   "execution_count": 74,
   "id": "d4647ea8",
   "metadata": {},
   "outputs": [],
   "source": [
    "# scale the X\n",
    "X_test_poly_scaled = ssp.transform(X_test_poly)"
   ]
  },
  {
   "cell_type": "markdown",
   "id": "accb5643",
   "metadata": {},
   "source": [
    "### LR - PREDICT"
   ]
  },
  {
   "cell_type": "code",
   "execution_count": 75,
   "id": "7b81ce4e",
   "metadata": {},
   "outputs": [],
   "source": [
    "df_test_lr = df_test.copy()"
   ]
  },
  {
   "cell_type": "code",
   "execution_count": 76,
   "id": "c69be04d",
   "metadata": {},
   "outputs": [],
   "source": [
    "df_test_lr['SalePrice'] = lr.predict(X_test_scaled)"
   ]
  },
  {
   "cell_type": "code",
   "execution_count": 77,
   "id": "5f8bbc72",
   "metadata": {},
   "outputs": [],
   "source": [
    "df_test_submit = df_test_lr[['Id','SalePrice']]"
   ]
  },
  {
   "cell_type": "code",
   "execution_count": 78,
   "id": "cd63f05a",
   "metadata": {},
   "outputs": [
    {
     "data": {
      "text/plain": [
       "<AxesSubplot:>"
      ]
     },
     "execution_count": 78,
     "metadata": {},
     "output_type": "execute_result"
    },
    {
     "data": {
      "image/png": "[encoded data removed]",
      "text/plain": [
       "<Figure size 432x288 with 1 Axes>"
      ]
     },
     "metadata": {
      "needs_background": "light"
     },
     "output_type": "display_data"
    }
   ],
   "source": [
    "df_test_submit[\"SalePrice\"].hist()"
   ]
  },
  {
   "cell_type": "code",
   "execution_count": 79,
   "id": "83eff404",
   "metadata": {},
   "outputs": [
    {
     "data": {
      "text/plain": [
       "count       878.000000\n",
       "mean     176069.983862\n",
       "std       64955.698143\n",
       "min      -18253.211469\n",
       "25%      127873.804156\n",
       "50%      164287.538531\n",
       "75%      215685.788531\n",
       "max      464530.788531\n",
       "Name: SalePrice, dtype: float64"
      ]
     },
     "execution_count": 79,
     "metadata": {},
     "output_type": "execute_result"
    }
   ],
   "source": [
    "df_test_submit[\"SalePrice\"].describe()"
   ]
  },
  {
   "cell_type": "code",
   "execution_count": 80,
   "id": "6b1e2834",
   "metadata": {},
   "outputs": [],
   "source": [
    "df_test_submit.to_csv(\"../datasets/submit_lreg.csv\", index=False)"
   ]
  },
  {
   "cell_type": "markdown",
   "id": "240f07e3",
   "metadata": {},
   "source": [
    "### RIDGE - PREDICT"
   ]
  },
  {
   "cell_type": "code",
   "execution_count": 81,
   "id": "3798278d",
   "metadata": {},
   "outputs": [],
   "source": [
    "df_test_ridge = df_test.copy()"
   ]
  },
  {
   "cell_type": "code",
   "execution_count": 82,
   "id": "62596702",
   "metadata": {},
   "outputs": [],
   "source": [
    "df_test_ridge['SalePrice'] = ridge_final.predict(X_test_poly_scaled)"
   ]
  },
  {
   "cell_type": "code",
   "execution_count": 83,
   "id": "9cab1941",
   "metadata": {},
   "outputs": [],
   "source": [
    "df_test_submit = df_test_ridge[['Id','SalePrice']]"
   ]
  },
  {
   "cell_type": "code",
   "execution_count": 84,
   "id": "af13c452",
   "metadata": {},
   "outputs": [
    {
     "data": {
      "text/plain": [
       "<AxesSubplot:>"
      ]
     },
     "execution_count": 84,
     "metadata": {},
     "output_type": "execute_result"
    },
    {
     "data": {
      "image/png": "[encoded data removed]",
      "text/plain": [
       "<Figure size 432x288 with 1 Axes>"
      ]
     },
     "metadata": {
      "needs_background": "light"
     },
     "output_type": "display_data"
    }
   ],
   "source": [
    "df_test_submit[\"SalePrice\"].hist()"
   ]
  },
  {
   "cell_type": "code",
   "execution_count": 85,
   "id": "c3809965",
   "metadata": {},
   "outputs": [],
   "source": [
    "df_test_submit.to_csv(\"../datasets/submit_ridgereg.csv\", index=False)"
   ]
  },
  {
   "cell_type": "markdown",
   "id": "af1677b5",
   "metadata": {},
   "source": [
    "### LASSO - PREDICT"
   ]
  },
  {
   "cell_type": "code",
   "execution_count": 86,
   "id": "2060d8ec",
   "metadata": {},
   "outputs": [],
   "source": [
    "df_test_lasso = df_test.copy()"
   ]
  },
  {
   "cell_type": "code",
   "execution_count": 87,
   "id": "063fc723",
   "metadata": {},
   "outputs": [],
   "source": [
    "df_test_lasso['SalePrice'] = lasso_final.predict(X_test_poly_scaled)"
   ]
  },
  {
   "cell_type": "code",
   "execution_count": 88,
   "id": "4e04aae8",
   "metadata": {},
   "outputs": [],
   "source": [
    "df_test_submit = df_test_lasso[['Id','SalePrice']]"
   ]
  },
  {
   "cell_type": "code",
   "execution_count": 89,
   "id": "989bb30a",
   "metadata": {},
   "outputs": [
    {
     "data": {
      "text/plain": [
       "<AxesSubplot:>"
      ]
     },
     "execution_count": 89,
     "metadata": {},
     "output_type": "execute_result"
    },
    {
     "data": {
      "image/png": "[encoded data removed]",
      "text/plain": [
       "<Figure size 432x288 with 1 Axes>"
      ]
     },
     "metadata": {
      "needs_background": "light"
     },
     "output_type": "display_data"
    }
   ],
   "source": [
    "df_test_submit[\"SalePrice\"].hist()"
   ]
  },
  {
   "cell_type": "code",
   "execution_count": 90,
   "id": "d1a6c6b3",
   "metadata": {},
   "outputs": [],
   "source": [
    "df_test_submit.to_csv(\"../datasets/submit_lassoreg.csv\", index=False)"
   ]
  },
  {
   "cell_type": "markdown",
   "id": "2c7c9f49",
   "metadata": {},
   "source": [
    "### ENET - PREDICT"
   ]
  },
  {
   "cell_type": "code",
   "execution_count": 91,
   "id": "6dceb364",
   "metadata": {},
   "outputs": [],
   "source": [
    "df_test_enet = df_test.copy()"
   ]
  },
  {
   "cell_type": "code",
   "execution_count": 92,
   "id": "960021d3",
   "metadata": {},
   "outputs": [],
   "source": [
    "df_test_enet['SalePrice'] = enet_final.predict(X_test_poly_scaled)"
   ]
  },
  {
   "cell_type": "code",
   "execution_count": 93,
   "id": "6e00c1fd",
   "metadata": {},
   "outputs": [],
   "source": [
    "df_test_submit = df_test_enet[['Id','SalePrice']]"
   ]
  },
  {
   "cell_type": "code",
   "execution_count": 94,
   "id": "ae9934fa",
   "metadata": {},
   "outputs": [
    {
     "data": {
      "text/plain": [
       "<AxesSubplot:>"
      ]
     },
     "execution_count": 94,
     "metadata": {},
     "output_type": "execute_result"
    },
    {
     "data": {
      "image/png": "[encoded data removed]",
      "text/plain": [
       "<Figure size 432x288 with 1 Axes>"
      ]
     },
     "metadata": {
      "needs_background": "light"
     },
     "output_type": "display_data"
    }
   ],
   "source": [
    "df_test_submit[\"SalePrice\"].hist()"
   ]
  },
  {
   "cell_type": "code",
   "execution_count": null,
   "id": "09a827ed",
   "metadata": {},
   "outputs": [],
   "source": [
    "df_test_submit.to_csv(\"../datasets/submit_enetreg.csv\", index=False)"
   ]
  }
 ],
 "metadata": {
  "kernelspec": {
   "display_name": "Python 3",
   "language": "python",
   "name": "python3"
  },
  "language_info": {
   "codemirror_mode": {
    "name": "ipython",
    "version": 3
   },
   "file_extension": ".py",
   "mimetype": "text/x-python",
   "name": "python",
   "nbconvert_exporter": "python",
   "pygments_lexer": "ipython3",
   "version": "3.8.8"
  }
 },
 "nbformat": 4,
 "nbformat_minor": 5
}
