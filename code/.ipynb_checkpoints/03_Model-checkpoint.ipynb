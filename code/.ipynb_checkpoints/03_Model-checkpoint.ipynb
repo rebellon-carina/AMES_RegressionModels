{
 "cells": [
  {
   "cell_type": "markdown",
   "id": "912ec988",
   "metadata": {},
   "source": [
    "# Ames Housing Project\n",
    "\n",
    "Problem: "
   ]
  },
  {
   "cell_type": "code",
   "execution_count": 1,
   "id": "b70af9d5",
   "metadata": {},
   "outputs": [],
   "source": [
    "#for profiling\n",
    "#pip install pandas-profiling"
   ]
  },
  {
   "cell_type": "code",
   "execution_count": 314,
   "id": "f4cf72bc",
   "metadata": {},
   "outputs": [],
   "source": [
    "#import packages\n",
    "import pandas as pd\n",
    "import matplotlib.pyplot as plt\n",
    "import seaborn as sns\n",
    "import numpy as np\n",
    "\n",
    "from sklearn.linear_model import LinearRegression\n",
    "from sklearn.linear_model import Lasso\n",
    "from sklearn.model_selection import train_test_split\n",
    "\n",
    "from pandas_profiling import ProfileReport\n",
    "\n",
    "%matplotlib inline"
   ]
  },
  {
   "cell_type": "markdown",
   "id": "e2ea95c2",
   "metadata": {},
   "source": [
    "## Gather Data"
   ]
  },
  {
   "cell_type": "code",
   "execution_count": 2,
   "id": "33d2f003",
   "metadata": {},
   "outputs": [
    {
     "data": {
      "text/html": [
       "<div>\n",
       "<style scoped>\n",
       "    .dataframe tbody tr th:only-of-type {\n",
       "        vertical-align: middle;\n",
       "    }\n",
       "\n",
       "    .dataframe tbody tr th {\n",
       "        vertical-align: top;\n",
       "    }\n",
       "\n",
       "    .dataframe thead th {\n",
       "        text-align: right;\n",
       "    }\n",
       "</style>\n",
       "<table border=\"1\" class=\"dataframe\">\n",
       "  <thead>\n",
       "    <tr style=\"text-align: right;\">\n",
       "      <th></th>\n",
       "      <th>Id</th>\n",
       "      <th>PID</th>\n",
       "      <th>MS SubClass</th>\n",
       "      <th>MS Zoning</th>\n",
       "      <th>Lot Frontage</th>\n",
       "      <th>Lot Area</th>\n",
       "      <th>Street</th>\n",
       "      <th>Alley</th>\n",
       "      <th>Lot Shape</th>\n",
       "      <th>Land Contour</th>\n",
       "      <th>...</th>\n",
       "      <th>Screen Porch</th>\n",
       "      <th>Pool Area</th>\n",
       "      <th>Pool QC</th>\n",
       "      <th>Fence</th>\n",
       "      <th>Misc Feature</th>\n",
       "      <th>Misc Val</th>\n",
       "      <th>Mo Sold</th>\n",
       "      <th>Yr Sold</th>\n",
       "      <th>Sale Type</th>\n",
       "      <th>SalePrice</th>\n",
       "    </tr>\n",
       "  </thead>\n",
       "  <tbody>\n",
       "    <tr>\n",
       "      <th>0</th>\n",
       "      <td>109</td>\n",
       "      <td>533352170</td>\n",
       "      <td>60</td>\n",
       "      <td>RL</td>\n",
       "      <td>NaN</td>\n",
       "      <td>13517</td>\n",
       "      <td>Pave</td>\n",
       "      <td>NaN</td>\n",
       "      <td>IR1</td>\n",
       "      <td>Lvl</td>\n",
       "      <td>...</td>\n",
       "      <td>0</td>\n",
       "      <td>0</td>\n",
       "      <td>NaN</td>\n",
       "      <td>NaN</td>\n",
       "      <td>NaN</td>\n",
       "      <td>0</td>\n",
       "      <td>3</td>\n",
       "      <td>2010</td>\n",
       "      <td>WD</td>\n",
       "      <td>130500</td>\n",
       "    </tr>\n",
       "    <tr>\n",
       "      <th>1</th>\n",
       "      <td>544</td>\n",
       "      <td>531379050</td>\n",
       "      <td>60</td>\n",
       "      <td>RL</td>\n",
       "      <td>43.0</td>\n",
       "      <td>11492</td>\n",
       "      <td>Pave</td>\n",
       "      <td>NaN</td>\n",
       "      <td>IR1</td>\n",
       "      <td>Lvl</td>\n",
       "      <td>...</td>\n",
       "      <td>0</td>\n",
       "      <td>0</td>\n",
       "      <td>NaN</td>\n",
       "      <td>NaN</td>\n",
       "      <td>NaN</td>\n",
       "      <td>0</td>\n",
       "      <td>4</td>\n",
       "      <td>2009</td>\n",
       "      <td>WD</td>\n",
       "      <td>220000</td>\n",
       "    </tr>\n",
       "    <tr>\n",
       "      <th>2</th>\n",
       "      <td>153</td>\n",
       "      <td>535304180</td>\n",
       "      <td>20</td>\n",
       "      <td>RL</td>\n",
       "      <td>68.0</td>\n",
       "      <td>7922</td>\n",
       "      <td>Pave</td>\n",
       "      <td>NaN</td>\n",
       "      <td>Reg</td>\n",
       "      <td>Lvl</td>\n",
       "      <td>...</td>\n",
       "      <td>0</td>\n",
       "      <td>0</td>\n",
       "      <td>NaN</td>\n",
       "      <td>NaN</td>\n",
       "      <td>NaN</td>\n",
       "      <td>0</td>\n",
       "      <td>1</td>\n",
       "      <td>2010</td>\n",
       "      <td>WD</td>\n",
       "      <td>109000</td>\n",
       "    </tr>\n",
       "    <tr>\n",
       "      <th>3</th>\n",
       "      <td>318</td>\n",
       "      <td>916386060</td>\n",
       "      <td>60</td>\n",
       "      <td>RL</td>\n",
       "      <td>73.0</td>\n",
       "      <td>9802</td>\n",
       "      <td>Pave</td>\n",
       "      <td>NaN</td>\n",
       "      <td>Reg</td>\n",
       "      <td>Lvl</td>\n",
       "      <td>...</td>\n",
       "      <td>0</td>\n",
       "      <td>0</td>\n",
       "      <td>NaN</td>\n",
       "      <td>NaN</td>\n",
       "      <td>NaN</td>\n",
       "      <td>0</td>\n",
       "      <td>4</td>\n",
       "      <td>2010</td>\n",
       "      <td>WD</td>\n",
       "      <td>174000</td>\n",
       "    </tr>\n",
       "    <tr>\n",
       "      <th>4</th>\n",
       "      <td>255</td>\n",
       "      <td>906425045</td>\n",
       "      <td>50</td>\n",
       "      <td>RL</td>\n",
       "      <td>82.0</td>\n",
       "      <td>14235</td>\n",
       "      <td>Pave</td>\n",
       "      <td>NaN</td>\n",
       "      <td>IR1</td>\n",
       "      <td>Lvl</td>\n",
       "      <td>...</td>\n",
       "      <td>0</td>\n",
       "      <td>0</td>\n",
       "      <td>NaN</td>\n",
       "      <td>NaN</td>\n",
       "      <td>NaN</td>\n",
       "      <td>0</td>\n",
       "      <td>3</td>\n",
       "      <td>2010</td>\n",
       "      <td>WD</td>\n",
       "      <td>138500</td>\n",
       "    </tr>\n",
       "  </tbody>\n",
       "</table>\n",
       "<p>5 rows × 81 columns</p>\n",
       "</div>"
      ],
      "text/plain": [
       "    Id        PID  MS SubClass MS Zoning  Lot Frontage  Lot Area Street Alley  \\\n",
       "0  109  533352170           60        RL           NaN     13517   Pave   NaN   \n",
       "1  544  531379050           60        RL          43.0     11492   Pave   NaN   \n",
       "2  153  535304180           20        RL          68.0      7922   Pave   NaN   \n",
       "3  318  916386060           60        RL          73.0      9802   Pave   NaN   \n",
       "4  255  906425045           50        RL          82.0     14235   Pave   NaN   \n",
       "\n",
       "  Lot Shape Land Contour  ... Screen Porch Pool Area Pool QC Fence  \\\n",
       "0       IR1          Lvl  ...            0         0     NaN   NaN   \n",
       "1       IR1          Lvl  ...            0         0     NaN   NaN   \n",
       "2       Reg          Lvl  ...            0         0     NaN   NaN   \n",
       "3       Reg          Lvl  ...            0         0     NaN   NaN   \n",
       "4       IR1          Lvl  ...            0         0     NaN   NaN   \n",
       "\n",
       "  Misc Feature Misc Val Mo Sold Yr Sold  Sale Type  SalePrice  \n",
       "0          NaN        0       3    2010        WD      130500  \n",
       "1          NaN        0       4    2009        WD      220000  \n",
       "2          NaN        0       1    2010        WD      109000  \n",
       "3          NaN        0       4    2010        WD      174000  \n",
       "4          NaN        0       3    2010        WD      138500  \n",
       "\n",
       "[5 rows x 81 columns]"
      ]
     },
     "execution_count": 2,
     "metadata": {},
     "output_type": "execute_result"
    }
   ],
   "source": [
    "df = pd.read_csv(\"../datasets/train.csv\")\n",
    "df.head()"
   ]
  },
  {
   "cell_type": "code",
   "execution_count": 3,
   "id": "ffcfd1ba",
   "metadata": {},
   "outputs": [],
   "source": [
    "#prof = ProfileReport(df)\n",
    "#prof.to_file(output_file='ames_profile.html')"
   ]
  },
  {
   "cell_type": "code",
   "execution_count": 57,
   "id": "8df3e5ca",
   "metadata": {},
   "outputs": [
    {
     "name": "stdout",
     "output_type": "stream",
     "text": [
      "<class 'pandas.core.frame.DataFrame'>\n",
      "Int64Index: 2029 entries, 0 to 2050\n",
      "Data columns (total 82 columns):\n",
      " #   Column           Non-Null Count  Dtype  \n",
      "---  ------           --------------  -----  \n",
      " 0   Id               2029 non-null   int64  \n",
      " 1   PID              2029 non-null   int64  \n",
      " 2   MS SubClass      2029 non-null   int64  \n",
      " 3   MS Zoning        2029 non-null   object \n",
      " 4   Lot Frontage     1699 non-null   float64\n",
      " 5   Lot Area         2029 non-null   int64  \n",
      " 6   Street           2029 non-null   object \n",
      " 7   Alley            137 non-null    object \n",
      " 8   Lot Shape        2029 non-null   object \n",
      " 9   Land Contour     2029 non-null   object \n",
      " 10  Utilities        2029 non-null   object \n",
      " 11  Lot Config       2029 non-null   object \n",
      " 12  Land Slope       2029 non-null   object \n",
      " 13  Neighborhood     2029 non-null   object \n",
      " 14  Condition 1      2029 non-null   object \n",
      " 15  Condition 2      2029 non-null   object \n",
      " 16  Bldg Type        2029 non-null   object \n",
      " 17  House Style      2029 non-null   object \n",
      " 18  Overall Qual     2029 non-null   int64  \n",
      " 19  Overall Cond     2029 non-null   int64  \n",
      " 20  Year Built       2029 non-null   int64  \n",
      " 21  Year Remod/Add   2029 non-null   int64  \n",
      " 22  Roof Style       2029 non-null   object \n",
      " 23  Roof Matl        2029 non-null   object \n",
      " 24  Exterior 1st     2029 non-null   object \n",
      " 25  Exterior 2nd     2029 non-null   object \n",
      " 26  Mas Vnr Type     2007 non-null   object \n",
      " 27  Mas Vnr Area     2007 non-null   float64\n",
      " 28  Exter Qual       2029 non-null   object \n",
      " 29  Exter Cond       2029 non-null   object \n",
      " 30  Foundation       2029 non-null   object \n",
      " 31  Bsmt Qual        1978 non-null   object \n",
      " 32  Bsmt Cond        1978 non-null   object \n",
      " 33  Bsmt Exposure    1975 non-null   object \n",
      " 34  BsmtFin Type 1   1978 non-null   object \n",
      " 35  BsmtFin SF 1     2028 non-null   float64\n",
      " 36  BsmtFin Type 2   1977 non-null   object \n",
      " 37  BsmtFin SF 2     2028 non-null   float64\n",
      " 38  Bsmt Unf SF      2028 non-null   float64\n",
      " 39  Total Bsmt SF    2028 non-null   float64\n",
      " 40  Heating          2029 non-null   object \n",
      " 41  Heating QC       2029 non-null   object \n",
      " 42  Central Air      2029 non-null   object \n",
      " 43  Electrical       2029 non-null   object \n",
      " 44  1st Flr SF       2029 non-null   int64  \n",
      " 45  2nd Flr SF       2029 non-null   int64  \n",
      " 46  Low Qual Fin SF  2029 non-null   int64  \n",
      " 47  Gr Liv Area      2029 non-null   int64  \n",
      " 48  Bsmt Full Bath   2027 non-null   float64\n",
      " 49  Bsmt Half Bath   2027 non-null   float64\n",
      " 50  Full Bath        2029 non-null   int64  \n",
      " 51  Half Bath        2029 non-null   int64  \n",
      " 52  Bedroom AbvGr    2029 non-null   int64  \n",
      " 53  Kitchen AbvGr    2029 non-null   int64  \n",
      " 54  Kitchen Qual     2029 non-null   object \n",
      " 55  TotRms AbvGrd    2029 non-null   int64  \n",
      " 56  Functional       2029 non-null   object \n",
      " 57  Fireplaces       2029 non-null   int64  \n",
      " 58  Fireplace Qu     1051 non-null   object \n",
      " 59  Garage Type      1924 non-null   object \n",
      " 60  Garage Yr Blt    1923 non-null   float64\n",
      " 61  Garage Finish    1923 non-null   object \n",
      " 62  Garage Cars      2028 non-null   float64\n",
      " 63  Garage Area      2028 non-null   float64\n",
      " 64  Garage Qual      1923 non-null   object \n",
      " 65  Garage Cond      1923 non-null   object \n",
      " 66  Paved Drive      2029 non-null   object \n",
      " 67  Wood Deck SF     2029 non-null   int64  \n",
      " 68  Open Porch SF    2029 non-null   int64  \n",
      " 69  Enclosed Porch   2029 non-null   int64  \n",
      " 70  3Ssn Porch       2029 non-null   int64  \n",
      " 71  Screen Porch     2029 non-null   int64  \n",
      " 72  Pool Area        2029 non-null   int64  \n",
      " 73  Pool QC          9 non-null      object \n",
      " 74  Fence            397 non-null    object \n",
      " 75  Misc Feature     64 non-null     object \n",
      " 76  Misc Val         2029 non-null   int64  \n",
      " 77  Mo Sold          2029 non-null   int64  \n",
      " 78  Yr Sold          2029 non-null   int64  \n",
      " 79  Sale Type        2029 non-null   object \n",
      " 80  SalePrice        2029 non-null   int64  \n",
      " 81  HouseAge         2029 non-null   int64  \n",
      "dtypes: float64(11), int64(29), object(42)\n",
      "memory usage: 1.3+ MB\n"
     ]
    }
   ],
   "source": [
    "#pd.set_option('display.max_columns', 500)\n",
    "#df.describe()\n",
    "df.info()"
   ]
  },
  {
   "cell_type": "code",
   "execution_count": 5,
   "id": "6866fe04",
   "metadata": {},
   "outputs": [],
   "source": [
    "#identify all fields that are numeric\n",
    "#convert all integers to float\n",
    "\n",
    "cols=['MS SubClass', 'Lot Frontage', 'Lot Area','Overall Qual','Overall Cond','Year Built', 'Year Remod/Add',\n",
    "     'BsmtFin SF 1', 'BsmtFin SF 2', 'Bsmt Unf SF','Total Bsmt SF','1st Flr SF','2nd Flr SF',\n",
    "      'Low Qual Fin SF','Gr Liv Area','Bsmt Full Bath','Bsmt Half Bath','Full Bath',\n",
    "      'Half Bath','Bedroom AbvGr','Kitchen AbvGr','TotRms AbvGrd','Fireplaces','Garage Yr Blt',\n",
    "      'Garage Cars', 'Garage Area','Wood Deck SF','Open Porch SF','Enclosed Porch','3Ssn Porch',\n",
    "      'Screen Porch','Pool Area','Mo Sold','Yr Sold','SalePrice','HouseAge']"
   ]
  },
  {
   "cell_type": "markdown",
   "id": "f9c6dd24",
   "metadata": {},
   "source": [
    "### field by field analysis\n",
    "<details>\n",
    "    \n",
    "<summary>Click to expand!</summary>\n",
    "\n",
    "\n",
    " - 2   MS SubClass     2029 non-null   int64 \n",
    " - 3   MS Zoning        2029 non-null   object  <span style=\"color:blue\"> ### FF: zone_dummy >> convert to 0-4</span> \n",
    " - 4   Lot Frontage     1699 non-null   float64\n",
    " - 5   Lot Area         2029 non-null   int64  \n",
    " - 6   Street           2029 non-null   object \n",
    " - 7   <span style=\"color:red\">  Alley            137 non-null    object    ##exclude </span> \n",
    " -  8   Lot Shape        2029 non-null   object <span style=\"color:blue\"> ### FF: lotshape_dummy >> convert to 0-4</span> \n",
    " -  9   Land Contour     2029 non-null   object \n",
    " -  10  Utilities        2029 non-null   object \n",
    " -  11  Lot Config       2029 non-null   object \n",
    " -  12  Land Slope       2029 non-null   object \n",
    " -  13  Neighborhood     2029 non-null   object \n",
    " -  14  Condition 1      2029 non-null   object \n",
    " - 15  Condition 2      2029 non-null   object \n",
    " -  16  Bldg Type        2029 non-null   object \n",
    " -  17  House Style      2029 non-null   object \n",
    " -  18  Overall Qual     2029 non-null   int64  \n",
    " -  19  Overall Cond     2029 non-null   int64  \n",
    " -  20  <span style=\"color:blue\"> Year Built       2029 non-null   int64  ##exclude, use FF: HouseAge</span>\n",
    " -  21  <span style=\"color:blue\"> Year Remod/Add   2029 non-null   int64  ##exclude, use FF: HouseAge</span>\n",
    " -  22  Roof Style       2029 non-null   object \n",
    " -  23  Roof Matl        2029 non-null   object \n",
    " -  24  Exterior 1st     2029 non-null   object \n",
    " -  25  Exterior 2nd     2029 non-null   object \n",
    " - 26  Mas Vnr Type     2007 non-null   object \n",
    " - 27  Mas Vnr Area     2007 non-null   float64\n",
    " - 28  Exter Qual       2029 non-null   object \n",
    " - 29  Exter Cond       2029 non-null   object \n",
    " - 30  Foundation       2029 non-null   object \n",
    " - 31  Bsmt Qual        1978 non-null   object \n",
    " - 32  Bsmt Cond        1978 non-null   object \n",
    " - 33  Bsmt Exposure    1975 non-null   object \n",
    " - 34  BsmtFin Type 1   1978 non-null   object \n",
    " - 35  BsmtFin SF 1     2028 non-null   float64\n",
    " - 36  BsmtFin Type 2   1977 non-null   object \n",
    " - 37  BsmtFin SF 2     2028 non-null   float64\n",
    " - 38  Bsmt Unf SF      2028 non-null   float64\n",
    " - 39  Total Bsmt SF    2028 non-null   float64\n",
    " - 40  Heating          2029 non-null   object \n",
    " - 41  Heating QC       2029 non-null   object \n",
    " - 42  Central Air      2029 non-null   object \n",
    " - 43  Electrical       2029 non-null   object \n",
    " - 44  1st Flr SF       2029 non-null   int64  \n",
    " - 45  2nd Flr SF       2029 non-null   int64  \n",
    " - 46  Low Qual Fin SF  2029 non-null   int64  \n",
    " - 47  Gr Liv Area      2029 non-null   int64  \n",
    " - 48  Bsmt Full Bath   2027 non-null   float64\n",
    " - 49  Bsmt Half Bath   2027 non-null   float64\n",
    " - 50  Full Bath        2029 non-null   int64  \n",
    " - 51  Half Bath        2029 non-null   int64  \n",
    " - 52  Bedroom AbvGr    2029 non-null   int64  \n",
    " - 53  Kitchen AbvGr    2029 non-null   int64  \n",
    " - 54  Kitchen Qual     2029 non-null   object \n",
    " - 55  TotRms AbvGrd    2029 non-null   int64  \n",
    " - 56  Functional       2029 non-null   object \n",
    " - 57  Fireplaces       2029 non-null   int64  \n",
    " - 58  Fireplace Qu     1051 non-null   object \n",
    " - 59  Garage Type      1924 non-null   object \n",
    " - 60  Garage Yr Blt    1923 non-null   float64\n",
    " - 61  Garage Finish    1923 non-null   object \n",
    " - 62  Garage Cars      2028 non-null   float64\n",
    " - 63  Garage Area      2028 non-null   float64\n",
    " - 64  Garage Qual      1923 non-null   object \n",
    " - 65  Garage Cond      1923 non-null   object \n",
    " - 66  Paved Drive      2029 non-null   object \n",
    " - 67  Wood Deck SF     2029 non-null   int64  \n",
    " - 68  Open Porch SF    2029 non-null   int64  \n",
    " - 69  Enclosed Porch   2029 non-null   int64  \n",
    " - 70  3Ssn Porch       2029 non-null   int64  \n",
    " - 71  Screen Porch     2029 non-null   int64  \n",
    " - 72  Pool Area        2029 non-null   int64  \n",
    " - 73  <span style=\"color:red\"> Pool QC          9 non-null      object ##exclude low count</span>\n",
    " - 74  Fence            397 non-null    object \n",
    " - 75  <span style=\"color:red\"> Misc Feature     64 non-null     object  ##exclude low count</span>\n",
    " -  76 <span style=\"color:red\"> Misc Val         2029 non-null   int64  ##exclude all zero</span>\n",
    " -  77  <span style=\"color:blue\"> Mo Sold          2029 non-null   int64  ##exclude, use FF: HouseAge</span>\n",
    " - 78  <span style=\"color:blue\"> Yr Sold          2029 non-null   int64  ##exclude, use FF: HouseAge</span>\n",
    " - 79  Sale Type        2029 non-null   object \n",
    " \n",
    " #### Target\n",
    " - 80  SalePrice        2029 non-null   int64  \n",
    "    \n",
    "</details>"
   ]
  },
  {
   "cell_type": "markdown",
   "id": "39fdf313",
   "metadata": {},
   "source": [
    "## Explore Data/Cleanup"
   ]
  },
  {
   "cell_type": "code",
   "execution_count": 74,
   "id": "3510c4e3",
   "metadata": {},
   "outputs": [
    {
     "data": {
      "text/plain": [
       "0        1965\n",
       "400        12\n",
       "500         8\n",
       "600         6\n",
       "450         5\n",
       "2000        5\n",
       "700         4\n",
       "1200        2\n",
       "3000        2\n",
       "2500        2\n",
       "4500        2\n",
       "17000       1\n",
       "1300        1\n",
       "1150        1\n",
       "1500        1\n",
       "800         1\n",
       "6500        1\n",
       "900         1\n",
       "460         1\n",
       "300         1\n",
       "455         1\n",
       "8300        1\n",
       "3500        1\n",
       "12500       1\n",
       "480         1\n",
       "650         1\n",
       "80          1\n",
       "Name: Misc Val, dtype: int64"
      ]
     },
     "execution_count": 74,
     "metadata": {},
     "output_type": "execute_result"
    }
   ],
   "source": [
    "#mostly zeroes.. can exclude\n",
    "df['Misc Val'].value_counts()"
   ]
  },
  {
   "cell_type": "code",
   "execution_count": 9,
   "id": "1e49ab17",
   "metadata": {},
   "outputs": [],
   "source": [
    "#001 Cleanup\n",
    "#drop columns where non-null is less than 10% of the data, which is 200 data points\n",
    "#Alley, Pool QC, Misc Feature\n",
    "\n",
    "df.drop(columns=[\"Alley\",\"Pool QC\",\"Misc Feature\",'Misc Val'], inplace=True)"
   ]
  },
  {
   "cell_type": "code",
   "execution_count": 26,
   "id": "b6191185",
   "metadata": {},
   "outputs": [],
   "source": [
    "#sns.pairplot(df)"
   ]
  },
  {
   "cell_type": "code",
   "execution_count": 49,
   "id": "6760a7fc",
   "metadata": {},
   "outputs": [
    {
     "data": {
      "image/png": "[encoded data removed]",
      "text/plain": [
       "<Figure size 432x288 with 2 Axes>"
      ]
     },
     "metadata": {},
     "output_type": "display_data"
    }
   ],
   "source": [
    "#From the description, find anything that is related to the size\n",
    "#as this is most probably have correlation with the Price\n",
    "\n",
    "correl = df[['Lot Area', '1st Flr SF', '2nd Flr SF', 'Gr Liv Area', 'Garage Area', 'SalePrice']].corr()\n",
    "mask = np.zeros_like(correl)\n",
    "mask[np.triu_indices_from(mask)] = True\n",
    "\n",
    "with sns.axes_style(\"white\"):\n",
    "    sns.heatmap(correl, mask=mask, square=True,annot=True, vmin=-1, vmax=1, linewidths = .5)"
   ]
  },
  {
   "cell_type": "markdown",
   "id": "d3a7325b",
   "metadata": {},
   "source": [
    "'Garage Area', 'Gr Liv Area' and '1st Flr SF' has the high correlation with SalePrice."
   ]
  },
  {
   "cell_type": "code",
   "execution_count": 50,
   "id": "2453515e",
   "metadata": {},
   "outputs": [
    {
     "data": {
      "image/png": "[encoded data removed]",
      "text/plain": [
       "<Figure size 432x288 with 1 Axes>"
      ]
     },
     "metadata": {
      "needs_background": "light"
     },
     "output_type": "display_data"
    }
   ],
   "source": [
    "#visualizing the highest correlation with 'SalePrice', 69% 'GR Liv Area'\n",
    "sns.regplot(x=\"Gr Liv Area\", y=\"SalePrice\", data=df).set_title('Sale Price vs Above grade (ground) living area square feet');"
   ]
  },
  {
   "cell_type": "markdown",
   "id": "97e16c9b",
   "metadata": {},
   "source": [
    "### MSZoning: Identifies the general zoning classification of the sale.\n",
    "  - A Agriculture\n",
    "  - C Commercial\n",
    "  - FV Floating Village Residentia\n",
    "  - I Industrial\n",
    "  - RH Residential High Density\n",
    "  - RL Residential Low Density\n",
    "  - RP Residential Low Density Park\n",
    "  - RM Residential Medium Density"
   ]
  },
  {
   "cell_type": "code",
   "execution_count": 16,
   "id": "c8c34728",
   "metadata": {},
   "outputs": [
    {
     "data": {
      "text/plain": [
       "RL         1598\n",
       "RM          316\n",
       "FV          101\n",
       "C (all)      19\n",
       "RH           14\n",
       "A (agr)       2\n",
       "I (all)       1\n",
       "Name: MS Zoning, dtype: int64"
      ]
     },
     "execution_count": 16,
     "metadata": {},
     "output_type": "execute_result"
    }
   ],
   "source": [
    "#check the value of the MS Zoning field\n",
    "df[\"MS Zoning\"].value_counts()"
   ]
  },
  {
   "cell_type": "code",
   "execution_count": 17,
   "id": "6b81f3bb",
   "metadata": {},
   "outputs": [
    {
     "data": {
      "text/plain": [
       "(2051, 81)"
      ]
     },
     "execution_count": 17,
     "metadata": {},
     "output_type": "execute_result"
    }
   ],
   "source": [
    "#chec the record count\n",
    "df.shape"
   ]
  },
  {
   "cell_type": "code",
   "execution_count": 18,
   "id": "2e0a1fa0",
   "metadata": {},
   "outputs": [],
   "source": [
    "#002 Cleanup\n",
    "#Incude only residential, remove all data with MSZoning = commercial, agriculture and industrias\n",
    "df = df[(df[\"MS Zoning\"] != 'C (all)') & (df[\"MS Zoning\"] != 'I (all)') & (df[\"MS Zoning\"] != 'A (agr)')]"
   ]
  },
  {
   "cell_type": "code",
   "execution_count": 19,
   "id": "3cae18ec",
   "metadata": {},
   "outputs": [
    {
     "data": {
      "text/plain": [
       "(2029, 81)"
      ]
     },
     "execution_count": 19,
     "metadata": {},
     "output_type": "execute_result"
    }
   ],
   "source": [
    "df.shape\n",
    "#22 records"
   ]
  },
  {
   "cell_type": "code",
   "execution_count": 61,
   "id": "8b081247",
   "metadata": {},
   "outputs": [
    {
     "data": {
      "text/plain": [
       "<matplotlib.collections.PathCollection at 0x7f840d32b700>"
      ]
     },
     "execution_count": 61,
     "metadata": {},
     "output_type": "execute_result"
    },
    {
     "data": {
      "image/png": "[encoded data removed]",
      "text/plain": [
       "<Figure size 432x288 with 1 Axes>"
      ]
     },
     "metadata": {
      "needs_background": "light"
     },
     "output_type": "display_data"
    }
   ],
   "source": [
    "#how can we rank\n",
    "plt.scatter(x=df[\"MS Zoning\"], y=df['SalePrice'])"
   ]
  },
  {
   "cell_type": "code",
   "execution_count": 63,
   "id": "dcb11078",
   "metadata": {},
   "outputs": [
    {
     "data": {
      "text/plain": [
       "MS Zoning\n",
       "FV    218618.316832\n",
       "RH    148859.571429\n",
       "RL    191235.164581\n",
       "RM    129119.142405\n",
       "Name: SalePrice, dtype: float64"
      ]
     },
     "execution_count": 63,
     "metadata": {},
     "output_type": "execute_result"
    }
   ],
   "source": [
    "df.groupby(by=\"MS Zoning\")['SalePrice'].mean()"
   ]
  },
  {
   "cell_type": "markdown",
   "id": "c498730d",
   "metadata": {},
   "source": [
    "## Feauture Engineering"
   ]
  },
  {
   "cell_type": "code",
   "execution_count": 64,
   "id": "3a80a1e6",
   "metadata": {},
   "outputs": [],
   "source": [
    "def zoning_rank(x):\n",
    "    if 'RM' in x:\n",
    "        return 1\n",
    "    elif 'RH' in x:\n",
    "        return 2\n",
    "    elif 'RL' in x:\n",
    "        return 3\n",
    "    elif 'FV' in x:\n",
    "        return 4\n",
    "    else:\n",
    "        return 0"
   ]
  },
  {
   "cell_type": "code",
   "execution_count": 81,
   "id": "7e7921e9",
   "metadata": {},
   "outputs": [],
   "source": [
    "def lotshape_rank(x):\n",
    "    if 'Reg' in x:\n",
    "        return 4\n",
    "    elif 'IR1' in x:\n",
    "        return 3\n",
    "    elif 'IR2' in x:\n",
    "        return 2\n",
    "    elif 'IR3' in x:\n",
    "        return 1\n",
    "    else:\n",
    "        return 0"
   ]
  },
  {
   "cell_type": "code",
   "execution_count": 119,
   "id": "366b2c9c",
   "metadata": {},
   "outputs": [],
   "source": [
    "def condition_quality_rank(x):\n",
    "    if pd.isna(x):\n",
    "        return 0\n",
    "    elif 'Ex' in x:\n",
    "        return 5\n",
    "    elif 'Gd' in x:\n",
    "        return 4\n",
    "    elif 'TA' in x:\n",
    "        return 3\n",
    "    elif 'Fa' in x:\n",
    "        return 2\n",
    "    elif 'Po' in x:\n",
    "        return 1\n",
    "    else:\n",
    "        0"
   ]
  },
  {
   "cell_type": "code",
   "execution_count": 120,
   "id": "efdb4119",
   "metadata": {},
   "outputs": [],
   "source": [
    "##based on the mean, rank the zone\n",
    "df['zone_dummy'] = df['MS Zoning'].map(zoning_rank)"
   ]
  },
  {
   "cell_type": "code",
   "execution_count": 121,
   "id": "734f1190",
   "metadata": {},
   "outputs": [
    {
     "data": {
      "text/plain": [
       "3    1598\n",
       "1     316\n",
       "4     101\n",
       "2      14\n",
       "Name: zone_dummy, dtype: int64"
      ]
     },
     "execution_count": 121,
     "metadata": {},
     "output_type": "execute_result"
    }
   ],
   "source": [
    "df['zone_dummy'].value_counts()"
   ]
  },
  {
   "cell_type": "code",
   "execution_count": 122,
   "id": "87a8dd8d",
   "metadata": {},
   "outputs": [],
   "source": [
    "##based on the irregularities, rank the lot shape\n",
    "df['lotshape_dummy'] = df['Lot Shape'].map(lotshape_rank)"
   ]
  },
  {
   "cell_type": "code",
   "execution_count": 123,
   "id": "57ab7ec1",
   "metadata": {},
   "outputs": [
    {
     "data": {
      "text/plain": [
       "4    1274\n",
       "3     691\n",
       "2      55\n",
       "1       9\n",
       "Name: lotshape_dummy, dtype: int64"
      ]
     },
     "execution_count": 123,
     "metadata": {},
     "output_type": "execute_result"
    }
   ],
   "source": [
    "df['lotshape_dummy'].value_counts()"
   ]
  },
  {
   "cell_type": "code",
   "execution_count": 155,
   "id": "5a98f154",
   "metadata": {},
   "outputs": [],
   "source": [
    "df['exterqual_dummy'] = df['Exter Qual'].map(condition_quality_rank)\n",
    "df['extercond_dummy'] = df['Exter Cond'].map(condition_quality_rank)\n",
    "df['bsmtqual_dummy'] = df['Bsmt Qual'].map(condition_quality_rank)\n",
    "df['bsmtcond_dummy'] = df['Bsmt Cond'].map(condition_quality_rank)\n",
    "df['heatqc_dummy'] = df['Heating QC'].map(condition_quality_rank)\n",
    "df['kitchenqual_dummy'] = df['Kitchen Qual'].map(condition_quality_rank)\n",
    "df['fireplacequal_dummy'] = df['Fireplace Qu'].map(condition_quality_rank)\n",
    "\n",
    "df['garagequal_dummy'] = df['Garage Qual'].map(condition_quality_rank)\n",
    "df['garagecond_dummy'] = df['Garage Cond'].map(condition_quality_rank)\n",
    "\n",
    "df['poolqual_dummy'] = df['Pool QC'].map(condition_quality_rank)"
   ]
  },
  {
   "cell_type": "code",
   "execution_count": 146,
   "id": "8588bba0",
   "metadata": {},
   "outputs": [],
   "source": [
    "#convert Y to 2 and  P to 1 and N to 0\n",
    "#PavedDrive: Paved driveway\n",
    "#Y Paved\n",
    "#P Partial Pavement\n",
    "#N Dirt/Gravel#\n",
    "\n",
    "df['paveddrive_dummy'] = df[\"Paved Drive\"].map({\"Y\":2,\"P\":1, \"N\":0 })"
   ]
  },
  {
   "cell_type": "code",
   "execution_count": 150,
   "id": "b634d69e",
   "metadata": {},
   "outputs": [],
   "source": [
    "#convert Y to 1 and  N to 0\n",
    "\n",
    "df['centralair_dummy'] = df[\"Central Air\"].map(lambda x: 1 if x=='Y' else 0)"
   ]
  },
  {
   "cell_type": "code",
   "execution_count": 151,
   "id": "0b9d7cd9",
   "metadata": {},
   "outputs": [
    {
     "data": {
      "text/plain": [
       "array(['Y', 'N'], dtype=object)"
      ]
     },
     "execution_count": 151,
     "metadata": {},
     "output_type": "execute_result"
    }
   ],
   "source": [
    "df[\"Central Air\"].unique()"
   ]
  },
  {
   "cell_type": "code",
   "execution_count": 152,
   "id": "43ae51e5",
   "metadata": {},
   "outputs": [],
   "source": [
    "#Age calculation based in Year it was sold and Year it was built\n",
    "df['HouseAge'] = df.apply(lambda x: x['Yr Sold']-x['Year Built'], axis=1)"
   ]
  },
  {
   "cell_type": "code",
   "execution_count": 153,
   "id": "2a53d17f",
   "metadata": {},
   "outputs": [
    {
     "data": {
      "text/html": [
       "<div>\n",
       "<style scoped>\n",
       "    .dataframe tbody tr th:only-of-type {\n",
       "        vertical-align: middle;\n",
       "    }\n",
       "\n",
       "    .dataframe tbody tr th {\n",
       "        vertical-align: top;\n",
       "    }\n",
       "\n",
       "    .dataframe thead th {\n",
       "        text-align: right;\n",
       "    }\n",
       "</style>\n",
       "<table border=\"1\" class=\"dataframe\">\n",
       "  <thead>\n",
       "    <tr style=\"text-align: right;\">\n",
       "      <th></th>\n",
       "      <th>Yr Sold</th>\n",
       "      <th>Year Built</th>\n",
       "      <th>Year Remod/Add</th>\n",
       "      <th>HouseAge</th>\n",
       "    </tr>\n",
       "  </thead>\n",
       "  <tbody>\n",
       "    <tr>\n",
       "      <th>0</th>\n",
       "      <td>2010</td>\n",
       "      <td>1976</td>\n",
       "      <td>2005</td>\n",
       "      <td>34</td>\n",
       "    </tr>\n",
       "    <tr>\n",
       "      <th>1</th>\n",
       "      <td>2009</td>\n",
       "      <td>1996</td>\n",
       "      <td>1997</td>\n",
       "      <td>13</td>\n",
       "    </tr>\n",
       "    <tr>\n",
       "      <th>2</th>\n",
       "      <td>2010</td>\n",
       "      <td>1953</td>\n",
       "      <td>2007</td>\n",
       "      <td>57</td>\n",
       "    </tr>\n",
       "    <tr>\n",
       "      <th>3</th>\n",
       "      <td>2010</td>\n",
       "      <td>2006</td>\n",
       "      <td>2007</td>\n",
       "      <td>4</td>\n",
       "    </tr>\n",
       "    <tr>\n",
       "      <th>4</th>\n",
       "      <td>2010</td>\n",
       "      <td>1900</td>\n",
       "      <td>1993</td>\n",
       "      <td>110</td>\n",
       "    </tr>\n",
       "  </tbody>\n",
       "</table>\n",
       "</div>"
      ],
      "text/plain": [
       "   Yr Sold  Year Built  Year Remod/Add  HouseAge\n",
       "0     2010        1976            2005        34\n",
       "1     2009        1996            1997        13\n",
       "2     2010        1953            2007        57\n",
       "3     2010        2006            2007         4\n",
       "4     2010        1900            1993       110"
      ]
     },
     "execution_count": 153,
     "metadata": {},
     "output_type": "execute_result"
    }
   ],
   "source": [
    "df[['Yr Sold', 'Year Built', 'Year Remod/Add', 'HouseAge']].head()"
   ]
  },
  {
   "cell_type": "markdown",
   "id": "3cbba2e3",
   "metadata": {},
   "source": [
    "#dummify the following fields related to condition\n",
    "MSZoning -done\n",
    "Lot Shape -done\n",
    "Land Contour\n",
    "Bldg Type\n",
    "House Style\n",
    "Exterior 1st\n",
    "Exterior 2nd\n",
    "Condition1\n",
    "Condition2\n",
    "ExterQual -done\n",
    "ExterCond -done\n",
    "Bsmt Qual -done\n",
    "Bsmt Cond -done\n",
    "Bsmt Exposure\n",
    "BsmtFin Type 1\n",
    "BsmtFin Type 2\n",
    "Heating QC\n",
    "Foundation\n",
    "HeatingQC\n",
    "CentralAir\n",
    "KitchenQual\n",
    "FireplaceQu\n",
    "Garage Type\n",
    "GarageQual -done\n",
    "GarageCond -done\n",
    "PavedDrive \n",
    "PoolQC -done\n",
    "Fence\n",
    "Electrical\n",
    "Garage Finish\n",
    "Sale Type"
   ]
  },
  {
   "cell_type": "code",
   "execution_count": 28,
   "id": "41a3ed7b",
   "metadata": {},
   "outputs": [
    {
     "data": {
      "text/plain": [
       "RL    1598\n",
       "RM     316\n",
       "FV     101\n",
       "RH      14\n",
       "Name: MS Zoning, dtype: int64"
      ]
     },
     "execution_count": 28,
     "metadata": {},
     "output_type": "execute_result"
    }
   ],
   "source": [
    "df['MS Zoning'].value_counts()"
   ]
  },
  {
   "cell_type": "markdown",
   "id": "c679387f",
   "metadata": {},
   "source": [
    "col_train=['MS SubClass', 'Lot Area','Overall Qual','Overall Cond','Year Built', 'Year Remod/Add',\n",
    "     'BsmtFin SF 1', 'BsmtFin SF 2', 'Bsmt Unf SF','Total Bsmt SF','1st Flr SF','2nd Flr SF',\n",
    "      'Low Qual Fin SF','Gr Liv Area','Bsmt Full Bath','Bsmt Half Bath','Full Bath',\n",
    "      'Half Bath','Bedroom AbvGr','Kitchen AbvGr','TotRms AbvGrd','Fireplaces',\n",
    "      'Garage Cars', 'Garage Area','Wood Deck SF','Open Porch SF','Enclosed Porch','3Ssn Porch',\n",
    "      'Screen Porch','Pool Area','Mo Sold','Yr Sold','SalePrice','HouseAge']"
   ]
  },
  {
   "cell_type": "code",
   "execution_count": 295,
   "id": "be012aa0",
   "metadata": {},
   "outputs": [],
   "source": [
    "col_train=['MS SubClass', 'Lot Area','Overall Qual','Overall Cond',\n",
    "     'BsmtFin SF 1', 'BsmtFin SF 2', 'Bsmt Unf SF','Total Bsmt SF','1st Flr SF','2nd Flr SF',\n",
    "      'Low Qual Fin SF','Gr Liv Area','Bsmt Full Bath','Bsmt Half Bath','Full Bath',\n",
    "      'Half Bath','Bedroom AbvGr','Kitchen AbvGr','TotRms AbvGrd','Fireplaces',\n",
    "      'Garage Cars', 'Garage Area','Wood Deck SF','Open Porch SF','Enclosed Porch','3Ssn Porch',\n",
    "      'Screen Porch','Pool Area','SalePrice','HouseAge', 'zone_dummy','lotshape_dummy',\n",
    "       'exterqual_dummy', 'extercond_dummy','bsmtqual_dummy','bsmtcond_dummy', 'heatqc_dummy',\n",
    "        'kitchenqual_dummy','fireplacequal_dummy',\n",
    "      'garagequal_dummy','garagecond_dummy','paveddrive_dummy','centralair_dummy','poolqual_dummy']\n"
   ]
  },
  {
   "cell_type": "code",
   "execution_count": 296,
   "id": "2280b96d",
   "metadata": {},
   "outputs": [
    {
     "data": {
      "text/plain": [
       "(2029, 44)"
      ]
     },
     "execution_count": 296,
     "metadata": {},
     "output_type": "execute_result"
    }
   ],
   "source": [
    "df[col_train].shape"
   ]
  },
  {
   "cell_type": "code",
   "execution_count": 308,
   "id": "eb5be3da",
   "metadata": {},
   "outputs": [],
   "source": [
    "df_select = df[col_train]"
   ]
  },
  {
   "cell_type": "markdown",
   "id": "bb342f2c",
   "metadata": {},
   "source": [
    "'zone_dummy','lotshape_dummy',\n",
    "       'exterqual_dummy', 'extercond_dummy','bsmtqual_dummy','bsmtcond_dummy', 'heatqc_dummy',\n",
    "        'kitchenqual_dummy','garagequal_dummy','fireplacequal_dummy',\n",
    "      'garagequal_dummy','garagecond_dummy','paveddrive_dummy','centralair_dummy','poolqual_dummy'"
   ]
  },
  {
   "cell_type": "code",
   "execution_count": 299,
   "id": "12ea1106",
   "metadata": {},
   "outputs": [
    {
     "data": {
      "text/html": [
       "<div>\n",
       "<style scoped>\n",
       "    .dataframe tbody tr th:only-of-type {\n",
       "        vertical-align: middle;\n",
       "    }\n",
       "\n",
       "    .dataframe tbody tr th {\n",
       "        vertical-align: top;\n",
       "    }\n",
       "\n",
       "    .dataframe thead th {\n",
       "        text-align: right;\n",
       "    }\n",
       "</style>\n",
       "<table border=\"1\" class=\"dataframe\">\n",
       "  <thead>\n",
       "    <tr style=\"text-align: right;\">\n",
       "      <th></th>\n",
       "      <th>SalePrice</th>\n",
       "      <th>poolqual_dummy</th>\n",
       "    </tr>\n",
       "  </thead>\n",
       "  <tbody>\n",
       "    <tr>\n",
       "      <th>SalePrice</th>\n",
       "      <td>1.00000</td>\n",
       "      <td>0.02865</td>\n",
       "    </tr>\n",
       "    <tr>\n",
       "      <th>poolqual_dummy</th>\n",
       "      <td>0.02865</td>\n",
       "      <td>1.00000</td>\n",
       "    </tr>\n",
       "  </tbody>\n",
       "</table>\n",
       "</div>"
      ],
      "text/plain": [
       "                SalePrice  poolqual_dummy\n",
       "SalePrice         1.00000         0.02865\n",
       "poolqual_dummy    0.02865         1.00000"
      ]
     },
     "execution_count": 299,
     "metadata": {},
     "output_type": "execute_result"
    }
   ],
   "source": [
    "df_select[['SalePrice','poolqual_dummy']].corr()\n",
    "\n"
   ]
  },
  {
   "cell_type": "code",
   "execution_count": 300,
   "id": "ab1a85af",
   "metadata": {},
   "outputs": [
    {
     "data": {
      "text/plain": [
       "MS SubClass            0\n",
       "Lot Area               0\n",
       "Overall Qual           0\n",
       "Overall Cond           0\n",
       "BsmtFin SF 1           1\n",
       "BsmtFin SF 2           1\n",
       "Bsmt Unf SF            1\n",
       "Total Bsmt SF          1\n",
       "1st Flr SF             0\n",
       "2nd Flr SF             0\n",
       "Low Qual Fin SF        0\n",
       "Gr Liv Area            0\n",
       "Bsmt Full Bath         2\n",
       "Bsmt Half Bath         2\n",
       "Full Bath              0\n",
       "Half Bath              0\n",
       "Bedroom AbvGr          0\n",
       "Kitchen AbvGr          0\n",
       "TotRms AbvGrd          0\n",
       "Fireplaces             0\n",
       "Garage Cars            1\n",
       "Garage Area            1\n",
       "Wood Deck SF           0\n",
       "Open Porch SF          0\n",
       "Enclosed Porch         0\n",
       "3Ssn Porch             0\n",
       "Screen Porch           0\n",
       "Pool Area              0\n",
       "SalePrice              0\n",
       "HouseAge               0\n",
       "zone_dummy             0\n",
       "lotshape_dummy         0\n",
       "exterqual_dummy        0\n",
       "extercond_dummy        0\n",
       "bsmtqual_dummy         0\n",
       "bsmtcond_dummy         0\n",
       "heatqc_dummy           0\n",
       "kitchenqual_dummy      0\n",
       "fireplacequal_dummy    0\n",
       "garagequal_dummy       0\n",
       "garagecond_dummy       0\n",
       "paveddrive_dummy       0\n",
       "centralair_dummy       0\n",
       "poolqual_dummy         0\n",
       "dtype: int64"
      ]
     },
     "execution_count": 300,
     "metadata": {},
     "output_type": "execute_result"
    }
   ],
   "source": [
    "df_select.isnull().sum()"
   ]
  },
  {
   "cell_type": "code",
   "execution_count": 301,
   "id": "e2468f7e",
   "metadata": {},
   "outputs": [
    {
     "name": "stderr",
     "output_type": "stream",
     "text": [
      "/opt/anaconda3/lib/python3.8/site-packages/pandas/util/_decorators.py:311: SettingWithCopyWarning: \n",
      "A value is trying to be set on a copy of a slice from a DataFrame\n",
      "\n",
      "See the caveats in the documentation: https://pandas.pydata.org/pandas-docs/stable/user_guide/indexing.html#returning-a-view-versus-a-copy\n",
      "  return func(*args, **kwargs)\n"
     ]
    }
   ],
   "source": [
    "df_select.dropna(inplace=True)"
   ]
  },
  {
   "cell_type": "code",
   "execution_count": 302,
   "id": "14a94798",
   "metadata": {},
   "outputs": [
    {
     "data": {
      "text/plain": [
       "(2026, 44)"
      ]
     },
     "execution_count": 302,
     "metadata": {},
     "output_type": "execute_result"
    }
   ],
   "source": [
    "df_select.shape"
   ]
  },
  {
   "cell_type": "code",
   "execution_count": 303,
   "id": "f654f402",
   "metadata": {},
   "outputs": [],
   "source": [
    "X=df_select.drop(columns='SalePrice')\n",
    "y=df_select['SalePrice']"
   ]
  },
  {
   "cell_type": "code",
   "execution_count": 304,
   "id": "a95f0a18",
   "metadata": {},
   "outputs": [],
   "source": [
    "#split the data\n",
    "X_train, X_test, y_train, y_test = train_test_split(X,y, random_state=42)"
   ]
  },
  {
   "cell_type": "code",
   "execution_count": 305,
   "id": "9e7d5d56",
   "metadata": {},
   "outputs": [
    {
     "data": {
      "text/plain": [
       "LinearRegression()"
      ]
     },
     "execution_count": 305,
     "metadata": {},
     "output_type": "execute_result"
    }
   ],
   "source": [
    "lr = LinearRegression()\n",
    "lr.fit(X_train, y_train)"
   ]
  },
  {
   "cell_type": "code",
   "execution_count": 306,
   "id": "491c4b94",
   "metadata": {},
   "outputs": [
    {
     "data": {
      "text/plain": [
       "0.8351052200117013"
      ]
     },
     "execution_count": 306,
     "metadata": {},
     "output_type": "execute_result"
    }
   ],
   "source": [
    "lr.score(X_train, y_train)"
   ]
  },
  {
   "cell_type": "code",
   "execution_count": 307,
   "id": "c65b03bc",
   "metadata": {},
   "outputs": [
    {
     "data": {
      "text/plain": [
       "0.8724869175004176"
      ]
     },
     "execution_count": 307,
     "metadata": {},
     "output_type": "execute_result"
    }
   ],
   "source": [
    "lr.score(X_test, y_test)"
   ]
  },
  {
   "cell_type": "markdown",
   "id": "5846d88f",
   "metadata": {},
   "source": [
    "## Evaluate Model"
   ]
  },
  {
   "cell_type": "code",
   "execution_count": 245,
   "id": "e196c5da",
   "metadata": {},
   "outputs": [],
   "source": [
    "df_test = pd.read_csv(\"../datasets/test.csv\")"
   ]
  },
  {
   "cell_type": "code",
   "execution_count": 246,
   "id": "27021045",
   "metadata": {},
   "outputs": [],
   "source": [
    "#df_test.info()"
   ]
  },
  {
   "cell_type": "code",
   "execution_count": 247,
   "id": "b508abb1",
   "metadata": {},
   "outputs": [],
   "source": [
    "df_test['zone_dummy'] = df_test['MS Zoning'].map(zoning_rank)"
   ]
  },
  {
   "cell_type": "code",
   "execution_count": 248,
   "id": "65910c77",
   "metadata": {},
   "outputs": [],
   "source": [
    "df_test['lotshape_dummy'] = df_test['Lot Shape'].map(lotshape_rank)"
   ]
  },
  {
   "cell_type": "code",
   "execution_count": 249,
   "id": "a13715a6",
   "metadata": {},
   "outputs": [],
   "source": [
    "df_test['exterqual_dummy'] = df_test['Exter Qual'].map(condition_quality_rank)\n",
    "df_test['extercond_dummy'] = df_test['Exter Cond'].map(condition_quality_rank)\n",
    "df_test['bsmtqual_dummy'] = df_test['Bsmt Qual'].map(condition_quality_rank)\n",
    "df_test['bsmtcond_dummy'] = df_test['Bsmt Cond'].map(condition_quality_rank)\n",
    "df_test['heatqc_dummy'] = df_test['Heating QC'].map(condition_quality_rank)\n",
    "df_test['kitchenqual_dummy'] = df_test['Kitchen Qual'].map(condition_quality_rank)\n",
    "df_test['fireplacequal_dummy'] = df_test['Fireplace Qu'].map(condition_quality_rank)\n",
    "\n",
    "df_test['garagequal_dummy'] = df_test['Garage Qual'].map(condition_quality_rank)\n",
    "df_test['garagecond_dummy'] = df_test['Garage Cond'].map(condition_quality_rank)\n",
    "\n",
    "df_test['poolqual_dummy'] = df_test['Pool QC'].map(condition_quality_rank)"
   ]
  },
  {
   "cell_type": "code",
   "execution_count": 250,
   "id": "7213204f",
   "metadata": {},
   "outputs": [],
   "source": [
    "df_test['paveddrive_dummy'] = df_test[\"Paved Drive\"].map({\"Y\":2,\"P\":1, \"N\":0 })"
   ]
  },
  {
   "cell_type": "code",
   "execution_count": 251,
   "id": "08e7ccc4",
   "metadata": {},
   "outputs": [],
   "source": [
    "df_test['centralair_dummy'] = df_test[\"Central Air\"].map(lambda x: 1 if x=='Y' else 0)"
   ]
  },
  {
   "cell_type": "code",
   "execution_count": 252,
   "id": "22503c69",
   "metadata": {},
   "outputs": [],
   "source": [
    "df_test['HouseAge'] = df_test['Yr Sold'] - df_test['Year Built']"
   ]
  },
  {
   "cell_type": "code",
   "execution_count": 309,
   "id": "4ad30381",
   "metadata": {},
   "outputs": [],
   "source": [
    "col_test=['Id','MS SubClass', 'Lot Area','Overall Qual','Overall Cond',\n",
    "     'BsmtFin SF 1', 'BsmtFin SF 2', 'Bsmt Unf SF','Total Bsmt SF','1st Flr SF','2nd Flr SF',\n",
    "      'Low Qual Fin SF','Gr Liv Area','Bsmt Full Bath','Bsmt Half Bath','Full Bath',\n",
    "      'Half Bath','Bedroom AbvGr','Kitchen AbvGr','TotRms AbvGrd','Fireplaces',\n",
    "      'Garage Cars', 'Garage Area','Wood Deck SF','Open Porch SF','Enclosed Porch','3Ssn Porch',\n",
    "      'Screen Porch','Pool Area','HouseAge', 'zone_dummy','lotshape_dummy',\n",
    "       'exterqual_dummy', 'extercond_dummy','bsmtqual_dummy','bsmtcond_dummy', 'heatqc_dummy',\n",
    "       'kitchenqual_dummy','fireplacequal_dummy',\n",
    "      'garagequal_dummy','garagecond_dummy','paveddrive_dummy','centralair_dummy','poolqual_dummy']"
   ]
  },
  {
   "cell_type": "markdown",
   "id": "a8516082",
   "metadata": {},
   "source": [
    "col_test=['Id','MS SubClass', 'Lot Area','Overall Qual','Overall Cond','Year Built', 'Year Remod/Add',\n",
    "     'BsmtFin SF 1', 'BsmtFin SF 2', 'Bsmt Unf SF','Total Bsmt SF','1st Flr SF','2nd Flr SF',\n",
    "      'Low Qual Fin SF','Gr Liv Area','Bsmt Full Bath','Bsmt Half Bath','Full Bath',\n",
    "      'Half Bath','Bedroom AbvGr','Kitchen AbvGr','TotRms AbvGrd','Fireplaces',\n",
    "      'Garage Cars', 'Garage Area','Wood Deck SF','Open Porch SF','Enclosed Porch','3Ssn Porch',\n",
    "      'Screen Porch','Pool Area','Mo Sold','Yr Sold']"
   ]
  },
  {
   "cell_type": "code",
   "execution_count": 310,
   "id": "d83fb221",
   "metadata": {},
   "outputs": [],
   "source": [
    "df_test_select = df_test[col_test]"
   ]
  },
  {
   "cell_type": "code",
   "execution_count": 311,
   "id": "0cc7bc1c",
   "metadata": {},
   "outputs": [
    {
     "data": {
      "text/plain": [
       "Id                     0\n",
       "MS SubClass            0\n",
       "Lot Area               0\n",
       "Overall Qual           0\n",
       "Overall Cond           0\n",
       "BsmtFin SF 1           0\n",
       "BsmtFin SF 2           0\n",
       "Bsmt Unf SF            0\n",
       "Total Bsmt SF          0\n",
       "1st Flr SF             0\n",
       "2nd Flr SF             0\n",
       "Low Qual Fin SF        0\n",
       "Gr Liv Area            0\n",
       "Bsmt Full Bath         0\n",
       "Bsmt Half Bath         0\n",
       "Full Bath              0\n",
       "Half Bath              0\n",
       "Bedroom AbvGr          0\n",
       "Kitchen AbvGr          0\n",
       "TotRms AbvGrd          0\n",
       "Fireplaces             0\n",
       "Garage Cars            0\n",
       "Garage Area            0\n",
       "Wood Deck SF           0\n",
       "Open Porch SF          0\n",
       "Enclosed Porch         0\n",
       "3Ssn Porch             0\n",
       "Screen Porch           0\n",
       "Pool Area              0\n",
       "HouseAge               0\n",
       "zone_dummy             0\n",
       "lotshape_dummy         0\n",
       "exterqual_dummy        0\n",
       "extercond_dummy        0\n",
       "bsmtqual_dummy         0\n",
       "bsmtcond_dummy         0\n",
       "heatqc_dummy           0\n",
       "kitchenqual_dummy      0\n",
       "fireplacequal_dummy    0\n",
       "garagequal_dummy       0\n",
       "garagecond_dummy       0\n",
       "paveddrive_dummy       0\n",
       "centralair_dummy       0\n",
       "poolqual_dummy         0\n",
       "dtype: int64"
      ]
     },
     "execution_count": 311,
     "metadata": {},
     "output_type": "execute_result"
    }
   ],
   "source": [
    "df_test_select.isnull().sum()"
   ]
  },
  {
   "cell_type": "code",
   "execution_count": 312,
   "id": "b9b04844",
   "metadata": {},
   "outputs": [
    {
     "data": {
      "text/plain": [
       "(878, 44)"
      ]
     },
     "execution_count": 312,
     "metadata": {},
     "output_type": "execute_result"
    }
   ],
   "source": [
    "df_test_select.shape"
   ]
  },
  {
   "cell_type": "code",
   "execution_count": 313,
   "id": "56ed9f9d",
   "metadata": {},
   "outputs": [
    {
     "data": {
      "text/plain": [
       "(878, 43)"
      ]
     },
     "execution_count": 313,
     "metadata": {},
     "output_type": "execute_result"
    }
   ],
   "source": [
    "df_test_select.drop(columns='Id').shape"
   ]
  },
  {
   "cell_type": "code",
   "execution_count": 266,
   "id": "c69be04d",
   "metadata": {},
   "outputs": [
    {
     "name": "stderr",
     "output_type": "stream",
     "text": [
      "<ipython-input-266-996d98c32adb>:1: SettingWithCopyWarning: \n",
      "A value is trying to be set on a copy of a slice from a DataFrame.\n",
      "Try using .loc[row_indexer,col_indexer] = value instead\n",
      "\n",
      "See the caveats in the documentation: https://pandas.pydata.org/pandas-docs/stable/user_guide/indexing.html#returning-a-view-versus-a-copy\n",
      "  df_test_select['SalePrice'] = lr.predict(df_test_select.drop(columns='Id'))\n"
     ]
    }
   ],
   "source": [
    "df_test_select['SalePrice'] = lr.predict(df_test_select.drop(columns='Id'))"
   ]
  },
  {
   "cell_type": "code",
   "execution_count": 267,
   "id": "aa77a51d",
   "metadata": {},
   "outputs": [
    {
     "data": {
      "text/html": [
       "<div>\n",
       "<style scoped>\n",
       "    .dataframe tbody tr th:only-of-type {\n",
       "        vertical-align: middle;\n",
       "    }\n",
       "\n",
       "    .dataframe tbody tr th {\n",
       "        vertical-align: top;\n",
       "    }\n",
       "\n",
       "    .dataframe thead th {\n",
       "        text-align: right;\n",
       "    }\n",
       "</style>\n",
       "<table border=\"1\" class=\"dataframe\">\n",
       "  <thead>\n",
       "    <tr style=\"text-align: right;\">\n",
       "      <th></th>\n",
       "      <th>Id</th>\n",
       "      <th>MS SubClass</th>\n",
       "      <th>Lot Area</th>\n",
       "      <th>Overall Qual</th>\n",
       "      <th>Overall Cond</th>\n",
       "      <th>BsmtFin SF 1</th>\n",
       "      <th>BsmtFin SF 2</th>\n",
       "      <th>Bsmt Unf SF</th>\n",
       "      <th>Total Bsmt SF</th>\n",
       "      <th>1st Flr SF</th>\n",
       "      <th>2nd Flr SF</th>\n",
       "      <th>Low Qual Fin SF</th>\n",
       "      <th>Gr Liv Area</th>\n",
       "      <th>Bsmt Full Bath</th>\n",
       "      <th>Bsmt Half Bath</th>\n",
       "      <th>Full Bath</th>\n",
       "      <th>Half Bath</th>\n",
       "      <th>Bedroom AbvGr</th>\n",
       "      <th>Kitchen AbvGr</th>\n",
       "      <th>TotRms AbvGrd</th>\n",
       "      <th>Fireplaces</th>\n",
       "      <th>Garage Cars</th>\n",
       "      <th>Garage Area</th>\n",
       "      <th>Wood Deck SF</th>\n",
       "      <th>Open Porch SF</th>\n",
       "      <th>Enclosed Porch</th>\n",
       "      <th>3Ssn Porch</th>\n",
       "      <th>Screen Porch</th>\n",
       "      <th>Pool Area</th>\n",
       "      <th>HouseAge</th>\n",
       "      <th>zone_dummy</th>\n",
       "      <th>lotshape_dummy</th>\n",
       "      <th>exterqual_dummy</th>\n",
       "      <th>extercond_dummy</th>\n",
       "      <th>bsmtqual_dummy</th>\n",
       "      <th>bsmtcond_dummy</th>\n",
       "      <th>heatqc_dummy</th>\n",
       "      <th>kitchenqual_dummy</th>\n",
       "      <th>garagequal_dummy</th>\n",
       "      <th>fireplacequal_dummy</th>\n",
       "      <th>garagequal_dummy</th>\n",
       "      <th>garagecond_dummy</th>\n",
       "      <th>paveddrive_dummy</th>\n",
       "      <th>centralair_dummy</th>\n",
       "      <th>poolqual_dummy</th>\n",
       "      <th>SalePrice</th>\n",
       "    </tr>\n",
       "  </thead>\n",
       "  <tbody>\n",
       "    <tr>\n",
       "      <th>0</th>\n",
       "      <td>2658</td>\n",
       "      <td>190</td>\n",
       "      <td>9142</td>\n",
       "      <td>6</td>\n",
       "      <td>8</td>\n",
       "      <td>0</td>\n",
       "      <td>0</td>\n",
       "      <td>1020</td>\n",
       "      <td>1020</td>\n",
       "      <td>908</td>\n",
       "      <td>1020</td>\n",
       "      <td>0</td>\n",
       "      <td>1928</td>\n",
       "      <td>0</td>\n",
       "      <td>0</td>\n",
       "      <td>2</td>\n",
       "      <td>0</td>\n",
       "      <td>4</td>\n",
       "      <td>2</td>\n",
       "      <td>9</td>\n",
       "      <td>0</td>\n",
       "      <td>1</td>\n",
       "      <td>440</td>\n",
       "      <td>0</td>\n",
       "      <td>60</td>\n",
       "      <td>112</td>\n",
       "      <td>0</td>\n",
       "      <td>0</td>\n",
       "      <td>0</td>\n",
       "      <td>96</td>\n",
       "      <td>1</td>\n",
       "      <td>4</td>\n",
       "      <td>3</td>\n",
       "      <td>2</td>\n",
       "      <td>2</td>\n",
       "      <td>3</td>\n",
       "      <td>4</td>\n",
       "      <td>2</td>\n",
       "      <td>1</td>\n",
       "      <td>0</td>\n",
       "      <td>1</td>\n",
       "      <td>1</td>\n",
       "      <td>2</td>\n",
       "      <td>0</td>\n",
       "      <td>0</td>\n",
       "      <td>124883.863883</td>\n",
       "    </tr>\n",
       "    <tr>\n",
       "      <th>1</th>\n",
       "      <td>2718</td>\n",
       "      <td>90</td>\n",
       "      <td>9662</td>\n",
       "      <td>5</td>\n",
       "      <td>4</td>\n",
       "      <td>0</td>\n",
       "      <td>0</td>\n",
       "      <td>1967</td>\n",
       "      <td>1967</td>\n",
       "      <td>1967</td>\n",
       "      <td>0</td>\n",
       "      <td>0</td>\n",
       "      <td>1967</td>\n",
       "      <td>0</td>\n",
       "      <td>0</td>\n",
       "      <td>2</td>\n",
       "      <td>0</td>\n",
       "      <td>6</td>\n",
       "      <td>2</td>\n",
       "      <td>10</td>\n",
       "      <td>0</td>\n",
       "      <td>2</td>\n",
       "      <td>580</td>\n",
       "      <td>170</td>\n",
       "      <td>0</td>\n",
       "      <td>0</td>\n",
       "      <td>0</td>\n",
       "      <td>0</td>\n",
       "      <td>0</td>\n",
       "      <td>29</td>\n",
       "      <td>3</td>\n",
       "      <td>3</td>\n",
       "      <td>3</td>\n",
       "      <td>3</td>\n",
       "      <td>4</td>\n",
       "      <td>3</td>\n",
       "      <td>3</td>\n",
       "      <td>3</td>\n",
       "      <td>3</td>\n",
       "      <td>0</td>\n",
       "      <td>3</td>\n",
       "      <td>3</td>\n",
       "      <td>2</td>\n",
       "      <td>1</td>\n",
       "      <td>0</td>\n",
       "      <td>154162.684826</td>\n",
       "    </tr>\n",
       "    <tr>\n",
       "      <th>2</th>\n",
       "      <td>2414</td>\n",
       "      <td>60</td>\n",
       "      <td>17104</td>\n",
       "      <td>7</td>\n",
       "      <td>5</td>\n",
       "      <td>554</td>\n",
       "      <td>0</td>\n",
       "      <td>100</td>\n",
       "      <td>654</td>\n",
       "      <td>664</td>\n",
       "      <td>832</td>\n",
       "      <td>0</td>\n",
       "      <td>1496</td>\n",
       "      <td>1</td>\n",
       "      <td>0</td>\n",
       "      <td>2</td>\n",
       "      <td>1</td>\n",
       "      <td>3</td>\n",
       "      <td>1</td>\n",
       "      <td>7</td>\n",
       "      <td>1</td>\n",
       "      <td>2</td>\n",
       "      <td>426</td>\n",
       "      <td>100</td>\n",
       "      <td>24</td>\n",
       "      <td>0</td>\n",
       "      <td>0</td>\n",
       "      <td>0</td>\n",
       "      <td>0</td>\n",
       "      <td>0</td>\n",
       "      <td>3</td>\n",
       "      <td>3</td>\n",
       "      <td>4</td>\n",
       "      <td>3</td>\n",
       "      <td>4</td>\n",
       "      <td>4</td>\n",
       "      <td>5</td>\n",
       "      <td>4</td>\n",
       "      <td>3</td>\n",
       "      <td>4</td>\n",
       "      <td>3</td>\n",
       "      <td>3</td>\n",
       "      <td>2</td>\n",
       "      <td>1</td>\n",
       "      <td>0</td>\n",
       "      <td>225669.285912</td>\n",
       "    </tr>\n",
       "    <tr>\n",
       "      <th>3</th>\n",
       "      <td>1989</td>\n",
       "      <td>30</td>\n",
       "      <td>8520</td>\n",
       "      <td>5</td>\n",
       "      <td>6</td>\n",
       "      <td>0</td>\n",
       "      <td>0</td>\n",
       "      <td>968</td>\n",
       "      <td>968</td>\n",
       "      <td>968</td>\n",
       "      <td>0</td>\n",
       "      <td>0</td>\n",
       "      <td>968</td>\n",
       "      <td>0</td>\n",
       "      <td>0</td>\n",
       "      <td>1</td>\n",
       "      <td>0</td>\n",
       "      <td>2</td>\n",
       "      <td>1</td>\n",
       "      <td>5</td>\n",
       "      <td>0</td>\n",
       "      <td>2</td>\n",
       "      <td>480</td>\n",
       "      <td>0</td>\n",
       "      <td>0</td>\n",
       "      <td>184</td>\n",
       "      <td>0</td>\n",
       "      <td>0</td>\n",
       "      <td>0</td>\n",
       "      <td>84</td>\n",
       "      <td>1</td>\n",
       "      <td>4</td>\n",
       "      <td>4</td>\n",
       "      <td>3</td>\n",
       "      <td>3</td>\n",
       "      <td>3</td>\n",
       "      <td>3</td>\n",
       "      <td>3</td>\n",
       "      <td>2</td>\n",
       "      <td>0</td>\n",
       "      <td>2</td>\n",
       "      <td>3</td>\n",
       "      <td>0</td>\n",
       "      <td>1</td>\n",
       "      <td>0</td>\n",
       "      <td>111907.258503</td>\n",
       "    </tr>\n",
       "    <tr>\n",
       "      <th>4</th>\n",
       "      <td>625</td>\n",
       "      <td>20</td>\n",
       "      <td>9500</td>\n",
       "      <td>6</td>\n",
       "      <td>5</td>\n",
       "      <td>609</td>\n",
       "      <td>0</td>\n",
       "      <td>785</td>\n",
       "      <td>1394</td>\n",
       "      <td>1394</td>\n",
       "      <td>0</td>\n",
       "      <td>0</td>\n",
       "      <td>1394</td>\n",
       "      <td>1</td>\n",
       "      <td>0</td>\n",
       "      <td>1</td>\n",
       "      <td>1</td>\n",
       "      <td>3</td>\n",
       "      <td>1</td>\n",
       "      <td>6</td>\n",
       "      <td>2</td>\n",
       "      <td>2</td>\n",
       "      <td>514</td>\n",
       "      <td>0</td>\n",
       "      <td>76</td>\n",
       "      <td>0</td>\n",
       "      <td>0</td>\n",
       "      <td>185</td>\n",
       "      <td>0</td>\n",
       "      <td>46</td>\n",
       "      <td>3</td>\n",
       "      <td>3</td>\n",
       "      <td>3</td>\n",
       "      <td>3</td>\n",
       "      <td>4</td>\n",
       "      <td>3</td>\n",
       "      <td>4</td>\n",
       "      <td>3</td>\n",
       "      <td>3</td>\n",
       "      <td>4</td>\n",
       "      <td>3</td>\n",
       "      <td>3</td>\n",
       "      <td>2</td>\n",
       "      <td>1</td>\n",
       "      <td>0</td>\n",
       "      <td>193930.684691</td>\n",
       "    </tr>\n",
       "  </tbody>\n",
       "</table>\n",
       "</div>"
      ],
      "text/plain": [
       "     Id  MS SubClass  Lot Area  Overall Qual  Overall Cond  BsmtFin SF 1  \\\n",
       "0  2658          190      9142             6             8             0   \n",
       "1  2718           90      9662             5             4             0   \n",
       "2  2414           60     17104             7             5           554   \n",
       "3  1989           30      8520             5             6             0   \n",
       "4   625           20      9500             6             5           609   \n",
       "\n",
       "   BsmtFin SF 2  Bsmt Unf SF  Total Bsmt SF  1st Flr SF  2nd Flr SF  \\\n",
       "0             0         1020           1020         908        1020   \n",
       "1             0         1967           1967        1967           0   \n",
       "2             0          100            654         664         832   \n",
       "3             0          968            968         968           0   \n",
       "4             0          785           1394        1394           0   \n",
       "\n",
       "   Low Qual Fin SF  Gr Liv Area  Bsmt Full Bath  Bsmt Half Bath  Full Bath  \\\n",
       "0                0         1928               0               0          2   \n",
       "1                0         1967               0               0          2   \n",
       "2                0         1496               1               0          2   \n",
       "3                0          968               0               0          1   \n",
       "4                0         1394               1               0          1   \n",
       "\n",
       "   Half Bath  Bedroom AbvGr  Kitchen AbvGr  TotRms AbvGrd  Fireplaces  \\\n",
       "0          0              4              2              9           0   \n",
       "1          0              6              2             10           0   \n",
       "2          1              3              1              7           1   \n",
       "3          0              2              1              5           0   \n",
       "4          1              3              1              6           2   \n",
       "\n",
       "   Garage Cars  Garage Area  Wood Deck SF  Open Porch SF  Enclosed Porch  \\\n",
       "0            1          440             0             60             112   \n",
       "1            2          580           170              0               0   \n",
       "2            2          426           100             24               0   \n",
       "3            2          480             0              0             184   \n",
       "4            2          514             0             76               0   \n",
       "\n",
       "   3Ssn Porch  Screen Porch  Pool Area  HouseAge  zone_dummy  lotshape_dummy  \\\n",
       "0           0             0          0        96           1               4   \n",
       "1           0             0          0        29           3               3   \n",
       "2           0             0          0         0           3               3   \n",
       "3           0             0          0        84           1               4   \n",
       "4           0           185          0        46           3               3   \n",
       "\n",
       "   exterqual_dummy  extercond_dummy  bsmtqual_dummy  bsmtcond_dummy  \\\n",
       "0                3                2               2               3   \n",
       "1                3                3               4               3   \n",
       "2                4                3               4               4   \n",
       "3                4                3               3               3   \n",
       "4                3                3               4               3   \n",
       "\n",
       "   heatqc_dummy  kitchenqual_dummy  garagequal_dummy  fireplacequal_dummy  \\\n",
       "0             4                  2                 1                    0   \n",
       "1             3                  3                 3                    0   \n",
       "2             5                  4                 3                    4   \n",
       "3             3                  3                 2                    0   \n",
       "4             4                  3                 3                    4   \n",
       "\n",
       "   garagequal_dummy  garagecond_dummy  paveddrive_dummy  centralair_dummy  \\\n",
       "0                 1                 1                 2                 0   \n",
       "1                 3                 3                 2                 1   \n",
       "2                 3                 3                 2                 1   \n",
       "3                 2                 3                 0                 1   \n",
       "4                 3                 3                 2                 1   \n",
       "\n",
       "   poolqual_dummy      SalePrice  \n",
       "0               0  124883.863883  \n",
       "1               0  154162.684826  \n",
       "2               0  225669.285912  \n",
       "3               0  111907.258503  \n",
       "4               0  193930.684691  "
      ]
     },
     "execution_count": 267,
     "metadata": {},
     "output_type": "execute_result"
    }
   ],
   "source": [
    "df_test_select.head()"
   ]
  },
  {
   "cell_type": "code",
   "execution_count": 268,
   "id": "5f8bbc72",
   "metadata": {},
   "outputs": [],
   "source": [
    "df_test_submit = df_test_select[['Id','SalePrice']]"
   ]
  },
  {
   "cell_type": "code",
   "execution_count": 269,
   "id": "1c37107b",
   "metadata": {},
   "outputs": [
    {
     "data": {
      "text/html": [
       "<div>\n",
       "<style scoped>\n",
       "    .dataframe tbody tr th:only-of-type {\n",
       "        vertical-align: middle;\n",
       "    }\n",
       "\n",
       "    .dataframe tbody tr th {\n",
       "        vertical-align: top;\n",
       "    }\n",
       "\n",
       "    .dataframe thead th {\n",
       "        text-align: right;\n",
       "    }\n",
       "</style>\n",
       "<table border=\"1\" class=\"dataframe\">\n",
       "  <thead>\n",
       "    <tr style=\"text-align: right;\">\n",
       "      <th></th>\n",
       "      <th>Id</th>\n",
       "      <th>SalePrice</th>\n",
       "    </tr>\n",
       "  </thead>\n",
       "  <tbody>\n",
       "    <tr>\n",
       "      <th>0</th>\n",
       "      <td>2658</td>\n",
       "      <td>124883.863883</td>\n",
       "    </tr>\n",
       "    <tr>\n",
       "      <th>1</th>\n",
       "      <td>2718</td>\n",
       "      <td>154162.684826</td>\n",
       "    </tr>\n",
       "    <tr>\n",
       "      <th>2</th>\n",
       "      <td>2414</td>\n",
       "      <td>225669.285912</td>\n",
       "    </tr>\n",
       "    <tr>\n",
       "      <th>3</th>\n",
       "      <td>1989</td>\n",
       "      <td>111907.258503</td>\n",
       "    </tr>\n",
       "    <tr>\n",
       "      <th>4</th>\n",
       "      <td>625</td>\n",
       "      <td>193930.684691</td>\n",
       "    </tr>\n",
       "  </tbody>\n",
       "</table>\n",
       "</div>"
      ],
      "text/plain": [
       "     Id      SalePrice\n",
       "0  2658  124883.863883\n",
       "1  2718  154162.684826\n",
       "2  2414  225669.285912\n",
       "3  1989  111907.258503\n",
       "4   625  193930.684691"
      ]
     },
     "execution_count": 269,
     "metadata": {},
     "output_type": "execute_result"
    }
   ],
   "source": [
    "df_test_submit.head()"
   ]
  },
  {
   "cell_type": "code",
   "execution_count": 270,
   "id": "6b1e2834",
   "metadata": {},
   "outputs": [],
   "source": [
    "df_test_submit.to_csv(\"../datasets/sub_reg.csv\", index=False)"
   ]
  },
  {
   "cell_type": "code",
   "execution_count": null,
   "id": "87a11c89",
   "metadata": {},
   "outputs": [],
   "source": []
  },
  {
   "cell_type": "code",
   "execution_count": null,
   "id": "6673eb34",
   "metadata": {},
   "outputs": [],
   "source": []
  }
 ],
 "metadata": {
  "kernelspec": {
   "display_name": "Python 3",
   "language": "python",
   "name": "python3"
  },
  "language_info": {
   "codemirror_mode": {
    "name": "ipython",
    "version": 3
   },
   "file_extension": ".py",
   "mimetype": "text/x-python",
   "name": "python",
   "nbconvert_exporter": "python",
   "pygments_lexer": "ipython3",
   "version": "3.8.8"
  }
 },
 "nbformat": 4,
 "nbformat_minor": 5
}
