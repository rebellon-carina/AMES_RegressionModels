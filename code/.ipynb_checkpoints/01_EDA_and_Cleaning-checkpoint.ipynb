{
 "cells": [
  {
   "cell_type": "markdown",
   "id": "912ec988",
   "metadata": {},
   "source": [
    "\n",
    "##  DSI-US-11 Project 2 Regression Challenge (Kaggle)\n",
    "\n",
    "The goal of this project is to predict the price of homes at sale for the Ames Iowa Housing dataset, which was provided by Kaggle in this site. https://www.kaggle.com/c/dsi-us-11-project-2-regression-challenge/overview\n",
    "\n",
    "By exploring the dataset with 80 attributes related to the sale of the property, we will gain insight of which variables are highly correlated and create several regression models by selecting set of fields through iterative process, and choose the best one that can closely estimate the sale price."
   ]
  },
  {
   "cell_type": "markdown",
   "id": "2303051f",
   "metadata": {},
   "source": [
    "## This notebook can be used to preprocessed both Train and Test datasets\n",
    "\n",
    "- read, cleanup and save preprocessed data for both train and test\n",
    "- drop records only for train dataset\n",
    "\n"
   ]
  },
  {
   "cell_type": "code",
   "execution_count": 65,
   "id": "52dd5af4",
   "metadata": {},
   "outputs": [],
   "source": [
    "#configuration variable\n",
    "is_train_dataset = True"
   ]
  },
  {
   "cell_type": "code",
   "execution_count": 66,
   "id": "f4cf72bc",
   "metadata": {},
   "outputs": [],
   "source": [
    "#import packages\n",
    "import pandas as pd\n",
    "import matplotlib.pyplot as plt\n",
    "import seaborn as sns\n",
    "import numpy as np\n",
    "\n",
    "from scipy import stats\n",
    "\n",
    "%matplotlib inline"
   ]
  },
  {
   "cell_type": "markdown",
   "id": "e2ea95c2",
   "metadata": {},
   "source": [
    "## Loading of Training Dataset"
   ]
  },
  {
   "cell_type": "code",
   "execution_count": 67,
   "id": "33d2f003",
   "metadata": {},
   "outputs": [
    {
     "data": {
      "text/html": [
       "<div>\n",
       "<style scoped>\n",
       "    .dataframe tbody tr th:only-of-type {\n",
       "        vertical-align: middle;\n",
       "    }\n",
       "\n",
       "    .dataframe tbody tr th {\n",
       "        vertical-align: top;\n",
       "    }\n",
       "\n",
       "    .dataframe thead th {\n",
       "        text-align: right;\n",
       "    }\n",
       "</style>\n",
       "<table border=\"1\" class=\"dataframe\">\n",
       "  <thead>\n",
       "    <tr style=\"text-align: right;\">\n",
       "      <th></th>\n",
       "      <th>Id</th>\n",
       "      <th>PID</th>\n",
       "      <th>MS SubClass</th>\n",
       "      <th>MS Zoning</th>\n",
       "      <th>Lot Frontage</th>\n",
       "      <th>Lot Area</th>\n",
       "      <th>Street</th>\n",
       "      <th>Alley</th>\n",
       "      <th>Lot Shape</th>\n",
       "      <th>Land Contour</th>\n",
       "      <th>...</th>\n",
       "      <th>3Ssn Porch</th>\n",
       "      <th>Screen Porch</th>\n",
       "      <th>Pool Area</th>\n",
       "      <th>Pool QC</th>\n",
       "      <th>Fence</th>\n",
       "      <th>Misc Feature</th>\n",
       "      <th>Misc Val</th>\n",
       "      <th>Mo Sold</th>\n",
       "      <th>Yr Sold</th>\n",
       "      <th>Sale Type</th>\n",
       "    </tr>\n",
       "  </thead>\n",
       "  <tbody>\n",
       "    <tr>\n",
       "      <th>0</th>\n",
       "      <td>2658</td>\n",
       "      <td>902301120</td>\n",
       "      <td>190</td>\n",
       "      <td>RM</td>\n",
       "      <td>69.0</td>\n",
       "      <td>9142</td>\n",
       "      <td>Pave</td>\n",
       "      <td>Grvl</td>\n",
       "      <td>Reg</td>\n",
       "      <td>Lvl</td>\n",
       "      <td>...</td>\n",
       "      <td>0</td>\n",
       "      <td>0</td>\n",
       "      <td>0</td>\n",
       "      <td>NaN</td>\n",
       "      <td>NaN</td>\n",
       "      <td>NaN</td>\n",
       "      <td>0</td>\n",
       "      <td>4</td>\n",
       "      <td>2006</td>\n",
       "      <td>WD</td>\n",
       "    </tr>\n",
       "    <tr>\n",
       "      <th>1</th>\n",
       "      <td>2718</td>\n",
       "      <td>905108090</td>\n",
       "      <td>90</td>\n",
       "      <td>RL</td>\n",
       "      <td>NaN</td>\n",
       "      <td>9662</td>\n",
       "      <td>Pave</td>\n",
       "      <td>NaN</td>\n",
       "      <td>IR1</td>\n",
       "      <td>Lvl</td>\n",
       "      <td>...</td>\n",
       "      <td>0</td>\n",
       "      <td>0</td>\n",
       "      <td>0</td>\n",
       "      <td>NaN</td>\n",
       "      <td>NaN</td>\n",
       "      <td>NaN</td>\n",
       "      <td>0</td>\n",
       "      <td>8</td>\n",
       "      <td>2006</td>\n",
       "      <td>WD</td>\n",
       "    </tr>\n",
       "    <tr>\n",
       "      <th>2</th>\n",
       "      <td>2414</td>\n",
       "      <td>528218130</td>\n",
       "      <td>60</td>\n",
       "      <td>RL</td>\n",
       "      <td>58.0</td>\n",
       "      <td>17104</td>\n",
       "      <td>Pave</td>\n",
       "      <td>NaN</td>\n",
       "      <td>IR1</td>\n",
       "      <td>Lvl</td>\n",
       "      <td>...</td>\n",
       "      <td>0</td>\n",
       "      <td>0</td>\n",
       "      <td>0</td>\n",
       "      <td>NaN</td>\n",
       "      <td>NaN</td>\n",
       "      <td>NaN</td>\n",
       "      <td>0</td>\n",
       "      <td>9</td>\n",
       "      <td>2006</td>\n",
       "      <td>New</td>\n",
       "    </tr>\n",
       "    <tr>\n",
       "      <th>3</th>\n",
       "      <td>1989</td>\n",
       "      <td>902207150</td>\n",
       "      <td>30</td>\n",
       "      <td>RM</td>\n",
       "      <td>60.0</td>\n",
       "      <td>8520</td>\n",
       "      <td>Pave</td>\n",
       "      <td>NaN</td>\n",
       "      <td>Reg</td>\n",
       "      <td>Lvl</td>\n",
       "      <td>...</td>\n",
       "      <td>0</td>\n",
       "      <td>0</td>\n",
       "      <td>0</td>\n",
       "      <td>NaN</td>\n",
       "      <td>NaN</td>\n",
       "      <td>NaN</td>\n",
       "      <td>0</td>\n",
       "      <td>7</td>\n",
       "      <td>2007</td>\n",
       "      <td>WD</td>\n",
       "    </tr>\n",
       "    <tr>\n",
       "      <th>4</th>\n",
       "      <td>625</td>\n",
       "      <td>535105100</td>\n",
       "      <td>20</td>\n",
       "      <td>RL</td>\n",
       "      <td>NaN</td>\n",
       "      <td>9500</td>\n",
       "      <td>Pave</td>\n",
       "      <td>NaN</td>\n",
       "      <td>IR1</td>\n",
       "      <td>Lvl</td>\n",
       "      <td>...</td>\n",
       "      <td>0</td>\n",
       "      <td>185</td>\n",
       "      <td>0</td>\n",
       "      <td>NaN</td>\n",
       "      <td>NaN</td>\n",
       "      <td>NaN</td>\n",
       "      <td>0</td>\n",
       "      <td>7</td>\n",
       "      <td>2009</td>\n",
       "      <td>WD</td>\n",
       "    </tr>\n",
       "  </tbody>\n",
       "</table>\n",
       "<p>5 rows × 80 columns</p>\n",
       "</div>"
      ],
      "text/plain": [
       "     Id        PID  MS SubClass MS Zoning  Lot Frontage  Lot Area Street  \\\n",
       "0  2658  902301120          190        RM          69.0      9142   Pave   \n",
       "1  2718  905108090           90        RL           NaN      9662   Pave   \n",
       "2  2414  528218130           60        RL          58.0     17104   Pave   \n",
       "3  1989  902207150           30        RM          60.0      8520   Pave   \n",
       "4   625  535105100           20        RL           NaN      9500   Pave   \n",
       "\n",
       "  Alley Lot Shape Land Contour  ... 3Ssn Porch Screen Porch Pool Area Pool QC  \\\n",
       "0  Grvl       Reg          Lvl  ...          0            0         0     NaN   \n",
       "1   NaN       IR1          Lvl  ...          0            0         0     NaN   \n",
       "2   NaN       IR1          Lvl  ...          0            0         0     NaN   \n",
       "3   NaN       Reg          Lvl  ...          0            0         0     NaN   \n",
       "4   NaN       IR1          Lvl  ...          0          185         0     NaN   \n",
       "\n",
       "  Fence Misc Feature Misc Val Mo Sold  Yr Sold  Sale Type  \n",
       "0   NaN          NaN        0       4     2006        WD   \n",
       "1   NaN          NaN        0       8     2006        WD   \n",
       "2   NaN          NaN        0       9     2006        New  \n",
       "3   NaN          NaN        0       7     2007        WD   \n",
       "4   NaN          NaN        0       7     2009        WD   \n",
       "\n",
       "[5 rows x 80 columns]"
      ]
     },
     "execution_count": 67,
     "metadata": {},
     "output_type": "execute_result"
    }
   ],
   "source": [
    "if is_train_dataset:\n",
    "    df_ames = pd.read_csv(\"../datasets/train.csv\")\n",
    "    print(\"Loading train.csv\")\n",
    "else:\n",
    "    df_ames = pd.read_csv(\"../datasets/test.csv\")\n",
    "    print(\"Loading test.csv\")\n",
    "    \n",
    "df_ames.head()"
   ]
  },
  {
   "cell_type": "markdown",
   "id": "d1da7d18",
   "metadata": {},
   "source": [
    "### Explore Data/ Cleanup"
   ]
  },
  {
   "cell_type": "code",
   "execution_count": 68,
   "id": "8df3e5ca",
   "metadata": {},
   "outputs": [
    {
     "data": {
      "text/html": [
       "<div>\n",
       "<style scoped>\n",
       "    .dataframe tbody tr th:only-of-type {\n",
       "        vertical-align: middle;\n",
       "    }\n",
       "\n",
       "    .dataframe tbody tr th {\n",
       "        vertical-align: top;\n",
       "    }\n",
       "\n",
       "    .dataframe thead th {\n",
       "        text-align: right;\n",
       "    }\n",
       "</style>\n",
       "<table border=\"1\" class=\"dataframe\">\n",
       "  <thead>\n",
       "    <tr style=\"text-align: right;\">\n",
       "      <th></th>\n",
       "      <th>count</th>\n",
       "      <th>mean</th>\n",
       "      <th>std</th>\n",
       "      <th>min</th>\n",
       "      <th>25%</th>\n",
       "      <th>50%</th>\n",
       "      <th>75%</th>\n",
       "      <th>max</th>\n",
       "    </tr>\n",
       "  </thead>\n",
       "  <tbody>\n",
       "    <tr>\n",
       "      <th>Id</th>\n",
       "      <td>878.0</td>\n",
       "      <td>1.444749e+03</td>\n",
       "      <td>8.508383e+02</td>\n",
       "      <td>2.0</td>\n",
       "      <td>6.922500e+02</td>\n",
       "      <td>1433.0</td>\n",
       "      <td>2.197500e+03</td>\n",
       "      <td>2.928000e+03</td>\n",
       "    </tr>\n",
       "    <tr>\n",
       "      <th>PID</th>\n",
       "      <td>878.0</td>\n",
       "      <td>7.162867e+08</td>\n",
       "      <td>1.889103e+08</td>\n",
       "      <td>526302110.0</td>\n",
       "      <td>5.284841e+08</td>\n",
       "      <td>535454155.0</td>\n",
       "      <td>9.071904e+08</td>\n",
       "      <td>1.007100e+09</td>\n",
       "    </tr>\n",
       "    <tr>\n",
       "      <th>MS SubClass</th>\n",
       "      <td>878.0</td>\n",
       "      <td>5.826879e+01</td>\n",
       "      <td>4.223541e+01</td>\n",
       "      <td>20.0</td>\n",
       "      <td>2.000000e+01</td>\n",
       "      <td>50.0</td>\n",
       "      <td>7.000000e+01</td>\n",
       "      <td>1.900000e+02</td>\n",
       "    </tr>\n",
       "    <tr>\n",
       "      <th>Lot Frontage</th>\n",
       "      <td>718.0</td>\n",
       "      <td>6.954596e+01</td>\n",
       "      <td>2.353394e+01</td>\n",
       "      <td>21.0</td>\n",
       "      <td>5.900000e+01</td>\n",
       "      <td>68.0</td>\n",
       "      <td>8.000000e+01</td>\n",
       "      <td>1.820000e+02</td>\n",
       "    </tr>\n",
       "    <tr>\n",
       "      <th>Lot Area</th>\n",
       "      <td>878.0</td>\n",
       "      <td>1.030703e+04</td>\n",
       "      <td>1.000267e+04</td>\n",
       "      <td>1477.0</td>\n",
       "      <td>7.297250e+03</td>\n",
       "      <td>9446.0</td>\n",
       "      <td>1.158900e+04</td>\n",
       "      <td>2.152450e+05</td>\n",
       "    </tr>\n",
       "    <tr>\n",
       "      <th>Overall Qual</th>\n",
       "      <td>878.0</td>\n",
       "      <td>6.050114e+00</td>\n",
       "      <td>1.369065e+00</td>\n",
       "      <td>2.0</td>\n",
       "      <td>5.000000e+00</td>\n",
       "      <td>6.0</td>\n",
       "      <td>7.000000e+00</td>\n",
       "      <td>1.000000e+01</td>\n",
       "    </tr>\n",
       "    <tr>\n",
       "      <th>Overall Cond</th>\n",
       "      <td>878.0</td>\n",
       "      <td>5.566059e+00</td>\n",
       "      <td>1.128903e+00</td>\n",
       "      <td>1.0</td>\n",
       "      <td>5.000000e+00</td>\n",
       "      <td>5.0</td>\n",
       "      <td>6.000000e+00</td>\n",
       "      <td>9.000000e+00</td>\n",
       "    </tr>\n",
       "    <tr>\n",
       "      <th>Year Built</th>\n",
       "      <td>878.0</td>\n",
       "      <td>1.970492e+03</td>\n",
       "      <td>3.039589e+01</td>\n",
       "      <td>1880.0</td>\n",
       "      <td>1.954000e+03</td>\n",
       "      <td>1972.0</td>\n",
       "      <td>1.999750e+03</td>\n",
       "      <td>2.010000e+03</td>\n",
       "    </tr>\n",
       "    <tr>\n",
       "      <th>Year Remod/Add</th>\n",
       "      <td>878.0</td>\n",
       "      <td>1.984418e+03</td>\n",
       "      <td>2.045072e+01</td>\n",
       "      <td>1950.0</td>\n",
       "      <td>1.967000e+03</td>\n",
       "      <td>1992.0</td>\n",
       "      <td>2.003000e+03</td>\n",
       "      <td>2.010000e+03</td>\n",
       "    </tr>\n",
       "    <tr>\n",
       "      <th>Mas Vnr Area</th>\n",
       "      <td>877.0</td>\n",
       "      <td>1.062360e+02</td>\n",
       "      <td>1.871589e+02</td>\n",
       "      <td>0.0</td>\n",
       "      <td>0.000000e+00</td>\n",
       "      <td>0.0</td>\n",
       "      <td>1.720000e+02</td>\n",
       "      <td>1.378000e+03</td>\n",
       "    </tr>\n",
       "    <tr>\n",
       "      <th>BsmtFin SF 1</th>\n",
       "      <td>878.0</td>\n",
       "      <td>4.413280e+02</td>\n",
       "      <td>4.384573e+02</td>\n",
       "      <td>0.0</td>\n",
       "      <td>0.000000e+00</td>\n",
       "      <td>373.0</td>\n",
       "      <td>7.347500e+02</td>\n",
       "      <td>2.288000e+03</td>\n",
       "    </tr>\n",
       "    <tr>\n",
       "      <th>BsmtFin SF 2</th>\n",
       "      <td>878.0</td>\n",
       "      <td>5.389636e+01</td>\n",
       "      <td>1.786324e+02</td>\n",
       "      <td>0.0</td>\n",
       "      <td>0.000000e+00</td>\n",
       "      <td>0.0</td>\n",
       "      <td>0.000000e+00</td>\n",
       "      <td>1.526000e+03</td>\n",
       "    </tr>\n",
       "    <tr>\n",
       "      <th>Bsmt Unf SF</th>\n",
       "      <td>878.0</td>\n",
       "      <td>5.391333e+02</td>\n",
       "      <td>4.261722e+02</td>\n",
       "      <td>0.0</td>\n",
       "      <td>2.160000e+02</td>\n",
       "      <td>452.0</td>\n",
       "      <td>7.800000e+02</td>\n",
       "      <td>2.046000e+03</td>\n",
       "    </tr>\n",
       "    <tr>\n",
       "      <th>Total Bsmt SF</th>\n",
       "      <td>878.0</td>\n",
       "      <td>1.034358e+03</td>\n",
       "      <td>4.134463e+02</td>\n",
       "      <td>0.0</td>\n",
       "      <td>7.890000e+02</td>\n",
       "      <td>975.0</td>\n",
       "      <td>1.247000e+03</td>\n",
       "      <td>2.630000e+03</td>\n",
       "    </tr>\n",
       "    <tr>\n",
       "      <th>1st Flr SF</th>\n",
       "      <td>878.0</td>\n",
       "      <td>1.145787e+03</td>\n",
       "      <td>3.752641e+02</td>\n",
       "      <td>407.0</td>\n",
       "      <td>8.640000e+02</td>\n",
       "      <td>1063.0</td>\n",
       "      <td>1.358000e+03</td>\n",
       "      <td>2.674000e+03</td>\n",
       "    </tr>\n",
       "    <tr>\n",
       "      <th>2nd Flr SF</th>\n",
       "      <td>878.0</td>\n",
       "      <td>3.483986e+02</td>\n",
       "      <td>4.329856e+02</td>\n",
       "      <td>0.0</td>\n",
       "      <td>0.000000e+00</td>\n",
       "      <td>0.0</td>\n",
       "      <td>7.200000e+02</td>\n",
       "      <td>2.065000e+03</td>\n",
       "    </tr>\n",
       "    <tr>\n",
       "      <th>Low Qual Fin SF</th>\n",
       "      <td>878.0</td>\n",
       "      <td>2.728929e+00</td>\n",
       "      <td>3.257255e+01</td>\n",
       "      <td>0.0</td>\n",
       "      <td>0.000000e+00</td>\n",
       "      <td>0.0</td>\n",
       "      <td>0.000000e+00</td>\n",
       "      <td>4.810000e+02</td>\n",
       "    </tr>\n",
       "    <tr>\n",
       "      <th>Gr Liv Area</th>\n",
       "      <td>878.0</td>\n",
       "      <td>1.496915e+03</td>\n",
       "      <td>5.064690e+02</td>\n",
       "      <td>407.0</td>\n",
       "      <td>1.114000e+03</td>\n",
       "      <td>1436.0</td>\n",
       "      <td>1.779000e+03</td>\n",
       "      <td>4.476000e+03</td>\n",
       "    </tr>\n",
       "    <tr>\n",
       "      <th>Bsmt Full Bath</th>\n",
       "      <td>878.0</td>\n",
       "      <td>4.396355e-01</td>\n",
       "      <td>5.299477e-01</td>\n",
       "      <td>0.0</td>\n",
       "      <td>0.000000e+00</td>\n",
       "      <td>0.0</td>\n",
       "      <td>1.000000e+00</td>\n",
       "      <td>2.000000e+00</td>\n",
       "    </tr>\n",
       "    <tr>\n",
       "      <th>Bsmt Half Bath</th>\n",
       "      <td>878.0</td>\n",
       "      <td>5.580866e-02</td>\n",
       "      <td>2.296827e-01</td>\n",
       "      <td>0.0</td>\n",
       "      <td>0.000000e+00</td>\n",
       "      <td>0.0</td>\n",
       "      <td>0.000000e+00</td>\n",
       "      <td>1.000000e+00</td>\n",
       "    </tr>\n",
       "    <tr>\n",
       "      <th>Full Bath</th>\n",
       "      <td>878.0</td>\n",
       "      <td>1.539863e+00</td>\n",
       "      <td>5.590601e-01</td>\n",
       "      <td>0.0</td>\n",
       "      <td>1.000000e+00</td>\n",
       "      <td>2.0</td>\n",
       "      <td>2.000000e+00</td>\n",
       "      <td>4.000000e+00</td>\n",
       "    </tr>\n",
       "    <tr>\n",
       "      <th>Half Bath</th>\n",
       "      <td>878.0</td>\n",
       "      <td>3.986333e-01</td>\n",
       "      <td>5.059265e-01</td>\n",
       "      <td>0.0</td>\n",
       "      <td>0.000000e+00</td>\n",
       "      <td>0.0</td>\n",
       "      <td>1.000000e+00</td>\n",
       "      <td>2.000000e+00</td>\n",
       "    </tr>\n",
       "    <tr>\n",
       "      <th>Bedroom AbvGr</th>\n",
       "      <td>878.0</td>\n",
       "      <td>2.879271e+00</td>\n",
       "      <td>8.307123e-01</td>\n",
       "      <td>0.0</td>\n",
       "      <td>2.000000e+00</td>\n",
       "      <td>3.0</td>\n",
       "      <td>3.000000e+00</td>\n",
       "      <td>6.000000e+00</td>\n",
       "    </tr>\n",
       "    <tr>\n",
       "      <th>Kitchen AbvGr</th>\n",
       "      <td>878.0</td>\n",
       "      <td>1.047836e+00</td>\n",
       "      <td>2.239657e-01</td>\n",
       "      <td>0.0</td>\n",
       "      <td>1.000000e+00</td>\n",
       "      <td>1.0</td>\n",
       "      <td>1.000000e+00</td>\n",
       "      <td>3.000000e+00</td>\n",
       "    </tr>\n",
       "    <tr>\n",
       "      <th>TotRms AbvGrd</th>\n",
       "      <td>878.0</td>\n",
       "      <td>6.454442e+00</td>\n",
       "      <td>1.596632e+00</td>\n",
       "      <td>3.0</td>\n",
       "      <td>5.000000e+00</td>\n",
       "      <td>6.0</td>\n",
       "      <td>7.000000e+00</td>\n",
       "      <td>1.200000e+01</td>\n",
       "    </tr>\n",
       "    <tr>\n",
       "      <th>Fireplaces</th>\n",
       "      <td>878.0</td>\n",
       "      <td>6.184510e-01</td>\n",
       "      <td>6.695708e-01</td>\n",
       "      <td>0.0</td>\n",
       "      <td>0.000000e+00</td>\n",
       "      <td>1.0</td>\n",
       "      <td>1.000000e+00</td>\n",
       "      <td>3.000000e+00</td>\n",
       "    </tr>\n",
       "    <tr>\n",
       "      <th>Garage Yr Blt</th>\n",
       "      <td>833.0</td>\n",
       "      <td>1.976760e+03</td>\n",
       "      <td>2.568976e+01</td>\n",
       "      <td>1900.0</td>\n",
       "      <td>1.960000e+03</td>\n",
       "      <td>1978.0</td>\n",
       "      <td>2.001000e+03</td>\n",
       "      <td>2.010000e+03</td>\n",
       "    </tr>\n",
       "    <tr>\n",
       "      <th>Garage Cars</th>\n",
       "      <td>878.0</td>\n",
       "      <td>1.742597e+00</td>\n",
       "      <td>7.503909e-01</td>\n",
       "      <td>0.0</td>\n",
       "      <td>1.000000e+00</td>\n",
       "      <td>2.0</td>\n",
       "      <td>2.000000e+00</td>\n",
       "      <td>4.000000e+00</td>\n",
       "    </tr>\n",
       "    <tr>\n",
       "      <th>Garage Area</th>\n",
       "      <td>878.0</td>\n",
       "      <td>4.703622e+02</td>\n",
       "      <td>2.127341e+02</td>\n",
       "      <td>0.0</td>\n",
       "      <td>3.225000e+02</td>\n",
       "      <td>473.0</td>\n",
       "      <td>5.760000e+02</td>\n",
       "      <td>1.488000e+03</td>\n",
       "    </tr>\n",
       "    <tr>\n",
       "      <th>Wood Deck SF</th>\n",
       "      <td>878.0</td>\n",
       "      <td>9.343052e+01</td>\n",
       "      <td>1.211817e+02</td>\n",
       "      <td>0.0</td>\n",
       "      <td>0.000000e+00</td>\n",
       "      <td>0.0</td>\n",
       "      <td>1.707500e+02</td>\n",
       "      <td>6.900000e+02</td>\n",
       "    </tr>\n",
       "    <tr>\n",
       "      <th>Open Porch SF</th>\n",
       "      <td>878.0</td>\n",
       "      <td>4.707062e+01</td>\n",
       "      <td>6.818094e+01</td>\n",
       "      <td>0.0</td>\n",
       "      <td>0.000000e+00</td>\n",
       "      <td>27.0</td>\n",
       "      <td>6.975000e+01</td>\n",
       "      <td>7.420000e+02</td>\n",
       "    </tr>\n",
       "    <tr>\n",
       "      <th>Enclosed Porch</th>\n",
       "      <td>878.0</td>\n",
       "      <td>2.406492e+01</td>\n",
       "      <td>7.324946e+01</td>\n",
       "      <td>0.0</td>\n",
       "      <td>0.000000e+00</td>\n",
       "      <td>0.0</td>\n",
       "      <td>0.000000e+00</td>\n",
       "      <td>1.012000e+03</td>\n",
       "    </tr>\n",
       "    <tr>\n",
       "      <th>3Ssn Porch</th>\n",
       "      <td>878.0</td>\n",
       "      <td>2.597950e+00</td>\n",
       "      <td>2.496248e+01</td>\n",
       "      <td>0.0</td>\n",
       "      <td>0.000000e+00</td>\n",
       "      <td>0.0</td>\n",
       "      <td>0.000000e+00</td>\n",
       "      <td>3.600000e+02</td>\n",
       "    </tr>\n",
       "    <tr>\n",
       "      <th>Screen Porch</th>\n",
       "      <td>878.0</td>\n",
       "      <td>1.483030e+01</td>\n",
       "      <td>5.300379e+01</td>\n",
       "      <td>0.0</td>\n",
       "      <td>0.000000e+00</td>\n",
       "      <td>0.0</td>\n",
       "      <td>0.000000e+00</td>\n",
       "      <td>5.760000e+02</td>\n",
       "    </tr>\n",
       "    <tr>\n",
       "      <th>Pool Area</th>\n",
       "      <td>878.0</td>\n",
       "      <td>1.884966e+00</td>\n",
       "      <td>2.991667e+01</td>\n",
       "      <td>0.0</td>\n",
       "      <td>0.000000e+00</td>\n",
       "      <td>0.0</td>\n",
       "      <td>0.000000e+00</td>\n",
       "      <td>5.550000e+02</td>\n",
       "    </tr>\n",
       "    <tr>\n",
       "      <th>Misc Val</th>\n",
       "      <td>878.0</td>\n",
       "      <td>4.849886e+01</td>\n",
       "      <td>5.501693e+02</td>\n",
       "      <td>0.0</td>\n",
       "      <td>0.000000e+00</td>\n",
       "      <td>0.0</td>\n",
       "      <td>0.000000e+00</td>\n",
       "      <td>1.550000e+04</td>\n",
       "    </tr>\n",
       "    <tr>\n",
       "      <th>Mo Sold</th>\n",
       "      <td>878.0</td>\n",
       "      <td>6.202733e+00</td>\n",
       "      <td>2.642498e+00</td>\n",
       "      <td>1.0</td>\n",
       "      <td>5.000000e+00</td>\n",
       "      <td>6.0</td>\n",
       "      <td>8.000000e+00</td>\n",
       "      <td>1.200000e+01</td>\n",
       "    </tr>\n",
       "    <tr>\n",
       "      <th>Yr Sold</th>\n",
       "      <td>878.0</td>\n",
       "      <td>2.007826e+03</td>\n",
       "      <td>1.327861e+00</td>\n",
       "      <td>2006.0</td>\n",
       "      <td>2.007000e+03</td>\n",
       "      <td>2008.0</td>\n",
       "      <td>2.009000e+03</td>\n",
       "      <td>2.010000e+03</td>\n",
       "    </tr>\n",
       "  </tbody>\n",
       "</table>\n",
       "</div>"
      ],
      "text/plain": [
       "                 count          mean           std          min           25%  \\\n",
       "Id               878.0  1.444749e+03  8.508383e+02          2.0  6.922500e+02   \n",
       "PID              878.0  7.162867e+08  1.889103e+08  526302110.0  5.284841e+08   \n",
       "MS SubClass      878.0  5.826879e+01  4.223541e+01         20.0  2.000000e+01   \n",
       "Lot Frontage     718.0  6.954596e+01  2.353394e+01         21.0  5.900000e+01   \n",
       "Lot Area         878.0  1.030703e+04  1.000267e+04       1477.0  7.297250e+03   \n",
       "Overall Qual     878.0  6.050114e+00  1.369065e+00          2.0  5.000000e+00   \n",
       "Overall Cond     878.0  5.566059e+00  1.128903e+00          1.0  5.000000e+00   \n",
       "Year Built       878.0  1.970492e+03  3.039589e+01       1880.0  1.954000e+03   \n",
       "Year Remod/Add   878.0  1.984418e+03  2.045072e+01       1950.0  1.967000e+03   \n",
       "Mas Vnr Area     877.0  1.062360e+02  1.871589e+02          0.0  0.000000e+00   \n",
       "BsmtFin SF 1     878.0  4.413280e+02  4.384573e+02          0.0  0.000000e+00   \n",
       "BsmtFin SF 2     878.0  5.389636e+01  1.786324e+02          0.0  0.000000e+00   \n",
       "Bsmt Unf SF      878.0  5.391333e+02  4.261722e+02          0.0  2.160000e+02   \n",
       "Total Bsmt SF    878.0  1.034358e+03  4.134463e+02          0.0  7.890000e+02   \n",
       "1st Flr SF       878.0  1.145787e+03  3.752641e+02        407.0  8.640000e+02   \n",
       "2nd Flr SF       878.0  3.483986e+02  4.329856e+02          0.0  0.000000e+00   \n",
       "Low Qual Fin SF  878.0  2.728929e+00  3.257255e+01          0.0  0.000000e+00   \n",
       "Gr Liv Area      878.0  1.496915e+03  5.064690e+02        407.0  1.114000e+03   \n",
       "Bsmt Full Bath   878.0  4.396355e-01  5.299477e-01          0.0  0.000000e+00   \n",
       "Bsmt Half Bath   878.0  5.580866e-02  2.296827e-01          0.0  0.000000e+00   \n",
       "Full Bath        878.0  1.539863e+00  5.590601e-01          0.0  1.000000e+00   \n",
       "Half Bath        878.0  3.986333e-01  5.059265e-01          0.0  0.000000e+00   \n",
       "Bedroom AbvGr    878.0  2.879271e+00  8.307123e-01          0.0  2.000000e+00   \n",
       "Kitchen AbvGr    878.0  1.047836e+00  2.239657e-01          0.0  1.000000e+00   \n",
       "TotRms AbvGrd    878.0  6.454442e+00  1.596632e+00          3.0  5.000000e+00   \n",
       "Fireplaces       878.0  6.184510e-01  6.695708e-01          0.0  0.000000e+00   \n",
       "Garage Yr Blt    833.0  1.976760e+03  2.568976e+01       1900.0  1.960000e+03   \n",
       "Garage Cars      878.0  1.742597e+00  7.503909e-01          0.0  1.000000e+00   \n",
       "Garage Area      878.0  4.703622e+02  2.127341e+02          0.0  3.225000e+02   \n",
       "Wood Deck SF     878.0  9.343052e+01  1.211817e+02          0.0  0.000000e+00   \n",
       "Open Porch SF    878.0  4.707062e+01  6.818094e+01          0.0  0.000000e+00   \n",
       "Enclosed Porch   878.0  2.406492e+01  7.324946e+01          0.0  0.000000e+00   \n",
       "3Ssn Porch       878.0  2.597950e+00  2.496248e+01          0.0  0.000000e+00   \n",
       "Screen Porch     878.0  1.483030e+01  5.300379e+01          0.0  0.000000e+00   \n",
       "Pool Area        878.0  1.884966e+00  2.991667e+01          0.0  0.000000e+00   \n",
       "Misc Val         878.0  4.849886e+01  5.501693e+02          0.0  0.000000e+00   \n",
       "Mo Sold          878.0  6.202733e+00  2.642498e+00          1.0  5.000000e+00   \n",
       "Yr Sold          878.0  2.007826e+03  1.327861e+00       2006.0  2.007000e+03   \n",
       "\n",
       "                         50%           75%           max  \n",
       "Id                    1433.0  2.197500e+03  2.928000e+03  \n",
       "PID              535454155.0  9.071904e+08  1.007100e+09  \n",
       "MS SubClass             50.0  7.000000e+01  1.900000e+02  \n",
       "Lot Frontage            68.0  8.000000e+01  1.820000e+02  \n",
       "Lot Area              9446.0  1.158900e+04  2.152450e+05  \n",
       "Overall Qual             6.0  7.000000e+00  1.000000e+01  \n",
       "Overall Cond             5.0  6.000000e+00  9.000000e+00  \n",
       "Year Built            1972.0  1.999750e+03  2.010000e+03  \n",
       "Year Remod/Add        1992.0  2.003000e+03  2.010000e+03  \n",
       "Mas Vnr Area             0.0  1.720000e+02  1.378000e+03  \n",
       "BsmtFin SF 1           373.0  7.347500e+02  2.288000e+03  \n",
       "BsmtFin SF 2             0.0  0.000000e+00  1.526000e+03  \n",
       "Bsmt Unf SF            452.0  7.800000e+02  2.046000e+03  \n",
       "Total Bsmt SF          975.0  1.247000e+03  2.630000e+03  \n",
       "1st Flr SF            1063.0  1.358000e+03  2.674000e+03  \n",
       "2nd Flr SF               0.0  7.200000e+02  2.065000e+03  \n",
       "Low Qual Fin SF          0.0  0.000000e+00  4.810000e+02  \n",
       "Gr Liv Area           1436.0  1.779000e+03  4.476000e+03  \n",
       "Bsmt Full Bath           0.0  1.000000e+00  2.000000e+00  \n",
       "Bsmt Half Bath           0.0  0.000000e+00  1.000000e+00  \n",
       "Full Bath                2.0  2.000000e+00  4.000000e+00  \n",
       "Half Bath                0.0  1.000000e+00  2.000000e+00  \n",
       "Bedroom AbvGr            3.0  3.000000e+00  6.000000e+00  \n",
       "Kitchen AbvGr            1.0  1.000000e+00  3.000000e+00  \n",
       "TotRms AbvGrd            6.0  7.000000e+00  1.200000e+01  \n",
       "Fireplaces               1.0  1.000000e+00  3.000000e+00  \n",
       "Garage Yr Blt         1978.0  2.001000e+03  2.010000e+03  \n",
       "Garage Cars              2.0  2.000000e+00  4.000000e+00  \n",
       "Garage Area            473.0  5.760000e+02  1.488000e+03  \n",
       "Wood Deck SF             0.0  1.707500e+02  6.900000e+02  \n",
       "Open Porch SF           27.0  6.975000e+01  7.420000e+02  \n",
       "Enclosed Porch           0.0  0.000000e+00  1.012000e+03  \n",
       "3Ssn Porch               0.0  0.000000e+00  3.600000e+02  \n",
       "Screen Porch             0.0  0.000000e+00  5.760000e+02  \n",
       "Pool Area                0.0  0.000000e+00  5.550000e+02  \n",
       "Misc Val                 0.0  0.000000e+00  1.550000e+04  \n",
       "Mo Sold                  6.0  8.000000e+00  1.200000e+01  \n",
       "Yr Sold               2008.0  2.009000e+03  2.010000e+03  "
      ]
     },
     "execution_count": 68,
     "metadata": {},
     "output_type": "execute_result"
    }
   ],
   "source": [
    "df_ames.describe().T"
   ]
  },
  {
   "cell_type": "code",
   "execution_count": 69,
   "id": "2c7caa63",
   "metadata": {},
   "outputs": [
    {
     "data": {
      "text/plain": [
       "(878, 80)"
      ]
     },
     "execution_count": 69,
     "metadata": {},
     "output_type": "execute_result"
    }
   ],
   "source": [
    "#check the data points and column count\n",
    "df_ames.shape"
   ]
  },
  {
   "cell_type": "code",
   "execution_count": 70,
   "id": "b05e7f8b",
   "metadata": {},
   "outputs": [],
   "source": [
    "#Check for missing values\n",
    "null_vals = df_ames.isnull().sum()[df_ames.isnull().sum()>0].sort_values()"
   ]
  },
  {
   "cell_type": "code",
   "execution_count": 71,
   "id": "3f4489f5",
   "metadata": {},
   "outputs": [
    {
     "data": {
      "image/png": "[encoded data removed]",
      "text/plain": [
       "<Figure size 1080x1080 with 1 Axes>"
      ]
     },
     "metadata": {
      "needs_background": "light"
     },
     "output_type": "display_data"
    }
   ],
   "source": [
    "#visualizing null values, froom highest to lowest\n",
    "null_vals.plot(kind='barh',figsize=(15, 15));\n",
    "\n",
    "for ctr,val in enumerate(null_vals):\n",
    "    plt.annotate(str(round(val/2051*100,2))+'%', xy=(val,ctr), size=12)\n",
    "\n",
    "plt.xlabel('Count of Missing Values');\n",
    "plt.ylabel('Column Names');"
   ]
  },
  {
   "cell_type": "markdown",
   "id": "39fdf313",
   "metadata": {},
   "source": [
    "## Explore Data/Cleanup"
   ]
  },
  {
   "cell_type": "code",
   "execution_count": 72,
   "id": "73ab4ea2",
   "metadata": {},
   "outputs": [
    {
     "data": {
      "text/html": [
       "<div>\n",
       "<style scoped>\n",
       "    .dataframe tbody tr th:only-of-type {\n",
       "        vertical-align: middle;\n",
       "    }\n",
       "\n",
       "    .dataframe tbody tr th {\n",
       "        vertical-align: top;\n",
       "    }\n",
       "\n",
       "    .dataframe thead th {\n",
       "        text-align: right;\n",
       "    }\n",
       "</style>\n",
       "<table border=\"1\" class=\"dataframe\">\n",
       "  <thead>\n",
       "    <tr style=\"text-align: right;\">\n",
       "      <th></th>\n",
       "      <th>Lot Frontage</th>\n",
       "      <th>Lot Area</th>\n",
       "    </tr>\n",
       "  </thead>\n",
       "  <tbody>\n",
       "    <tr>\n",
       "      <th>Lot Frontage</th>\n",
       "      <td>1.000000</td>\n",
       "      <td>0.421187</td>\n",
       "    </tr>\n",
       "    <tr>\n",
       "      <th>Lot Area</th>\n",
       "      <td>0.421187</td>\n",
       "      <td>1.000000</td>\n",
       "    </tr>\n",
       "  </tbody>\n",
       "</table>\n",
       "</div>"
      ],
      "text/plain": [
       "              Lot Frontage  Lot Area\n",
       "Lot Frontage      1.000000  0.421187\n",
       "Lot Area          0.421187  1.000000"
      ]
     },
     "execution_count": 72,
     "metadata": {},
     "output_type": "execute_result"
    }
   ],
   "source": [
    "#missing value - Lot Fontage\n",
    "#check the relation with Lot Area\n",
    "\n",
    "df_ames[['Lot Frontage', 'Lot Area']].corr()"
   ]
  },
  {
   "cell_type": "code",
   "execution_count": 73,
   "id": "79d21703",
   "metadata": {
    "scrolled": true
   },
   "outputs": [
    {
     "data": {
      "image/png": "[encoded data removed]",
      "text/plain": [
       "<Figure size 432x288 with 1 Axes>"
      ]
     },
     "metadata": {
      "needs_background": "light"
     },
     "output_type": "display_data"
    }
   ],
   "source": [
    "#missing value - Lot Fontage\n",
    "#derive the Lot Frotage from Lot Area - with 72% correlation\n",
    "\n",
    "mask = df_ames['Lot Frontage'].isnull() == False\n",
    "coef, intercept, r_value, p_value, std_err = stats.linregress(df_ames[mask]['Lot Area'],df_ames[mask]['Lot Frontage'])\n",
    "\n",
    "plt.scatter(x=df_ames[mask]['Lot Area'], y=df_ames[mask]['Lot Frontage'])\n",
    "plt.plot(df_ames[mask]['Lot Area'], coef*df_ames[mask]['Lot Area'] +intercept, color='red');\n"
   ]
  },
  {
   "cell_type": "code",
   "execution_count": 74,
   "id": "13f6a556",
   "metadata": {},
   "outputs": [
    {
     "name": "stdout",
     "output_type": "stream",
     "text": [
      "0.0011137589560301093 58.54688086407474 0.4211874604910791 3.053966006973706e-32 8.96301068736045e-05\n"
     ]
    }
   ],
   "source": [
    "print(coef, intercept, r_value, p_value, std_err)\n",
    "\n",
    "#p-value is less than 0.05, means it is significant\n",
    "#we can replace the null Lot Frontage with this formula: coef*lotarea +intercept\n",
    "\n",
    "df_ames['Lot Frontage'] = df_ames.apply(lambda x: (x['Lot Area']*coef + intercept) if np.isnan(x['Lot Frontage']) else x['Lot Frontage'],axis =1)"
   ]
  },
  {
   "cell_type": "code",
   "execution_count": 75,
   "id": "805d45f5",
   "metadata": {},
   "outputs": [],
   "source": [
    "#replace with the Year the house is built if the Garage Year is not populated\n",
    "df_ames['Garage Yr Blt'] = df_ames.apply(lambda x: x['Year Built'] \n",
    "                                     if np.isnan(x['Garage Yr Blt']) else x['Garage Yr Blt'],axis =1)"
   ]
  },
  {
   "cell_type": "code",
   "execution_count": 76,
   "id": "9a14e7c8",
   "metadata": {},
   "outputs": [
    {
     "data": {
      "text/plain": [
       "0"
      ]
     },
     "execution_count": 76,
     "metadata": {},
     "output_type": "execute_result"
    }
   ],
   "source": [
    "#confirm that the field has no more nulls\n",
    "df_ames['Garage Yr Blt'].isnull().sum()"
   ]
  },
  {
   "cell_type": "code",
   "execution_count": 77,
   "id": "53378add",
   "metadata": {},
   "outputs": [
    {
     "data": {
      "text/plain": [
       "0"
      ]
     },
     "execution_count": 77,
     "metadata": {},
     "output_type": "execute_result"
    }
   ],
   "source": [
    "#confirm that the field has no more nullsdf_train['Garage Yr Blt'].isnull().sum()\n",
    "df_ames['Lot Frontage'].isnull().sum()"
   ]
  },
  {
   "cell_type": "code",
   "execution_count": 78,
   "id": "3510c4e3",
   "metadata": {},
   "outputs": [
    {
     "data": {
      "text/plain": [
       "0        0.956720\n",
       "400      0.006834\n",
       "500      0.005695\n",
       "450      0.004556\n",
       "700      0.003417\n",
       "2000     0.002278\n",
       "650      0.002278\n",
       "600      0.002278\n",
       "1500     0.002278\n",
       "750      0.001139\n",
       "420      0.001139\n",
       "1200     0.001139\n",
       "560      0.001139\n",
       "350      0.001139\n",
       "1400     0.001139\n",
       "480      0.001139\n",
       "1000     0.001139\n",
       "490      0.001139\n",
       "15500    0.001139\n",
       "1512     0.001139\n",
       "620      0.001139\n",
       "Name: Misc Val, dtype: float64"
      ]
     },
     "execution_count": 78,
     "metadata": {},
     "output_type": "execute_result"
    }
   ],
   "source": [
    "#checking Misc Val\n",
    "df_ames['Misc Val'].value_counts(normalize=True)\n",
    "#96% zeroes.. can exclude"
   ]
  },
  {
   "cell_type": "code",
   "execution_count": 79,
   "id": "1e49ab17",
   "metadata": {},
   "outputs": [],
   "source": [
    "#drop columns where non-null is less than 10% of the data, which is 200 data points\n",
    "#Alley, Pool QC, Misc Feature\n",
    "\n",
    "df_ames.drop(columns=['Alley','Pool QC', 'Misc Feature','Misc Val'], inplace=True)"
   ]
  },
  {
   "cell_type": "code",
   "execution_count": 80,
   "id": "5f286b73",
   "metadata": {},
   "outputs": [
    {
     "data": {
      "text/html": [
       "<div>\n",
       "<style scoped>\n",
       "    .dataframe tbody tr th:only-of-type {\n",
       "        vertical-align: middle;\n",
       "    }\n",
       "\n",
       "    .dataframe tbody tr th {\n",
       "        vertical-align: top;\n",
       "    }\n",
       "\n",
       "    .dataframe thead th {\n",
       "        text-align: right;\n",
       "    }\n",
       "</style>\n",
       "<table border=\"1\" class=\"dataframe\">\n",
       "  <thead>\n",
       "    <tr style=\"text-align: right;\">\n",
       "      <th></th>\n",
       "      <th>BsmtFin SF 1</th>\n",
       "      <th>BsmtFin SF 2</th>\n",
       "      <th>Bsmt Unf SF</th>\n",
       "      <th>Total Bsmt SF</th>\n",
       "    </tr>\n",
       "  </thead>\n",
       "  <tbody>\n",
       "    <tr>\n",
       "      <th>0</th>\n",
       "      <td>0</td>\n",
       "      <td>0</td>\n",
       "      <td>1020</td>\n",
       "      <td>1020</td>\n",
       "    </tr>\n",
       "    <tr>\n",
       "      <th>1</th>\n",
       "      <td>0</td>\n",
       "      <td>0</td>\n",
       "      <td>1967</td>\n",
       "      <td>1967</td>\n",
       "    </tr>\n",
       "    <tr>\n",
       "      <th>2</th>\n",
       "      <td>554</td>\n",
       "      <td>0</td>\n",
       "      <td>100</td>\n",
       "      <td>654</td>\n",
       "    </tr>\n",
       "    <tr>\n",
       "      <th>3</th>\n",
       "      <td>0</td>\n",
       "      <td>0</td>\n",
       "      <td>968</td>\n",
       "      <td>968</td>\n",
       "    </tr>\n",
       "    <tr>\n",
       "      <th>4</th>\n",
       "      <td>609</td>\n",
       "      <td>0</td>\n",
       "      <td>785</td>\n",
       "      <td>1394</td>\n",
       "    </tr>\n",
       "  </tbody>\n",
       "</table>\n",
       "</div>"
      ],
      "text/plain": [
       "   BsmtFin SF 1  BsmtFin SF 2  Bsmt Unf SF  Total Bsmt SF\n",
       "0             0             0         1020           1020\n",
       "1             0             0         1967           1967\n",
       "2           554             0          100            654\n",
       "3             0             0          968            968\n",
       "4           609             0          785           1394"
      ]
     },
     "execution_count": 80,
     "metadata": {},
     "output_type": "execute_result"
    }
   ],
   "source": [
    "#check for fields that are not needed as they are already been calculated by other fields\n",
    "df_ames[['BsmtFin SF 1', 'BsmtFin SF 2','Bsmt Unf SF','Total Bsmt SF']].head()\n",
    "#Total Bsmt SF' = 'BsmtFin SF 1' + 'BsmtFin SF 2' + 'Bsmt Unf SF'\n"
   ]
  },
  {
   "cell_type": "code",
   "execution_count": 81,
   "id": "00776798",
   "metadata": {},
   "outputs": [],
   "source": [
    "#we can drop 'BsmtFin SF 1', 'BsmtFin SF 2','Bsmt Unf SF'\n",
    "df_ames.drop(columns=['BsmtFin SF 1', 'BsmtFin SF 2','Bsmt Unf SF'], inplace=True)"
   ]
  },
  {
   "cell_type": "code",
   "execution_count": 82,
   "id": "ebc42ad3",
   "metadata": {},
   "outputs": [
    {
     "data": {
      "text/html": [
       "<div>\n",
       "<style scoped>\n",
       "    .dataframe tbody tr th:only-of-type {\n",
       "        vertical-align: middle;\n",
       "    }\n",
       "\n",
       "    .dataframe tbody tr th {\n",
       "        vertical-align: top;\n",
       "    }\n",
       "\n",
       "    .dataframe thead th {\n",
       "        text-align: right;\n",
       "    }\n",
       "</style>\n",
       "<table border=\"1\" class=\"dataframe\">\n",
       "  <thead>\n",
       "    <tr style=\"text-align: right;\">\n",
       "      <th></th>\n",
       "      <th>1st Flr SF</th>\n",
       "      <th>2nd Flr SF</th>\n",
       "      <th>Low Qual Fin SF</th>\n",
       "      <th>Gr Liv Area</th>\n",
       "    </tr>\n",
       "  </thead>\n",
       "  <tbody>\n",
       "    <tr>\n",
       "      <th>0</th>\n",
       "      <td>908</td>\n",
       "      <td>1020</td>\n",
       "      <td>0</td>\n",
       "      <td>1928</td>\n",
       "    </tr>\n",
       "    <tr>\n",
       "      <th>1</th>\n",
       "      <td>1967</td>\n",
       "      <td>0</td>\n",
       "      <td>0</td>\n",
       "      <td>1967</td>\n",
       "    </tr>\n",
       "    <tr>\n",
       "      <th>2</th>\n",
       "      <td>664</td>\n",
       "      <td>832</td>\n",
       "      <td>0</td>\n",
       "      <td>1496</td>\n",
       "    </tr>\n",
       "    <tr>\n",
       "      <th>3</th>\n",
       "      <td>968</td>\n",
       "      <td>0</td>\n",
       "      <td>0</td>\n",
       "      <td>968</td>\n",
       "    </tr>\n",
       "    <tr>\n",
       "      <th>4</th>\n",
       "      <td>1394</td>\n",
       "      <td>0</td>\n",
       "      <td>0</td>\n",
       "      <td>1394</td>\n",
       "    </tr>\n",
       "  </tbody>\n",
       "</table>\n",
       "</div>"
      ],
      "text/plain": [
       "   1st Flr SF  2nd Flr SF  Low Qual Fin SF  Gr Liv Area\n",
       "0         908        1020                0         1928\n",
       "1        1967           0                0         1967\n",
       "2         664         832                0         1496\n",
       "3         968           0                0          968\n",
       "4        1394           0                0         1394"
      ]
     },
     "execution_count": 82,
     "metadata": {},
     "output_type": "execute_result"
    }
   ],
   "source": [
    "#check the fields related to the size of hte house\n",
    "df_ames[['1st Flr SF', '2nd Flr SF','Low Qual Fin SF','Gr Liv Area']].head()\n",
    "#'Gr Liv Area' = '1st Flr SF' + '2nd Flr SF' + 'Low Qual Fin SF'"
   ]
  },
  {
   "cell_type": "code",
   "execution_count": 83,
   "id": "7c4516fe",
   "metadata": {},
   "outputs": [],
   "source": [
    "#drop '1st Flr SF', '2nd Flr SF','Low Qual Fin SF'\n",
    "df_ames.drop(columns=['1st Flr SF','2nd Flr SF' ,'Low Qual Fin SF'], inplace=True)"
   ]
  },
  {
   "cell_type": "code",
   "execution_count": 84,
   "id": "b6191185",
   "metadata": {},
   "outputs": [
    {
     "data": {
      "text/plain": [
       "Index(['Mas Vnr Type', 'Mas Vnr Area', 'Bsmt Qual', 'Bsmt Cond',\n",
       "       'Bsmt Exposure', 'BsmtFin Type 1', 'BsmtFin Type 2', 'Electrical',\n",
       "       'Fireplace Qu', 'Garage Type', 'Garage Finish', 'Garage Qual',\n",
       "       'Garage Cond', 'Fence'],\n",
       "      dtype='object')"
      ]
     },
     "execution_count": 84,
     "metadata": {},
     "output_type": "execute_result"
    }
   ],
   "source": [
    "#check what else has missing values\n",
    "miss_catch = df_ames.isnull().sum()[df_ames.isnull().sum()>0]\n",
    "miss_catch.index"
   ]
  },
  {
   "cell_type": "code",
   "execution_count": 85,
   "id": "c50976cf",
   "metadata": {},
   "outputs": [
    {
     "data": {
      "text/plain": [
       "Mas Vnr Type       object\n",
       "Mas Vnr Area      float64\n",
       "Bsmt Qual          object\n",
       "Bsmt Cond          object\n",
       "Bsmt Exposure      object\n",
       "BsmtFin Type 1     object\n",
       "BsmtFin Type 2     object\n",
       "Electrical         object\n",
       "Fireplace Qu       object\n",
       "Garage Type        object\n",
       "Garage Finish      object\n",
       "Garage Qual        object\n",
       "Garage Cond        object\n",
       "Fence              object\n",
       "dtype: object"
      ]
     },
     "execution_count": 85,
     "metadata": {},
     "output_type": "execute_result"
    }
   ],
   "source": [
    "df_ames[miss_catch.index].dtypes"
   ]
  },
  {
   "cell_type": "code",
   "execution_count": 88,
   "id": "6188c09a",
   "metadata": {},
   "outputs": [],
   "source": [
    "#Fill numerical with 0, and categorical with 'NA'\n",
    "\n",
    "df_ames.fillna(df_ames[['Mas Vnr Type','Bsmt Qual', 'Bsmt Cond','Bsmt Exposure','BsmtFin Type 1','BsmtFin Type 2',\n",
    "                          'Fireplace Qu','Garage Type','Garage Finish','Garage Qual','Garage Cond','Fence']].fillna('NA'),inplace=True)\n",
    "\n",
    "df_ames.fillna(df_ames[['Mas Vnr Area','Total Bsmt SF',\n",
    "                         'Bsmt Full Bath','Bsmt Half Bath','Garage Cars','Garage Area','Electrical']].fillna(0),inplace=True)"
   ]
  },
  {
   "cell_type": "code",
   "execution_count": 89,
   "id": "5db6747e",
   "metadata": {},
   "outputs": [
    {
     "data": {
      "text/plain": [
       "Series([], dtype: int64)"
      ]
     },
     "execution_count": 89,
     "metadata": {},
     "output_type": "execute_result"
    }
   ],
   "source": [
    "#check again missing values\n",
    "df_ames.isnull().sum()[df_ames.isnull().sum()>0]"
   ]
  },
  {
   "cell_type": "markdown",
   "id": "9334cddc",
   "metadata": {},
   "source": [
    "## CHECK  OUTLIERS (only for train dataset)\n",
    "\n",
    "Wikipedia definition,\n",
    "In statistics, an outlier is an observation point that is distant from other observations."
   ]
  },
  {
   "cell_type": "code",
   "execution_count": 91,
   "id": "02054078",
   "metadata": {},
   "outputs": [],
   "source": [
    "#check for outliers\n",
    "if is_train_dataset:\n",
    "    sns.histplot(df_ames['SalePrice'],bins=20);"
   ]
  },
  {
   "cell_type": "code",
   "execution_count": 92,
   "id": "59de4722",
   "metadata": {},
   "outputs": [],
   "source": [
    "if is_train_dataset:\n",
    "    df_ames['SalePrice'].describe()"
   ]
  },
  {
   "cell_type": "markdown",
   "id": "021d1538",
   "metadata": {},
   "source": [
    "## IQR\n",
    "Wikipedia Definition\n",
    "\n",
    "- The interquartile range (IQR), also called the midspread or middle 50%, or technically H-spread, is a measure of statistical dispersion, being equal to the difference between 75th and 25th percentiles, or between upper and lower quartiles, IQR = Q3 − Q1.\n",
    "\n",
    "- In other words, the IQR is the first quartile subtracted from the third quartile; these quartiles can be clearly seen on a box plot on the data.\n",
    "It is a measure of the dispersion similar to standard deviation or variance, but is much more robust against outliers."
   ]
  },
  {
   "cell_type": "code",
   "execution_count": 93,
   "id": "020829c9",
   "metadata": {},
   "outputs": [],
   "source": [
    "if is_train_dataset:\n",
    "    Q1 = df_ames['SalePrice'].quantile(0.25)\n",
    "    Q3 = df_ames['SalePrice'].quantile(0.75)\n",
    "    IQR = Q3 - Q1\n",
    "    print(IQR)"
   ]
  },
  {
   "cell_type": "code",
   "execution_count": 95,
   "id": "3cd96ba1",
   "metadata": {},
   "outputs": [],
   "source": [
    "if is_train_dataset:\n",
    "    df_ames[(df_ames['SalePrice'] < (Q1 - 1.5 * IQR) ) |(df_ames['SalePrice'] > (Q3 + 1.5 * IQR))]"
   ]
  },
  {
   "cell_type": "code",
   "execution_count": 96,
   "id": "2c179eec",
   "metadata": {},
   "outputs": [],
   "source": [
    "if is_train_dataset:\n",
    "    print(\"Below: \", (Q1 - 1.5 * IQR))"
   ]
  },
  {
   "cell_type": "code",
   "execution_count": 97,
   "id": "0a841144",
   "metadata": {},
   "outputs": [],
   "source": [
    "if is_train_dataset:\n",
    "    print(\"Above: \", (Q3 + 1.5 * IQR))"
   ]
  },
  {
   "cell_type": "code",
   "execution_count": 98,
   "id": "e28a6501",
   "metadata": {},
   "outputs": [
    {
     "data": {
      "text/plain": [
       "(878, 70)"
      ]
     },
     "execution_count": 98,
     "metadata": {},
     "output_type": "execute_result"
    }
   ],
   "source": [
    "df_ames.shape"
   ]
  },
  {
   "cell_type": "code",
   "execution_count": 99,
   "id": "70a934d3",
   "metadata": {},
   "outputs": [],
   "source": [
    "#drop those records except for test dataset\n",
    "if is_train_dataset:\n",
    "    df_ames = df_ames[(df_ames['SalePrice'] >= (Q1 - 1.5 * IQR) ) & (df_ames['SalePrice'] <= (Q3 + 1.5 * IQR))]"
   ]
  },
  {
   "cell_type": "code",
   "execution_count": 100,
   "id": "38bf311a",
   "metadata": {},
   "outputs": [
    {
     "data": {
      "text/plain": [
       "(878, 70)"
      ]
     },
     "execution_count": 100,
     "metadata": {},
     "output_type": "execute_result"
    }
   ],
   "source": [
    "df_ames.shape"
   ]
  },
  {
   "cell_type": "code",
   "execution_count": 102,
   "id": "2453515e",
   "metadata": {},
   "outputs": [],
   "source": [
    "#visualizing the highest correlation with 'SalePrice' and detect outlier\n",
    "if is_train_dataset:\n",
    "    sns.regplot(x=\"Gr Liv Area\", y=\"SalePrice\", data=df_ames).set_title('Sale Price vs Above grade (ground) living area square feet');"
   ]
  },
  {
   "cell_type": "code",
   "execution_count": 103,
   "id": "9a3ec9f4",
   "metadata": {},
   "outputs": [],
   "source": [
    "#select all records below 60K sale price and above 600K\n",
    "if is_train_dataset:\n",
    "    df_ames[(df_ames['Gr Liv Area'] > 5000)]"
   ]
  },
  {
   "cell_type": "code",
   "execution_count": 104,
   "id": "de26baa4",
   "metadata": {},
   "outputs": [],
   "source": [
    "#drop the 2 records, except for test dataset\n",
    "if is_train_dataset:\n",
    "    df_ames = df_ames[(df_ames['Gr Liv Area'] <= 5000)]"
   ]
  },
  {
   "cell_type": "code",
   "execution_count": 105,
   "id": "8a09b63b",
   "metadata": {},
   "outputs": [
    {
     "data": {
      "text/plain": [
       "(878, 70)"
      ]
     },
     "execution_count": 105,
     "metadata": {},
     "output_type": "execute_result"
    }
   ],
   "source": [
    "df_ames.shape"
   ]
  },
  {
   "cell_type": "code",
   "execution_count": 106,
   "id": "b7ddb884",
   "metadata": {},
   "outputs": [],
   "source": [
    "#\"Overall Qual\" looks like an interesting column too, let's explore through boxplot\n",
    "if is_train_dataset:\n",
    "    plt.figure(figsize=(15,5))\n",
    "    sns.boxplot(x=df_ames[\"Overall Qual\"], y=df_ames[\"SalePrice\"] ).set_title(\"Sale Price by Overall Quality\");\n",
    "\n",
    "##boxplot below shows the lower the quality, the lower the SalePrice"
   ]
  },
  {
   "cell_type": "markdown",
   "id": "97e16c9b",
   "metadata": {},
   "source": [
    "#### MSZoning: Identifies the general zoning classification of the sale.\n",
    "  - A Agriculture\n",
    "  - C Commercial\n",
    "  - FV Floating Village Residentia\n",
    "  - I Industrial\n",
    "  - RH Residential High Density\n",
    "  - RL Residential Low Density\n",
    "  - RP Residential Low Density Park\n",
    "  - RM Residential Medium Density"
   ]
  },
  {
   "cell_type": "code",
   "execution_count": 107,
   "id": "c8c34728",
   "metadata": {},
   "outputs": [
    {
     "data": {
      "text/plain": [
       "RL         674\n",
       "RM         146\n",
       "FV          38\n",
       "RH          13\n",
       "C (all)      6\n",
       "I (all)      1\n",
       "Name: MS Zoning, dtype: int64"
      ]
     },
     "execution_count": 107,
     "metadata": {},
     "output_type": "execute_result"
    }
   ],
   "source": [
    "#check the value of the MS Zoning field\n",
    "df_ames[\"MS Zoning\"].value_counts()"
   ]
  },
  {
   "cell_type": "code",
   "execution_count": 108,
   "id": "6b81f3bb",
   "metadata": {},
   "outputs": [
    {
     "data": {
      "text/plain": [
       "(878, 70)"
      ]
     },
     "execution_count": 108,
     "metadata": {},
     "output_type": "execute_result"
    }
   ],
   "source": [
    "#check the record count\n",
    "df_ames.shape"
   ]
  },
  {
   "cell_type": "code",
   "execution_count": 109,
   "id": "2e0a1fa0",
   "metadata": {},
   "outputs": [],
   "source": [
    "#Include only residential, remove all data with \"MS Zoning\" in Commercial, Agriculture and Industries\n",
    "if is_train_dataset:\n",
    "    df_ames = df_ames[(df_ames[\"MS Zoning\"] != 'C (all)') & (df_ames[\"MS Zoning\"] != 'I (all)') & (df_ames[\"MS Zoning\"] != 'A (agr)')]"
   ]
  },
  {
   "cell_type": "code",
   "execution_count": 110,
   "id": "3cae18ec",
   "metadata": {},
   "outputs": [
    {
     "data": {
      "text/plain": [
       "(878, 70)"
      ]
     },
     "execution_count": 110,
     "metadata": {},
     "output_type": "execute_result"
    }
   ],
   "source": [
    "df_ames.shape"
   ]
  },
  {
   "cell_type": "code",
   "execution_count": 111,
   "id": "8b081247",
   "metadata": {},
   "outputs": [],
   "source": [
    "#how can we rank\n",
    "if is_train_dataset:\n",
    "    plt.scatter(x=df_ames[\"MS Zoning\"], y=df_ames['SalePrice'])"
   ]
  },
  {
   "cell_type": "markdown",
   "id": "40ab67b0",
   "metadata": {},
   "source": [
    "## Correlation"
   ]
  },
  {
   "cell_type": "code",
   "execution_count": 112,
   "id": "68bdf4fb",
   "metadata": {},
   "outputs": [
    {
     "data": {
      "text/plain": [
       "Index(['Id', 'PID', 'MS SubClass', 'Lot Frontage', 'Lot Area', 'Overall Qual',\n",
       "       'Overall Cond', 'Year Built', 'Year Remod/Add', 'Mas Vnr Area',\n",
       "       'Total Bsmt SF', 'Gr Liv Area', 'Bsmt Full Bath', 'Bsmt Half Bath',\n",
       "       'Full Bath', 'Half Bath', 'Bedroom AbvGr', 'Kitchen AbvGr',\n",
       "       'TotRms AbvGrd', 'Fireplaces', 'Garage Yr Blt', 'Garage Cars',\n",
       "       'Garage Area', 'Wood Deck SF', 'Open Porch SF', 'Enclosed Porch',\n",
       "       '3Ssn Porch', 'Screen Porch', 'Pool Area', 'Mo Sold', 'Yr Sold'],\n",
       "      dtype='object')"
      ]
     },
     "execution_count": 112,
     "metadata": {},
     "output_type": "execute_result"
    }
   ],
   "source": [
    "var_numerical = df_ames.select_dtypes(include = [np.number]).columns\n",
    "var_numerical"
   ]
  },
  {
   "cell_type": "markdown",
   "id": "adc4b286",
   "metadata": {},
   "source": [
    "plt.figure(figsize=(20,20))\n",
    "sns.heatmap(df_train[['Id', 'PID', 'MS SubClass', 'Lot Frontage', 'Lot Area', 'Overall Qual',\n",
    "       'Overall Cond', 'Year Built', 'Year Remod/Add', 'Mas Vnr Area',\n",
    "       'Total Bsmt SF', 'Gr Liv Area', 'Bsmt Full Bath', 'Bsmt Half Bath',\n",
    "       'Full Bath', 'Half Bath', 'Bedroom AbvGr', 'Kitchen AbvGr',\n",
    "       'TotRms AbvGrd', 'Fireplaces', 'Garage Yr Blt', 'Garage Cars',\n",
    "       'Garage Area', 'Wood Deck SF', 'Open Porch SF', 'Enclosed Porch',\n",
    "       '3Ssn Porch', 'Screen Porch', 'Pool Area', 'Mo Sold', 'Yr Sold',\n",
    "       'SalePrice']].corr(), annot=True)"
   ]
  },
  {
   "cell_type": "code",
   "execution_count": 113,
   "id": "1fe25591",
   "metadata": {},
   "outputs": [],
   "source": [
    "def subplot_corr(df, col):\n",
    "    \n",
    "    nrows = int(np.ceil(len(col)/2)) #length of columns divided by 2 is our number of rows\n",
    "    \n",
    "    fig, ax = plt.subplots(nrows=nrows, ncols=2, figsize=(8,5*nrows)) #2 columns by nrows\n",
    "    ax = ax.ravel() \n",
    "    \n",
    "        \n",
    "    for x in range(len(col)): # Gives us an index value to get into all our lists\n",
    "        \n",
    "        sns.scatterplot(data=df, x=col[x],y='SalePrice' ,ax = ax[x]) \n",
    "        \n",
    "        ax[x].set_title(col[x] +' vs SalePrice', fontsize =10)\n",
    "        ax[x].set_ylabel('SalePrice',fontsize=5)\n",
    "        ax[x].set_xlabel(col[x],fontsize=5)  \n",
    "        ax[x].spines[\"top\"].set_visible(False)  \n",
    "        ax[x].spines[\"right\"].set_visible(False) \n",
    "        \n",
    "    plt.tight_layout()"
   ]
  },
  {
   "cell_type": "code",
   "execution_count": 114,
   "id": "e214b248",
   "metadata": {},
   "outputs": [],
   "source": [
    "if is_train_dataset:\n",
    "    high_corr = (abs(df_ames.corr()[['SalePrice']])>0.25)['SalePrice']\n",
    "    corr_features = df_ames.corr()[['SalePrice']][high_corr][:-1].index\n",
    "    print(corr_features)"
   ]
  },
  {
   "cell_type": "code",
   "execution_count": 115,
   "id": "a6c1af17",
   "metadata": {},
   "outputs": [],
   "source": [
    "if is_train_dataset:\n",
    "    subplot_corr(df_ames,corr_features);"
   ]
  },
  {
   "cell_type": "code",
   "execution_count": 116,
   "id": "d7d8e892",
   "metadata": {},
   "outputs": [],
   "source": [
    "#exlude columns that has < 25 correlation\n",
    "if is_train_dataset:\n",
    "    low_corr = (abs(df_ames.corr()[['SalePrice']]) <= 0.25)['SalePrice']\n",
    "    lowcorr_features = df_ames.corr()[['SalePrice']][low_corr][:-1].index\n",
    "    print(lowcorr_features)\n"
   ]
  },
  {
   "cell_type": "code",
   "execution_count": 117,
   "id": "b5ac36eb",
   "metadata": {},
   "outputs": [],
   "source": [
    "#drop columns with low correlation\n",
    "if is_train_dataset:\n",
    "    df_ames.drop(columns=['Id', 'PID', 'MS SubClass', 'Overall Cond', 'Bsmt Half Bath','Bedroom AbvGr', 'Kitchen AbvGr', 'Enclosed Porch', '3Ssn Porch','Screen Porch', 'Pool Area', 'Mo Sold'], inplace=True)\n",
    "else: #for Test dataset, we need the ID\n",
    "    df_ames.drop(columns=['PID', 'MS SubClass', 'Overall Cond', 'Bsmt Half Bath','Bedroom AbvGr', 'Kitchen AbvGr', 'Enclosed Porch', '3Ssn Porch','Screen Porch', 'Pool Area', 'Mo Sold'], inplace=True)"
   ]
  },
  {
   "cell_type": "code",
   "execution_count": 118,
   "id": "6f70f35e",
   "metadata": {},
   "outputs": [],
   "source": [
    "#saved the preprocessed files\n",
    "if is_train_dataset:\n",
    "    df_ames.to_csv(\"../datasets/train_preproc.csv\")\n",
    "else:\n",
    "    df_ames.to_csv(\"../datasets/test_preproc.csv\")"
   ]
  },
  {
   "cell_type": "code",
   "execution_count": null,
   "id": "0f83c7d5",
   "metadata": {},
   "outputs": [],
   "source": []
  }
 ],
 "metadata": {
  "kernelspec": {
   "display_name": "Python 3",
   "language": "python",
   "name": "python3"
  },
  "language_info": {
   "codemirror_mode": {
    "name": "ipython",
    "version": 3
   },
   "file_extension": ".py",
   "mimetype": "text/x-python",
   "name": "python",
   "nbconvert_exporter": "python",
   "pygments_lexer": "ipython3",
   "version": "3.8.8"
  }
 },
 "nbformat": 4,
 "nbformat_minor": 5
}
